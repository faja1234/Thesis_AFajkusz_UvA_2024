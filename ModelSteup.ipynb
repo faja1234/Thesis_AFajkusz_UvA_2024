{
 "cells": [
  {
   "cell_type": "markdown",
   "source": [
    "# Loading and preparing the data"
   ],
   "metadata": {
    "collapsed": false
   },
   "id": "527cc977409778c2"
  },
  {
   "cell_type": "code",
   "execution_count": 1,
   "outputs": [],
   "source": [
    "import pandas as pd\n",
    "import numpy as np\n",
    "import torch\n",
    "import torch.nn as nn\n",
    "import torch.optim as optim\n",
    "import matplotlib.pyplot as plt\n",
    "import os\n",
    "import seaborn as sns\n",
    "from scipy import stats\n",
    "from sklearn.model_selection import train_test_split\n",
    "from sklearn.preprocessing import StandardScaler\n",
    "from sklearn.metrics import classification_report, accuracy_score, confusion_matrix"
   ],
   "metadata": {
    "collapsed": false,
    "ExecuteTime": {
     "end_time": "2024-04-16T10:52:21.467798400Z",
     "start_time": "2024-04-16T10:52:16.708768600Z"
    }
   },
   "id": "b50bee25fc757ef7"
  },
  {
   "cell_type": "code",
   "execution_count": 2,
   "outputs": [
    {
     "data": {
      "text/plain": "         loan_amnt        term  int_rate  installment sub_grade  \\\nid                                                                \n1075358       3000   60 months    0.1269        67.79        B5   \n1071570       5375   60 months    0.1269       121.45        B5   \n1069057      10000   36 months    0.1065       325.74        B2   \n1069742       9200   36 months    0.0603       280.01        A1   \n1069559       6000   36 months    0.1171       198.46        B3   \n\n        home_ownership  annual_inc verification_status  loan_status  \\\nid                                                                    \n1075358           RENT    80000.00     Source Verified   Fully Paid   \n1071570           RENT    15000.00            Verified  Charged Off   \n1069057           RENT   100000.00     Source Verified  Charged Off   \n1069742           RENT    77385.19        Not Verified   Fully Paid   \n1069559           RENT    76000.00        Not Verified  Charged Off   \n\n        pymnt_plan  ... chargeoff_within_12_mths delinq_amnt mort_acc  \\\nid                  ...                                                 \n1075358          n  ...                      0.0         0.0      3.0   \n1071570          n  ...                      0.0         0.0      0.0   \n1069057          n  ...                      0.0         0.0      2.0   \n1069742          n  ...                      0.0         0.0      2.0   \n1069559          n  ...                      0.0         0.0      0.0   \n\n         pub_rec_bankruptcies  tax_liens  total_bal_ex_mort  total_bc_limit  \\\nid                                                                            \n1075358                   0.0        0.0            54644.0         17850.0   \n1071570                   0.0        0.0            30612.0         21533.0   \n1069057                   0.0        0.0            14358.0         17700.0   \n1069742                   0.0        0.0            42247.0         15142.0   \n1069559                   0.0        0.0            43192.0         10350.0   \n\n         hardship_flag  debt_settlement_flag  loan_status_num  \nid                                                             \n1075358              N                     N                0  \n1071570              N                     N                1  \n1069057              N                     N                1  \n1069742              N                     N                0  \n1069559              N                     N                1  \n\n[5 rows x 49 columns]",
      "text/html": "<div>\n<style scoped>\n    .dataframe tbody tr th:only-of-type {\n        vertical-align: middle;\n    }\n\n    .dataframe tbody tr th {\n        vertical-align: top;\n    }\n\n    .dataframe thead th {\n        text-align: right;\n    }\n</style>\n<table border=\"1\" class=\"dataframe\">\n  <thead>\n    <tr style=\"text-align: right;\">\n      <th></th>\n      <th>loan_amnt</th>\n      <th>term</th>\n      <th>int_rate</th>\n      <th>installment</th>\n      <th>sub_grade</th>\n      <th>home_ownership</th>\n      <th>annual_inc</th>\n      <th>verification_status</th>\n      <th>loan_status</th>\n      <th>pymnt_plan</th>\n      <th>...</th>\n      <th>chargeoff_within_12_mths</th>\n      <th>delinq_amnt</th>\n      <th>mort_acc</th>\n      <th>pub_rec_bankruptcies</th>\n      <th>tax_liens</th>\n      <th>total_bal_ex_mort</th>\n      <th>total_bc_limit</th>\n      <th>hardship_flag</th>\n      <th>debt_settlement_flag</th>\n      <th>loan_status_num</th>\n    </tr>\n    <tr>\n      <th>id</th>\n      <th></th>\n      <th></th>\n      <th></th>\n      <th></th>\n      <th></th>\n      <th></th>\n      <th></th>\n      <th></th>\n      <th></th>\n      <th></th>\n      <th></th>\n      <th></th>\n      <th></th>\n      <th></th>\n      <th></th>\n      <th></th>\n      <th></th>\n      <th></th>\n      <th></th>\n      <th></th>\n      <th></th>\n    </tr>\n  </thead>\n  <tbody>\n    <tr>\n      <th>1075358</th>\n      <td>3000</td>\n      <td>60 months</td>\n      <td>0.1269</td>\n      <td>67.79</td>\n      <td>B5</td>\n      <td>RENT</td>\n      <td>80000.00</td>\n      <td>Source Verified</td>\n      <td>Fully Paid</td>\n      <td>n</td>\n      <td>...</td>\n      <td>0.0</td>\n      <td>0.0</td>\n      <td>3.0</td>\n      <td>0.0</td>\n      <td>0.0</td>\n      <td>54644.0</td>\n      <td>17850.0</td>\n      <td>N</td>\n      <td>N</td>\n      <td>0</td>\n    </tr>\n    <tr>\n      <th>1071570</th>\n      <td>5375</td>\n      <td>60 months</td>\n      <td>0.1269</td>\n      <td>121.45</td>\n      <td>B5</td>\n      <td>RENT</td>\n      <td>15000.00</td>\n      <td>Verified</td>\n      <td>Charged Off</td>\n      <td>n</td>\n      <td>...</td>\n      <td>0.0</td>\n      <td>0.0</td>\n      <td>0.0</td>\n      <td>0.0</td>\n      <td>0.0</td>\n      <td>30612.0</td>\n      <td>21533.0</td>\n      <td>N</td>\n      <td>N</td>\n      <td>1</td>\n    </tr>\n    <tr>\n      <th>1069057</th>\n      <td>10000</td>\n      <td>36 months</td>\n      <td>0.1065</td>\n      <td>325.74</td>\n      <td>B2</td>\n      <td>RENT</td>\n      <td>100000.00</td>\n      <td>Source Verified</td>\n      <td>Charged Off</td>\n      <td>n</td>\n      <td>...</td>\n      <td>0.0</td>\n      <td>0.0</td>\n      <td>2.0</td>\n      <td>0.0</td>\n      <td>0.0</td>\n      <td>14358.0</td>\n      <td>17700.0</td>\n      <td>N</td>\n      <td>N</td>\n      <td>1</td>\n    </tr>\n    <tr>\n      <th>1069742</th>\n      <td>9200</td>\n      <td>36 months</td>\n      <td>0.0603</td>\n      <td>280.01</td>\n      <td>A1</td>\n      <td>RENT</td>\n      <td>77385.19</td>\n      <td>Not Verified</td>\n      <td>Fully Paid</td>\n      <td>n</td>\n      <td>...</td>\n      <td>0.0</td>\n      <td>0.0</td>\n      <td>2.0</td>\n      <td>0.0</td>\n      <td>0.0</td>\n      <td>42247.0</td>\n      <td>15142.0</td>\n      <td>N</td>\n      <td>N</td>\n      <td>0</td>\n    </tr>\n    <tr>\n      <th>1069559</th>\n      <td>6000</td>\n      <td>36 months</td>\n      <td>0.1171</td>\n      <td>198.46</td>\n      <td>B3</td>\n      <td>RENT</td>\n      <td>76000.00</td>\n      <td>Not Verified</td>\n      <td>Charged Off</td>\n      <td>n</td>\n      <td>...</td>\n      <td>0.0</td>\n      <td>0.0</td>\n      <td>0.0</td>\n      <td>0.0</td>\n      <td>0.0</td>\n      <td>43192.0</td>\n      <td>10350.0</td>\n      <td>N</td>\n      <td>N</td>\n      <td>1</td>\n    </tr>\n  </tbody>\n</table>\n<p>5 rows × 49 columns</p>\n</div>"
     },
     "execution_count": 2,
     "metadata": {},
     "output_type": "execute_result"
    }
   ],
   "source": [
    "data = pd.read_pickle('data/clean_lc_data.pkl')\n",
    "data.head()"
   ],
   "metadata": {
    "collapsed": false,
    "ExecuteTime": {
     "end_time": "2024-04-16T10:52:21.667273300Z",
     "start_time": "2024-04-16T10:52:21.467798400Z"
    }
   },
   "id": "384caf4d68f9905a"
  },
  {
   "cell_type": "code",
   "execution_count": 3,
   "outputs": [
    {
     "name": "stdout",
     "output_type": "stream",
     "text": [
      "<class 'pandas.core.frame.DataFrame'>\n",
      "Int64Index: 96683 entries, 1075358 to 129834559\n",
      "Data columns (total 49 columns):\n",
      " #   Column                      Non-Null Count  Dtype  \n",
      "---  ------                      --------------  -----  \n",
      " 0   loan_amnt                   96683 non-null  int64  \n",
      " 1   term                        96683 non-null  object \n",
      " 2   int_rate                    96683 non-null  float64\n",
      " 3   installment                 96683 non-null  float64\n",
      " 4   sub_grade                   96683 non-null  object \n",
      " 5   home_ownership              96683 non-null  object \n",
      " 6   annual_inc                  96683 non-null  float64\n",
      " 7   verification_status         96683 non-null  object \n",
      " 8   loan_status                 96683 non-null  object \n",
      " 9   pymnt_plan                  96683 non-null  object \n",
      " 10  purpose                     96683 non-null  object \n",
      " 11  zip_code                    96683 non-null  object \n",
      " 12  addr_state                  96683 non-null  object \n",
      " 13  dti                         96683 non-null  float64\n",
      " 14  delinq_2yrs                 96683 non-null  float64\n",
      " 15  fico_range_low              96683 non-null  int64  \n",
      " 16  fico_range_high             96683 non-null  int64  \n",
      " 17  inq_last_6mths              96683 non-null  float64\n",
      " 18  open_acc                    96683 non-null  float64\n",
      " 19  pub_rec                     96683 non-null  float64\n",
      " 20  revol_bal                   96683 non-null  int64  \n",
      " 21  revol_util                  96683 non-null  object \n",
      " 22  total_acc                   96683 non-null  float64\n",
      " 23  initial_list_status         96683 non-null  object \n",
      " 24  out_prncp                   96683 non-null  float64\n",
      " 25  out_prncp_inv               96683 non-null  float64\n",
      " 26  total_pymnt                 96683 non-null  float64\n",
      " 27  total_pymnt_inv             96683 non-null  float64\n",
      " 28  total_rec_prncp             96683 non-null  float64\n",
      " 29  total_rec_int               96683 non-null  float64\n",
      " 30  total_rec_late_fee          96683 non-null  float64\n",
      " 31  last_pymnt_amnt             96683 non-null  float64\n",
      " 32  last_fico_range_high        96683 non-null  int64  \n",
      " 33  last_fico_range_low         96683 non-null  int64  \n",
      " 34  collections_12_mths_ex_med  96683 non-null  float64\n",
      " 35  policy_code                 96683 non-null  int64  \n",
      " 36  application_type            96683 non-null  object \n",
      " 37  acc_now_delinq              96683 non-null  float64\n",
      " 38  acc_open_past_24mths        96683 non-null  float64\n",
      " 39  chargeoff_within_12_mths    96683 non-null  float64\n",
      " 40  delinq_amnt                 96683 non-null  float64\n",
      " 41  mort_acc                    96683 non-null  float64\n",
      " 42  pub_rec_bankruptcies        96683 non-null  float64\n",
      " 43  tax_liens                   96683 non-null  float64\n",
      " 44  total_bal_ex_mort           96683 non-null  float64\n",
      " 45  total_bc_limit              96683 non-null  float64\n",
      " 46  hardship_flag               96683 non-null  object \n",
      " 47  debt_settlement_flag        96683 non-null  object \n",
      " 48  loan_status_num             96683 non-null  int64  \n",
      "dtypes: float64(27), int64(8), object(14)\n",
      "memory usage: 36.9+ MB\n"
     ]
    }
   ],
   "source": [
    "data.info()"
   ],
   "metadata": {
    "collapsed": false,
    "ExecuteTime": {
     "end_time": "2024-04-16T10:52:22.252066200Z",
     "start_time": "2024-04-16T10:52:21.658263800Z"
    }
   },
   "id": "1b731c5e0f815235"
  },
  {
   "cell_type": "code",
   "execution_count": 4,
   "outputs": [
    {
     "data": {
      "text/plain": "          loan_amnt      int_rate   installment    annual_inc           dti  \\\ncount  96683.000000  96683.000000  96683.000000  9.668300e+04  96683.000000   \nmean   14462.013746      0.134706    434.246610  7.519658e+04     18.213519   \nstd     9056.817085      0.048997    265.112617  6.714529e+04     17.523942   \nmin     1000.000000      0.053100      7.610000  4.000000e+01      0.000000   \n25%     7550.000000      0.099300    242.830000  4.500000e+04     11.190000   \n50%    12000.000000      0.129900    371.680000  6.400000e+04     17.030000   \n75%    20000.000000      0.160200    572.350000  9.000000e+04     23.460000   \nmax    40000.000000      0.309900   1719.830000  7.200000e+06    999.000000   \n\n        delinq_2yrs  fico_range_low  fico_range_high  inq_last_6mths  \\\ncount  96683.000000    96683.000000     96683.000000    96683.000000   \nmean       0.264328      701.571579       705.571828        0.639306   \nstd        0.789277       33.951358        33.952411        0.923730   \nmin        0.000000      660.000000       664.000000        0.000000   \n25%        0.000000      675.000000       679.000000        0.000000   \n50%        0.000000      695.000000       699.000000        0.000000   \n75%        0.000000      720.000000       724.000000        1.000000   \nmax       30.000000      845.000000       850.000000        8.000000   \n\n           open_acc  ...  acc_now_delinq  acc_open_past_24mths  \\\ncount  96683.000000  ...    96683.000000          96683.000000   \nmean      11.099790  ...        0.002648              4.201256   \nstd        5.287587  ...        0.060452              2.898863   \nmin        1.000000  ...        0.000000              0.000000   \n25%        7.000000  ...        0.000000              2.000000   \n50%       10.000000  ...        0.000000              4.000000   \n75%       14.000000  ...        0.000000              6.000000   \nmax       55.000000  ...        7.000000             46.000000   \n\n       chargeoff_within_12_mths    delinq_amnt      mort_acc  \\\ncount               96683.00000   96683.000000  96683.000000   \nmean                    0.00692       9.814911      1.535389   \nstd                     0.09693     663.051096      1.875855   \nmin                     0.00000       0.000000      0.000000   \n25%                     0.00000       0.000000      0.000000   \n50%                     0.00000       0.000000      1.000000   \n75%                     0.00000       0.000000      2.000000   \nmax                     8.00000  138474.000000     31.000000   \n\n       pub_rec_bankruptcies     tax_liens  total_bal_ex_mort  total_bc_limit  \\\ncount          96683.000000  96683.000000       9.668300e+04    96683.000000   \nmean               0.107599      0.027523       4.730932e+04    22484.894025   \nstd                0.319343      0.260915       4.611111e+04    21737.858779   \nmin                0.000000      0.000000       0.000000e+00        0.000000   \n25%                0.000000      0.000000       1.991250e+04     8500.000000   \n50%                0.000000      0.000000       3.522500e+04    16091.000000   \n75%                0.000000      0.000000       5.894500e+04    29200.000000   \nmax                5.000000     13.000000       1.276247e+06   462200.000000   \n\n       loan_status_num  \ncount     96683.000000  \nmean          0.150957  \nstd           0.358009  \nmin           0.000000  \n25%           0.000000  \n50%           0.000000  \n75%           0.000000  \nmax           1.000000  \n\n[8 rows x 35 columns]",
      "text/html": "<div>\n<style scoped>\n    .dataframe tbody tr th:only-of-type {\n        vertical-align: middle;\n    }\n\n    .dataframe tbody tr th {\n        vertical-align: top;\n    }\n\n    .dataframe thead th {\n        text-align: right;\n    }\n</style>\n<table border=\"1\" class=\"dataframe\">\n  <thead>\n    <tr style=\"text-align: right;\">\n      <th></th>\n      <th>loan_amnt</th>\n      <th>int_rate</th>\n      <th>installment</th>\n      <th>annual_inc</th>\n      <th>dti</th>\n      <th>delinq_2yrs</th>\n      <th>fico_range_low</th>\n      <th>fico_range_high</th>\n      <th>inq_last_6mths</th>\n      <th>open_acc</th>\n      <th>...</th>\n      <th>acc_now_delinq</th>\n      <th>acc_open_past_24mths</th>\n      <th>chargeoff_within_12_mths</th>\n      <th>delinq_amnt</th>\n      <th>mort_acc</th>\n      <th>pub_rec_bankruptcies</th>\n      <th>tax_liens</th>\n      <th>total_bal_ex_mort</th>\n      <th>total_bc_limit</th>\n      <th>loan_status_num</th>\n    </tr>\n  </thead>\n  <tbody>\n    <tr>\n      <th>count</th>\n      <td>96683.000000</td>\n      <td>96683.000000</td>\n      <td>96683.000000</td>\n      <td>9.668300e+04</td>\n      <td>96683.000000</td>\n      <td>96683.000000</td>\n      <td>96683.000000</td>\n      <td>96683.000000</td>\n      <td>96683.000000</td>\n      <td>96683.000000</td>\n      <td>...</td>\n      <td>96683.000000</td>\n      <td>96683.000000</td>\n      <td>96683.00000</td>\n      <td>96683.000000</td>\n      <td>96683.000000</td>\n      <td>96683.000000</td>\n      <td>96683.000000</td>\n      <td>9.668300e+04</td>\n      <td>96683.000000</td>\n      <td>96683.000000</td>\n    </tr>\n    <tr>\n      <th>mean</th>\n      <td>14462.013746</td>\n      <td>0.134706</td>\n      <td>434.246610</td>\n      <td>7.519658e+04</td>\n      <td>18.213519</td>\n      <td>0.264328</td>\n      <td>701.571579</td>\n      <td>705.571828</td>\n      <td>0.639306</td>\n      <td>11.099790</td>\n      <td>...</td>\n      <td>0.002648</td>\n      <td>4.201256</td>\n      <td>0.00692</td>\n      <td>9.814911</td>\n      <td>1.535389</td>\n      <td>0.107599</td>\n      <td>0.027523</td>\n      <td>4.730932e+04</td>\n      <td>22484.894025</td>\n      <td>0.150957</td>\n    </tr>\n    <tr>\n      <th>std</th>\n      <td>9056.817085</td>\n      <td>0.048997</td>\n      <td>265.112617</td>\n      <td>6.714529e+04</td>\n      <td>17.523942</td>\n      <td>0.789277</td>\n      <td>33.951358</td>\n      <td>33.952411</td>\n      <td>0.923730</td>\n      <td>5.287587</td>\n      <td>...</td>\n      <td>0.060452</td>\n      <td>2.898863</td>\n      <td>0.09693</td>\n      <td>663.051096</td>\n      <td>1.875855</td>\n      <td>0.319343</td>\n      <td>0.260915</td>\n      <td>4.611111e+04</td>\n      <td>21737.858779</td>\n      <td>0.358009</td>\n    </tr>\n    <tr>\n      <th>min</th>\n      <td>1000.000000</td>\n      <td>0.053100</td>\n      <td>7.610000</td>\n      <td>4.000000e+01</td>\n      <td>0.000000</td>\n      <td>0.000000</td>\n      <td>660.000000</td>\n      <td>664.000000</td>\n      <td>0.000000</td>\n      <td>1.000000</td>\n      <td>...</td>\n      <td>0.000000</td>\n      <td>0.000000</td>\n      <td>0.00000</td>\n      <td>0.000000</td>\n      <td>0.000000</td>\n      <td>0.000000</td>\n      <td>0.000000</td>\n      <td>0.000000e+00</td>\n      <td>0.000000</td>\n      <td>0.000000</td>\n    </tr>\n    <tr>\n      <th>25%</th>\n      <td>7550.000000</td>\n      <td>0.099300</td>\n      <td>242.830000</td>\n      <td>4.500000e+04</td>\n      <td>11.190000</td>\n      <td>0.000000</td>\n      <td>675.000000</td>\n      <td>679.000000</td>\n      <td>0.000000</td>\n      <td>7.000000</td>\n      <td>...</td>\n      <td>0.000000</td>\n      <td>2.000000</td>\n      <td>0.00000</td>\n      <td>0.000000</td>\n      <td>0.000000</td>\n      <td>0.000000</td>\n      <td>0.000000</td>\n      <td>1.991250e+04</td>\n      <td>8500.000000</td>\n      <td>0.000000</td>\n    </tr>\n    <tr>\n      <th>50%</th>\n      <td>12000.000000</td>\n      <td>0.129900</td>\n      <td>371.680000</td>\n      <td>6.400000e+04</td>\n      <td>17.030000</td>\n      <td>0.000000</td>\n      <td>695.000000</td>\n      <td>699.000000</td>\n      <td>0.000000</td>\n      <td>10.000000</td>\n      <td>...</td>\n      <td>0.000000</td>\n      <td>4.000000</td>\n      <td>0.00000</td>\n      <td>0.000000</td>\n      <td>1.000000</td>\n      <td>0.000000</td>\n      <td>0.000000</td>\n      <td>3.522500e+04</td>\n      <td>16091.000000</td>\n      <td>0.000000</td>\n    </tr>\n    <tr>\n      <th>75%</th>\n      <td>20000.000000</td>\n      <td>0.160200</td>\n      <td>572.350000</td>\n      <td>9.000000e+04</td>\n      <td>23.460000</td>\n      <td>0.000000</td>\n      <td>720.000000</td>\n      <td>724.000000</td>\n      <td>1.000000</td>\n      <td>14.000000</td>\n      <td>...</td>\n      <td>0.000000</td>\n      <td>6.000000</td>\n      <td>0.00000</td>\n      <td>0.000000</td>\n      <td>2.000000</td>\n      <td>0.000000</td>\n      <td>0.000000</td>\n      <td>5.894500e+04</td>\n      <td>29200.000000</td>\n      <td>0.000000</td>\n    </tr>\n    <tr>\n      <th>max</th>\n      <td>40000.000000</td>\n      <td>0.309900</td>\n      <td>1719.830000</td>\n      <td>7.200000e+06</td>\n      <td>999.000000</td>\n      <td>30.000000</td>\n      <td>845.000000</td>\n      <td>850.000000</td>\n      <td>8.000000</td>\n      <td>55.000000</td>\n      <td>...</td>\n      <td>7.000000</td>\n      <td>46.000000</td>\n      <td>8.00000</td>\n      <td>138474.000000</td>\n      <td>31.000000</td>\n      <td>5.000000</td>\n      <td>13.000000</td>\n      <td>1.276247e+06</td>\n      <td>462200.000000</td>\n      <td>1.000000</td>\n    </tr>\n  </tbody>\n</table>\n<p>8 rows × 35 columns</p>\n</div>"
     },
     "execution_count": 4,
     "metadata": {},
     "output_type": "execute_result"
    }
   ],
   "source": [
    "data.describe()"
   ],
   "metadata": {
    "collapsed": false,
    "ExecuteTime": {
     "end_time": "2024-04-16T10:52:22.252066200Z",
     "start_time": "2024-04-16T10:52:21.955568200Z"
    }
   },
   "id": "c43df6850c77da83"
  },
  {
   "cell_type": "code",
   "execution_count": 5,
   "outputs": [],
   "source": [
    "data.drop('loan_status', axis=1, inplace=True)"
   ],
   "metadata": {
    "collapsed": false,
    "ExecuteTime": {
     "end_time": "2024-04-16T10:52:22.299349700Z",
     "start_time": "2024-04-16T10:52:22.173283900Z"
    }
   },
   "id": "23c6186f1fc9a0e5"
  },
  {
   "cell_type": "markdown",
   "source": [
    "For the machine learning algorithms to be able to work on the data, the categorical columns have to be dealt with."
   ],
   "metadata": {
    "collapsed": false
   },
   "id": "f4be1c4cccb6edde"
  },
  {
   "cell_type": "code",
   "execution_count": 6,
   "outputs": [
    {
     "name": "stdout",
     "output_type": "stream",
     "text": [
      "['term', 'sub_grade', 'home_ownership', 'verification_status', 'pymnt_plan', 'purpose', 'zip_code', 'addr_state', 'revol_util', 'initial_list_status', 'application_type', 'hardship_flag', 'debt_settlement_flag']\n"
     ]
    }
   ],
   "source": [
    "print([column for column in data.columns if data[column].dtype == object])"
   ],
   "metadata": {
    "collapsed": false,
    "ExecuteTime": {
     "end_time": "2024-04-16T10:52:25.007486900Z",
     "start_time": "2024-04-16T10:52:24.960158500Z"
    }
   },
   "id": "e62fec2780300e85"
  },
  {
   "cell_type": "code",
   "execution_count": 7,
   "outputs": [],
   "source": [
    "data['term']=data.term.map({' 36 months': 36, ' 60 months': 60})"
   ],
   "metadata": {
    "collapsed": false,
    "ExecuteTime": {
     "end_time": "2024-04-16T10:52:25.325962900Z",
     "start_time": "2024-04-16T10:52:25.294277900Z"
    }
   },
   "id": "9cbeb7e9b9b00fe6"
  },
  {
   "cell_type": "code",
   "execution_count": 8,
   "outputs": [],
   "source": [
    "data['revol_util']=data['revol_util'].str[:-1].astype(float)/100"
   ],
   "metadata": {
    "collapsed": false,
    "ExecuteTime": {
     "end_time": "2024-04-16T10:52:25.978685600Z",
     "start_time": "2024-04-16T10:52:25.900363400Z"
    }
   },
   "id": "85498e73536142f5"
  },
  {
   "cell_type": "code",
   "execution_count": 9,
   "outputs": [],
   "source": [
    "dummies = ['sub_grade', 'home_ownership', 'verification_status', 'pymnt_plan', 'purpose', 'zip_code', 'addr_state', 'initial_list_status', 'application_type', 'hardship_flag', 'debt_settlement_flag']\n",
    "data = pd.get_dummies(data, columns=dummies, drop_first=True)"
   ],
   "metadata": {
    "collapsed": false,
    "ExecuteTime": {
     "end_time": "2024-04-16T10:52:27.683565Z",
     "start_time": "2024-04-16T10:52:26.527134300Z"
    }
   },
   "id": "23d3e12cafde8eca"
  },
  {
   "cell_type": "code",
   "execution_count": 10,
   "outputs": [
    {
     "data": {
      "text/plain": "         loan_amnt  term  int_rate  installment  annual_inc    dti  \\\nid                                                                   \n1075358       3000    60    0.1269        67.79    80000.00  17.94   \n1071570       5375    60    0.1269       121.45    15000.00  18.08   \n1069057      10000    36    0.1065       325.74   100000.00   7.06   \n1069742       9200    36    0.0603       280.01    77385.19   9.86   \n1069559       6000    36    0.1171       198.46    76000.00   2.40   \n\n         delinq_2yrs  fico_range_low  fico_range_high  inq_last_6mths  ...  \\\nid                                                                     ...   \n1075358          0.0             695              699             0.0  ...   \n1071570          0.0             725              729             0.0  ...   \n1069057          0.0             720              724             2.0  ...   \n1069742          0.0             755              759             0.0  ...   \n1069559          0.0             690              694             1.0  ...   \n\n         addr_state_VA  addr_state_VT  addr_state_WA  addr_state_WI  \\\nid                                                                    \n1075358              0              0              0              0   \n1071570              0              0              0              0   \n1069057              0              0              0              0   \n1069742              0              0              0              0   \n1069559              0              0              0              0   \n\n         addr_state_WV  addr_state_WY  initial_list_status_w  \\\nid                                                             \n1075358              0              0                      0   \n1071570              0              0                      0   \n1069057              0              0                      0   \n1069742              0              0                      0   \n1069559              0              0                      0   \n\n         application_type_Joint App  hardship_flag_Y  debt_settlement_flag_Y  \nid                                                                            \n1075358                           0                0                       0  \n1071570                           0                0                       0  \n1069057                           0                0                       0  \n1069742                           0                0                       0  \n1069559                           0                0                       0  \n\n[5 rows x 1014 columns]",
      "text/html": "<div>\n<style scoped>\n    .dataframe tbody tr th:only-of-type {\n        vertical-align: middle;\n    }\n\n    .dataframe tbody tr th {\n        vertical-align: top;\n    }\n\n    .dataframe thead th {\n        text-align: right;\n    }\n</style>\n<table border=\"1\" class=\"dataframe\">\n  <thead>\n    <tr style=\"text-align: right;\">\n      <th></th>\n      <th>loan_amnt</th>\n      <th>term</th>\n      <th>int_rate</th>\n      <th>installment</th>\n      <th>annual_inc</th>\n      <th>dti</th>\n      <th>delinq_2yrs</th>\n      <th>fico_range_low</th>\n      <th>fico_range_high</th>\n      <th>inq_last_6mths</th>\n      <th>...</th>\n      <th>addr_state_VA</th>\n      <th>addr_state_VT</th>\n      <th>addr_state_WA</th>\n      <th>addr_state_WI</th>\n      <th>addr_state_WV</th>\n      <th>addr_state_WY</th>\n      <th>initial_list_status_w</th>\n      <th>application_type_Joint App</th>\n      <th>hardship_flag_Y</th>\n      <th>debt_settlement_flag_Y</th>\n    </tr>\n    <tr>\n      <th>id</th>\n      <th></th>\n      <th></th>\n      <th></th>\n      <th></th>\n      <th></th>\n      <th></th>\n      <th></th>\n      <th></th>\n      <th></th>\n      <th></th>\n      <th></th>\n      <th></th>\n      <th></th>\n      <th></th>\n      <th></th>\n      <th></th>\n      <th></th>\n      <th></th>\n      <th></th>\n      <th></th>\n      <th></th>\n    </tr>\n  </thead>\n  <tbody>\n    <tr>\n      <th>1075358</th>\n      <td>3000</td>\n      <td>60</td>\n      <td>0.1269</td>\n      <td>67.79</td>\n      <td>80000.00</td>\n      <td>17.94</td>\n      <td>0.0</td>\n      <td>695</td>\n      <td>699</td>\n      <td>0.0</td>\n      <td>...</td>\n      <td>0</td>\n      <td>0</td>\n      <td>0</td>\n      <td>0</td>\n      <td>0</td>\n      <td>0</td>\n      <td>0</td>\n      <td>0</td>\n      <td>0</td>\n      <td>0</td>\n    </tr>\n    <tr>\n      <th>1071570</th>\n      <td>5375</td>\n      <td>60</td>\n      <td>0.1269</td>\n      <td>121.45</td>\n      <td>15000.00</td>\n      <td>18.08</td>\n      <td>0.0</td>\n      <td>725</td>\n      <td>729</td>\n      <td>0.0</td>\n      <td>...</td>\n      <td>0</td>\n      <td>0</td>\n      <td>0</td>\n      <td>0</td>\n      <td>0</td>\n      <td>0</td>\n      <td>0</td>\n      <td>0</td>\n      <td>0</td>\n      <td>0</td>\n    </tr>\n    <tr>\n      <th>1069057</th>\n      <td>10000</td>\n      <td>36</td>\n      <td>0.1065</td>\n      <td>325.74</td>\n      <td>100000.00</td>\n      <td>7.06</td>\n      <td>0.0</td>\n      <td>720</td>\n      <td>724</td>\n      <td>2.0</td>\n      <td>...</td>\n      <td>0</td>\n      <td>0</td>\n      <td>0</td>\n      <td>0</td>\n      <td>0</td>\n      <td>0</td>\n      <td>0</td>\n      <td>0</td>\n      <td>0</td>\n      <td>0</td>\n    </tr>\n    <tr>\n      <th>1069742</th>\n      <td>9200</td>\n      <td>36</td>\n      <td>0.0603</td>\n      <td>280.01</td>\n      <td>77385.19</td>\n      <td>9.86</td>\n      <td>0.0</td>\n      <td>755</td>\n      <td>759</td>\n      <td>0.0</td>\n      <td>...</td>\n      <td>0</td>\n      <td>0</td>\n      <td>0</td>\n      <td>0</td>\n      <td>0</td>\n      <td>0</td>\n      <td>0</td>\n      <td>0</td>\n      <td>0</td>\n      <td>0</td>\n    </tr>\n    <tr>\n      <th>1069559</th>\n      <td>6000</td>\n      <td>36</td>\n      <td>0.1171</td>\n      <td>198.46</td>\n      <td>76000.00</td>\n      <td>2.40</td>\n      <td>0.0</td>\n      <td>690</td>\n      <td>694</td>\n      <td>1.0</td>\n      <td>...</td>\n      <td>0</td>\n      <td>0</td>\n      <td>0</td>\n      <td>0</td>\n      <td>0</td>\n      <td>0</td>\n      <td>0</td>\n      <td>0</td>\n      <td>0</td>\n      <td>0</td>\n    </tr>\n  </tbody>\n</table>\n<p>5 rows × 1014 columns</p>\n</div>"
     },
     "execution_count": 10,
     "metadata": {},
     "output_type": "execute_result"
    }
   ],
   "source": [
    "data.head()"
   ],
   "metadata": {
    "collapsed": false,
    "ExecuteTime": {
     "end_time": "2024-04-16T10:52:28.278635800Z",
     "start_time": "2024-04-16T10:52:28.168695600Z"
    }
   },
   "id": "5040d0a63cccfc9b"
  },
  {
   "cell_type": "markdown",
   "source": [
    "# Preparing the data for the models"
   ],
   "metadata": {
    "collapsed": false
   },
   "id": "97af3002e65cbdc6"
  },
  {
   "cell_type": "code",
   "execution_count": 11,
   "outputs": [],
   "source": [
    "X = data.drop(columns=['loan_status_num'])\n",
    "y = data['loan_status_num']\n",
    "X_train_extra, X_test_extra, y_train_extra, y_test_extra = train_test_split(X, y, test_size=0.3, random_state=42)\n",
    "scaler = StandardScaler()\n",
    "#X = torch.tensor(X.values, dtype=torch.float32)\n",
    "#y = torch.tensor(y.values, dtype=torch.float32).reshape(len(y),1)"
   ],
   "metadata": {
    "collapsed": false,
    "ExecuteTime": {
     "end_time": "2024-04-16T10:52:32.847858500Z",
     "start_time": "2024-04-16T10:52:31.366950200Z"
    }
   },
   "id": "52028d8a7174f503"
  },
  {
   "cell_type": "code",
   "execution_count": 12,
   "outputs": [],
   "source": [
    "# Split data into training (70%) and temp (30%)\n",
    "X_train, X_temp, y_train, y_temp = train_test_split(X, y, test_size=0.3, random_state=42)\n",
    "\n",
    "# Split temp into validation (10%) and temp2 (20%)\n",
    "X_validation, X_temp2, y_validation, y_temp2 = train_test_split(X_temp, y_temp, test_size=0.67, random_state=42)\n",
    "\n",
    "# Split temp2 into calibration (10%) and test (10%)\n",
    "X_calibration, X_test, y_calibration, y_test = train_test_split(X_temp2, y_temp2, test_size=0.5, random_state=42)\n",
    "\n",
    "X_train_scaled = scaler.fit_transform(X_train)\n",
    "X_validation_scaled = scaler.transform(X_validation)\n",
    "X_test_scaled = scaler.transform(X_test) \n",
    "\n",
    "X_train_tensor = torch.tensor(X_train_scaled, dtype=torch.float32)\n",
    "X_validation_tensor = torch.tensor(X_validation_scaled, dtype=torch.float32)\n",
    "X_test_tensor = torch.tensor(X_test_scaled, dtype=torch.float32)\n",
    "\n",
    "y_train_tensor = torch.tensor(y_train.values, dtype=torch.float32).reshape(len(y_train),1)\n",
    "y_validation_tensor = torch.tensor(y_validation.values, dtype=torch.float32).reshape(len(y_validation),1)\n",
    "y_test_tensor = torch.tensor(y_test.values, dtype=torch.float32).reshape(len(y_test),1)"
   ],
   "metadata": {
    "collapsed": false,
    "ExecuteTime": {
     "end_time": "2024-04-16T10:52:39.984904900Z",
     "start_time": "2024-04-16T10:52:32.856377900Z"
    }
   },
   "id": "1e1bdbd92a6fe238"
  },
  {
   "cell_type": "code",
   "execution_count": 13,
   "outputs": [
    {
     "name": "stdout",
     "output_type": "stream",
     "text": [
      "torch.Size([67678, 1013])\n",
      "torch.Size([67678, 1])\n",
      "torch.Size([9571, 1013])\n",
      "torch.Size([9571, 1])\n",
      "torch.Size([9717, 1013])\n",
      "torch.Size([9717, 1])\n"
     ]
    }
   ],
   "source": [
    "print(X_train_tensor.shape)\n",
    "print(y_train_tensor.shape)\n",
    "print(X_validation_tensor.shape)\n",
    "print(y_validation_tensor.shape)\n",
    "print(X_test_tensor.shape)\n",
    "print(y_test_tensor.shape)"
   ],
   "metadata": {
    "collapsed": false,
    "ExecuteTime": {
     "end_time": "2024-04-16T10:52:40.032368500Z",
     "start_time": "2024-04-16T10:52:39.969277800Z"
    }
   },
   "id": "6810af743d31635d"
  },
  {
   "cell_type": "code",
   "execution_count": 14,
   "outputs": [
    {
     "name": "stdout",
     "output_type": "stream",
     "text": [
      "|--- last_fico_range_high <= 631.50\n",
      "|   |--- last_pymnt_amnt <= 1502.83\n",
      "|   |   |--- class: 1\n",
      "|   |--- last_pymnt_amnt >  1502.83\n",
      "|   |   |--- class: 0\n",
      "|--- last_fico_range_high >  631.50\n",
      "|   |--- total_rec_prncp <= 999.98\n",
      "|   |   |--- class: 1\n",
      "|   |--- total_rec_prncp >  999.98\n",
      "|   |   |--- class: 0\n",
      "\n",
      "Classification Report:\n",
      "               precision    recall  f1-score   support\n",
      "\n",
      "           0       0.97      0.93      0.95     24584\n",
      "           1       0.68      0.82      0.74      4421\n",
      "\n",
      "    accuracy                           0.91     29005\n",
      "   macro avg       0.82      0.87      0.85     29005\n",
      "weighted avg       0.92      0.91      0.92     29005\n"
     ]
    }
   ],
   "source": [
    "from sklearn.tree import DecisionTreeClassifier, export_text\n",
    "# Create an instance of DecisionTreeClassifier\n",
    "dt_model = DecisionTreeClassifier(max_depth=2)\n",
    "# Fit the model using X_train and y_train\n",
    "dt_model.fit(X_train_extra, y_train_extra)\n",
    "# Get the rules of the decision tree\n",
    "tree_rules = export_text(dt_model, feature_names=list(X_train_extra.columns))\n",
    "print(tree_rules)\n",
    "# Use the trained model to make predictions\n",
    "predictions_extra = dt_model.predict(X_test_extra)\n",
    "\n",
    "class_report = classification_report(y_test_extra, predictions_extra)\n",
    "print(\"Classification Report:\\n\", class_report)\n"
   ],
   "metadata": {
    "collapsed": false,
    "ExecuteTime": {
     "end_time": "2024-04-16T10:52:50.791517400Z",
     "start_time": "2024-04-16T10:52:40.909541400Z"
    }
   },
   "id": "fd5517822fb05edc"
  },
  {
   "cell_type": "markdown",
   "source": [
    "As there is a significant class imbalance in the dataset, the weights have to be calculated for the classification."
   ],
   "metadata": {
    "collapsed": false
   },
   "id": "800e8a06bb450df1"
  },
  {
   "cell_type": "code",
   "execution_count": 49,
   "outputs": [],
   "source": [
    "classlabels = torch.tensor(data['loan_status_num'].values, dtype=torch.long)\n",
    "class_counts = torch.bincount(classlabels)\n",
    "\n",
    "# Compute inverse class frequencies\n",
    "class_weights_original = 1.0 / class_counts.float()\n",
    "\n",
    "# Normalize class weights\n",
    "class_weights_original /= class_weights_original.sum()\n",
    "class_weights = class_weights_original[y_train_tensor.long()]\n"
   ],
   "metadata": {
    "collapsed": false,
    "ExecuteTime": {
     "end_time": "2024-04-16T11:16:15.116503500Z",
     "start_time": "2024-04-16T11:16:15.085094800Z"
    }
   },
   "id": "5efad8b730cadbc2"
  },
  {
   "cell_type": "markdown",
   "source": [
    "Preparing evaluation functions to see the models' results."
   ],
   "metadata": {
    "collapsed": false
   },
   "id": "dd17a2355589aa92"
  },
  {
   "cell_type": "code",
   "execution_count": 16,
   "outputs": [],
   "source": [
    "def evaluate_nn(true, pred, train=True):\n",
    "    if train:\n",
    "        clf_report = pd.DataFrame(classification_report(true, pred, output_dict=True))\n",
    "        print(\"Train Result:\\n================================================\")\n",
    "        print(f\"Accuracy Score: {accuracy_score(true, pred) * 100:.2f}%\")\n",
    "        print(\"_______________________________________________\")\n",
    "        print(f\"CLASSIFICATION REPORT:\\n{clf_report}\")\n",
    "        print(\"_______________________________________________\")\n",
    "        print(f\"Confusion Matrix: \\n {confusion_matrix(true, pred)}\\n\")\n",
    "\n",
    "    elif train==False:\n",
    "        clf_report = pd.DataFrame(classification_report(true, pred, output_dict=True))\n",
    "        print(\"Test Result:\\n================================================\")\n",
    "        print(f\"Accuracy Score: {accuracy_score(true, pred) * 100:.2f}%\")\n",
    "        print(\"_______________________________________________\")\n",
    "        print(f\"CLASSIFICATION REPORT:\\n{clf_report}\")\n",
    "        print(\"_______________________________________________\")\n",
    "        print(f\"Confusion Matrix: \\n {confusion_matrix(true, pred)}\\n\")\n",
    "\n",
    "def plot_learning_evolution(r):\n",
    "    plt.figure(figsize=(12, 8))\n",
    "\n",
    "    plt.subplot(2, 2, 1)\n",
    "    plt.plot(r.history['loss'], label='Loss')\n",
    "    plt.plot(r.history['val_loss'], label='val_Loss')\n",
    "    plt.title('Loss evolution during trainig')\n",
    "    plt.legend()\n",
    "\n",
    "    plt.subplot(2, 2, 2)\n",
    "    plt.plot(r.history['AUC'], label='AUC')\n",
    "    plt.plot(r.history['val_AUC'], label='val_AUC')\n",
    "    plt.title('AUC score evolution during trainig')\n",
    "    plt.legend();\n"
   ],
   "metadata": {
    "collapsed": false,
    "ExecuteTime": {
     "end_time": "2024-04-16T10:52:51.728510400Z",
     "start_time": "2024-04-16T10:52:45.211936500Z"
    }
   },
   "id": "63c39ac466aeca9f"
  },
  {
   "cell_type": "markdown",
   "source": [
    "# Setting up the baseline"
   ],
   "metadata": {
    "collapsed": false
   },
   "id": "ad62119d01d25048"
  },
  {
   "cell_type": "code",
   "execution_count": 17,
   "outputs": [],
   "source": [
    "from models.model import LogisticRegression\n",
    "from torchinfo import summary"
   ],
   "metadata": {
    "collapsed": false,
    "ExecuteTime": {
     "end_time": "2024-04-16T10:52:53.712930800Z",
     "start_time": "2024-04-16T10:52:45.243376500Z"
    }
   },
   "id": "28ad90950d490439"
  },
  {
   "cell_type": "code",
   "execution_count": 18,
   "outputs": [
    {
     "data": {
      "text/plain": "1013"
     },
     "execution_count": 18,
     "metadata": {},
     "output_type": "execute_result"
    }
   ],
   "source": [
    "#calculating number of features\n",
    "n_features=len(data.drop(columns=['loan_status_num']).columns)\n",
    "n_features"
   ],
   "metadata": {
    "collapsed": false,
    "ExecuteTime": {
     "end_time": "2024-04-16T10:52:53.712930800Z",
     "start_time": "2024-04-16T10:52:45.337588400Z"
    }
   },
   "id": "392a5f5d5faed70e"
  },
  {
   "cell_type": "code",
   "execution_count": 116,
   "outputs": [
    {
     "data": {
      "text/plain": "==========================================================================================\nLayer (type:depth-idx)                   Output Shape              Param #\n==========================================================================================\nLogisticRegression                       [67678, 1]                --\n├─Sequential: 1-1                        [67678, 1]                --\n│    └─Linear: 2-1                       [67678, 1]                1,014\n│    └─Sigmoid: 2-2                      [67678, 1]                --\n==========================================================================================\nTotal params: 1,014\nTrainable params: 1,014\nNon-trainable params: 0\nTotal mult-adds (Units.MEGABYTES): 68.63\n==========================================================================================\nInput size (MB): 274.23\nForward/backward pass size (MB): 0.54\nParams size (MB): 0.00\nEstimated Total Size (MB): 274.78\n=========================================================================================="
     },
     "execution_count": 116,
     "metadata": {},
     "output_type": "execute_result"
    }
   ],
   "source": [
    "lr_model = LogisticRegression(num_features=n_features)\n",
    "summary(lr_model, input_size=X_train.shape)"
   ],
   "metadata": {
    "collapsed": false,
    "ExecuteTime": {
     "end_time": "2024-04-16T15:05:49.398018900Z",
     "start_time": "2024-04-16T15:05:48.447493100Z"
    }
   },
   "id": "17bda6a746022051"
  },
  {
   "cell_type": "code",
   "execution_count": 117,
   "outputs": [],
   "source": [
    "LEARNING_RATE = 0.01\n",
    "EPOCHS = 4000"
   ],
   "metadata": {
    "collapsed": false,
    "ExecuteTime": {
     "end_time": "2024-04-16T15:05:49.398018900Z",
     "start_time": "2024-04-16T15:05:49.366837300Z"
    }
   },
   "id": "2f7e7f3cc68c57b9"
  },
  {
   "cell_type": "code",
   "execution_count": 118,
   "outputs": [],
   "source": [
    "loss_function = nn.BCELoss(weight=class_weights)"
   ],
   "metadata": {
    "collapsed": false,
    "ExecuteTime": {
     "end_time": "2024-04-16T15:05:51.849725500Z",
     "start_time": "2024-04-16T15:05:51.836109300Z"
    }
   },
   "id": "c362765f76e23331"
  },
  {
   "cell_type": "code",
   "execution_count": 119,
   "outputs": [],
   "source": [
    "optimizer = optim.SGD(lr_model.parameters(), lr=LEARNING_RATE)"
   ],
   "metadata": {
    "collapsed": false,
    "ExecuteTime": {
     "end_time": "2024-04-16T15:05:56.568910100Z",
     "start_time": "2024-04-16T15:05:56.537309Z"
    }
   },
   "id": "a5b551fe9246dc86"
  },
  {
   "cell_type": "code",
   "execution_count": 23,
   "outputs": [],
   "source": [
    "def calculate_accuracy(preds, actuals):\n",
    "\n",
    "    with torch.no_grad():\n",
    "        rounded_preds = torch.round(preds)\n",
    "        num_correct = torch.sum(rounded_preds == actuals)\n",
    "        accuracy = num_correct/len(preds)\n",
    "\n",
    "    return accuracy"
   ],
   "metadata": {
    "collapsed": false,
    "ExecuteTime": {
     "end_time": "2024-04-16T10:52:54.118438400Z",
     "start_time": "2024-04-16T10:52:50.164524800Z"
    }
   },
   "id": "5933635e8f1a3119"
  },
  {
   "cell_type": "code",
   "execution_count": 120,
   "outputs": [
    {
     "name": "stdout",
     "output_type": "stream",
     "text": [
      "Epoch: 0 \t| Train loss: 0.188 \t| Train acc: 0.51 \t| Test acc: 0.5\n",
      "Epoch: 100 \t| Train loss: 0.158 \t| Train acc: 0.61 \t| Test acc: 0.61\n",
      "Epoch: 200 \t| Train loss: 0.141 \t| Train acc: 0.66 \t| Test acc: 0.66\n",
      "Epoch: 300 \t| Train loss: 0.13 \t| Train acc: 0.69 \t| Test acc: 0.68\n",
      "Epoch: 400 \t| Train loss: 0.122 \t| Train acc: 0.71 \t| Test acc: 0.7\n",
      "Epoch: 500 \t| Train loss: 0.116 \t| Train acc: 0.72 \t| Test acc: 0.72\n",
      "Epoch: 600 \t| Train loss: 0.111 \t| Train acc: 0.74 \t| Test acc: 0.73\n",
      "Epoch: 700 \t| Train loss: 0.107 \t| Train acc: 0.75 \t| Test acc: 0.75\n",
      "Epoch: 800 \t| Train loss: 0.103 \t| Train acc: 0.77 \t| Test acc: 0.76\n",
      "Epoch: 900 \t| Train loss: 0.1 \t| Train acc: 0.78 \t| Test acc: 0.77\n",
      "Epoch: 1000 \t| Train loss: 0.098 \t| Train acc: 0.79 \t| Test acc: 0.78\n",
      "Epoch: 1100 \t| Train loss: 0.095 \t| Train acc: 0.8 \t| Test acc: 0.79\n",
      "Epoch: 1200 \t| Train loss: 0.093 \t| Train acc: 0.81 \t| Test acc: 0.8\n",
      "Epoch: 1300 \t| Train loss: 0.091 \t| Train acc: 0.81 \t| Test acc: 0.8\n",
      "Epoch: 1400 \t| Train loss: 0.089 \t| Train acc: 0.82 \t| Test acc: 0.81\n",
      "Epoch: 1500 \t| Train loss: 0.087 \t| Train acc: 0.83 \t| Test acc: 0.82\n",
      "Epoch: 1600 \t| Train loss: 0.086 \t| Train acc: 0.83 \t| Test acc: 0.82\n",
      "Epoch: 1700 \t| Train loss: 0.084 \t| Train acc: 0.84 \t| Test acc: 0.83\n",
      "Epoch: 1800 \t| Train loss: 0.083 \t| Train acc: 0.85 \t| Test acc: 0.84\n",
      "Epoch: 1900 \t| Train loss: 0.082 \t| Train acc: 0.85 \t| Test acc: 0.84\n",
      "Epoch: 2000 \t| Train loss: 0.08 \t| Train acc: 0.86 \t| Test acc: 0.85\n",
      "Epoch: 2100 \t| Train loss: 0.079 \t| Train acc: 0.86 \t| Test acc: 0.85\n",
      "Epoch: 2200 \t| Train loss: 0.078 \t| Train acc: 0.86 \t| Test acc: 0.86\n",
      "Epoch: 2300 \t| Train loss: 0.077 \t| Train acc: 0.87 \t| Test acc: 0.86\n",
      "Epoch: 2400 \t| Train loss: 0.076 \t| Train acc: 0.87 \t| Test acc: 0.86\n",
      "Epoch: 2500 \t| Train loss: 0.075 \t| Train acc: 0.87 \t| Test acc: 0.87\n",
      "Epoch: 2600 \t| Train loss: 0.074 \t| Train acc: 0.88 \t| Test acc: 0.87\n",
      "Epoch: 2700 \t| Train loss: 0.073 \t| Train acc: 0.88 \t| Test acc: 0.87\n",
      "Epoch: 2800 \t| Train loss: 0.073 \t| Train acc: 0.88 \t| Test acc: 0.88\n",
      "Epoch: 2900 \t| Train loss: 0.072 \t| Train acc: 0.89 \t| Test acc: 0.88\n",
      "Epoch: 3000 \t| Train loss: 0.071 \t| Train acc: 0.89 \t| Test acc: 0.88\n",
      "Epoch: 3100 \t| Train loss: 0.07 \t| Train acc: 0.89 \t| Test acc: 0.88\n",
      "Epoch: 3200 \t| Train loss: 0.07 \t| Train acc: 0.89 \t| Test acc: 0.88\n",
      "Epoch: 3300 \t| Train loss: 0.069 \t| Train acc: 0.89 \t| Test acc: 0.89\n",
      "Epoch: 3400 \t| Train loss: 0.068 \t| Train acc: 0.9 \t| Test acc: 0.89\n",
      "Epoch: 3500 \t| Train loss: 0.068 \t| Train acc: 0.9 \t| Test acc: 0.89\n",
      "Epoch: 3600 \t| Train loss: 0.067 \t| Train acc: 0.9 \t| Test acc: 0.89\n",
      "Epoch: 3700 \t| Train loss: 0.066 \t| Train acc: 0.9 \t| Test acc: 0.89\n",
      "Epoch: 3800 \t| Train loss: 0.066 \t| Train acc: 0.9 \t| Test acc: 0.89\n",
      "Epoch: 3900 \t| Train loss: 0.065 \t| Train acc: 0.9 \t| Test acc: 0.89\n"
     ]
    }
   ],
   "source": [
    "train_losses = []\n",
    "#test_losses  = []\n",
    "train_accs = []\n",
    "test_accs  = []\n",
    "\n",
    "for epoch in range(EPOCHS):\n",
    "    # Forward propagation (predicting train data) #a\n",
    "    train_preds = lr_model(X_train_tensor)\n",
    "    train_loss  = loss_function(train_preds, y_train_tensor)\n",
    "\n",
    "    # Predicting test data #b\n",
    "    with torch.no_grad():\n",
    "        test_preds = lr_model(X_validation_tensor)\n",
    "        #test_loss  = loss_function(test_preds, y_test)\n",
    "\n",
    "    # Calculate accuracy #c\n",
    "    train_acc = calculate_accuracy(train_preds, y_train_tensor)\n",
    "    test_acc  = calculate_accuracy(test_preds, y_validation_tensor)\n",
    "\n",
    "    # Backward propagation #d\n",
    "    optimizer.zero_grad()\n",
    "    train_loss.backward()\n",
    "\n",
    "    # Gradient descent step #e\n",
    "    optimizer.step()\n",
    "\n",
    "    # Store training history #f\n",
    "    train_losses.append(train_loss.item())\n",
    "    #test_losses.append(test_loss.item())\n",
    "    train_accs.append(train_acc.item())\n",
    "    test_accs.append(test_acc.item())\n",
    "\n",
    "    # Print training data #g\n",
    "    if epoch%100==0:\n",
    "        print(f'Epoch: {epoch} \\t|' \\\n",
    "              f' Train loss: {np.round(train_loss.item(),3)} \\t|' \\\n",
    "              #f' Test loss: {np.round(test_loss.item(),3)} \\t|' \\\n",
    "              f' Train acc: {np.round(train_acc.item(),2)} \\t|' \\\n",
    "              f' Test acc: {np.round(test_acc.item(),2)}')"
   ],
   "metadata": {
    "collapsed": false,
    "ExecuteTime": {
     "end_time": "2024-04-16T15:07:29.859231300Z",
     "start_time": "2024-04-16T15:06:01.805253800Z"
    }
   },
   "id": "3a3cdf51d2ac0144"
  },
  {
   "cell_type": "code",
   "execution_count": 121,
   "outputs": [
    {
     "name": "stdout",
     "output_type": "stream",
     "text": [
      "Train Result:\n",
      "================================================\n",
      "Accuracy Score: 90.43%\n",
      "_______________________________________________\n",
      "CLASSIFICATION REPORT:\n",
      "                    0.0           1.0  accuracy     macro avg  weighted avg\n",
      "precision      0.992320      0.616705  0.904341      0.804512      0.935854\n",
      "recall         0.894338      0.960881  0.904341      0.927609      0.904341\n",
      "f1-score       0.940785      0.751249  0.904341      0.846017      0.912292\n",
      "support    57504.000000  10174.000000  0.904341  67678.000000  67678.000000\n",
      "_______________________________________________\n",
      "Confusion Matrix: \n",
      " [[51428  6076]\n",
      " [  398  9776]]\n",
      "\n",
      "Test Result:\n",
      "================================================\n",
      "Accuracy Score: 89.54%\n",
      "_______________________________________________\n",
      "CLASSIFICATION REPORT:\n",
      "                   0.0          1.0  accuracy    macro avg  weighted avg\n",
      "precision     0.990359     0.596970  0.895413     0.793665      0.930802\n",
      "recall        0.885373     0.951691  0.895413     0.918532      0.895413\n",
      "f1-score      0.934928     0.733706  0.895413     0.834317      0.904464\n",
      "support    8122.000000  1449.000000  0.895413  9571.000000   9571.000000\n",
      "_______________________________________________\n",
      "Confusion Matrix: \n",
      " [[7191  931]\n",
      " [  70 1379]]\n"
     ]
    }
   ],
   "source": [
    "evaluate_nn(y_train_tensor.clone().detach(), train_preds.clone().detach().round(), train=True)\n",
    "evaluate_nn(y_validation_tensor.clone().detach(), test_preds.clone().detach().round(), train=False)\n",
    "\n"
   ],
   "metadata": {
    "collapsed": false,
    "ExecuteTime": {
     "end_time": "2024-04-16T15:07:30.247626300Z",
     "start_time": "2024-04-16T15:07:29.859231300Z"
    }
   },
   "id": "d61e681704d84397"
  },
  {
   "cell_type": "markdown",
   "source": [
    "# Implementing semantic loss"
   ],
   "metadata": {
    "collapsed": false
   },
   "id": "63f7071c7c140662"
  },
  {
   "cell_type": "code",
   "execution_count": 109,
   "outputs": [],
   "source": [
    "from importlib import reload  # Python 3.4+\n",
    "import models.loss\n",
    "reload(models.loss)\n",
    "from models.loss import semantic_loss"
   ],
   "metadata": {
    "collapsed": false,
    "ExecuteTime": {
     "end_time": "2024-04-16T15:03:33.817292900Z",
     "start_time": "2024-04-16T15:03:33.803763800Z"
    }
   },
   "id": "8e7f96c958a8c1a9"
  },
  {
   "cell_type": "code",
   "execution_count": 110,
   "outputs": [
    {
     "data": {
      "text/plain": "==========================================================================================\nLayer (type:depth-idx)                   Output Shape              Param #\n==========================================================================================\nLogisticRegression                       [67678, 1]                --\n├─Sequential: 1-1                        [67678, 1]                --\n│    └─Linear: 2-1                       [67678, 1]                1,014\n│    └─Sigmoid: 2-2                      [67678, 1]                --\n==========================================================================================\nTotal params: 1,014\nTrainable params: 1,014\nNon-trainable params: 0\nTotal mult-adds (Units.MEGABYTES): 68.63\n==========================================================================================\nInput size (MB): 274.23\nForward/backward pass size (MB): 0.54\nParams size (MB): 0.00\nEstimated Total Size (MB): 274.78\n=========================================================================================="
     },
     "execution_count": 110,
     "metadata": {},
     "output_type": "execute_result"
    }
   ],
   "source": [
    "sl_model = LogisticRegression(num_features=n_features)\n",
    "summary(sl_model, input_size=X_train.shape)"
   ],
   "metadata": {
    "collapsed": false,
    "ExecuteTime": {
     "end_time": "2024-04-16T15:03:35.185856400Z",
     "start_time": "2024-04-16T15:03:34.182808Z"
    }
   },
   "id": "67be64e6b44624bf"
  },
  {
   "cell_type": "code",
   "execution_count": 111,
   "outputs": [],
   "source": [
    "optimizer_sl = optim.SGD(sl_model.parameters(), lr=LEARNING_RATE)"
   ],
   "metadata": {
    "collapsed": false,
    "ExecuteTime": {
     "end_time": "2024-04-16T15:03:36.107625700Z",
     "start_time": "2024-04-16T15:03:36.086958Z"
    }
   },
   "id": "67c333c949a91797"
  },
  {
   "cell_type": "code",
   "execution_count": 112,
   "outputs": [],
   "source": [
    "last_fico = torch.tensor(X_train['last_fico_range_high'].values, dtype=torch.float32).reshape(len(y_train),1)\n",
    "last_pymnt = torch.tensor(X_train['last_pymnt_amnt'].values, dtype=torch.float32).reshape(len(y_train),1)\n",
    "total_rec = torch.tensor(X_train['total_rec_prncp'].values, dtype=torch.float32).reshape(len(y_train),1)\n",
    "\n",
    "rule = torch.logical_or(\n",
    "    torch.logical_and(last_fico <= 631.5, last_pymnt <= 1502.83),\n",
    "    torch.logical_and(last_fico > 631.5, total_rec <= 999.98)\n",
    ").float()"
   ],
   "metadata": {
    "collapsed": false,
    "ExecuteTime": {
     "end_time": "2024-04-16T15:03:37.069987100Z",
     "start_time": "2024-04-16T15:03:37.022950400Z"
    }
   },
   "id": "119c18b13077cb49"
  },
  {
   "cell_type": "code",
   "execution_count": 113,
   "outputs": [
    {
     "name": "stdout",
     "output_type": "stream",
     "text": [
      "tensor([[0.],\n",
      "        [0.],\n",
      "        [0.],\n",
      "        ...,\n",
      "        [0.],\n",
      "        [1.],\n",
      "        [0.]])\n"
     ]
    }
   ],
   "source": [
    "print(rule)"
   ],
   "metadata": {
    "collapsed": false,
    "ExecuteTime": {
     "end_time": "2024-04-16T15:03:38.265502Z",
     "start_time": "2024-04-16T15:03:38.234153800Z"
    }
   },
   "id": "f5d84bf01562ce24"
  },
  {
   "cell_type": "code",
   "execution_count": 114,
   "outputs": [
    {
     "name": "stdout",
     "output_type": "stream",
     "text": [
      "Epoch: 0 \t| Train loss: -0.205 \t| Train acc: 0.49 \t| Test acc: 0.49\n",
      "Epoch: 100 \t| Train loss: -0.235 \t| Train acc: 0.6 \t| Test acc: 0.6\n",
      "Epoch: 200 \t| Train loss: -0.249 \t| Train acc: 0.66 \t| Test acc: 0.65\n",
      "Epoch: 300 \t| Train loss: -0.257 \t| Train acc: 0.7 \t| Test acc: 0.69\n",
      "Epoch: 400 \t| Train loss: -0.262 \t| Train acc: 0.72 \t| Test acc: 0.72\n",
      "Epoch: 500 \t| Train loss: -0.267 \t| Train acc: 0.75 \t| Test acc: 0.75\n",
      "Epoch: 600 \t| Train loss: -0.27 \t| Train acc: 0.77 \t| Test acc: 0.77\n",
      "Epoch: 700 \t| Train loss: -0.273 \t| Train acc: 0.79 \t| Test acc: 0.79\n",
      "Epoch: 800 \t| Train loss: -0.276 \t| Train acc: 0.81 \t| Test acc: 0.81\n",
      "Epoch: 900 \t| Train loss: -0.278 \t| Train acc: 0.83 \t| Test acc: 0.82\n",
      "Epoch: 1000 \t| Train loss: -0.28 \t| Train acc: 0.84 \t| Test acc: 0.84\n",
      "Epoch: 1100 \t| Train loss: -0.282 \t| Train acc: 0.85 \t| Test acc: 0.85\n",
      "Epoch: 1200 \t| Train loss: -0.284 \t| Train acc: 0.87 \t| Test acc: 0.86\n",
      "Epoch: 1300 \t| Train loss: -0.286 \t| Train acc: 0.88 \t| Test acc: 0.87\n",
      "Epoch: 1400 \t| Train loss: -0.288 \t| Train acc: 0.88 \t| Test acc: 0.88\n",
      "Epoch: 1500 \t| Train loss: -0.289 \t| Train acc: 0.89 \t| Test acc: 0.88\n",
      "Epoch: 1600 \t| Train loss: -0.29 \t| Train acc: 0.9 \t| Test acc: 0.89\n",
      "Epoch: 1700 \t| Train loss: -0.292 \t| Train acc: 0.9 \t| Test acc: 0.89\n",
      "Epoch: 1800 \t| Train loss: -0.293 \t| Train acc: 0.91 \t| Test acc: 0.9\n",
      "Epoch: 1900 \t| Train loss: -0.294 \t| Train acc: 0.91 \t| Test acc: 0.9\n",
      "Epoch: 2000 \t| Train loss: -0.295 \t| Train acc: 0.92 \t| Test acc: 0.91\n",
      "Epoch: 2100 \t| Train loss: -0.296 \t| Train acc: 0.92 \t| Test acc: 0.91\n",
      "Epoch: 2200 \t| Train loss: -0.297 \t| Train acc: 0.92 \t| Test acc: 0.91\n",
      "Epoch: 2300 \t| Train loss: -0.298 \t| Train acc: 0.93 \t| Test acc: 0.92\n",
      "Epoch: 2400 \t| Train loss: -0.299 \t| Train acc: 0.93 \t| Test acc: 0.92\n",
      "Epoch: 2500 \t| Train loss: -0.299 \t| Train acc: 0.93 \t| Test acc: 0.92\n",
      "Epoch: 2600 \t| Train loss: -0.3 \t| Train acc: 0.93 \t| Test acc: 0.92\n",
      "Epoch: 2700 \t| Train loss: -0.301 \t| Train acc: 0.93 \t| Test acc: 0.93\n",
      "Epoch: 2800 \t| Train loss: -0.301 \t| Train acc: 0.94 \t| Test acc: 0.93\n",
      "Epoch: 2900 \t| Train loss: -0.302 \t| Train acc: 0.94 \t| Test acc: 0.93\n",
      "Epoch: 3000 \t| Train loss: -0.303 \t| Train acc: 0.94 \t| Test acc: 0.93\n",
      "Epoch: 3100 \t| Train loss: -0.303 \t| Train acc: 0.94 \t| Test acc: 0.93\n",
      "Epoch: 3200 \t| Train loss: -0.304 \t| Train acc: 0.94 \t| Test acc: 0.93\n",
      "Epoch: 3300 \t| Train loss: -0.304 \t| Train acc: 0.94 \t| Test acc: 0.94\n",
      "Epoch: 3400 \t| Train loss: -0.305 \t| Train acc: 0.94 \t| Test acc: 0.94\n",
      "Epoch: 3500 \t| Train loss: -0.305 \t| Train acc: 0.94 \t| Test acc: 0.94\n",
      "Epoch: 3600 \t| Train loss: -0.306 \t| Train acc: 0.94 \t| Test acc: 0.94\n",
      "Epoch: 3700 \t| Train loss: -0.306 \t| Train acc: 0.95 \t| Test acc: 0.94\n",
      "Epoch: 3800 \t| Train loss: -0.307 \t| Train acc: 0.95 \t| Test acc: 0.94\n",
      "Epoch: 3900 \t| Train loss: -0.307 \t| Train acc: 0.95 \t| Test acc: 0.94\n"
     ]
    }
   ],
   "source": [
    "train_losses = []\n",
    "#test_losses  = []\n",
    "train_accs = []\n",
    "test_accs  = []\n",
    "\n",
    "for epoch in range(EPOCHS):\n",
    "    # Forward propagation (predicting train data) #a\n",
    "    train_preds = sl_model(X_train_tensor)\n",
    "    #train_loss  = loss_function(train_preds, y_train_tensor)\n",
    "    train_loss = semantic_loss(train_preds, y_train_tensor, rule, class_weights, 0.05)\n",
    "\n",
    "    # Predicting test data #b\n",
    "    with torch.no_grad():\n",
    "        test_preds = sl_model(X_validation_tensor)\n",
    "        #test_loss  = loss_function(test_preds, y_test)\n",
    "\n",
    "    # Calculate accuracy #c\n",
    "    train_acc = calculate_accuracy(train_preds, y_train_tensor)\n",
    "    test_acc  = calculate_accuracy(test_preds, y_validation_tensor)\n",
    "\n",
    "    # Backward propagation #d\n",
    "    optimizer_sl.zero_grad()\n",
    "    train_loss.backward()\n",
    "\n",
    "    # Gradient descent step #e\n",
    "    optimizer_sl.step()\n",
    "\n",
    "    # Store training history #f\n",
    "    train_losses.append(train_loss.item())\n",
    "    #test_losses.append(test_loss.item())\n",
    "    train_accs.append(train_acc.item())\n",
    "    test_accs.append(test_acc.item())\n",
    "\n",
    "    # Print training data #g\n",
    "    if epoch%100==0:\n",
    "        print(f'Epoch: {epoch} \\t|' \\\n",
    "              f' Train loss: {np.round(train_loss.item(),3)} \\t|' \\\n",
    "                  #f' Test loss: {np.round(test_loss.item(),3)} \\t|' \\\n",
    "              f' Train acc: {np.round(train_acc.item(),2)} \\t|' \\\n",
    "              f' Test acc: {np.round(test_acc.item(),2)}')"
   ],
   "metadata": {
    "collapsed": false,
    "ExecuteTime": {
     "end_time": "2024-04-16T15:05:14.949854300Z",
     "start_time": "2024-04-16T15:03:45.087599700Z"
    }
   },
   "id": "f35eb719dedfeb74"
  },
  {
   "cell_type": "code",
   "execution_count": 115,
   "outputs": [
    {
     "name": "stdout",
     "output_type": "stream",
     "text": [
      "Train Result:\n",
      "================================================\n",
      "Accuracy Score: 94.76%\n",
      "_______________________________________________\n",
      "CLASSIFICATION REPORT:\n",
      "                    0.0           1.0  accuracy     macro avg  weighted avg\n",
      "precision      0.987268      0.769400  0.947649      0.878334      0.954516\n",
      "recall         0.950647      0.930706  0.947649      0.940676      0.947649\n",
      "f1-score       0.968611      0.842400  0.947649      0.905506      0.949638\n",
      "support    57504.000000  10174.000000  0.947649  67678.000000  67678.000000\n",
      "_______________________________________________\n",
      "Confusion Matrix: \n",
      " [[54666  2838]\n",
      " [  705  9469]]\n",
      "\n",
      "Test Result:\n",
      "================================================\n",
      "Accuracy Score: 94.13%\n",
      "_______________________________________________\n",
      "CLASSIFICATION REPORT:\n",
      "                   0.0          1.0  accuracy    macro avg  weighted avg\n",
      "precision     0.983995     0.751846  0.941281     0.867920      0.948849\n",
      "recall        0.946196     0.913734  0.941281     0.929965      0.941281\n",
      "f1-score      0.964725     0.824922  0.941281     0.894824      0.943560\n",
      "support    8122.000000  1449.000000  0.941281  9571.000000   9571.000000\n",
      "_______________________________________________\n",
      "Confusion Matrix: \n",
      " [[7685  437]\n",
      " [ 125 1324]]\n"
     ]
    }
   ],
   "source": [
    "evaluate_nn(y_train_tensor.clone().detach(), train_preds.clone().detach().round(), train=True)\n",
    "evaluate_nn(y_validation_tensor.clone().detach(), test_preds.clone().detach().round(), train=False)\n",
    "\n"
   ],
   "metadata": {
    "collapsed": false,
    "ExecuteTime": {
     "end_time": "2024-04-16T15:05:15.334883500Z",
     "start_time": "2024-04-16T15:05:14.956870500Z"
    }
   },
   "id": "d93126a5dc7ed864"
  },
  {
   "cell_type": "markdown",
   "source": [
    "# Comparing the models on limited data"
   ],
   "metadata": {
    "collapsed": false
   },
   "id": "f628c0721b6d23f1"
  },
  {
   "cell_type": "code",
   "execution_count": 86,
   "outputs": [
    {
     "data": {
      "text/plain": "torch.Size([6767, 1])"
     },
     "execution_count": 86,
     "metadata": {},
     "output_type": "execute_result"
    }
   ],
   "source": [
    "X_train_lim, X_remain, y_train_lim, y_remain = train_test_split(X_train, y_train, test_size=0.9, random_state=42)\n",
    "X_train_lim_scaled = scaler.fit_transform(X_train_lim)\n",
    "X_train_tensor_lim = torch.tensor(X_train_lim_scaled, dtype=torch.float32)\n",
    "y_train_tensor_lim = torch.tensor(y_train_lim.values, dtype=torch.float32).reshape(len(y_train_lim),1)\n",
    "X_train_tensor_lim.shape\n",
    "y_train_tensor_lim.shape"
   ],
   "metadata": {
    "collapsed": false,
    "ExecuteTime": {
     "end_time": "2024-04-16T14:26:52.058857500Z",
     "start_time": "2024-04-16T14:26:51.095113200Z"
    }
   },
   "id": "a1e8c038eabe9279"
  },
  {
   "cell_type": "code",
   "execution_count": 87,
   "outputs": [],
   "source": [
    "last_fico_lim = torch.tensor(X_train_lim['last_fico_range_high'].values, dtype=torch.float32).reshape(len(y_train_lim),1)\n",
    "last_pymnt_lim = torch.tensor(X_train_lim['last_pymnt_amnt'].values, dtype=torch.float32).reshape(len(y_train_lim),1)\n",
    "total_rec_lim = torch.tensor(X_train_lim['total_rec_prncp'].values, dtype=torch.float32).reshape(len(y_train_lim),1)\n",
    "\n",
    "rule_lim = torch.logical_or(\n",
    "    torch.logical_and(last_fico_lim <= 631.5, last_pymnt_lim <= 1502.83),\n",
    "    torch.logical_and(last_fico_lim > 631.5, total_rec_lim <= 999.98)\n",
    ").float()"
   ],
   "metadata": {
    "collapsed": false,
    "ExecuteTime": {
     "end_time": "2024-04-16T14:26:54.258691800Z",
     "start_time": "2024-04-16T14:26:54.243251Z"
    }
   },
   "id": "66ec68a4d9943866"
  },
  {
   "cell_type": "code",
   "execution_count": 87,
   "outputs": [],
   "source": [],
   "metadata": {
    "collapsed": false,
    "ExecuteTime": {
     "end_time": "2024-04-16T14:27:04.511757100Z",
     "start_time": "2024-04-16T14:27:04.508806400Z"
    }
   },
   "id": "b14b9031b83c5001"
  },
  {
   "cell_type": "code",
   "execution_count": 108,
   "outputs": [
    {
     "name": "stdout",
     "output_type": "stream",
     "text": [
      "Epoch: 0 \t| Train loss: 0.187 \t| Train acc: 0.49 \t| Test acc: 0.5\n",
      "Epoch: 100 \t| Train loss: 0.154 \t| Train acc: 0.6 \t| Test acc: 0.6\n",
      "Epoch: 200 \t| Train loss: 0.136 \t| Train acc: 0.66 \t| Test acc: 0.65\n",
      "Epoch: 300 \t| Train loss: 0.125 \t| Train acc: 0.69 \t| Test acc: 0.68\n",
      "Epoch: 400 \t| Train loss: 0.117 \t| Train acc: 0.71 \t| Test acc: 0.7\n",
      "Epoch: 500 \t| Train loss: 0.11 \t| Train acc: 0.73 \t| Test acc: 0.71\n",
      "Epoch: 600 \t| Train loss: 0.106 \t| Train acc: 0.75 \t| Test acc: 0.73\n",
      "Epoch: 700 \t| Train loss: 0.101 \t| Train acc: 0.76 \t| Test acc: 0.74\n",
      "Epoch: 800 \t| Train loss: 0.098 \t| Train acc: 0.78 \t| Test acc: 0.75\n",
      "Epoch: 900 \t| Train loss: 0.095 \t| Train acc: 0.79 \t| Test acc: 0.76\n",
      "Epoch: 1000 \t| Train loss: 0.092 \t| Train acc: 0.8 \t| Test acc: 0.77\n",
      "Epoch: 1100 \t| Train loss: 0.089 \t| Train acc: 0.81 \t| Test acc: 0.78\n",
      "Epoch: 1200 \t| Train loss: 0.087 \t| Train acc: 0.82 \t| Test acc: 0.78\n",
      "Epoch: 1300 \t| Train loss: 0.085 \t| Train acc: 0.83 \t| Test acc: 0.79\n",
      "Epoch: 1400 \t| Train loss: 0.083 \t| Train acc: 0.84 \t| Test acc: 0.8\n",
      "Epoch: 1500 \t| Train loss: 0.081 \t| Train acc: 0.84 \t| Test acc: 0.8\n",
      "Epoch: 1600 \t| Train loss: 0.08 \t| Train acc: 0.85 \t| Test acc: 0.81\n",
      "Epoch: 1700 \t| Train loss: 0.078 \t| Train acc: 0.86 \t| Test acc: 0.81\n",
      "Epoch: 1800 \t| Train loss: 0.077 \t| Train acc: 0.86 \t| Test acc: 0.82\n",
      "Epoch: 1900 \t| Train loss: 0.075 \t| Train acc: 0.86 \t| Test acc: 0.82\n",
      "Epoch: 2000 \t| Train loss: 0.074 \t| Train acc: 0.87 \t| Test acc: 0.83\n",
      "Epoch: 2100 \t| Train loss: 0.073 \t| Train acc: 0.87 \t| Test acc: 0.83\n",
      "Epoch: 2200 \t| Train loss: 0.072 \t| Train acc: 0.88 \t| Test acc: 0.84\n",
      "Epoch: 2300 \t| Train loss: 0.07 \t| Train acc: 0.88 \t| Test acc: 0.84\n",
      "Epoch: 2400 \t| Train loss: 0.069 \t| Train acc: 0.88 \t| Test acc: 0.85\n",
      "Epoch: 2500 \t| Train loss: 0.068 \t| Train acc: 0.89 \t| Test acc: 0.85\n",
      "Epoch: 2600 \t| Train loss: 0.067 \t| Train acc: 0.89 \t| Test acc: 0.85\n",
      "Epoch: 2700 \t| Train loss: 0.066 \t| Train acc: 0.89 \t| Test acc: 0.85\n",
      "Epoch: 2800 \t| Train loss: 0.066 \t| Train acc: 0.9 \t| Test acc: 0.86\n",
      "Epoch: 2900 \t| Train loss: 0.065 \t| Train acc: 0.9 \t| Test acc: 0.86\n",
      "Epoch: 3000 \t| Train loss: 0.064 \t| Train acc: 0.9 \t| Test acc: 0.86\n",
      "Epoch: 3100 \t| Train loss: 0.063 \t| Train acc: 0.9 \t| Test acc: 0.86\n",
      "Epoch: 3200 \t| Train loss: 0.062 \t| Train acc: 0.9 \t| Test acc: 0.87\n",
      "Epoch: 3300 \t| Train loss: 0.062 \t| Train acc: 0.9 \t| Test acc: 0.87\n",
      "Epoch: 3400 \t| Train loss: 0.061 \t| Train acc: 0.91 \t| Test acc: 0.87\n",
      "Epoch: 3500 \t| Train loss: 0.06 \t| Train acc: 0.91 \t| Test acc: 0.87\n",
      "Epoch: 3600 \t| Train loss: 0.06 \t| Train acc: 0.91 \t| Test acc: 0.87\n",
      "Epoch: 3700 \t| Train loss: 0.059 \t| Train acc: 0.91 \t| Test acc: 0.87\n",
      "Epoch: 3800 \t| Train loss: 0.059 \t| Train acc: 0.91 \t| Test acc: 0.87\n",
      "Epoch: 3900 \t| Train loss: 0.058 \t| Train acc: 0.91 \t| Test acc: 0.88\n"
     ]
    }
   ],
   "source": [
    "small_model = LogisticRegression(num_features=n_features)\n",
    "optimizer_small = optim.SGD(small_model.parameters(), lr=LEARNING_RATE)\n",
    "class_weights_lim = class_weights_original[y_train_tensor_lim.long()]\n",
    "loss_function_lim=nn.BCELoss(weight=class_weights_lim)\n",
    "train_losses = []\n",
    "#test_losses  = []\n",
    "train_accs = []\n",
    "test_accs  = []\n",
    "\n",
    "for epoch in range(4000):\n",
    "    # Forward propagation (predicting train data) #a\n",
    "    train_preds_lim = small_model(X_train_tensor_lim)\n",
    "    #train_loss  = loss_function(train_preds, y_train_tensor)\n",
    "    \n",
    "    #print(torch.min(train_preds_lim), torch.max(train_preds_lim))\n",
    "    #train_loss = semantic_loss(train_preds_lim, y_train_tensor_lim, rule_lim, class_weights_lim, 0.05)\n",
    "    train_loss = loss_function_lim(train_preds_lim, y_train_tensor_lim)\n",
    "\n",
    "    # Predicting test data #b\n",
    "    with torch.no_grad():\n",
    "        test_preds = small_model(X_validation_tensor)\n",
    "        #test_loss  = loss_function(test_preds, y_test)\n",
    "\n",
    "    # Calculate accuracy #c\n",
    "    train_acc = calculate_accuracy(train_preds_lim, y_train_tensor_lim)\n",
    "    test_acc  = calculate_accuracy(test_preds, y_validation_tensor)\n",
    "\n",
    "    # Backward propagation #d\n",
    "    optimizer_small.zero_grad()\n",
    "    train_loss.backward()\n",
    "\n",
    "    # Gradient descent step #e\n",
    "    optimizer_small.step()\n",
    "\n",
    "    # Store training history #f\n",
    "    train_losses.append(train_loss.item())\n",
    "    #test_losses.append(test_loss.item())\n",
    "    train_accs.append(train_acc.item())\n",
    "    test_accs.append(test_acc.item())\n",
    "\n",
    "    # Print training data #g\n",
    "    if epoch%100==0:\n",
    "        print(f'Epoch: {epoch} \\t|' \\\n",
    "              f' Train loss: {np.round(train_loss.item(),3)} \\t|' \\\n",
    "                  #f' Test loss: {np.round(test_loss.item(),3)} \\t|' \\\n",
    "              f' Train acc: {np.round(train_acc.item(),2)} \\t|' \\\n",
    "              f' Test acc: {np.round(test_acc.item(),2)}')"
   ],
   "metadata": {
    "collapsed": false,
    "ExecuteTime": {
     "end_time": "2024-04-16T14:43:44.038099600Z",
     "start_time": "2024-04-16T14:43:17.904663700Z"
    }
   },
   "id": "6600606d9bf46e42"
  },
  {
   "cell_type": "code",
   "execution_count": null,
   "outputs": [],
   "source": [],
   "metadata": {
    "collapsed": false
   },
   "id": "a0746732193ec6e6"
  }
 ],
 "metadata": {
  "kernelspec": {
   "display_name": "Python 3 (ipykernel)",
   "language": "python",
   "name": "python3"
  },
  "language_info": {
   "codemirror_mode": {
    "name": "ipython",
    "version": 3
   },
   "file_extension": ".py",
   "mimetype": "text/x-python",
   "name": "python",
   "nbconvert_exporter": "python",
   "pygments_lexer": "ipython3",
   "version": "3.12.2"
  }
 },
 "nbformat": 4,
 "nbformat_minor": 5
}
