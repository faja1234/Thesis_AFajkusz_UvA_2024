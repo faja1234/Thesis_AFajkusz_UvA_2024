{
 "cells": [
  {
   "cell_type": "markdown",
   "source": [
    "# Loading and preparing the data"
   ],
   "metadata": {
    "collapsed": false
   },
   "id": "527cc977409778c2"
  },
  {
   "cell_type": "code",
   "execution_count": 1,
   "outputs": [],
   "source": [
    "import pandas as pd\n",
    "import numpy as np\n",
    "import torch\n",
    "import torch.nn as nn\n",
    "import torch.optim as optim\n",
    "import matplotlib.pyplot as plt\n",
    "import os\n",
    "import seaborn as sns\n",
    "from scipy import stats\n",
    "from sklearn.model_selection import train_test_split\n",
    "from sklearn.preprocessing import StandardScaler\n",
    "from sklearn.metrics import classification_report, accuracy_score, confusion_matrix\n",
    "from torch.utils.data import DataLoader\n",
    "from models.dataset import LCDataset"
   ],
   "metadata": {
    "collapsed": false,
    "ExecuteTime": {
     "end_time": "2024-05-22T14:30:45.502125800Z",
     "start_time": "2024-05-22T14:30:40.520153900Z"
    }
   },
   "id": "b50bee25fc757ef7"
  },
  {
   "cell_type": "code",
   "execution_count": 2,
   "outputs": [
    {
     "data": {
      "text/plain": "         loan_amnt        term  int_rate  installment sub_grade  \\\nid                                                                \n1075358       3000   60 months    0.1269        67.79        B5   \n1071570       5375   60 months    0.1269       121.45        B5   \n1069057      10000   36 months    0.1065       325.74        B2   \n1069742       9200   36 months    0.0603       280.01        A1   \n1069559       6000   36 months    0.1171       198.46        B3   \n\n        home_ownership  annual_inc verification_status  loan_status  \\\nid                                                                    \n1075358           RENT    80000.00     Source Verified   Fully Paid   \n1071570           RENT    15000.00            Verified  Charged Off   \n1069057           RENT   100000.00     Source Verified  Charged Off   \n1069742           RENT    77385.19        Not Verified   Fully Paid   \n1069559           RENT    76000.00        Not Verified  Charged Off   \n\n        pymnt_plan  ... acc_open_past_24mths chargeoff_within_12_mths  \\\nid                  ...                                                 \n1075358          n  ...                  5.0                      0.0   \n1071570          n  ...                  1.0                      0.0   \n1069057          n  ...                  5.0                      0.0   \n1069742          n  ...                  3.0                      0.0   \n1069559          n  ...                  3.0                      0.0   \n\n        delinq_amnt  mort_acc  pub_rec_bankruptcies  tax_liens  \\\nid                                                               \n1075358         0.0       3.0                   0.0        0.0   \n1071570         0.0       0.0                   0.0        0.0   \n1069057         0.0       2.0                   0.0        0.0   \n1069742         0.0       2.0                   0.0        0.0   \n1069559         0.0       0.0                   0.0        0.0   \n\n         total_bal_ex_mort  total_bc_limit  hardship_flag  loan_status_num  \nid                                                                          \n1075358            54644.0         17850.0              N                0  \n1071570            30612.0         21533.0              N                1  \n1069057            14358.0         17700.0              N                1  \n1069742            42247.0         15142.0              N                0  \n1069559            43192.0         10350.0              N                1  \n\n[5 rows x 45 columns]",
      "text/html": "<div>\n<style scoped>\n    .dataframe tbody tr th:only-of-type {\n        vertical-align: middle;\n    }\n\n    .dataframe tbody tr th {\n        vertical-align: top;\n    }\n\n    .dataframe thead th {\n        text-align: right;\n    }\n</style>\n<table border=\"1\" class=\"dataframe\">\n  <thead>\n    <tr style=\"text-align: right;\">\n      <th></th>\n      <th>loan_amnt</th>\n      <th>term</th>\n      <th>int_rate</th>\n      <th>installment</th>\n      <th>sub_grade</th>\n      <th>home_ownership</th>\n      <th>annual_inc</th>\n      <th>verification_status</th>\n      <th>loan_status</th>\n      <th>pymnt_plan</th>\n      <th>...</th>\n      <th>acc_open_past_24mths</th>\n      <th>chargeoff_within_12_mths</th>\n      <th>delinq_amnt</th>\n      <th>mort_acc</th>\n      <th>pub_rec_bankruptcies</th>\n      <th>tax_liens</th>\n      <th>total_bal_ex_mort</th>\n      <th>total_bc_limit</th>\n      <th>hardship_flag</th>\n      <th>loan_status_num</th>\n    </tr>\n    <tr>\n      <th>id</th>\n      <th></th>\n      <th></th>\n      <th></th>\n      <th></th>\n      <th></th>\n      <th></th>\n      <th></th>\n      <th></th>\n      <th></th>\n      <th></th>\n      <th></th>\n      <th></th>\n      <th></th>\n      <th></th>\n      <th></th>\n      <th></th>\n      <th></th>\n      <th></th>\n      <th></th>\n      <th></th>\n      <th></th>\n    </tr>\n  </thead>\n  <tbody>\n    <tr>\n      <th>1075358</th>\n      <td>3000</td>\n      <td>60 months</td>\n      <td>0.1269</td>\n      <td>67.79</td>\n      <td>B5</td>\n      <td>RENT</td>\n      <td>80000.00</td>\n      <td>Source Verified</td>\n      <td>Fully Paid</td>\n      <td>n</td>\n      <td>...</td>\n      <td>5.0</td>\n      <td>0.0</td>\n      <td>0.0</td>\n      <td>3.0</td>\n      <td>0.0</td>\n      <td>0.0</td>\n      <td>54644.0</td>\n      <td>17850.0</td>\n      <td>N</td>\n      <td>0</td>\n    </tr>\n    <tr>\n      <th>1071570</th>\n      <td>5375</td>\n      <td>60 months</td>\n      <td>0.1269</td>\n      <td>121.45</td>\n      <td>B5</td>\n      <td>RENT</td>\n      <td>15000.00</td>\n      <td>Verified</td>\n      <td>Charged Off</td>\n      <td>n</td>\n      <td>...</td>\n      <td>1.0</td>\n      <td>0.0</td>\n      <td>0.0</td>\n      <td>0.0</td>\n      <td>0.0</td>\n      <td>0.0</td>\n      <td>30612.0</td>\n      <td>21533.0</td>\n      <td>N</td>\n      <td>1</td>\n    </tr>\n    <tr>\n      <th>1069057</th>\n      <td>10000</td>\n      <td>36 months</td>\n      <td>0.1065</td>\n      <td>325.74</td>\n      <td>B2</td>\n      <td>RENT</td>\n      <td>100000.00</td>\n      <td>Source Verified</td>\n      <td>Charged Off</td>\n      <td>n</td>\n      <td>...</td>\n      <td>5.0</td>\n      <td>0.0</td>\n      <td>0.0</td>\n      <td>2.0</td>\n      <td>0.0</td>\n      <td>0.0</td>\n      <td>14358.0</td>\n      <td>17700.0</td>\n      <td>N</td>\n      <td>1</td>\n    </tr>\n    <tr>\n      <th>1069742</th>\n      <td>9200</td>\n      <td>36 months</td>\n      <td>0.0603</td>\n      <td>280.01</td>\n      <td>A1</td>\n      <td>RENT</td>\n      <td>77385.19</td>\n      <td>Not Verified</td>\n      <td>Fully Paid</td>\n      <td>n</td>\n      <td>...</td>\n      <td>3.0</td>\n      <td>0.0</td>\n      <td>0.0</td>\n      <td>2.0</td>\n      <td>0.0</td>\n      <td>0.0</td>\n      <td>42247.0</td>\n      <td>15142.0</td>\n      <td>N</td>\n      <td>0</td>\n    </tr>\n    <tr>\n      <th>1069559</th>\n      <td>6000</td>\n      <td>36 months</td>\n      <td>0.1171</td>\n      <td>198.46</td>\n      <td>B3</td>\n      <td>RENT</td>\n      <td>76000.00</td>\n      <td>Not Verified</td>\n      <td>Charged Off</td>\n      <td>n</td>\n      <td>...</td>\n      <td>3.0</td>\n      <td>0.0</td>\n      <td>0.0</td>\n      <td>0.0</td>\n      <td>0.0</td>\n      <td>0.0</td>\n      <td>43192.0</td>\n      <td>10350.0</td>\n      <td>N</td>\n      <td>1</td>\n    </tr>\n  </tbody>\n</table>\n<p>5 rows × 45 columns</p>\n</div>"
     },
     "execution_count": 2,
     "metadata": {},
     "output_type": "execute_result"
    }
   ],
   "source": [
    "data = pd.read_pickle('data/clean_lc_data.pkl')\n",
    "data.head()"
   ],
   "metadata": {
    "collapsed": false,
    "ExecuteTime": {
     "end_time": "2024-05-22T14:30:45.668957Z",
     "start_time": "2024-05-22T14:30:45.502125800Z"
    }
   },
   "id": "384caf4d68f9905a"
  },
  {
   "cell_type": "code",
   "execution_count": 3,
   "outputs": [
    {
     "name": "stdout",
     "output_type": "stream",
     "text": [
      "<class 'pandas.core.frame.DataFrame'>\n",
      "Int64Index: 75856 entries, 1075358 to 129834559\n",
      "Data columns (total 45 columns):\n",
      " #   Column                      Non-Null Count  Dtype  \n",
      "---  ------                      --------------  -----  \n",
      " 0   loan_amnt                   75856 non-null  int64  \n",
      " 1   term                        75856 non-null  object \n",
      " 2   int_rate                    75856 non-null  float64\n",
      " 3   installment                 75856 non-null  float64\n",
      " 4   sub_grade                   75856 non-null  object \n",
      " 5   home_ownership              75856 non-null  object \n",
      " 6   annual_inc                  75856 non-null  float64\n",
      " 7   verification_status         75856 non-null  object \n",
      " 8   loan_status                 75856 non-null  object \n",
      " 9   pymnt_plan                  75856 non-null  object \n",
      " 10  purpose                     75856 non-null  object \n",
      " 11  zip_code                    75856 non-null  object \n",
      " 12  addr_state                  75856 non-null  object \n",
      " 13  dti                         75856 non-null  float64\n",
      " 14  delinq_2yrs                 75856 non-null  float64\n",
      " 15  fico_range_low              75856 non-null  int64  \n",
      " 16  inq_last_6mths              75856 non-null  float64\n",
      " 17  open_acc                    75856 non-null  float64\n",
      " 18  pub_rec                     75856 non-null  float64\n",
      " 19  revol_bal                   75856 non-null  int64  \n",
      " 20  revol_util                  75856 non-null  object \n",
      " 21  total_acc                   75856 non-null  float64\n",
      " 22  initial_list_status         75856 non-null  object \n",
      " 23  out_prncp                   75856 non-null  float64\n",
      " 24  out_prncp_inv               75856 non-null  float64\n",
      " 25  total_pymnt                 75856 non-null  float64\n",
      " 26  total_rec_prncp             75856 non-null  float64\n",
      " 27  total_rec_int               75856 non-null  float64\n",
      " 28  total_rec_late_fee          75856 non-null  float64\n",
      " 29  last_pymnt_amnt             75856 non-null  float64\n",
      " 30  last_fico_range_low         75856 non-null  int64  \n",
      " 31  collections_12_mths_ex_med  75856 non-null  float64\n",
      " 32  policy_code                 75856 non-null  int64  \n",
      " 33  application_type            75856 non-null  object \n",
      " 34  acc_now_delinq              75856 non-null  float64\n",
      " 35  acc_open_past_24mths        75856 non-null  float64\n",
      " 36  chargeoff_within_12_mths    75856 non-null  float64\n",
      " 37  delinq_amnt                 75856 non-null  float64\n",
      " 38  mort_acc                    75856 non-null  float64\n",
      " 39  pub_rec_bankruptcies        75856 non-null  float64\n",
      " 40  tax_liens                   75856 non-null  float64\n",
      " 41  total_bal_ex_mort           75856 non-null  float64\n",
      " 42  total_bc_limit              75856 non-null  float64\n",
      " 43  hardship_flag               75856 non-null  object \n",
      " 44  loan_status_num             75856 non-null  int64  \n",
      "dtypes: float64(26), int64(6), object(13)\n",
      "memory usage: 26.6+ MB\n"
     ]
    }
   ],
   "source": [
    "data.info()"
   ],
   "metadata": {
    "collapsed": false,
    "ExecuteTime": {
     "end_time": "2024-05-22T14:30:48.675515800Z",
     "start_time": "2024-05-22T14:30:48.433892500Z"
    }
   },
   "id": "1b731c5e0f815235"
  },
  {
   "cell_type": "code",
   "execution_count": 4,
   "outputs": [
    {
     "data": {
      "text/plain": "          loan_amnt      int_rate   installment    annual_inc           dti  \\\ncount  75856.000000  75856.000000  75856.000000  7.585600e+04  75856.000000   \nmean   14076.631381      0.137041    429.721991  7.380120e+04     17.659481   \nstd     8743.619030      0.049015    261.464301  6.574256e+04     14.968522   \nmin     1000.000000      0.053100      7.610000  1.150000e+02      0.000000   \n25%     7400.000000      0.101600    240.040000  4.500000e+04     11.010000   \n50%    12000.000000      0.131100    370.220000  6.240000e+04     16.730000   \n75%    20000.000000      0.162900    563.820000  8.900000e+04     22.940000   \nmax    40000.000000      0.309900   1719.830000  7.200000e+06    999.000000   \n\n        delinq_2yrs  fico_range_low  inq_last_6mths      open_acc  \\\ncount  75856.000000    75856.000000    75856.000000  75856.000000   \nmean       0.254139      700.742130        0.698850     10.991787   \nstd        0.766175       33.455595        0.963691      5.127483   \nmin        0.000000      660.000000        0.000000      1.000000   \n25%        0.000000      675.000000        0.000000      7.000000   \n50%        0.000000      695.000000        0.000000     10.000000   \n75%        0.000000      720.000000        1.000000     14.000000   \nmax       26.000000      845.000000        8.000000     55.000000   \n\n            pub_rec  ...  acc_now_delinq  acc_open_past_24mths  \\\ncount  75856.000000  ...    75856.000000          75856.000000   \nmean       0.135981  ...        0.002531              4.248352   \nstd        0.415289  ...        0.055484              2.883259   \nmin        0.000000  ...        0.000000              0.000000   \n25%        0.000000  ...        0.000000              2.000000   \n50%        0.000000  ...        0.000000              4.000000   \n75%        0.000000  ...        0.000000              6.000000   \nmax        9.000000  ...        5.000000             46.000000   \n\n       chargeoff_within_12_mths   delinq_amnt      mort_acc  \\\ncount              75856.000000  75856.000000  75856.000000   \nmean                   0.006605      8.525113      1.592122   \nstd                    0.096589    484.235007      1.919198   \nmin                    0.000000      0.000000      0.000000   \n25%                    0.000000      0.000000      0.000000   \n50%                    0.000000      0.000000      1.000000   \n75%                    0.000000      0.000000      2.000000   \nmax                    8.000000  65000.000000     31.000000   \n\n       pub_rec_bankruptcies     tax_liens  total_bal_ex_mort  total_bc_limit  \\\ncount          75856.000000  75856.000000       7.585600e+04    75856.000000   \nmean               0.106808      0.022754       4.595725e+04    21556.653910   \nstd                0.317998      0.227927       4.396178e+04    20577.243366   \nmin                0.000000      0.000000       0.000000e+00        0.000000   \n25%                0.000000      0.000000       1.990300e+04     8300.000000   \n50%                0.000000      0.000000       3.474300e+04    15500.000000   \n75%                0.000000      0.000000       5.715925e+04    27941.750000   \nmax                5.000000      9.000000       1.276247e+06   367300.000000   \n\n       loan_status_num  \ncount     75856.000000  \nmean          0.194078  \nstd           0.395492  \nmin           0.000000  \n25%           0.000000  \n50%           0.000000  \n75%           0.000000  \nmax           1.000000  \n\n[8 rows x 32 columns]",
      "text/html": "<div>\n<style scoped>\n    .dataframe tbody tr th:only-of-type {\n        vertical-align: middle;\n    }\n\n    .dataframe tbody tr th {\n        vertical-align: top;\n    }\n\n    .dataframe thead th {\n        text-align: right;\n    }\n</style>\n<table border=\"1\" class=\"dataframe\">\n  <thead>\n    <tr style=\"text-align: right;\">\n      <th></th>\n      <th>loan_amnt</th>\n      <th>int_rate</th>\n      <th>installment</th>\n      <th>annual_inc</th>\n      <th>dti</th>\n      <th>delinq_2yrs</th>\n      <th>fico_range_low</th>\n      <th>inq_last_6mths</th>\n      <th>open_acc</th>\n      <th>pub_rec</th>\n      <th>...</th>\n      <th>acc_now_delinq</th>\n      <th>acc_open_past_24mths</th>\n      <th>chargeoff_within_12_mths</th>\n      <th>delinq_amnt</th>\n      <th>mort_acc</th>\n      <th>pub_rec_bankruptcies</th>\n      <th>tax_liens</th>\n      <th>total_bal_ex_mort</th>\n      <th>total_bc_limit</th>\n      <th>loan_status_num</th>\n    </tr>\n  </thead>\n  <tbody>\n    <tr>\n      <th>count</th>\n      <td>75856.000000</td>\n      <td>75856.000000</td>\n      <td>75856.000000</td>\n      <td>7.585600e+04</td>\n      <td>75856.000000</td>\n      <td>75856.000000</td>\n      <td>75856.000000</td>\n      <td>75856.000000</td>\n      <td>75856.000000</td>\n      <td>75856.000000</td>\n      <td>...</td>\n      <td>75856.000000</td>\n      <td>75856.000000</td>\n      <td>75856.000000</td>\n      <td>75856.000000</td>\n      <td>75856.000000</td>\n      <td>75856.000000</td>\n      <td>75856.000000</td>\n      <td>7.585600e+04</td>\n      <td>75856.000000</td>\n      <td>75856.000000</td>\n    </tr>\n    <tr>\n      <th>mean</th>\n      <td>14076.631381</td>\n      <td>0.137041</td>\n      <td>429.721991</td>\n      <td>7.380120e+04</td>\n      <td>17.659481</td>\n      <td>0.254139</td>\n      <td>700.742130</td>\n      <td>0.698850</td>\n      <td>10.991787</td>\n      <td>0.135981</td>\n      <td>...</td>\n      <td>0.002531</td>\n      <td>4.248352</td>\n      <td>0.006605</td>\n      <td>8.525113</td>\n      <td>1.592122</td>\n      <td>0.106808</td>\n      <td>0.022754</td>\n      <td>4.595725e+04</td>\n      <td>21556.653910</td>\n      <td>0.194078</td>\n    </tr>\n    <tr>\n      <th>std</th>\n      <td>8743.619030</td>\n      <td>0.049015</td>\n      <td>261.464301</td>\n      <td>6.574256e+04</td>\n      <td>14.968522</td>\n      <td>0.766175</td>\n      <td>33.455595</td>\n      <td>0.963691</td>\n      <td>5.127483</td>\n      <td>0.415289</td>\n      <td>...</td>\n      <td>0.055484</td>\n      <td>2.883259</td>\n      <td>0.096589</td>\n      <td>484.235007</td>\n      <td>1.919198</td>\n      <td>0.317998</td>\n      <td>0.227927</td>\n      <td>4.396178e+04</td>\n      <td>20577.243366</td>\n      <td>0.395492</td>\n    </tr>\n    <tr>\n      <th>min</th>\n      <td>1000.000000</td>\n      <td>0.053100</td>\n      <td>7.610000</td>\n      <td>1.150000e+02</td>\n      <td>0.000000</td>\n      <td>0.000000</td>\n      <td>660.000000</td>\n      <td>0.000000</td>\n      <td>1.000000</td>\n      <td>0.000000</td>\n      <td>...</td>\n      <td>0.000000</td>\n      <td>0.000000</td>\n      <td>0.000000</td>\n      <td>0.000000</td>\n      <td>0.000000</td>\n      <td>0.000000</td>\n      <td>0.000000</td>\n      <td>0.000000e+00</td>\n      <td>0.000000</td>\n      <td>0.000000</td>\n    </tr>\n    <tr>\n      <th>25%</th>\n      <td>7400.000000</td>\n      <td>0.101600</td>\n      <td>240.040000</td>\n      <td>4.500000e+04</td>\n      <td>11.010000</td>\n      <td>0.000000</td>\n      <td>675.000000</td>\n      <td>0.000000</td>\n      <td>7.000000</td>\n      <td>0.000000</td>\n      <td>...</td>\n      <td>0.000000</td>\n      <td>2.000000</td>\n      <td>0.000000</td>\n      <td>0.000000</td>\n      <td>0.000000</td>\n      <td>0.000000</td>\n      <td>0.000000</td>\n      <td>1.990300e+04</td>\n      <td>8300.000000</td>\n      <td>0.000000</td>\n    </tr>\n    <tr>\n      <th>50%</th>\n      <td>12000.000000</td>\n      <td>0.131100</td>\n      <td>370.220000</td>\n      <td>6.240000e+04</td>\n      <td>16.730000</td>\n      <td>0.000000</td>\n      <td>695.000000</td>\n      <td>0.000000</td>\n      <td>10.000000</td>\n      <td>0.000000</td>\n      <td>...</td>\n      <td>0.000000</td>\n      <td>4.000000</td>\n      <td>0.000000</td>\n      <td>0.000000</td>\n      <td>1.000000</td>\n      <td>0.000000</td>\n      <td>0.000000</td>\n      <td>3.474300e+04</td>\n      <td>15500.000000</td>\n      <td>0.000000</td>\n    </tr>\n    <tr>\n      <th>75%</th>\n      <td>20000.000000</td>\n      <td>0.162900</td>\n      <td>563.820000</td>\n      <td>8.900000e+04</td>\n      <td>22.940000</td>\n      <td>0.000000</td>\n      <td>720.000000</td>\n      <td>1.000000</td>\n      <td>14.000000</td>\n      <td>0.000000</td>\n      <td>...</td>\n      <td>0.000000</td>\n      <td>6.000000</td>\n      <td>0.000000</td>\n      <td>0.000000</td>\n      <td>2.000000</td>\n      <td>0.000000</td>\n      <td>0.000000</td>\n      <td>5.715925e+04</td>\n      <td>27941.750000</td>\n      <td>0.000000</td>\n    </tr>\n    <tr>\n      <th>max</th>\n      <td>40000.000000</td>\n      <td>0.309900</td>\n      <td>1719.830000</td>\n      <td>7.200000e+06</td>\n      <td>999.000000</td>\n      <td>26.000000</td>\n      <td>845.000000</td>\n      <td>8.000000</td>\n      <td>55.000000</td>\n      <td>9.000000</td>\n      <td>...</td>\n      <td>5.000000</td>\n      <td>46.000000</td>\n      <td>8.000000</td>\n      <td>65000.000000</td>\n      <td>31.000000</td>\n      <td>5.000000</td>\n      <td>9.000000</td>\n      <td>1.276247e+06</td>\n      <td>367300.000000</td>\n      <td>1.000000</td>\n    </tr>\n  </tbody>\n</table>\n<p>8 rows × 32 columns</p>\n</div>"
     },
     "execution_count": 4,
     "metadata": {},
     "output_type": "execute_result"
    }
   ],
   "source": [
    "data.describe()"
   ],
   "metadata": {
    "collapsed": false,
    "ExecuteTime": {
     "end_time": "2024-05-22T14:30:49.686404900Z",
     "start_time": "2024-05-22T14:30:49.482166600Z"
    }
   },
   "id": "c43df6850c77da83"
  },
  {
   "cell_type": "code",
   "execution_count": 5,
   "outputs": [],
   "source": [
    "data.drop('loan_status', axis=1, inplace=True)"
   ],
   "metadata": {
    "collapsed": false,
    "ExecuteTime": {
     "end_time": "2024-05-22T14:30:50.531790300Z",
     "start_time": "2024-05-22T14:30:50.390218100Z"
    }
   },
   "id": "23c6186f1fc9a0e5"
  },
  {
   "cell_type": "markdown",
   "source": [
    "For the machine learning algorithms to be able to work on the data, the categorical columns have to be dealt with."
   ],
   "metadata": {
    "collapsed": false
   },
   "id": "f4be1c4cccb6edde"
  },
  {
   "cell_type": "code",
   "execution_count": 6,
   "outputs": [
    {
     "name": "stdout",
     "output_type": "stream",
     "text": [
      "['term', 'sub_grade', 'home_ownership', 'verification_status', 'pymnt_plan', 'purpose', 'zip_code', 'addr_state', 'revol_util', 'initial_list_status', 'application_type', 'hardship_flag']\n"
     ]
    }
   ],
   "source": [
    "print([column for column in data.columns if data[column].dtype == object])"
   ],
   "metadata": {
    "collapsed": false,
    "ExecuteTime": {
     "end_time": "2024-05-22T14:30:51.935632900Z",
     "start_time": "2024-05-22T14:30:51.841657200Z"
    }
   },
   "id": "e62fec2780300e85"
  },
  {
   "cell_type": "code",
   "execution_count": 7,
   "outputs": [],
   "source": [
    "data['term']=data.term.map({' 36 months': 36, ' 60 months': 60})"
   ],
   "metadata": {
    "collapsed": false,
    "ExecuteTime": {
     "end_time": "2024-05-22T14:30:52.590449300Z",
     "start_time": "2024-05-22T14:30:52.511769100Z"
    }
   },
   "id": "9cbeb7e9b9b00fe6"
  },
  {
   "cell_type": "code",
   "execution_count": 8,
   "outputs": [],
   "source": [
    "data['revol_util']=data['revol_util'].str[:-1].astype(float)/100"
   ],
   "metadata": {
    "collapsed": false,
    "ExecuteTime": {
     "end_time": "2024-05-22T14:30:53.468724Z",
     "start_time": "2024-05-22T14:30:53.371761600Z"
    }
   },
   "id": "85498e73536142f5"
  },
  {
   "cell_type": "code",
   "execution_count": 9,
   "outputs": [
    {
     "name": "stderr",
     "output_type": "stream",
     "text": [
      "C:\\Users\\Andras\\AppData\\Local\\Temp\\ipykernel_20700\\838872069.py:1: FutureWarning: The default value of numeric_only in DataFrame.corr is deprecated. In a future version, it will default to False. Select only valid columns or specify the value of numeric_only to silence this warning.\n",
      "  data.corr()['loan_status_num'].drop('loan_status_num').sort_values()\n"
     ]
    },
    {
     "data": {
      "text/plain": "last_fico_range_low          -0.517265\ntotal_rec_prncp              -0.407134\nlast_pymnt_amnt              -0.327410\ntotal_pymnt                  -0.277484\nfico_range_low               -0.113195\nmort_acc                     -0.069442\ntotal_bc_limit               -0.047498\nannual_inc                   -0.037358\ntotal_acc                    -0.026645\nrevol_bal                    -0.012472\nacc_now_delinq               -0.001960\ndelinq_amnt                  -0.000982\ntotal_bal_ex_mort             0.000208\nchargeoff_within_12_mths      0.007512\ntax_liens                     0.016675\ncollections_12_mths_ex_med    0.019469\nopen_acc                      0.019730\ndelinq_2yrs                   0.020385\npub_rec_bankruptcies          0.030040\npub_rec                       0.034440\ntotal_rec_int                 0.038422\nrevol_util                    0.039651\ninq_last_6mths                0.047440\ndti                           0.050001\ninstallment                   0.067891\nloan_amnt                     0.080875\nacc_open_past_24mths          0.087271\nout_prncp_inv                 0.133881\nout_prncp                     0.133886\nterm                          0.156506\ntotal_rec_late_fee            0.160796\nint_rate                      0.222196\npolicy_code                        NaN\nName: loan_status_num, dtype: float64"
     },
     "execution_count": 9,
     "metadata": {},
     "output_type": "execute_result"
    }
   ],
   "source": [
    "data.corr()['loan_status_num'].drop('loan_status_num').sort_values()"
   ],
   "metadata": {
    "collapsed": false,
    "ExecuteTime": {
     "end_time": "2024-05-22T14:30:54.163608400Z",
     "start_time": "2024-05-22T14:30:53.753746300Z"
    }
   },
   "id": "169fb7e17d681174"
  },
  {
   "cell_type": "code",
   "execution_count": 10,
   "outputs": [],
   "source": [
    "dummies = ['sub_grade', 'home_ownership', 'verification_status', 'pymnt_plan', 'purpose', 'zip_code', 'addr_state', 'initial_list_status', 'application_type', 'hardship_flag']\n",
    "data = pd.get_dummies(data, columns=dummies, drop_first=True)"
   ],
   "metadata": {
    "collapsed": false,
    "ExecuteTime": {
     "end_time": "2024-05-22T14:30:56.916208600Z",
     "start_time": "2024-05-22T14:30:55.188684300Z"
    }
   },
   "id": "23d3e12cafde8eca"
  },
  {
   "cell_type": "code",
   "execution_count": 11,
   "outputs": [
    {
     "data": {
      "text/plain": "         loan_amnt  term  int_rate  installment  annual_inc    dti  \\\nid                                                                   \n1075358       3000    60    0.1269        67.79    80000.00  17.94   \n1071570       5375    60    0.1269       121.45    15000.00  18.08   \n1069057      10000    36    0.1065       325.74   100000.00   7.06   \n1069742       9200    36    0.0603       280.01    77385.19   9.86   \n1069559       6000    36    0.1171       198.46    76000.00   2.40   \n\n         delinq_2yrs  fico_range_low  inq_last_6mths  open_acc  ...  \\\nid                                                              ...   \n1075358          0.0             695             0.0      15.0  ...   \n1071570          0.0             725             0.0       2.0  ...   \n1069057          0.0             720             2.0      14.0  ...   \n1069742          0.0             755             0.0       8.0  ...   \n1069559          0.0             690             1.0       7.0  ...   \n\n         addr_state_UT  addr_state_VA  addr_state_VT  addr_state_WA  \\\nid                                                                    \n1075358              0              0              0              0   \n1071570              0              0              0              0   \n1069057              0              0              0              0   \n1069742              0              0              0              0   \n1069559              0              0              0              0   \n\n         addr_state_WI  addr_state_WV  addr_state_WY  initial_list_status_w  \\\nid                                                                            \n1075358              0              0              0                      0   \n1071570              0              0              0                      0   \n1069057              0              0              0                      0   \n1069742              0              0              0                      0   \n1069559              0              0              0                      0   \n\n         application_type_Joint App  hardship_flag_Y  \nid                                                    \n1075358                           0                0  \n1071570                           0                0  \n1069057                           0                0  \n1069742                           0                0  \n1069559                           0                0  \n\n[5 rows x 1008 columns]",
      "text/html": "<div>\n<style scoped>\n    .dataframe tbody tr th:only-of-type {\n        vertical-align: middle;\n    }\n\n    .dataframe tbody tr th {\n        vertical-align: top;\n    }\n\n    .dataframe thead th {\n        text-align: right;\n    }\n</style>\n<table border=\"1\" class=\"dataframe\">\n  <thead>\n    <tr style=\"text-align: right;\">\n      <th></th>\n      <th>loan_amnt</th>\n      <th>term</th>\n      <th>int_rate</th>\n      <th>installment</th>\n      <th>annual_inc</th>\n      <th>dti</th>\n      <th>delinq_2yrs</th>\n      <th>fico_range_low</th>\n      <th>inq_last_6mths</th>\n      <th>open_acc</th>\n      <th>...</th>\n      <th>addr_state_UT</th>\n      <th>addr_state_VA</th>\n      <th>addr_state_VT</th>\n      <th>addr_state_WA</th>\n      <th>addr_state_WI</th>\n      <th>addr_state_WV</th>\n      <th>addr_state_WY</th>\n      <th>initial_list_status_w</th>\n      <th>application_type_Joint App</th>\n      <th>hardship_flag_Y</th>\n    </tr>\n    <tr>\n      <th>id</th>\n      <th></th>\n      <th></th>\n      <th></th>\n      <th></th>\n      <th></th>\n      <th></th>\n      <th></th>\n      <th></th>\n      <th></th>\n      <th></th>\n      <th></th>\n      <th></th>\n      <th></th>\n      <th></th>\n      <th></th>\n      <th></th>\n      <th></th>\n      <th></th>\n      <th></th>\n      <th></th>\n      <th></th>\n    </tr>\n  </thead>\n  <tbody>\n    <tr>\n      <th>1075358</th>\n      <td>3000</td>\n      <td>60</td>\n      <td>0.1269</td>\n      <td>67.79</td>\n      <td>80000.00</td>\n      <td>17.94</td>\n      <td>0.0</td>\n      <td>695</td>\n      <td>0.0</td>\n      <td>15.0</td>\n      <td>...</td>\n      <td>0</td>\n      <td>0</td>\n      <td>0</td>\n      <td>0</td>\n      <td>0</td>\n      <td>0</td>\n      <td>0</td>\n      <td>0</td>\n      <td>0</td>\n      <td>0</td>\n    </tr>\n    <tr>\n      <th>1071570</th>\n      <td>5375</td>\n      <td>60</td>\n      <td>0.1269</td>\n      <td>121.45</td>\n      <td>15000.00</td>\n      <td>18.08</td>\n      <td>0.0</td>\n      <td>725</td>\n      <td>0.0</td>\n      <td>2.0</td>\n      <td>...</td>\n      <td>0</td>\n      <td>0</td>\n      <td>0</td>\n      <td>0</td>\n      <td>0</td>\n      <td>0</td>\n      <td>0</td>\n      <td>0</td>\n      <td>0</td>\n      <td>0</td>\n    </tr>\n    <tr>\n      <th>1069057</th>\n      <td>10000</td>\n      <td>36</td>\n      <td>0.1065</td>\n      <td>325.74</td>\n      <td>100000.00</td>\n      <td>7.06</td>\n      <td>0.0</td>\n      <td>720</td>\n      <td>2.0</td>\n      <td>14.0</td>\n      <td>...</td>\n      <td>0</td>\n      <td>0</td>\n      <td>0</td>\n      <td>0</td>\n      <td>0</td>\n      <td>0</td>\n      <td>0</td>\n      <td>0</td>\n      <td>0</td>\n      <td>0</td>\n    </tr>\n    <tr>\n      <th>1069742</th>\n      <td>9200</td>\n      <td>36</td>\n      <td>0.0603</td>\n      <td>280.01</td>\n      <td>77385.19</td>\n      <td>9.86</td>\n      <td>0.0</td>\n      <td>755</td>\n      <td>0.0</td>\n      <td>8.0</td>\n      <td>...</td>\n      <td>0</td>\n      <td>0</td>\n      <td>0</td>\n      <td>0</td>\n      <td>0</td>\n      <td>0</td>\n      <td>0</td>\n      <td>0</td>\n      <td>0</td>\n      <td>0</td>\n    </tr>\n    <tr>\n      <th>1069559</th>\n      <td>6000</td>\n      <td>36</td>\n      <td>0.1171</td>\n      <td>198.46</td>\n      <td>76000.00</td>\n      <td>2.40</td>\n      <td>0.0</td>\n      <td>690</td>\n      <td>1.0</td>\n      <td>7.0</td>\n      <td>...</td>\n      <td>0</td>\n      <td>0</td>\n      <td>0</td>\n      <td>0</td>\n      <td>0</td>\n      <td>0</td>\n      <td>0</td>\n      <td>0</td>\n      <td>0</td>\n      <td>0</td>\n    </tr>\n  </tbody>\n</table>\n<p>5 rows × 1008 columns</p>\n</div>"
     },
     "execution_count": 11,
     "metadata": {},
     "output_type": "execute_result"
    }
   ],
   "source": [
    "data.head()"
   ],
   "metadata": {
    "collapsed": false,
    "ExecuteTime": {
     "end_time": "2024-05-22T14:30:58.207628Z",
     "start_time": "2024-05-22T14:30:58.097258400Z"
    }
   },
   "id": "5040d0a63cccfc9b"
  },
  {
   "cell_type": "markdown",
   "source": [
    "# Preparing the data for the models"
   ],
   "metadata": {
    "collapsed": false
   },
   "id": "97af3002e65cbdc6"
  },
  {
   "cell_type": "code",
   "execution_count": 12,
   "outputs": [],
   "source": [
    "X = data.drop(columns=['loan_status_num','last_pymnt_amnt', 'total_rec_prncp', 'total_pymnt', 'total_rec_late_fee', 'out_prncp', 'out_prncp_inv'])\n",
    "y = data['loan_status_num']\n",
    "X_alt = data.drop(columns=['loan_status_num', 'total_pymnt', 'total_rec_late_fee', 'out_prncp', 'out_prncp_inv'])\n",
    "X_alt_train, X_alt_temp, y_alt_train, y_alt_temp = train_test_split(X_alt, y, test_size=0.3, random_state=42)\n",
    "X_train_extra, X_test_extra, y_train_extra, y_test_extra = train_test_split(X, y, test_size=0.3, random_state=42)\n",
    "scaler = StandardScaler()\n",
    "#X = torch.tensor(X.values, dtype=torch.float32)\n",
    "#y = torch.tensor(y.values, dtype=torch.float32).reshape(len(y),1)"
   ],
   "metadata": {
    "collapsed": false,
    "ExecuteTime": {
     "end_time": "2024-05-22T14:31:07.786790200Z",
     "start_time": "2024-05-22T14:31:03.639906100Z"
    }
   },
   "id": "52028d8a7174f503"
  },
  {
   "cell_type": "code",
   "execution_count": 13,
   "outputs": [],
   "source": [
    "# Split data into training (70%) and temp (30%)\n",
    "X_train, X_temp, y_train, y_temp = train_test_split(X, y, test_size=0.3, random_state=42)\n",
    "\n",
    "# Split temp into validation (10%) and temp2 (20%)\n",
    "X_validation, X_temp2, y_validation, y_temp2 = train_test_split(X_temp, y_temp, test_size=0.67, random_state=42)\n",
    "\n",
    "# Split temp2 into calibration (10%) and test (10%)\n",
    "X_calibration, X_test, y_calibration, y_test = train_test_split(X_temp2, y_temp2, test_size=0.5, random_state=42)\n",
    "\n",
    "X_train_scaled = scaler.fit_transform(X_train)\n",
    "X_validation_scaled = scaler.transform(X_validation)\n",
    "X_test_scaled = scaler.transform(X_test)\n",
    "X_calibration_scaled = scaler.transform(X_calibration)\n",
    "\n",
    "X_train_tensor = torch.tensor(X_train_scaled, dtype=torch.float32)\n",
    "X_validation_tensor = torch.tensor(X_validation_scaled, dtype=torch.float32)\n",
    "X_test_tensor = torch.tensor(X_test_scaled, dtype=torch.float32)\n",
    "X_calibration_tensor = torch.tensor(X_calibration_scaled, dtype=torch.float32)\n",
    "\n",
    "y_train_tensor = torch.tensor(y_train.values, dtype=torch.float32).reshape(len(y_train),1)\n",
    "y_validation_tensor = torch.tensor(y_validation.values, dtype=torch.float32).reshape(len(y_validation),1)\n",
    "y_test_tensor = torch.tensor(y_test.values, dtype=torch.float32).reshape(len(y_test),1)\n",
    "y_calibration_tensor = torch.tensor(y_calibration.values, dtype=torch.float32).reshape(len(y_calibration),1)"
   ],
   "metadata": {
    "collapsed": false,
    "ExecuteTime": {
     "end_time": "2024-05-22T14:34:08.632961700Z",
     "start_time": "2024-05-22T14:34:04.021589200Z"
    }
   },
   "id": "1e1bdbd92a6fe238"
  },
  {
   "cell_type": "code",
   "execution_count": 14,
   "outputs": [
    {
     "name": "stdout",
     "output_type": "stream",
     "text": [
      "torch.Size([53099, 1001])\n",
      "torch.Size([53099, 1])\n",
      "torch.Size([7509, 1001])\n",
      "torch.Size([7509, 1])\n",
      "torch.Size([7624, 1001])\n",
      "torch.Size([7624, 1])\n"
     ]
    }
   ],
   "source": [
    "print(X_train_tensor.shape)\n",
    "print(y_train_tensor.shape)\n",
    "print(X_validation_tensor.shape)\n",
    "print(y_validation_tensor.shape)\n",
    "print(X_test_tensor.shape)\n",
    "print(y_test_tensor.shape)"
   ],
   "metadata": {
    "collapsed": false,
    "ExecuteTime": {
     "end_time": "2024-05-22T14:34:08.648700800Z",
     "start_time": "2024-05-22T14:34:08.632961700Z"
    }
   },
   "id": "6810af743d31635d"
  },
  {
   "cell_type": "code",
   "execution_count": 17,
   "outputs": [
    {
     "name": "stdout",
     "output_type": "stream",
     "text": [
      "|--- last_fico_range_low <= 652.50\n",
      "|   |--- last_fico_range_low <= 602.50\n",
      "|   |   |--- initial_list_status_w <= 0.50\n",
      "|   |   |   |--- class: 1\n",
      "|   |   |--- initial_list_status_w >  0.50\n",
      "|   |   |   |--- class: 1\n",
      "|   |--- last_fico_range_low >  602.50\n",
      "|   |   |--- term <= 48.00\n",
      "|   |   |   |--- class: 1\n",
      "|   |   |--- term >  48.00\n",
      "|   |   |   |--- class: 1\n",
      "|--- last_fico_range_low >  652.50\n",
      "|   |--- last_fico_range_low <= 682.50\n",
      "|   |   |--- term <= 48.00\n",
      "|   |   |   |--- class: 0\n",
      "|   |   |--- term >  48.00\n",
      "|   |   |   |--- class: 0\n",
      "|   |--- last_fico_range_low >  682.50\n",
      "|   |   |--- last_fico_range_low <= 727.50\n",
      "|   |   |   |--- class: 0\n",
      "|   |   |--- last_fico_range_low >  727.50\n",
      "|   |   |   |--- class: 0\n",
      "\n",
      "Classification Report:\n",
      "               precision    recall  f1-score   support\n",
      "\n",
      "           0       0.97      0.81      0.88     18264\n",
      "           1       0.54      0.88      0.67      4493\n",
      "\n",
      "    accuracy                           0.83     22757\n",
      "   macro avg       0.75      0.85      0.77     22757\n",
      "weighted avg       0.88      0.83      0.84     22757\n"
     ]
    }
   ],
   "source": [
    "from sklearn.tree import DecisionTreeClassifier, export_text\n",
    "# Create an instance of DecisionTreeClassifier\n",
    "dt_model = DecisionTreeClassifier(max_depth=3, class_weight='balanced')\n",
    "# Fit the model using X_train and y_train\n",
    "dt_model.fit(X_train_extra, y_train_extra)\n",
    "# Get the rules of the decision tree\n",
    "tree_rules = export_text(dt_model, feature_names=list(X_train_extra.columns))\n",
    "print(tree_rules)\n",
    "# Use the trained model to make predictions\n",
    "predictions_extra = dt_model.predict(X_test_extra)\n",
    "\n",
    "class_report = classification_report(y_test_extra, predictions_extra)\n",
    "print(\"Classification Report:\\n\", class_report)\n"
   ],
   "metadata": {
    "collapsed": false,
    "ExecuteTime": {
     "end_time": "2024-05-22T14:37:26.275132200Z",
     "start_time": "2024-05-22T14:37:22.726332600Z"
    }
   },
   "id": "fd5517822fb05edc"
  },
  {
   "cell_type": "markdown",
   "source": [
    "As there is a significant class imbalance in the dataset, the weights have to be calculated for the classification."
   ],
   "metadata": {
    "collapsed": false
   },
   "id": "800e8a06bb450df1"
  },
  {
   "cell_type": "code",
   "execution_count": 18,
   "outputs": [],
   "source": [
    "classlabels = torch.tensor(data['loan_status_num'].values, dtype=torch.long)\n",
    "class_counts = torch.bincount(classlabels)\n",
    "\n",
    "# Compute inverse class frequencies\n",
    "class_weights_original = 1.0 / class_counts.float()\n",
    "\n",
    "# Normalize class weights\n",
    "class_weights_original /= class_weights_original.sum()\n",
    "class_weights = class_weights_original[y_train_tensor.long()]\n"
   ],
   "metadata": {
    "collapsed": false,
    "ExecuteTime": {
     "end_time": "2024-05-22T14:38:50.721983400Z",
     "start_time": "2024-05-22T14:38:50.674675100Z"
    }
   },
   "id": "5efad8b730cadbc2"
  },
  {
   "cell_type": "markdown",
   "source": [
    "Preparing evaluation functions to see the models' results."
   ],
   "metadata": {
    "collapsed": false
   },
   "id": "dd17a2355589aa92"
  },
  {
   "cell_type": "code",
   "execution_count": 19,
   "outputs": [],
   "source": [
    "def evaluate_nn(true, pred, train=True):\n",
    "    if train:\n",
    "        clf_report = pd.DataFrame(classification_report(true, pred, output_dict=True))\n",
    "        print(\"Train Result:\\n================================================\")\n",
    "        print(f\"Accuracy Score: {accuracy_score(true, pred) * 100:.2f}%\")\n",
    "        print(\"_______________________________________________\")\n",
    "        print(f\"CLASSIFICATION REPORT:\\n{clf_report}\")\n",
    "        print(\"_______________________________________________\")\n",
    "        print(f\"Confusion Matrix: \\n {confusion_matrix(true, pred)}\\n\")\n",
    "\n",
    "    elif train==False:\n",
    "        clf_report = pd.DataFrame(classification_report(true, pred, output_dict=True))\n",
    "        print(\"Test Result:\\n================================================\")\n",
    "        print(f\"Accuracy Score: {accuracy_score(true, pred) * 100:.2f}%\")\n",
    "        print(\"_______________________________________________\")\n",
    "        print(f\"CLASSIFICATION REPORT:\\n{clf_report}\")\n",
    "        print(\"_______________________________________________\")\n",
    "        print(f\"Confusion Matrix: \\n {confusion_matrix(true, pred)}\\n\")\n",
    "\n",
    "def plot_learning_evolution(r):\n",
    "    plt.figure(figsize=(12, 8))\n",
    "\n",
    "    plt.subplot(2, 2, 1)\n",
    "    plt.plot(r.history['loss'], label='Loss')\n",
    "    plt.plot(r.history['val_loss'], label='val_Loss')\n",
    "    plt.title('Loss evolution during trainig')\n",
    "    plt.legend()\n",
    "\n",
    "    plt.subplot(2, 2, 2)\n",
    "    plt.plot(r.history['AUC'], label='AUC')\n",
    "    plt.plot(r.history['val_AUC'], label='val_AUC')\n",
    "    plt.title('AUC score evolution during trainig')\n",
    "    plt.legend();\n"
   ],
   "metadata": {
    "collapsed": false,
    "ExecuteTime": {
     "end_time": "2024-05-22T14:38:52.086349700Z",
     "start_time": "2024-05-22T14:38:52.023602900Z"
    }
   },
   "id": "63c39ac466aeca9f"
  },
  {
   "cell_type": "markdown",
   "source": [
    "# Setting up the baseline"
   ],
   "metadata": {
    "collapsed": false
   },
   "id": "ad62119d01d25048"
  },
  {
   "cell_type": "code",
   "execution_count": 20,
   "outputs": [],
   "source": [
    "from models.model import Logistic_Regression, MLP\n",
    "from torchinfo import summary"
   ],
   "metadata": {
    "collapsed": false,
    "ExecuteTime": {
     "end_time": "2024-05-22T14:38:54.147788600Z",
     "start_time": "2024-05-22T14:38:54.064323500Z"
    }
   },
   "id": "28ad90950d490439"
  },
  {
   "cell_type": "code",
   "execution_count": 21,
   "outputs": [
    {
     "data": {
      "text/plain": "1001"
     },
     "execution_count": 21,
     "metadata": {},
     "output_type": "execute_result"
    }
   ],
   "source": [
    "#calculating number of features\n",
    "n_features=len(data.drop(columns=['loan_status_num']).columns)-6\n",
    "n_features"
   ],
   "metadata": {
    "collapsed": false,
    "ExecuteTime": {
     "end_time": "2024-05-22T14:38:54.973431800Z",
     "start_time": "2024-05-22T14:38:54.720933400Z"
    }
   },
   "id": "392a5f5d5faed70e"
  },
  {
   "cell_type": "code",
   "execution_count": 22,
   "outputs": [
    {
     "data": {
      "text/plain": "==========================================================================================\nLayer (type:depth-idx)                   Output Shape              Param #\n==========================================================================================\nLogistic_Regression                      [53099, 1]                --\n├─Sequential: 1-1                        [53099, 1]                --\n│    └─Linear: 2-1                       [53099, 1]                1,002\n│    └─Sigmoid: 2-2                      [53099, 1]                --\n==========================================================================================\nTotal params: 1,002\nTrainable params: 1,002\nNon-trainable params: 0\nTotal mult-adds (Units.MEGABYTES): 53.21\n==========================================================================================\nInput size (MB): 212.61\nForward/backward pass size (MB): 0.42\nParams size (MB): 0.00\nEstimated Total Size (MB): 213.04\n=========================================================================================="
     },
     "execution_count": 22,
     "metadata": {},
     "output_type": "execute_result"
    }
   ],
   "source": [
    "lr_model = Logistic_Regression(num_features=n_features)\n",
    "summary(lr_model, input_size=X_train.shape)"
   ],
   "metadata": {
    "collapsed": false,
    "ExecuteTime": {
     "end_time": "2024-05-22T14:39:06.391423800Z",
     "start_time": "2024-05-22T14:39:05.521649600Z"
    }
   },
   "id": "17bda6a746022051"
  },
  {
   "cell_type": "code",
   "execution_count": 23,
   "outputs": [],
   "source": [
    "LEARNING_RATE = 0.01\n",
    "EPOCHS = 1000"
   ],
   "metadata": {
    "collapsed": false,
    "ExecuteTime": {
     "end_time": "2024-05-22T14:39:06.689485Z",
     "start_time": "2024-05-22T14:39:06.660325100Z"
    }
   },
   "id": "2f7e7f3cc68c57b9"
  },
  {
   "cell_type": "code",
   "execution_count": 24,
   "outputs": [],
   "source": [
    "loss_function = nn.BCELoss(weight=class_weights)"
   ],
   "metadata": {
    "collapsed": false,
    "ExecuteTime": {
     "end_time": "2024-05-22T14:39:07.661512300Z",
     "start_time": "2024-05-22T14:39:07.614447200Z"
    }
   },
   "id": "c362765f76e23331"
  },
  {
   "cell_type": "code",
   "execution_count": 25,
   "outputs": [],
   "source": [
    "optimizer = optim.Adam(lr_model.parameters(), lr=LEARNING_RATE)"
   ],
   "metadata": {
    "collapsed": false,
    "ExecuteTime": {
     "end_time": "2024-05-22T14:39:13.608430600Z",
     "start_time": "2024-05-22T14:39:08.606163800Z"
    }
   },
   "id": "a5b551fe9246dc86"
  },
  {
   "cell_type": "code",
   "execution_count": 26,
   "outputs": [],
   "source": [
    "def calculate_accuracy(preds, actuals):\n",
    "\n",
    "    with torch.no_grad():\n",
    "        rounded_preds = torch.round(preds)\n",
    "        num_correct = torch.sum(rounded_preds == actuals)\n",
    "        accuracy = num_correct/len(preds)\n",
    "\n",
    "    return accuracy"
   ],
   "metadata": {
    "collapsed": false,
    "ExecuteTime": {
     "end_time": "2024-05-22T14:39:13.608430600Z",
     "start_time": "2024-05-22T14:39:13.599104500Z"
    }
   },
   "id": "5933635e8f1a3119"
  },
  {
   "cell_type": "code",
   "execution_count": 27,
   "outputs": [
    {
     "name": "stdout",
     "output_type": "stream",
     "text": [
      "Epoch: 0 \t| Train loss: 0.227 \t| Train acc: 0.51 \t| Test acc: 0.52\n",
      "Epoch: 100 \t| Train loss: 0.147 \t| Train acc: 0.81 \t| Test acc: 0.8\n",
      "Epoch: 200 \t| Train loss: 0.133 \t| Train acc: 0.84 \t| Test acc: 0.83\n",
      "Epoch: 300 \t| Train loss: 0.126 \t| Train acc: 0.85 \t| Test acc: 0.85\n",
      "Epoch: 400 \t| Train loss: 0.123 \t| Train acc: 0.86 \t| Test acc: 0.85\n",
      "Epoch: 500 \t| Train loss: 0.121 \t| Train acc: 0.86 \t| Test acc: 0.85\n",
      "Epoch: 600 \t| Train loss: 0.121 \t| Train acc: 0.86 \t| Test acc: 0.86\n",
      "Epoch: 700 \t| Train loss: 0.12 \t| Train acc: 0.86 \t| Test acc: 0.86\n",
      "Epoch: 800 \t| Train loss: 0.12 \t| Train acc: 0.86 \t| Test acc: 0.86\n",
      "Epoch: 900 \t| Train loss: 0.121 \t| Train acc: 0.86 \t| Test acc: 0.86\n"
     ]
    }
   ],
   "source": [
    "train_losses = []\n",
    "#test_losses  = []\n",
    "train_accs = []\n",
    "test_accs  = []\n",
    "\n",
    "for epoch in range(EPOCHS):\n",
    "    # Forward propagation (predicting train data) #a\n",
    "    train_preds = lr_model(X_train_tensor)\n",
    "    train_loss  = loss_function(train_preds, y_train_tensor)\n",
    "\n",
    "    # Predicting test data #b\n",
    "    with torch.no_grad():\n",
    "        test_preds = lr_model(X_validation_tensor)\n",
    "        #test_loss  = loss_function(test_preds, y_test)\n",
    "\n",
    "    # Calculate accuracy #c\n",
    "    train_acc = calculate_accuracy(train_preds, y_train_tensor)\n",
    "    test_acc  = calculate_accuracy(test_preds, y_validation_tensor)\n",
    "\n",
    "    # Backward propagation #d\n",
    "    optimizer.zero_grad()\n",
    "    train_loss.backward()\n",
    "\n",
    "    # Gradient descent step #e\n",
    "    optimizer.step()\n",
    "\n",
    "    # Store training history #f\n",
    "    train_losses.append(train_loss.item())\n",
    "    #test_losses.append(test_loss.item())\n",
    "    train_accs.append(train_acc.item())\n",
    "    test_accs.append(test_acc.item())\n",
    "\n",
    "    # Print training data #g\n",
    "    if epoch%100==0:\n",
    "        print(f'Epoch: {epoch} \\t|' \\\n",
    "              f' Train loss: {np.round(train_loss.item(),3)} \\t|' \\\n",
    "              #f' Test loss: {np.round(test_loss.item(),3)} \\t|' \\\n",
    "              f' Train acc: {np.round(train_acc.item(),2)} \\t|' \\\n",
    "              f' Test acc: {np.round(test_acc.item(),2)}')"
   ],
   "metadata": {
    "collapsed": false,
    "ExecuteTime": {
     "end_time": "2024-05-22T14:39:48.082374500Z",
     "start_time": "2024-05-22T14:39:18.609001600Z"
    }
   },
   "id": "3a3cdf51d2ac0144"
  },
  {
   "cell_type": "code",
   "execution_count": 28,
   "outputs": [
    {
     "name": "stdout",
     "output_type": "stream",
     "text": [
      "Train Result:\n",
      "================================================\n",
      "Accuracy Score: 86.05%\n",
      "_______________________________________________\n",
      "CLASSIFICATION REPORT:\n",
      "                    0.0           1.0  accuracy     macro avg  weighted avg\n",
      "precision      0.962420      0.595635  0.860506      0.779028      0.891763\n",
      "recall         0.860835      0.859126  0.860506      0.859981      0.860506\n",
      "f1-score       0.908798      0.703518  0.860506      0.806158      0.869253\n",
      "support    42870.000000  10229.000000  0.860506  53099.000000  53099.000000\n",
      "_______________________________________________\n",
      "Confusion Matrix: \n",
      " [[36904  5966]\n",
      " [ 1441  8788]]\n",
      "\n",
      "Test Result:\n",
      "================================================\n",
      "Accuracy Score: 85.74%\n",
      "_______________________________________________\n",
      "CLASSIFICATION REPORT:\n",
      "                   0.0          1.0  accuracy    macro avg  weighted avg\n",
      "precision     0.954537     0.599318  0.857371     0.776928      0.884572\n",
      "recall        0.863516     0.832319  0.857371     0.847917      0.857371\n",
      "f1-score      0.906748     0.696858  0.857371     0.801803      0.865407\n",
      "support    6030.000000  1479.000000  0.857371  7509.000000   7509.000000\n",
      "_______________________________________________\n",
      "Confusion Matrix: \n",
      " [[5207  823]\n",
      " [ 248 1231]]\n"
     ]
    }
   ],
   "source": [
    "evaluate_nn(y_train_tensor.clone().detach(), train_preds.clone().detach().round(), train=True)\n",
    "evaluate_nn(y_validation_tensor.clone().detach(), test_preds.clone().detach().round(), train=False)"
   ],
   "metadata": {
    "collapsed": false,
    "ExecuteTime": {
     "end_time": "2024-05-22T14:39:57.848757800Z",
     "start_time": "2024-05-22T14:39:56.736312200Z"
    }
   },
   "id": "d61e681704d84397"
  },
  {
   "cell_type": "code",
   "execution_count": 29,
   "outputs": [
    {
     "name": "stdout",
     "output_type": "stream",
     "text": [
      "Test Result:\n",
      "================================================\n",
      "Accuracy Score: 84.82%\n",
      "_______________________________________________\n",
      "CLASSIFICATION REPORT:\n",
      "                   0.0          1.0  accuracy    macro avg  weighted avg\n",
      "precision     0.949955     0.582266  0.848242     0.766111      0.877420\n",
      "recall        0.856046     0.816489  0.848242     0.836268      0.848242\n",
      "f1-score      0.900559     0.679768  0.848242     0.790163      0.857003\n",
      "support    6120.000000  1504.000000  0.848242  7624.000000   7624.000000\n",
      "_______________________________________________\n",
      "Confusion Matrix: \n",
      " [[5239  881]\n",
      " [ 276 1228]]\n"
     ]
    }
   ],
   "source": [
    "test_preds_lr = lr_model(X_test_tensor)\n",
    "evaluate_nn(y_test_tensor.clone().detach(), test_preds_lr.clone().detach().round(), train=False)"
   ],
   "metadata": {
    "collapsed": false,
    "ExecuteTime": {
     "end_time": "2024-05-22T14:40:00.341334900Z",
     "start_time": "2024-05-22T14:40:00.200220600Z"
    }
   },
   "id": "13f1671f7ce8a1c5"
  },
  {
   "cell_type": "markdown",
   "source": [
    "# Implementing semantic loss"
   ],
   "metadata": {
    "collapsed": false
   },
   "id": "63f7071c7c140662"
  },
  {
   "cell_type": "code",
   "execution_count": 30,
   "outputs": [],
   "source": [
    "from importlib import reload  # Python 3.4+\n",
    "import models.loss\n",
    "reload(models.loss)\n",
    "from models.loss import semantic_loss"
   ],
   "metadata": {
    "collapsed": false,
    "ExecuteTime": {
     "end_time": "2024-05-22T14:40:10.551267700Z",
     "start_time": "2024-05-22T14:40:09.025713700Z"
    }
   },
   "id": "8e7f96c958a8c1a9"
  },
  {
   "cell_type": "code",
   "execution_count": 46,
   "outputs": [
    {
     "data": {
      "text/plain": "==========================================================================================\nLayer (type:depth-idx)                   Output Shape              Param #\n==========================================================================================\nLogistic_Regression                      [53099, 1]                --\n├─Sequential: 1-1                        [53099, 1]                --\n│    └─Linear: 2-1                       [53099, 1]                1,002\n│    └─Sigmoid: 2-2                      [53099, 1]                --\n==========================================================================================\nTotal params: 1,002\nTrainable params: 1,002\nNon-trainable params: 0\nTotal mult-adds (Units.MEGABYTES): 53.21\n==========================================================================================\nInput size (MB): 212.61\nForward/backward pass size (MB): 0.42\nParams size (MB): 0.00\nEstimated Total Size (MB): 213.04\n=========================================================================================="
     },
     "execution_count": 46,
     "metadata": {},
     "output_type": "execute_result"
    }
   ],
   "source": [
    "sl_model = Logistic_Regression(num_features=n_features)\n",
    "summary(sl_model, input_size=X_train.shape)"
   ],
   "metadata": {
    "collapsed": false,
    "ExecuteTime": {
     "end_time": "2024-05-22T14:48:40.639490800Z",
     "start_time": "2024-05-22T14:48:40.304882800Z"
    }
   },
   "id": "67be64e6b44624bf"
  },
  {
   "cell_type": "code",
   "execution_count": 47,
   "outputs": [],
   "source": [
    "optimizer_sl = optim.Adam(sl_model.parameters(), lr=LEARNING_RATE)"
   ],
   "metadata": {
    "collapsed": false,
    "ExecuteTime": {
     "end_time": "2024-05-22T14:48:40.952964Z",
     "start_time": "2024-05-22T14:48:40.923266300Z"
    }
   },
   "id": "67c333c949a91797"
  },
  {
   "cell_type": "code",
   "execution_count": 48,
   "outputs": [],
   "source": [
    "last_fico = torch.tensor(X_alt_train['last_fico_range_low'].values, dtype=torch.float32).reshape(len(y_train),1)\n",
    "last_pymnt = torch.tensor(X_alt_train['last_pymnt_amnt'].values, dtype=torch.float32).reshape(len(y_train),1)\n",
    "total_rec = torch.tensor(X_alt_train['total_rec_prncp'].values, dtype=torch.float32).reshape(len(y_train),1)\n",
    "loan_amnt = torch.tensor(X_alt_train['loan_amnt'].values, dtype=torch.float32).reshape(len(y_train),1)\n",
    "\n",
    "rule = torch.logical_or(\n",
    "    torch.logical_and(last_fico <= 632.5, last_fico <= 572.5),\n",
    "    torch.logical_and(last_fico > 632.5, last_fico > 662.5)).float()\n",
    "rule = torch.logical_or(\n",
    "    torch.logical_and(last_fico <= 632.5, last_pymnt <= 1388.98),\n",
    "    torch.logical_and(last_fico > 632.5, total_rec <= 999.98)).float()\n",
    "rule = torch.where(last_fico <= 632.5, torch.tensor(1), torch.tensor(0))\n",
    "rule = torch.logical_or(torch.logical_and(last_fico<=632.5, last_fico<=572.5),torch.logical_and(last_fico<=632.5, torch.logical_and(last_fico>572.5, loan_amnt>12162.5))).float()\n",
    "rule = (last_fico<=652.5).float()"
   ],
   "metadata": {
    "collapsed": false,
    "ExecuteTime": {
     "end_time": "2024-05-22T14:48:42.079532400Z",
     "start_time": "2024-05-22T14:48:41.983034900Z"
    }
   },
   "id": "119c18b13077cb49"
  },
  {
   "cell_type": "code",
   "execution_count": 49,
   "outputs": [
    {
     "name": "stdout",
     "output_type": "stream",
     "text": [
      "tensor([[0.],\n",
      "        [0.],\n",
      "        [0.],\n",
      "        ...,\n",
      "        [0.],\n",
      "        [1.],\n",
      "        [0.]])\n"
     ]
    }
   ],
   "source": [
    "print(rule)"
   ],
   "metadata": {
    "collapsed": false,
    "ExecuteTime": {
     "end_time": "2024-05-22T14:48:42.638621400Z",
     "start_time": "2024-05-22T14:48:42.591381100Z"
    }
   },
   "id": "f5d84bf01562ce24"
  },
  {
   "cell_type": "code",
   "execution_count": 50,
   "outputs": [
    {
     "name": "stdout",
     "output_type": "stream",
     "text": [
      "Epoch: 0 \t| Train loss: -0.602 \t| Train acc: 0.52 \t| Test acc: 0.51\n",
      "Epoch: 100 \t| Train loss: -0.669 \t| Train acc: 0.86 \t| Test acc: 0.85\n",
      "Epoch: 200 \t| Train loss: -0.678 \t| Train acc: 0.88 \t| Test acc: 0.87\n",
      "Epoch: 300 \t| Train loss: -0.68 \t| Train acc: 0.88 \t| Test acc: 0.87\n",
      "Epoch: 400 \t| Train loss: -0.681 \t| Train acc: 0.88 \t| Test acc: 0.87\n",
      "Epoch: 500 \t| Train loss: -0.681 \t| Train acc: 0.88 \t| Test acc: 0.87\n",
      "Epoch: 600 \t| Train loss: -0.681 \t| Train acc: 0.88 \t| Test acc: 0.88\n",
      "Epoch: 700 \t| Train loss: -0.681 \t| Train acc: 0.88 \t| Test acc: 0.88\n",
      "Epoch: 800 \t| Train loss: -0.681 \t| Train acc: 0.88 \t| Test acc: 0.88\n",
      "Epoch: 900 \t| Train loss: -0.681 \t| Train acc: 0.88 \t| Test acc: 0.88\n"
     ]
    }
   ],
   "source": [
    "train_losses_sl = []\n",
    "#test_losses  = []\n",
    "train_accs_sl = []\n",
    "test_accs_sl  = []\n",
    "\n",
    "for epoch in range(EPOCHS):\n",
    "    # Forward propagation (predicting train data) #a\n",
    "    train_preds = sl_model(X_train_tensor)\n",
    "    #train_loss  = loss_function(train_preds, y_train_tensor)\n",
    "    train_loss = semantic_loss(train_preds, y_train_tensor, rule, class_weights, 0.1)\n",
    "\n",
    "    # Predicting test data #b\n",
    "    with torch.no_grad():\n",
    "        test_preds = sl_model(X_validation_tensor)\n",
    "        #test_loss  = loss_function(test_preds, y_test)\n",
    "\n",
    "    # Calculate accuracy #c\n",
    "    train_acc = calculate_accuracy(train_preds, y_train_tensor)\n",
    "    test_acc  = calculate_accuracy(test_preds, y_validation_tensor)\n",
    "\n",
    "    # Backward propagation #d\n",
    "    optimizer_sl.zero_grad()\n",
    "    train_loss.backward()\n",
    "\n",
    "    # Gradient descent step #e\n",
    "    optimizer_sl.step()\n",
    "\n",
    "    # Store training history #f\n",
    "    train_losses_sl.append(train_loss.item())\n",
    "    #test_losses.append(test_loss.item())\n",
    "    train_accs_sl.append(train_acc.item())\n",
    "    test_accs_sl.append(test_acc.item())\n",
    "\n",
    "    # Print training data #g\n",
    "    if epoch%100==0:\n",
    "        print(f'Epoch: {epoch} \\t|' \\\n",
    "              f' Train loss: {np.round(train_loss.item(),3)} \\t|' \\\n",
    "                  #f' Test loss: {np.round(test_loss.item(),3)} \\t|' \\\n",
    "              f' Train acc: {np.round(train_acc.item(),2)} \\t|' \\\n",
    "              f' Test acc: {np.round(test_acc.item(),2)}')"
   ],
   "metadata": {
    "collapsed": false,
    "ExecuteTime": {
     "end_time": "2024-05-22T14:49:24.109831100Z",
     "start_time": "2024-05-22T14:48:55.167687500Z"
    }
   },
   "id": "f35eb719dedfeb74"
  },
  {
   "cell_type": "code",
   "execution_count": 51,
   "outputs": [
    {
     "data": {
      "text/plain": "<Figure size 1000x500 with 1 Axes>",
      "image/png": "[encoded data removed]"
     },
     "metadata": {},
     "output_type": "display_data"
    }
   ],
   "source": [
    "plt.figure(figsize=(10, 5))\n",
    "#plt.plot(train_losses[:200], label='Train Loss')\n",
    "plt.plot(train_accs[:200], label='Train Accuracy')\n",
    "plt.plot(test_accs[:200], label='Validation Accuracy')\n",
    "#plt.plot(train_losses_sl[:200], label='Train Loss SL')\n",
    "plt.plot(train_accs_sl[:200], label='Train Accuracy SL')\n",
    "plt.plot(test_accs_sl[:200], label='Validation Accuracy SL')\n",
    "plt.xlabel('Epoch')\n",
    "plt.ylabel('Value')\n",
    "plt.title('Learning Curve')\n",
    "plt.legend()\n",
    "plt.grid(True)\n",
    "plt.show()"
   ],
   "metadata": {
    "collapsed": false,
    "ExecuteTime": {
     "end_time": "2024-05-22T14:49:26.039799100Z",
     "start_time": "2024-05-22T14:49:25.681834400Z"
    }
   },
   "id": "2a4d4d5461505723"
  },
  {
   "cell_type": "code",
   "execution_count": 52,
   "outputs": [
    {
     "name": "stdout",
     "output_type": "stream",
     "text": [
      "Train Result:\n",
      "================================================\n",
      "Accuracy Score: 87.92%\n",
      "_______________________________________________\n",
      "CLASSIFICATION REPORT:\n",
      "                    0.0           1.0  accuracy     macro avg  weighted avg\n",
      "precision      0.946177      0.655885  0.879244      0.801031      0.890255\n",
      "recall         0.901726      0.785023  0.879244      0.843375      0.879244\n",
      "f1-score       0.923417      0.714667  0.879244      0.819042      0.883203\n",
      "support    42870.000000  10229.000000  0.879244  53099.000000  53099.000000\n",
      "_______________________________________________\n",
      "Confusion Matrix: \n",
      " [[38657  4213]\n",
      " [ 2199  8030]]\n",
      "\n",
      "Test Result:\n",
      "================================================\n",
      "Accuracy Score: 87.50%\n",
      "_______________________________________________\n",
      "CLASSIFICATION REPORT:\n",
      "                   0.0          1.0  accuracy    macro avg  weighted avg\n",
      "precision     0.938199     0.658824   0.87495     0.798511      0.883172\n",
      "recall        0.903814     0.757268   0.87495     0.830541      0.874950\n",
      "f1-score      0.920686     0.704624   0.87495     0.812655      0.878130\n",
      "support    6030.000000  1479.000000   0.87495  7509.000000   7509.000000\n",
      "_______________________________________________\n",
      "Confusion Matrix: \n",
      " [[5450  580]\n",
      " [ 359 1120]]\n"
     ]
    }
   ],
   "source": [
    "evaluate_nn(y_train_tensor.clone().detach(), train_preds.clone().detach().round(), train=True)\n",
    "evaluate_nn(y_validation_tensor.clone().detach(), test_preds.clone().detach().round(), train=False)"
   ],
   "metadata": {
    "collapsed": false,
    "ExecuteTime": {
     "end_time": "2024-05-22T14:49:42.102370Z",
     "start_time": "2024-05-22T14:49:41.832645200Z"
    }
   },
   "id": "d93126a5dc7ed864"
  },
  {
   "cell_type": "code",
   "execution_count": 53,
   "outputs": [
    {
     "name": "stdout",
     "output_type": "stream",
     "text": [
      "Test Result:\n",
      "================================================\n",
      "Accuracy Score: 86.69%\n",
      "_______________________________________________\n",
      "CLASSIFICATION REPORT:\n",
      "                   0.0          1.0  accuracy    macro avg  weighted avg\n",
      "precision     0.934468     0.639794  0.866868     0.787131      0.876337\n",
      "recall        0.897059     0.744016  0.866868     0.820537      0.866868\n",
      "f1-score      0.915381     0.687980  0.866868     0.801681      0.870522\n",
      "support    6120.000000  1504.000000  0.866868  7624.000000   7624.000000\n",
      "_______________________________________________\n",
      "Confusion Matrix: \n",
      " [[5490  630]\n",
      " [ 385 1119]]\n"
     ]
    }
   ],
   "source": [
    "test_preds_sl = sl_model(X_test_tensor)\n",
    "evaluate_nn(y_test_tensor.clone().detach(), test_preds_sl.clone().detach().round(), train=False)"
   ],
   "metadata": {
    "collapsed": false,
    "ExecuteTime": {
     "end_time": "2024-05-22T14:49:46.615961800Z",
     "start_time": "2024-05-22T14:49:46.536932700Z"
    }
   },
   "id": "886fcd019730ec52"
  },
  {
   "cell_type": "markdown",
   "source": [
    "# Multilayer perceptrons"
   ],
   "metadata": {
    "collapsed": false
   },
   "id": "5f37b0ba91a0ddd3"
  },
  {
   "cell_type": "code",
   "execution_count": 54,
   "outputs": [],
   "source": [
    "from importlib import reload  # Python 3.4+\n",
    "import models.loss\n",
    "reload(models.loss)\n",
    "from models.loss import semantic_loss"
   ],
   "metadata": {
    "collapsed": false,
    "ExecuteTime": {
     "end_time": "2024-05-22T15:09:36.181439500Z",
     "start_time": "2024-05-22T15:09:36.149616600Z"
    }
   },
   "id": "d497454472646f7"
  },
  {
   "cell_type": "code",
   "execution_count": 55,
   "outputs": [],
   "source": [
    "from importlib import reload  # Python 3.4+\n",
    "import models.model\n",
    "reload(models.model)\n",
    "from models.model import MLP"
   ],
   "metadata": {
    "collapsed": false,
    "ExecuteTime": {
     "end_time": "2024-05-22T15:09:36.769903300Z",
     "start_time": "2024-05-22T15:09:36.742018200Z"
    }
   },
   "id": "b2ab39a6e13d11fd"
  },
  {
   "cell_type": "code",
   "execution_count": 56,
   "outputs": [],
   "source": [
    "last_fico_index = X_alt_train.columns.get_loc('last_fico_range_low')\n",
    "last_pymnt_index = X_alt_train.columns.get_loc('last_pymnt_amnt')\n",
    "total_rec_index = X_alt_train.columns.get_loc('total_rec_prncp')\n",
    "loan_amnt_index = X_alt_train.columns.get_loc('loan_amnt')"
   ],
   "metadata": {
    "collapsed": false,
    "ExecuteTime": {
     "end_time": "2024-05-22T15:09:38.842514300Z",
     "start_time": "2024-05-22T15:09:38.794991Z"
    }
   },
   "id": "a472021b1cdde76a"
  },
  {
   "cell_type": "code",
   "execution_count": 57,
   "outputs": [],
   "source": [
    "dataset = LCDataset(X_train_tensor, y_train_tensor)\n",
    "\n",
    "data_loader = DataLoader(dataset, batch_size=5000, shuffle=True)"
   ],
   "metadata": {
    "collapsed": false,
    "ExecuteTime": {
     "end_time": "2024-05-22T15:09:39.928647600Z",
     "start_time": "2024-05-22T15:09:39.881362400Z"
    }
   },
   "id": "4d2c38159ce1e14b"
  },
  {
   "cell_type": "code",
   "execution_count": 58,
   "outputs": [
    {
     "data": {
      "text/plain": "==========================================================================================\nLayer (type:depth-idx)                   Output Shape              Param #\n==========================================================================================\nMLP                                      [53099, 1]                --\n├─Sequential: 1-1                        [53099, 1]                --\n│    └─Linear: 2-1                       [53099, 3]                3,006\n│    └─ReLU: 2-2                         [53099, 3]                --\n│    └─Linear: 2-3                       [53099, 1]                4\n│    └─Sigmoid: 2-4                      [53099, 1]                --\n==========================================================================================\nTotal params: 3,010\nTrainable params: 3,010\nNon-trainable params: 0\nTotal mult-adds (Units.MEGABYTES): 159.83\n==========================================================================================\nInput size (MB): 212.61\nForward/backward pass size (MB): 1.70\nParams size (MB): 0.01\nEstimated Total Size (MB): 214.32\n=========================================================================================="
     },
     "execution_count": 58,
     "metadata": {},
     "output_type": "execute_result"
    }
   ],
   "source": [
    "mlp_model = MLP(num_features=n_features)\n",
    "summary(mlp_model, input_size=X_train.shape)"
   ],
   "metadata": {
    "collapsed": false,
    "ExecuteTime": {
     "end_time": "2024-05-22T15:09:41.105917300Z",
     "start_time": "2024-05-22T15:09:40.557391100Z"
    }
   },
   "id": "940d69e1f8f9cfb3"
  },
  {
   "cell_type": "code",
   "execution_count": 59,
   "outputs": [],
   "source": [
    "optimizer_mlp = optim.Adam(mlp_model.parameters())"
   ],
   "metadata": {
    "collapsed": false,
    "ExecuteTime": {
     "end_time": "2024-05-22T15:09:42.002402400Z",
     "start_time": "2024-05-22T15:09:41.946887700Z"
    }
   },
   "id": "4d046500f2dea0bd"
  },
  {
   "cell_type": "code",
   "execution_count": 60,
   "outputs": [
    {
     "name": "stdout",
     "output_type": "stream",
     "text": [
      "Epoch: 0 \t| Train loss: 0.218 \t| Train acc: 0.63 \t| Test acc: 0.64\n",
      "Epoch: 1 \t| Train loss: 0.217 \t| Train acc: 0.61 \t| Test acc: 0.63\n",
      "Epoch: 2 \t| Train loss: 0.206 \t| Train acc: 0.63 \t| Test acc: 0.63\n",
      "Epoch: 3 \t| Train loss: 0.199 \t| Train acc: 0.65 \t| Test acc: 0.64\n",
      "Epoch: 4 \t| Train loss: 0.191 \t| Train acc: 0.67 \t| Test acc: 0.65\n",
      "Epoch: 5 \t| Train loss: 0.197 \t| Train acc: 0.67 \t| Test acc: 0.66\n",
      "Epoch: 6 \t| Train loss: 0.188 \t| Train acc: 0.69 \t| Test acc: 0.67\n",
      "Epoch: 7 \t| Train loss: 0.185 \t| Train acc: 0.69 \t| Test acc: 0.68\n",
      "Epoch: 8 \t| Train loss: 0.185 \t| Train acc: 0.69 \t| Test acc: 0.68\n",
      "Epoch: 9 \t| Train loss: 0.184 \t| Train acc: 0.7 \t| Test acc: 0.69\n",
      "Epoch: 10 \t| Train loss: 0.181 \t| Train acc: 0.69 \t| Test acc: 0.68\n",
      "Epoch: 11 \t| Train loss: 0.187 \t| Train acc: 0.69 \t| Test acc: 0.69\n",
      "Epoch: 12 \t| Train loss: 0.177 \t| Train acc: 0.7 \t| Test acc: 0.69\n",
      "Epoch: 13 \t| Train loss: 0.18 \t| Train acc: 0.71 \t| Test acc: 0.7\n",
      "Epoch: 14 \t| Train loss: 0.177 \t| Train acc: 0.71 \t| Test acc: 0.7\n",
      "Epoch: 15 \t| Train loss: 0.178 \t| Train acc: 0.7 \t| Test acc: 0.71\n",
      "Epoch: 16 \t| Train loss: 0.18 \t| Train acc: 0.71 \t| Test acc: 0.72\n",
      "Epoch: 17 \t| Train loss: 0.173 \t| Train acc: 0.73 \t| Test acc: 0.72\n",
      "Epoch: 18 \t| Train loss: 0.169 \t| Train acc: 0.73 \t| Test acc: 0.73\n",
      "Epoch: 19 \t| Train loss: 0.168 \t| Train acc: 0.74 \t| Test acc: 0.73\n",
      "Epoch: 20 \t| Train loss: 0.169 \t| Train acc: 0.75 \t| Test acc: 0.73\n",
      "Epoch: 21 \t| Train loss: 0.175 \t| Train acc: 0.74 \t| Test acc: 0.74\n",
      "Epoch: 22 \t| Train loss: 0.167 \t| Train acc: 0.75 \t| Test acc: 0.74\n",
      "Epoch: 23 \t| Train loss: 0.165 \t| Train acc: 0.76 \t| Test acc: 0.75\n",
      "Epoch: 24 \t| Train loss: 0.165 \t| Train acc: 0.74 \t| Test acc: 0.75\n",
      "Epoch: 25 \t| Train loss: 0.161 \t| Train acc: 0.76 \t| Test acc: 0.76\n",
      "Epoch: 26 \t| Train loss: 0.153 \t| Train acc: 0.77 \t| Test acc: 0.76\n",
      "Epoch: 27 \t| Train loss: 0.154 \t| Train acc: 0.78 \t| Test acc: 0.76\n",
      "Epoch: 28 \t| Train loss: 0.155 \t| Train acc: 0.78 \t| Test acc: 0.76\n",
      "Epoch: 29 \t| Train loss: 0.157 \t| Train acc: 0.77 \t| Test acc: 0.77\n",
      "Epoch: 30 \t| Train loss: 0.157 \t| Train acc: 0.78 \t| Test acc: 0.77\n",
      "Epoch: 31 \t| Train loss: 0.148 \t| Train acc: 0.78 \t| Test acc: 0.77\n",
      "Epoch: 32 \t| Train loss: 0.15 \t| Train acc: 0.79 \t| Test acc: 0.77\n",
      "Epoch: 33 \t| Train loss: 0.149 \t| Train acc: 0.79 \t| Test acc: 0.78\n",
      "Epoch: 34 \t| Train loss: 0.149 \t| Train acc: 0.79 \t| Test acc: 0.78\n",
      "Epoch: 35 \t| Train loss: 0.146 \t| Train acc: 0.8 \t| Test acc: 0.78\n",
      "Epoch: 36 \t| Train loss: 0.149 \t| Train acc: 0.79 \t| Test acc: 0.78\n",
      "Epoch: 37 \t| Train loss: 0.149 \t| Train acc: 0.8 \t| Test acc: 0.79\n",
      "Epoch: 38 \t| Train loss: 0.148 \t| Train acc: 0.8 \t| Test acc: 0.79\n",
      "Epoch: 39 \t| Train loss: 0.146 \t| Train acc: 0.8 \t| Test acc: 0.79\n",
      "Epoch: 40 \t| Train loss: 0.146 \t| Train acc: 0.79 \t| Test acc: 0.79\n",
      "Epoch: 41 \t| Train loss: 0.142 \t| Train acc: 0.8 \t| Test acc: 0.79\n",
      "Epoch: 42 \t| Train loss: 0.147 \t| Train acc: 0.81 \t| Test acc: 0.79\n",
      "Epoch: 43 \t| Train loss: 0.146 \t| Train acc: 0.8 \t| Test acc: 0.8\n",
      "Epoch: 44 \t| Train loss: 0.134 \t| Train acc: 0.82 \t| Test acc: 0.8\n",
      "Epoch: 45 \t| Train loss: 0.143 \t| Train acc: 0.81 \t| Test acc: 0.8\n",
      "Epoch: 46 \t| Train loss: 0.135 \t| Train acc: 0.81 \t| Test acc: 0.8\n",
      "Epoch: 47 \t| Train loss: 0.142 \t| Train acc: 0.8 \t| Test acc: 0.8\n",
      "Epoch: 48 \t| Train loss: 0.14 \t| Train acc: 0.82 \t| Test acc: 0.81\n",
      "Epoch: 49 \t| Train loss: 0.134 \t| Train acc: 0.82 \t| Test acc: 0.81\n",
      "Epoch: 50 \t| Train loss: 0.137 \t| Train acc: 0.81 \t| Test acc: 0.81\n",
      "Epoch: 51 \t| Train loss: 0.14 \t| Train acc: 0.81 \t| Test acc: 0.81\n",
      "Epoch: 52 \t| Train loss: 0.143 \t| Train acc: 0.81 \t| Test acc: 0.81\n",
      "Epoch: 53 \t| Train loss: 0.141 \t| Train acc: 0.81 \t| Test acc: 0.81\n",
      "Epoch: 54 \t| Train loss: 0.129 \t| Train acc: 0.82 \t| Test acc: 0.81\n",
      "Epoch: 55 \t| Train loss: 0.135 \t| Train acc: 0.81 \t| Test acc: 0.81\n",
      "Epoch: 56 \t| Train loss: 0.131 \t| Train acc: 0.82 \t| Test acc: 0.81\n",
      "Epoch: 57 \t| Train loss: 0.134 \t| Train acc: 0.81 \t| Test acc: 0.81\n",
      "Epoch: 58 \t| Train loss: 0.13 \t| Train acc: 0.83 \t| Test acc: 0.82\n",
      "Epoch: 59 \t| Train loss: 0.131 \t| Train acc: 0.82 \t| Test acc: 0.82\n",
      "Epoch: 60 \t| Train loss: 0.134 \t| Train acc: 0.82 \t| Test acc: 0.82\n",
      "Epoch: 61 \t| Train loss: 0.131 \t| Train acc: 0.82 \t| Test acc: 0.82\n",
      "Epoch: 62 \t| Train loss: 0.132 \t| Train acc: 0.81 \t| Test acc: 0.82\n",
      "Epoch: 63 \t| Train loss: 0.13 \t| Train acc: 0.82 \t| Test acc: 0.82\n",
      "Epoch: 64 \t| Train loss: 0.127 \t| Train acc: 0.83 \t| Test acc: 0.82\n",
      "Epoch: 65 \t| Train loss: 0.133 \t| Train acc: 0.82 \t| Test acc: 0.82\n",
      "Epoch: 66 \t| Train loss: 0.125 \t| Train acc: 0.83 \t| Test acc: 0.82\n",
      "Epoch: 67 \t| Train loss: 0.127 \t| Train acc: 0.83 \t| Test acc: 0.82\n",
      "Epoch: 68 \t| Train loss: 0.123 \t| Train acc: 0.84 \t| Test acc: 0.82\n",
      "Epoch: 69 \t| Train loss: 0.121 \t| Train acc: 0.83 \t| Test acc: 0.82\n",
      "Epoch: 70 \t| Train loss: 0.13 \t| Train acc: 0.82 \t| Test acc: 0.82\n",
      "Epoch: 71 \t| Train loss: 0.126 \t| Train acc: 0.82 \t| Test acc: 0.82\n",
      "Epoch: 72 \t| Train loss: 0.122 \t| Train acc: 0.84 \t| Test acc: 0.82\n",
      "Epoch: 73 \t| Train loss: 0.121 \t| Train acc: 0.83 \t| Test acc: 0.82\n",
      "Epoch: 74 \t| Train loss: 0.126 \t| Train acc: 0.83 \t| Test acc: 0.82\n",
      "Epoch: 75 \t| Train loss: 0.127 \t| Train acc: 0.83 \t| Test acc: 0.82\n",
      "Epoch: 76 \t| Train loss: 0.124 \t| Train acc: 0.83 \t| Test acc: 0.82\n",
      "Epoch: 77 \t| Train loss: 0.127 \t| Train acc: 0.83 \t| Test acc: 0.82\n",
      "Epoch: 78 \t| Train loss: 0.124 \t| Train acc: 0.83 \t| Test acc: 0.82\n",
      "Epoch: 79 \t| Train loss: 0.118 \t| Train acc: 0.83 \t| Test acc: 0.82\n",
      "Epoch: 80 \t| Train loss: 0.124 \t| Train acc: 0.84 \t| Test acc: 0.82\n",
      "Epoch: 81 \t| Train loss: 0.122 \t| Train acc: 0.82 \t| Test acc: 0.82\n",
      "Epoch: 82 \t| Train loss: 0.127 \t| Train acc: 0.84 \t| Test acc: 0.83\n",
      "Epoch: 83 \t| Train loss: 0.124 \t| Train acc: 0.82 \t| Test acc: 0.82\n",
      "Epoch: 84 \t| Train loss: 0.122 \t| Train acc: 0.83 \t| Test acc: 0.83\n",
      "Epoch: 85 \t| Train loss: 0.122 \t| Train acc: 0.82 \t| Test acc: 0.83\n",
      "Epoch: 86 \t| Train loss: 0.115 \t| Train acc: 0.84 \t| Test acc: 0.82\n",
      "Epoch: 87 \t| Train loss: 0.122 \t| Train acc: 0.82 \t| Test acc: 0.82\n",
      "Epoch: 88 \t| Train loss: 0.121 \t| Train acc: 0.83 \t| Test acc: 0.83\n",
      "Epoch: 89 \t| Train loss: 0.118 \t| Train acc: 0.83 \t| Test acc: 0.82\n",
      "Epoch: 90 \t| Train loss: 0.125 \t| Train acc: 0.82 \t| Test acc: 0.82\n",
      "Epoch: 91 \t| Train loss: 0.118 \t| Train acc: 0.83 \t| Test acc: 0.83\n",
      "Epoch: 92 \t| Train loss: 0.123 \t| Train acc: 0.83 \t| Test acc: 0.83\n",
      "Epoch: 93 \t| Train loss: 0.117 \t| Train acc: 0.83 \t| Test acc: 0.82\n",
      "Epoch: 94 \t| Train loss: 0.123 \t| Train acc: 0.82 \t| Test acc: 0.83\n",
      "Epoch: 95 \t| Train loss: 0.118 \t| Train acc: 0.83 \t| Test acc: 0.83\n",
      "Epoch: 96 \t| Train loss: 0.117 \t| Train acc: 0.84 \t| Test acc: 0.83\n",
      "Epoch: 97 \t| Train loss: 0.118 \t| Train acc: 0.84 \t| Test acc: 0.83\n",
      "Epoch: 98 \t| Train loss: 0.119 \t| Train acc: 0.82 \t| Test acc: 0.83\n",
      "Epoch: 99 \t| Train loss: 0.12 \t| Train acc: 0.83 \t| Test acc: 0.83\n",
      "Epoch: 100 \t| Train loss: 0.121 \t| Train acc: 0.83 \t| Test acc: 0.82\n",
      "Epoch: 101 \t| Train loss: 0.12 \t| Train acc: 0.82 \t| Test acc: 0.83\n",
      "Epoch: 102 \t| Train loss: 0.118 \t| Train acc: 0.83 \t| Test acc: 0.83\n",
      "Epoch: 103 \t| Train loss: 0.116 \t| Train acc: 0.83 \t| Test acc: 0.83\n",
      "Epoch: 104 \t| Train loss: 0.115 \t| Train acc: 0.83 \t| Test acc: 0.82\n",
      "Epoch: 105 \t| Train loss: 0.125 \t| Train acc: 0.83 \t| Test acc: 0.83\n",
      "Epoch: 106 \t| Train loss: 0.118 \t| Train acc: 0.84 \t| Test acc: 0.82\n",
      "Epoch: 107 \t| Train loss: 0.115 \t| Train acc: 0.84 \t| Test acc: 0.83\n",
      "Epoch: 108 \t| Train loss: 0.117 \t| Train acc: 0.82 \t| Test acc: 0.82\n",
      "Epoch: 109 \t| Train loss: 0.116 \t| Train acc: 0.83 \t| Test acc: 0.82\n",
      "Epoch: 110 \t| Train loss: 0.113 \t| Train acc: 0.83 \t| Test acc: 0.82\n",
      "Epoch: 111 \t| Train loss: 0.121 \t| Train acc: 0.83 \t| Test acc: 0.83\n",
      "Epoch: 112 \t| Train loss: 0.117 \t| Train acc: 0.83 \t| Test acc: 0.83\n",
      "Epoch: 113 \t| Train loss: 0.122 \t| Train acc: 0.82 \t| Test acc: 0.82\n",
      "Epoch: 114 \t| Train loss: 0.128 \t| Train acc: 0.82 \t| Test acc: 0.83\n",
      "Epoch: 115 \t| Train loss: 0.117 \t| Train acc: 0.82 \t| Test acc: 0.82\n",
      "Epoch: 116 \t| Train loss: 0.119 \t| Train acc: 0.84 \t| Test acc: 0.83\n",
      "Epoch: 117 \t| Train loss: 0.117 \t| Train acc: 0.82 \t| Test acc: 0.83\n",
      "Epoch: 118 \t| Train loss: 0.123 \t| Train acc: 0.83 \t| Test acc: 0.83\n",
      "Epoch: 119 \t| Train loss: 0.124 \t| Train acc: 0.82 \t| Test acc: 0.82\n",
      "Epoch: 120 \t| Train loss: 0.113 \t| Train acc: 0.84 \t| Test acc: 0.83\n",
      "Epoch: 121 \t| Train loss: 0.119 \t| Train acc: 0.84 \t| Test acc: 0.82\n",
      "Epoch: 122 \t| Train loss: 0.119 \t| Train acc: 0.83 \t| Test acc: 0.82\n",
      "Epoch: 123 \t| Train loss: 0.118 \t| Train acc: 0.83 \t| Test acc: 0.83\n",
      "Epoch: 124 \t| Train loss: 0.115 \t| Train acc: 0.83 \t| Test acc: 0.82\n",
      "Epoch: 125 \t| Train loss: 0.11 \t| Train acc: 0.83 \t| Test acc: 0.82\n",
      "Epoch: 126 \t| Train loss: 0.112 \t| Train acc: 0.83 \t| Test acc: 0.82\n",
      "Epoch: 127 \t| Train loss: 0.119 \t| Train acc: 0.83 \t| Test acc: 0.83\n",
      "Epoch: 128 \t| Train loss: 0.114 \t| Train acc: 0.83 \t| Test acc: 0.83\n",
      "Epoch: 129 \t| Train loss: 0.112 \t| Train acc: 0.83 \t| Test acc: 0.83\n",
      "Epoch: 130 \t| Train loss: 0.117 \t| Train acc: 0.84 \t| Test acc: 0.82\n",
      "Epoch: 131 \t| Train loss: 0.12 \t| Train acc: 0.83 \t| Test acc: 0.83\n",
      "Epoch: 132 \t| Train loss: 0.113 \t| Train acc: 0.84 \t| Test acc: 0.82\n",
      "Epoch: 133 \t| Train loss: 0.121 \t| Train acc: 0.83 \t| Test acc: 0.82\n",
      "Epoch: 134 \t| Train loss: 0.117 \t| Train acc: 0.83 \t| Test acc: 0.83\n",
      "Epoch: 135 \t| Train loss: 0.111 \t| Train acc: 0.83 \t| Test acc: 0.83\n",
      "Epoch: 136 \t| Train loss: 0.118 \t| Train acc: 0.84 \t| Test acc: 0.82\n",
      "Epoch: 137 \t| Train loss: 0.123 \t| Train acc: 0.82 \t| Test acc: 0.82\n",
      "Epoch: 138 \t| Train loss: 0.121 \t| Train acc: 0.82 \t| Test acc: 0.83\n",
      "Epoch: 139 \t| Train loss: 0.115 \t| Train acc: 0.83 \t| Test acc: 0.82\n",
      "Epoch: 140 \t| Train loss: 0.114 \t| Train acc: 0.83 \t| Test acc: 0.82\n",
      "Epoch: 141 \t| Train loss: 0.111 \t| Train acc: 0.84 \t| Test acc: 0.83\n",
      "Epoch: 142 \t| Train loss: 0.111 \t| Train acc: 0.83 \t| Test acc: 0.82\n",
      "Epoch: 143 \t| Train loss: 0.116 \t| Train acc: 0.83 \t| Test acc: 0.82\n",
      "Epoch: 144 \t| Train loss: 0.116 \t| Train acc: 0.84 \t| Test acc: 0.82\n",
      "Epoch: 145 \t| Train loss: 0.117 \t| Train acc: 0.84 \t| Test acc: 0.82\n",
      "Epoch: 146 \t| Train loss: 0.11 \t| Train acc: 0.84 \t| Test acc: 0.82\n",
      "Epoch: 147 \t| Train loss: 0.113 \t| Train acc: 0.84 \t| Test acc: 0.82\n",
      "Epoch: 148 \t| Train loss: 0.114 \t| Train acc: 0.83 \t| Test acc: 0.83\n",
      "Epoch: 149 \t| Train loss: 0.111 \t| Train acc: 0.83 \t| Test acc: 0.83\n",
      "Epoch: 150 \t| Train loss: 0.116 \t| Train acc: 0.83 \t| Test acc: 0.82\n",
      "Epoch: 151 \t| Train loss: 0.112 \t| Train acc: 0.83 \t| Test acc: 0.82\n",
      "Epoch: 152 \t| Train loss: 0.122 \t| Train acc: 0.83 \t| Test acc: 0.83\n",
      "Epoch: 153 \t| Train loss: 0.108 \t| Train acc: 0.83 \t| Test acc: 0.82\n",
      "Epoch: 154 \t| Train loss: 0.115 \t| Train acc: 0.83 \t| Test acc: 0.83\n",
      "Epoch: 155 \t| Train loss: 0.104 \t| Train acc: 0.84 \t| Test acc: 0.82\n",
      "Epoch: 156 \t| Train loss: 0.115 \t| Train acc: 0.83 \t| Test acc: 0.82\n",
      "Epoch: 157 \t| Train loss: 0.114 \t| Train acc: 0.82 \t| Test acc: 0.83\n",
      "Epoch: 158 \t| Train loss: 0.114 \t| Train acc: 0.83 \t| Test acc: 0.83\n",
      "Epoch: 159 \t| Train loss: 0.118 \t| Train acc: 0.82 \t| Test acc: 0.82\n",
      "Epoch: 160 \t| Train loss: 0.111 \t| Train acc: 0.83 \t| Test acc: 0.83\n",
      "Epoch: 161 \t| Train loss: 0.118 \t| Train acc: 0.81 \t| Test acc: 0.82\n",
      "Epoch: 162 \t| Train loss: 0.121 \t| Train acc: 0.83 \t| Test acc: 0.82\n",
      "Epoch: 163 \t| Train loss: 0.116 \t| Train acc: 0.82 \t| Test acc: 0.82\n",
      "Epoch: 164 \t| Train loss: 0.118 \t| Train acc: 0.82 \t| Test acc: 0.83\n",
      "Epoch: 165 \t| Train loss: 0.122 \t| Train acc: 0.82 \t| Test acc: 0.82\n",
      "Epoch: 166 \t| Train loss: 0.112 \t| Train acc: 0.84 \t| Test acc: 0.83\n",
      "Epoch: 167 \t| Train loss: 0.109 \t| Train acc: 0.84 \t| Test acc: 0.82\n",
      "Epoch: 168 \t| Train loss: 0.119 \t| Train acc: 0.83 \t| Test acc: 0.83\n",
      "Epoch: 169 \t| Train loss: 0.111 \t| Train acc: 0.83 \t| Test acc: 0.82\n",
      "Epoch: 170 \t| Train loss: 0.118 \t| Train acc: 0.84 \t| Test acc: 0.83\n",
      "Epoch: 171 \t| Train loss: 0.115 \t| Train acc: 0.83 \t| Test acc: 0.82\n",
      "Epoch: 172 \t| Train loss: 0.113 \t| Train acc: 0.83 \t| Test acc: 0.82\n",
      "Epoch: 173 \t| Train loss: 0.112 \t| Train acc: 0.83 \t| Test acc: 0.83\n",
      "Epoch: 174 \t| Train loss: 0.111 \t| Train acc: 0.83 \t| Test acc: 0.82\n",
      "Epoch: 175 \t| Train loss: 0.111 \t| Train acc: 0.83 \t| Test acc: 0.83\n",
      "Epoch: 176 \t| Train loss: 0.113 \t| Train acc: 0.83 \t| Test acc: 0.82\n",
      "Epoch: 177 \t| Train loss: 0.11 \t| Train acc: 0.84 \t| Test acc: 0.82\n",
      "Epoch: 178 \t| Train loss: 0.113 \t| Train acc: 0.84 \t| Test acc: 0.82\n",
      "Epoch: 179 \t| Train loss: 0.123 \t| Train acc: 0.82 \t| Test acc: 0.82\n",
      "Epoch: 180 \t| Train loss: 0.115 \t| Train acc: 0.82 \t| Test acc: 0.82\n",
      "Epoch: 181 \t| Train loss: 0.112 \t| Train acc: 0.83 \t| Test acc: 0.82\n",
      "Epoch: 182 \t| Train loss: 0.108 \t| Train acc: 0.84 \t| Test acc: 0.82\n",
      "Epoch: 183 \t| Train loss: 0.122 \t| Train acc: 0.82 \t| Test acc: 0.82\n",
      "Epoch: 184 \t| Train loss: 0.108 \t| Train acc: 0.83 \t| Test acc: 0.82\n",
      "Epoch: 185 \t| Train loss: 0.112 \t| Train acc: 0.83 \t| Test acc: 0.82\n",
      "Epoch: 186 \t| Train loss: 0.112 \t| Train acc: 0.83 \t| Test acc: 0.82\n",
      "Epoch: 187 \t| Train loss: 0.111 \t| Train acc: 0.83 \t| Test acc: 0.82\n",
      "Epoch: 188 \t| Train loss: 0.115 \t| Train acc: 0.83 \t| Test acc: 0.82\n",
      "Epoch: 189 \t| Train loss: 0.116 \t| Train acc: 0.83 \t| Test acc: 0.82\n",
      "Epoch: 190 \t| Train loss: 0.111 \t| Train acc: 0.83 \t| Test acc: 0.83\n",
      "Epoch: 191 \t| Train loss: 0.115 \t| Train acc: 0.83 \t| Test acc: 0.82\n",
      "Epoch: 192 \t| Train loss: 0.116 \t| Train acc: 0.82 \t| Test acc: 0.82\n",
      "Epoch: 193 \t| Train loss: 0.112 \t| Train acc: 0.82 \t| Test acc: 0.82\n",
      "Epoch: 194 \t| Train loss: 0.107 \t| Train acc: 0.83 \t| Test acc: 0.82\n",
      "Epoch: 195 \t| Train loss: 0.112 \t| Train acc: 0.84 \t| Test acc: 0.82\n",
      "Epoch: 196 \t| Train loss: 0.112 \t| Train acc: 0.83 \t| Test acc: 0.82\n",
      "Epoch: 197 \t| Train loss: 0.107 \t| Train acc: 0.83 \t| Test acc: 0.82\n",
      "Epoch: 198 \t| Train loss: 0.108 \t| Train acc: 0.84 \t| Test acc: 0.82\n",
      "Epoch: 199 \t| Train loss: 0.107 \t| Train acc: 0.83 \t| Test acc: 0.82\n"
     ]
    }
   ],
   "source": [
    "train_losses_mlp = []\n",
    "#test_losses  = []\n",
    "train_accs_mlp = []\n",
    "test_accs_mlp  = []\n",
    "\n",
    "for epoch in range(200):\n",
    "    # Forward propagation (predicting train data)\n",
    "    for features, labels in data_loader:\n",
    "        train_preds_mlp = mlp_model(features)\n",
    "        class_weights_batch = class_weights_original[labels.long()]\n",
    "        loss_function = nn.BCELoss(weight=class_weights_batch)\n",
    "\n",
    "        train_loss_mlp  = loss_function(train_preds_mlp, labels)\n",
    "    \n",
    "        # Predicting test data #b\n",
    "        with torch.no_grad():\n",
    "            test_preds_mlp = mlp_model(X_validation_tensor)\n",
    "            #test_loss  = loss_function(test_preds, y_test)\n",
    "    \n",
    "        # Calculate accuracy #c\n",
    "        train_acc = calculate_accuracy(train_preds_mlp, labels)\n",
    "        test_acc  = calculate_accuracy(test_preds_mlp, y_validation_tensor)\n",
    "    \n",
    "        # Backward propagation #d\n",
    "        optimizer_mlp.zero_grad()\n",
    "        train_loss_mlp.backward()\n",
    "    \n",
    "        # Gradient descent step #e\n",
    "        optimizer_mlp.step()\n",
    "    \n",
    "        # Store training history #f\n",
    "        train_losses_mlp.append(train_loss_mlp.item())\n",
    "        #test_losses.append(test_loss.item())\n",
    "        train_accs_mlp.append(train_acc.item())\n",
    "        test_accs_mlp.append(test_acc.item())\n",
    "\n",
    "    # Print training data #g\n",
    "    #if epoch%100==0:\n",
    "    print(f'Epoch: {epoch} \\t|' \\\n",
    "          f' Train loss: {np.round(train_loss_mlp.item(),3)} \\t|' \\\n",
    "              #f' Test loss: {np.round(test_loss.item(),3)} \\t|' \\\n",
    "          f' Train acc: {np.round(train_acc.item(),2)} \\t|' \\\n",
    "          f' Test acc: {np.round(test_acc.item(),2)}')"
   ],
   "metadata": {
    "collapsed": false,
    "ExecuteTime": {
     "end_time": "2024-05-22T15:16:48.692664100Z",
     "start_time": "2024-05-22T15:09:42.763481700Z"
    }
   },
   "id": "aeee7f690f34764a"
  },
  {
   "cell_type": "code",
   "execution_count": 61,
   "outputs": [
    {
     "name": "stdout",
     "output_type": "stream",
     "text": [
      "Test Result:\n",
      "================================================\n",
      "Accuracy Score: 82.27%\n",
      "_______________________________________________\n",
      "CLASSIFICATION REPORT:\n",
      "                   0.0          1.0  accuracy    macro avg  weighted avg\n",
      "precision     0.957368     0.531197  0.822746     0.744283      0.873428\n",
      "recall        0.815589     0.851927  0.822746     0.833758      0.822746\n",
      "f1-score      0.880810     0.654375  0.822746     0.767593      0.836210\n",
      "support    6030.000000  1479.000000  0.822746  7509.000000   7509.000000\n",
      "_______________________________________________\n",
      "Confusion Matrix: \n",
      " [[4918 1112]\n",
      " [ 219 1260]]\n"
     ]
    }
   ],
   "source": [
    "evaluate_nn(y_validation_tensor.clone().detach(), test_preds_mlp.clone().detach().round(), train=False)"
   ],
   "metadata": {
    "collapsed": false,
    "ExecuteTime": {
     "end_time": "2024-05-22T15:18:08.772402500Z",
     "start_time": "2024-05-22T15:18:08.678208200Z"
    }
   },
   "id": "7d98607c45679a34"
  },
  {
   "cell_type": "code",
   "execution_count": 62,
   "outputs": [
    {
     "name": "stdout",
     "output_type": "stream",
     "text": [
      "Test Result:\n",
      "================================================\n",
      "Accuracy Score: 80.95%\n",
      "_______________________________________________\n",
      "CLASSIFICATION REPORT:\n",
      "                   0.0          1.0  accuracy    macro avg  weighted avg\n",
      "precision     0.952501     0.510543  0.809549     0.731522      0.865315\n",
      "recall        0.802778     0.837101  0.809549     0.819939      0.809549\n",
      "f1-score      0.871254     0.634257  0.809549     0.752755      0.824501\n",
      "support    6120.000000  1504.000000  0.809549  7624.000000   7624.000000\n",
      "_______________________________________________\n",
      "Confusion Matrix: \n",
      " [[4913 1207]\n",
      " [ 245 1259]]\n"
     ]
    }
   ],
   "source": [
    "test_preds_mlp = mlp_model(X_test_tensor)\n",
    "evaluate_nn(y_test_tensor.clone().detach(), test_preds_mlp.clone().detach().round(), train=False)"
   ],
   "metadata": {
    "collapsed": false,
    "ExecuteTime": {
     "end_time": "2024-05-22T15:18:10.719549400Z",
     "start_time": "2024-05-22T15:18:10.613197400Z"
    }
   },
   "id": "3d40e3f5456aa6df"
  },
  {
   "cell_type": "code",
   "execution_count": 66,
   "outputs": [
    {
     "data": {
      "text/plain": "==========================================================================================\nLayer (type:depth-idx)                   Output Shape              Param #\n==========================================================================================\nMLP                                      [53099, 1]                --\n├─Sequential: 1-1                        [53099, 1]                --\n│    └─Linear: 2-1                       [53099, 3]                3,006\n│    └─ReLU: 2-2                         [53099, 3]                --\n│    └─Linear: 2-3                       [53099, 1]                4\n│    └─Sigmoid: 2-4                      [53099, 1]                --\n==========================================================================================\nTotal params: 3,010\nTrainable params: 3,010\nNon-trainable params: 0\nTotal mult-adds (Units.MEGABYTES): 159.83\n==========================================================================================\nInput size (MB): 212.61\nForward/backward pass size (MB): 1.70\nParams size (MB): 0.01\nEstimated Total Size (MB): 214.32\n=========================================================================================="
     },
     "execution_count": 66,
     "metadata": {},
     "output_type": "execute_result"
    }
   ],
   "source": [
    "mlpsl_model = MLP(num_features=n_features)\n",
    "summary(mlpsl_model, input_size=X_train.shape)"
   ],
   "metadata": {
    "collapsed": false,
    "ExecuteTime": {
     "end_time": "2024-05-22T15:20:59.635129100Z",
     "start_time": "2024-05-22T15:20:59.134939Z"
    }
   },
   "id": "a14460957c7bcc02"
  },
  {
   "cell_type": "code",
   "execution_count": 67,
   "outputs": [],
   "source": [
    "optimizer_mlpsl = optim.Adam(mlpsl_model.parameters())"
   ],
   "metadata": {
    "collapsed": false,
    "ExecuteTime": {
     "end_time": "2024-05-22T15:21:00.474411600Z",
     "start_time": "2024-05-22T15:21:00.411507400Z"
    }
   },
   "id": "6acb9bc817821d8a"
  },
  {
   "cell_type": "code",
   "execution_count": 70,
   "outputs": [
    {
     "name": "stdout",
     "output_type": "stream",
     "text": [
      "Epoch: 0 \t| Train loss: 0.075 \t| Train acc: 0.85 \t| Test acc: 0.84\n",
      "Epoch: 1 \t| Train loss: 0.077 \t| Train acc: 0.84 \t| Test acc: 0.84\n",
      "Epoch: 2 \t| Train loss: 0.081 \t| Train acc: 0.84 \t| Test acc: 0.84\n",
      "Epoch: 3 \t| Train loss: 0.083 \t| Train acc: 0.84 \t| Test acc: 0.84\n",
      "Epoch: 4 \t| Train loss: 0.075 \t| Train acc: 0.85 \t| Test acc: 0.84\n",
      "Epoch: 5 \t| Train loss: 0.083 \t| Train acc: 0.84 \t| Test acc: 0.84\n",
      "Epoch: 6 \t| Train loss: 0.073 \t| Train acc: 0.84 \t| Test acc: 0.84\n",
      "Epoch: 7 \t| Train loss: 0.077 \t| Train acc: 0.84 \t| Test acc: 0.84\n",
      "Epoch: 8 \t| Train loss: 0.08 \t| Train acc: 0.85 \t| Test acc: 0.84\n",
      "Epoch: 9 \t| Train loss: 0.085 \t| Train acc: 0.84 \t| Test acc: 0.84\n",
      "Epoch: 10 \t| Train loss: 0.074 \t| Train acc: 0.85 \t| Test acc: 0.84\n",
      "Epoch: 11 \t| Train loss: 0.073 \t| Train acc: 0.85 \t| Test acc: 0.84\n",
      "Epoch: 12 \t| Train loss: 0.074 \t| Train acc: 0.86 \t| Test acc: 0.84\n",
      "Epoch: 13 \t| Train loss: 0.071 \t| Train acc: 0.85 \t| Test acc: 0.84\n",
      "Epoch: 14 \t| Train loss: 0.077 \t| Train acc: 0.84 \t| Test acc: 0.84\n",
      "Epoch: 15 \t| Train loss: 0.077 \t| Train acc: 0.85 \t| Test acc: 0.84\n",
      "Epoch: 16 \t| Train loss: 0.078 \t| Train acc: 0.84 \t| Test acc: 0.84\n",
      "Epoch: 17 \t| Train loss: 0.08 \t| Train acc: 0.84 \t| Test acc: 0.84\n",
      "Epoch: 18 \t| Train loss: 0.076 \t| Train acc: 0.84 \t| Test acc: 0.84\n",
      "Epoch: 19 \t| Train loss: 0.068 \t| Train acc: 0.85 \t| Test acc: 0.84\n",
      "Epoch: 20 \t| Train loss: 0.076 \t| Train acc: 0.85 \t| Test acc: 0.84\n",
      "Epoch: 21 \t| Train loss: 0.076 \t| Train acc: 0.85 \t| Test acc: 0.84\n",
      "Epoch: 22 \t| Train loss: 0.076 \t| Train acc: 0.84 \t| Test acc: 0.84\n",
      "Epoch: 23 \t| Train loss: 0.073 \t| Train acc: 0.85 \t| Test acc: 0.84\n",
      "Epoch: 24 \t| Train loss: 0.075 \t| Train acc: 0.85 \t| Test acc: 0.84\n",
      "Epoch: 25 \t| Train loss: 0.072 \t| Train acc: 0.84 \t| Test acc: 0.84\n",
      "Epoch: 26 \t| Train loss: 0.068 \t| Train acc: 0.85 \t| Test acc: 0.84\n",
      "Epoch: 27 \t| Train loss: 0.074 \t| Train acc: 0.84 \t| Test acc: 0.84\n",
      "Epoch: 28 \t| Train loss: 0.073 \t| Train acc: 0.84 \t| Test acc: 0.84\n",
      "Epoch: 29 \t| Train loss: 0.078 \t| Train acc: 0.84 \t| Test acc: 0.84\n",
      "Epoch: 30 \t| Train loss: 0.075 \t| Train acc: 0.85 \t| Test acc: 0.84\n",
      "Epoch: 31 \t| Train loss: 0.073 \t| Train acc: 0.85 \t| Test acc: 0.84\n",
      "Epoch: 32 \t| Train loss: 0.075 \t| Train acc: 0.84 \t| Test acc: 0.84\n",
      "Epoch: 33 \t| Train loss: 0.079 \t| Train acc: 0.84 \t| Test acc: 0.84\n",
      "Epoch: 34 \t| Train loss: 0.075 \t| Train acc: 0.85 \t| Test acc: 0.84\n",
      "Epoch: 35 \t| Train loss: 0.072 \t| Train acc: 0.84 \t| Test acc: 0.84\n",
      "Epoch: 36 \t| Train loss: 0.076 \t| Train acc: 0.85 \t| Test acc: 0.84\n",
      "Epoch: 37 \t| Train loss: 0.074 \t| Train acc: 0.85 \t| Test acc: 0.84\n",
      "Epoch: 38 \t| Train loss: 0.076 \t| Train acc: 0.84 \t| Test acc: 0.84\n",
      "Epoch: 39 \t| Train loss: 0.071 \t| Train acc: 0.85 \t| Test acc: 0.84\n",
      "Epoch: 40 \t| Train loss: 0.068 \t| Train acc: 0.85 \t| Test acc: 0.84\n",
      "Epoch: 41 \t| Train loss: 0.078 \t| Train acc: 0.84 \t| Test acc: 0.84\n",
      "Epoch: 42 \t| Train loss: 0.074 \t| Train acc: 0.85 \t| Test acc: 0.84\n",
      "Epoch: 43 \t| Train loss: 0.07 \t| Train acc: 0.85 \t| Test acc: 0.84\n",
      "Epoch: 44 \t| Train loss: 0.08 \t| Train acc: 0.84 \t| Test acc: 0.84\n",
      "Epoch: 45 \t| Train loss: 0.067 \t| Train acc: 0.85 \t| Test acc: 0.84\n",
      "Epoch: 46 \t| Train loss: 0.071 \t| Train acc: 0.85 \t| Test acc: 0.84\n",
      "Epoch: 47 \t| Train loss: 0.07 \t| Train acc: 0.86 \t| Test acc: 0.84\n",
      "Epoch: 48 \t| Train loss: 0.078 \t| Train acc: 0.86 \t| Test acc: 0.84\n",
      "Epoch: 49 \t| Train loss: 0.076 \t| Train acc: 0.85 \t| Test acc: 0.84\n",
      "Epoch: 50 \t| Train loss: 0.074 \t| Train acc: 0.85 \t| Test acc: 0.84\n",
      "Epoch: 51 \t| Train loss: 0.073 \t| Train acc: 0.85 \t| Test acc: 0.84\n",
      "Epoch: 52 \t| Train loss: 0.078 \t| Train acc: 0.85 \t| Test acc: 0.84\n",
      "Epoch: 53 \t| Train loss: 0.073 \t| Train acc: 0.84 \t| Test acc: 0.84\n"
     ]
    },
    {
     "ename": "KeyboardInterrupt",
     "evalue": "",
     "output_type": "error",
     "traceback": [
      "\u001B[1;31m---------------------------------------------------------------------------\u001B[0m",
      "\u001B[1;31mKeyboardInterrupt\u001B[0m                         Traceback (most recent call last)",
      "Cell \u001B[1;32mIn[70], line 8\u001B[0m\n\u001B[0;32m      4\u001B[0m test_accs_mlpsl  \u001B[38;5;241m=\u001B[39m []\n\u001B[0;32m      6\u001B[0m \u001B[38;5;28;01mfor\u001B[39;00m epoch \u001B[38;5;129;01min\u001B[39;00m \u001B[38;5;28mrange\u001B[39m(\u001B[38;5;241m400\u001B[39m):\n\u001B[0;32m      7\u001B[0m     \u001B[38;5;66;03m# Forward propagation (predicting train data)\u001B[39;00m\n\u001B[1;32m----> 8\u001B[0m     \u001B[38;5;28;01mfor\u001B[39;00m features, labels \u001B[38;5;129;01min\u001B[39;00m data_loader:\n\u001B[0;32m      9\u001B[0m         train_preds_mlpsl \u001B[38;5;241m=\u001B[39m mlpsl_model(features)\n\u001B[0;32m     10\u001B[0m         class_weights_batch \u001B[38;5;241m=\u001B[39m class_weights_original[labels\u001B[38;5;241m.\u001B[39mlong()]\n",
      "File \u001B[1;32m~\\anaconda3\\Lib\\site-packages\\torch\\utils\\data\\dataloader.py:631\u001B[0m, in \u001B[0;36m_BaseDataLoaderIter.__next__\u001B[1;34m(self)\u001B[0m\n\u001B[0;32m    628\u001B[0m \u001B[38;5;28;01mif\u001B[39;00m \u001B[38;5;28mself\u001B[39m\u001B[38;5;241m.\u001B[39m_sampler_iter \u001B[38;5;129;01mis\u001B[39;00m \u001B[38;5;28;01mNone\u001B[39;00m:\n\u001B[0;32m    629\u001B[0m     \u001B[38;5;66;03m# TODO(https://github.com/pytorch/pytorch/issues/76750)\u001B[39;00m\n\u001B[0;32m    630\u001B[0m     \u001B[38;5;28mself\u001B[39m\u001B[38;5;241m.\u001B[39m_reset()  \u001B[38;5;66;03m# type: ignore[call-arg]\u001B[39;00m\n\u001B[1;32m--> 631\u001B[0m data \u001B[38;5;241m=\u001B[39m \u001B[38;5;28mself\u001B[39m\u001B[38;5;241m.\u001B[39m_next_data()\n\u001B[0;32m    632\u001B[0m \u001B[38;5;28mself\u001B[39m\u001B[38;5;241m.\u001B[39m_num_yielded \u001B[38;5;241m+\u001B[39m\u001B[38;5;241m=\u001B[39m \u001B[38;5;241m1\u001B[39m\n\u001B[0;32m    633\u001B[0m \u001B[38;5;28;01mif\u001B[39;00m \u001B[38;5;28mself\u001B[39m\u001B[38;5;241m.\u001B[39m_dataset_kind \u001B[38;5;241m==\u001B[39m _DatasetKind\u001B[38;5;241m.\u001B[39mIterable \u001B[38;5;129;01mand\u001B[39;00m \\\n\u001B[0;32m    634\u001B[0m         \u001B[38;5;28mself\u001B[39m\u001B[38;5;241m.\u001B[39m_IterableDataset_len_called \u001B[38;5;129;01mis\u001B[39;00m \u001B[38;5;129;01mnot\u001B[39;00m \u001B[38;5;28;01mNone\u001B[39;00m \u001B[38;5;129;01mand\u001B[39;00m \\\n\u001B[0;32m    635\u001B[0m         \u001B[38;5;28mself\u001B[39m\u001B[38;5;241m.\u001B[39m_num_yielded \u001B[38;5;241m>\u001B[39m \u001B[38;5;28mself\u001B[39m\u001B[38;5;241m.\u001B[39m_IterableDataset_len_called:\n",
      "File \u001B[1;32m~\\anaconda3\\Lib\\site-packages\\torch\\utils\\data\\dataloader.py:675\u001B[0m, in \u001B[0;36m_SingleProcessDataLoaderIter._next_data\u001B[1;34m(self)\u001B[0m\n\u001B[0;32m    673\u001B[0m \u001B[38;5;28;01mdef\u001B[39;00m \u001B[38;5;21m_next_data\u001B[39m(\u001B[38;5;28mself\u001B[39m):\n\u001B[0;32m    674\u001B[0m     index \u001B[38;5;241m=\u001B[39m \u001B[38;5;28mself\u001B[39m\u001B[38;5;241m.\u001B[39m_next_index()  \u001B[38;5;66;03m# may raise StopIteration\u001B[39;00m\n\u001B[1;32m--> 675\u001B[0m     data \u001B[38;5;241m=\u001B[39m \u001B[38;5;28mself\u001B[39m\u001B[38;5;241m.\u001B[39m_dataset_fetcher\u001B[38;5;241m.\u001B[39mfetch(index)  \u001B[38;5;66;03m# may raise StopIteration\u001B[39;00m\n\u001B[0;32m    676\u001B[0m     \u001B[38;5;28;01mif\u001B[39;00m \u001B[38;5;28mself\u001B[39m\u001B[38;5;241m.\u001B[39m_pin_memory:\n\u001B[0;32m    677\u001B[0m         data \u001B[38;5;241m=\u001B[39m _utils\u001B[38;5;241m.\u001B[39mpin_memory\u001B[38;5;241m.\u001B[39mpin_memory(data, \u001B[38;5;28mself\u001B[39m\u001B[38;5;241m.\u001B[39m_pin_memory_device)\n",
      "File \u001B[1;32m~\\anaconda3\\Lib\\site-packages\\torch\\utils\\data\\_utils\\fetch.py:54\u001B[0m, in \u001B[0;36m_MapDatasetFetcher.fetch\u001B[1;34m(self, possibly_batched_index)\u001B[0m\n\u001B[0;32m     52\u001B[0m \u001B[38;5;28;01melse\u001B[39;00m:\n\u001B[0;32m     53\u001B[0m     data \u001B[38;5;241m=\u001B[39m \u001B[38;5;28mself\u001B[39m\u001B[38;5;241m.\u001B[39mdataset[possibly_batched_index]\n\u001B[1;32m---> 54\u001B[0m \u001B[38;5;28;01mreturn\u001B[39;00m \u001B[38;5;28mself\u001B[39m\u001B[38;5;241m.\u001B[39mcollate_fn(data)\n",
      "File \u001B[1;32m~\\anaconda3\\Lib\\site-packages\\torch\\utils\\data\\_utils\\collate.py:277\u001B[0m, in \u001B[0;36mdefault_collate\u001B[1;34m(batch)\u001B[0m\n\u001B[0;32m    216\u001B[0m \u001B[38;5;28;01mdef\u001B[39;00m \u001B[38;5;21mdefault_collate\u001B[39m(batch):\n\u001B[0;32m    217\u001B[0m \u001B[38;5;250m    \u001B[39m\u001B[38;5;124mr\u001B[39m\u001B[38;5;124;03m\"\"\"\u001B[39;00m\n\u001B[0;32m    218\u001B[0m \u001B[38;5;124;03m    Take in a batch of data and put the elements within the batch into a tensor with an additional outer dimension - batch size.\u001B[39;00m\n\u001B[0;32m    219\u001B[0m \n\u001B[1;32m   (...)\u001B[0m\n\u001B[0;32m    275\u001B[0m \u001B[38;5;124;03m        >>> default_collate(batch)  # Handle `CustomType` automatically\u001B[39;00m\n\u001B[0;32m    276\u001B[0m \u001B[38;5;124;03m    \"\"\"\u001B[39;00m\n\u001B[1;32m--> 277\u001B[0m     \u001B[38;5;28;01mreturn\u001B[39;00m collate(batch, collate_fn_map\u001B[38;5;241m=\u001B[39mdefault_collate_fn_map)\n",
      "File \u001B[1;32m~\\anaconda3\\Lib\\site-packages\\torch\\utils\\data\\_utils\\collate.py:144\u001B[0m, in \u001B[0;36mcollate\u001B[1;34m(batch, collate_fn_map)\u001B[0m\n\u001B[0;32m    141\u001B[0m transposed \u001B[38;5;241m=\u001B[39m \u001B[38;5;28mlist\u001B[39m(\u001B[38;5;28mzip\u001B[39m(\u001B[38;5;241m*\u001B[39mbatch))  \u001B[38;5;66;03m# It may be accessed twice, so we use a list.\u001B[39;00m\n\u001B[0;32m    143\u001B[0m \u001B[38;5;28;01mif\u001B[39;00m \u001B[38;5;28misinstance\u001B[39m(elem, \u001B[38;5;28mtuple\u001B[39m):\n\u001B[1;32m--> 144\u001B[0m     \u001B[38;5;28;01mreturn\u001B[39;00m [collate(samples, collate_fn_map\u001B[38;5;241m=\u001B[39mcollate_fn_map) \u001B[38;5;28;01mfor\u001B[39;00m samples \u001B[38;5;129;01min\u001B[39;00m transposed]  \u001B[38;5;66;03m# Backwards compatibility.\u001B[39;00m\n\u001B[0;32m    145\u001B[0m \u001B[38;5;28;01melse\u001B[39;00m:\n\u001B[0;32m    146\u001B[0m     \u001B[38;5;28;01mtry\u001B[39;00m:\n",
      "File \u001B[1;32m~\\anaconda3\\Lib\\site-packages\\torch\\utils\\data\\_utils\\collate.py:144\u001B[0m, in \u001B[0;36m<listcomp>\u001B[1;34m(.0)\u001B[0m\n\u001B[0;32m    141\u001B[0m transposed \u001B[38;5;241m=\u001B[39m \u001B[38;5;28mlist\u001B[39m(\u001B[38;5;28mzip\u001B[39m(\u001B[38;5;241m*\u001B[39mbatch))  \u001B[38;5;66;03m# It may be accessed twice, so we use a list.\u001B[39;00m\n\u001B[0;32m    143\u001B[0m \u001B[38;5;28;01mif\u001B[39;00m \u001B[38;5;28misinstance\u001B[39m(elem, \u001B[38;5;28mtuple\u001B[39m):\n\u001B[1;32m--> 144\u001B[0m     \u001B[38;5;28;01mreturn\u001B[39;00m [collate(samples, collate_fn_map\u001B[38;5;241m=\u001B[39mcollate_fn_map) \u001B[38;5;28;01mfor\u001B[39;00m samples \u001B[38;5;129;01min\u001B[39;00m transposed]  \u001B[38;5;66;03m# Backwards compatibility.\u001B[39;00m\n\u001B[0;32m    145\u001B[0m \u001B[38;5;28;01melse\u001B[39;00m:\n\u001B[0;32m    146\u001B[0m     \u001B[38;5;28;01mtry\u001B[39;00m:\n",
      "File \u001B[1;32m~\\anaconda3\\Lib\\site-packages\\torch\\utils\\data\\_utils\\collate.py:121\u001B[0m, in \u001B[0;36mcollate\u001B[1;34m(batch, collate_fn_map)\u001B[0m\n\u001B[0;32m    119\u001B[0m \u001B[38;5;28;01mif\u001B[39;00m collate_fn_map \u001B[38;5;129;01mis\u001B[39;00m \u001B[38;5;129;01mnot\u001B[39;00m \u001B[38;5;28;01mNone\u001B[39;00m:\n\u001B[0;32m    120\u001B[0m     \u001B[38;5;28;01mif\u001B[39;00m elem_type \u001B[38;5;129;01min\u001B[39;00m collate_fn_map:\n\u001B[1;32m--> 121\u001B[0m         \u001B[38;5;28;01mreturn\u001B[39;00m collate_fn_map[elem_type](batch, collate_fn_map\u001B[38;5;241m=\u001B[39mcollate_fn_map)\n\u001B[0;32m    123\u001B[0m     \u001B[38;5;28;01mfor\u001B[39;00m collate_type \u001B[38;5;129;01min\u001B[39;00m collate_fn_map:\n\u001B[0;32m    124\u001B[0m         \u001B[38;5;28;01mif\u001B[39;00m \u001B[38;5;28misinstance\u001B[39m(elem, collate_type):\n",
      "File \u001B[1;32m~\\anaconda3\\Lib\\site-packages\\torch\\utils\\data\\_utils\\collate.py:174\u001B[0m, in \u001B[0;36mcollate_tensor_fn\u001B[1;34m(batch, collate_fn_map)\u001B[0m\n\u001B[0;32m    172\u001B[0m     storage \u001B[38;5;241m=\u001B[39m elem\u001B[38;5;241m.\u001B[39m_typed_storage()\u001B[38;5;241m.\u001B[39m_new_shared(numel, device\u001B[38;5;241m=\u001B[39melem\u001B[38;5;241m.\u001B[39mdevice)\n\u001B[0;32m    173\u001B[0m     out \u001B[38;5;241m=\u001B[39m elem\u001B[38;5;241m.\u001B[39mnew(storage)\u001B[38;5;241m.\u001B[39mresize_(\u001B[38;5;28mlen\u001B[39m(batch), \u001B[38;5;241m*\u001B[39m\u001B[38;5;28mlist\u001B[39m(elem\u001B[38;5;241m.\u001B[39msize()))\n\u001B[1;32m--> 174\u001B[0m \u001B[38;5;28;01mreturn\u001B[39;00m torch\u001B[38;5;241m.\u001B[39mstack(batch, \u001B[38;5;241m0\u001B[39m, out\u001B[38;5;241m=\u001B[39mout)\n",
      "\u001B[1;31mKeyboardInterrupt\u001B[0m: "
     ]
    }
   ],
   "source": [
    "train_losses_mlpsl = []\n",
    "#test_losses  = []\n",
    "train_accs_mlpsl = []\n",
    "test_accs_mlpsl  = []\n",
    "\n",
    "for epoch in range(400):\n",
    "    # Forward propagation (predicting train data)\n",
    "    for features, labels in data_loader:\n",
    "        train_preds_mlpsl = mlpsl_model(features)\n",
    "        class_weights_batch = class_weights_original[labels.long()]\n",
    "        loss_function = nn.BCELoss(weight=class_weights_batch)\n",
    "        last_fico_mlpsl = features[:, last_fico_index].reshape(-1, 1)\n",
    "\n",
    "        rule_mlpsl = (last_fico_mlpsl<=652.5).float()\n",
    "        #train_loss_mlp  = loss_function(train_preds_mlp, labels)\n",
    "        train_loss_mlpsl = semantic_loss(train_preds_mlpsl, labels, rule_mlpsl, class_weights_batch, 0.005)\n",
    "\n",
    "        # Predicting test data #b\n",
    "        with torch.no_grad():\n",
    "            test_preds_mlpsl = mlpsl_model(X_validation_tensor)\n",
    "            #test_loss  = loss_function(test_preds, y_test)\n",
    "\n",
    "        # Calculate accuracy #c\n",
    "        train_acc = calculate_accuracy(train_preds_mlpsl, labels)\n",
    "        test_acc  = calculate_accuracy(test_preds_mlpsl, y_validation_tensor)\n",
    "\n",
    "        # Backward propagation #d\n",
    "        optimizer_mlpsl.zero_grad()\n",
    "        train_loss_mlpsl.backward()\n",
    "\n",
    "        # Gradient descent step #e\n",
    "        optimizer_mlpsl.step()\n",
    "\n",
    "        # Store training history #f\n",
    "        train_losses_mlpsl.append(train_loss_mlpsl.item())\n",
    "        #test_losses.append(test_loss.item())\n",
    "        train_accs_mlpsl.append(train_acc.item())\n",
    "        test_accs_mlpsl.append(test_acc.item())\n",
    "\n",
    "    # Print training data #g\n",
    "    #if epoch%100==0:\n",
    "    print(f'Epoch: {epoch} \\t|' \\\n",
    "          f' Train loss: {np.round(train_loss_mlpsl.item(),3)} \\t|' \\\n",
    "              #f' Test loss: {np.round(test_loss.item(),3)} \\t|' \\\n",
    "          f' Train acc: {np.round(train_acc.item(),2)} \\t|' \\\n",
    "          f' Test acc: {np.round(test_acc.item(),2)}')"
   ],
   "metadata": {
    "collapsed": false,
    "ExecuteTime": {
     "end_time": "2024-05-22T15:31:52.076386900Z",
     "start_time": "2024-05-22T15:29:54.463485200Z"
    }
   },
   "id": "c01df1a2b76901"
  },
  {
   "cell_type": "code",
   "execution_count": 71,
   "outputs": [
    {
     "name": "stdout",
     "output_type": "stream",
     "text": [
      "Test Result:\n",
      "================================================\n",
      "Accuracy Score: 83.94%\n",
      "_______________________________________________\n",
      "CLASSIFICATION REPORT:\n",
      "                   0.0          1.0  accuracy    macro avg  weighted avg\n",
      "precision     0.959779     0.560318  0.839393     0.760049      0.881100\n",
      "recall        0.834992     0.857336  0.839393     0.846164      0.839393\n",
      "f1-score      0.893047     0.677712  0.839393     0.785380      0.850634\n",
      "support    6030.000000  1479.000000  0.839393  7509.000000   7509.000000\n",
      "_______________________________________________\n",
      "Confusion Matrix: \n",
      " [[5035  995]\n",
      " [ 211 1268]]\n"
     ]
    }
   ],
   "source": [
    "evaluate_nn(y_validation_tensor.clone().detach(), test_preds_mlpsl.clone().detach().round(), train=False)"
   ],
   "metadata": {
    "collapsed": false,
    "ExecuteTime": {
     "end_time": "2024-05-22T15:31:55.417045600Z",
     "start_time": "2024-05-22T15:31:55.307154400Z"
    }
   },
   "id": "24ed0ccd675ed1c9"
  },
  {
   "cell_type": "code",
   "execution_count": 72,
   "outputs": [
    {
     "name": "stdout",
     "output_type": "stream",
     "text": [
      "Test Result:\n",
      "================================================\n",
      "Accuracy Score: 82.54%\n",
      "_______________________________________________\n",
      "CLASSIFICATION REPORT:\n",
      "                   0.0          1.0  accuracy    macro avg  weighted avg\n",
      "precision     0.953934     0.536824   0.82542     0.745379       0.87165\n",
      "recall        0.822222     0.838431   0.82542     0.830327       0.82542\n",
      "f1-score      0.883194     0.654555   0.82542     0.768875       0.83809\n",
      "support    6120.000000  1504.000000   0.82542  7624.000000    7624.00000\n",
      "_______________________________________________\n",
      "Confusion Matrix: \n",
      " [[5032 1088]\n",
      " [ 243 1261]]\n"
     ]
    }
   ],
   "source": [
    "test_preds_mlpsl = mlpsl_model(X_test_tensor)\n",
    "evaluate_nn(y_test_tensor.clone().detach(), test_preds_mlpsl.clone().detach().round(), train=False)"
   ],
   "metadata": {
    "collapsed": false,
    "ExecuteTime": {
     "end_time": "2024-05-22T15:32:00.174843600Z",
     "start_time": "2024-05-22T15:32:00.081010300Z"
    }
   },
   "id": "c7c37e6646ab6887"
  },
  {
   "cell_type": "markdown",
   "source": [
    "# Tree-based predictions"
   ],
   "metadata": {
    "collapsed": false
   },
   "id": "a64b8590accf4ef1"
  },
  {
   "cell_type": "code",
   "execution_count": 73,
   "outputs": [
    {
     "name": "stdout",
     "output_type": "stream",
     "text": [
      "Test Result:\n",
      "================================================\n",
      "Accuracy Score: 84.26%\n",
      "_______________________________________________\n",
      "CLASSIFICATION REPORT:\n",
      "                   0.0          1.0  accuracy    macro avg  weighted avg\n",
      "precision     0.907669     0.595010  0.842589     0.751339      0.846086\n",
      "recall        0.895025     0.628803  0.842589     0.761914      0.842589\n",
      "f1-score      0.901303     0.611440  0.842589     0.756371      0.844210\n",
      "support    6030.000000  1479.000000  0.842589  7509.000000   7509.000000\n",
      "_______________________________________________\n",
      "Confusion Matrix: \n",
      " [[5397  633]\n",
      " [ 549  930]]\n"
     ]
    }
   ],
   "source": [
    "dt_model = DecisionTreeClassifier(class_weight='balanced')\n",
    "# Fit the model using X_train and y_train\n",
    "dt_model.fit(X_train_scaled, y_train)\n",
    "\n",
    "predictions_dt = dt_model.predict(X_validation_scaled)\n",
    "\n",
    "class_report = classification_report(y_validation, predictions_dt)\n",
    "evaluate_nn(y_validation_tensor.clone().detach(), predictions_dt.round(), train=False)"
   ],
   "metadata": {
    "collapsed": false,
    "ExecuteTime": {
     "end_time": "2024-05-22T15:41:44.235335300Z",
     "start_time": "2024-05-22T15:41:26.544166800Z"
    }
   },
   "id": "a044a65c743b4508"
  },
  {
   "cell_type": "code",
   "execution_count": 74,
   "outputs": [
    {
     "name": "stdout",
     "output_type": "stream",
     "text": [
      "Test Result:\n",
      "================================================\n",
      "Accuracy Score: 84.14%\n",
      "_______________________________________________\n",
      "CLASSIFICATION REPORT:\n",
      "                   0.0          1.0  accuracy    macro avg  weighted avg\n",
      "precision     0.908094     0.591786  0.841422     0.749940      0.845695\n",
      "recall        0.892810     0.632314  0.841422     0.762562      0.841422\n",
      "f1-score      0.900387     0.611379  0.841422     0.755883      0.843374\n",
      "support    6120.000000  1504.000000  0.841422  7624.000000   7624.000000\n",
      "_______________________________________________\n",
      "Confusion Matrix: \n",
      " [[5464  656]\n",
      " [ 553  951]]\n"
     ]
    }
   ],
   "source": [
    "test_preds_dt = dt_model.predict(X_test_scaled)\n",
    "evaluate_nn(y_test_tensor.clone().detach(), test_preds_dt.round(), train=False)"
   ],
   "metadata": {
    "collapsed": false,
    "ExecuteTime": {
     "end_time": "2024-05-22T15:41:48.949019300Z",
     "start_time": "2024-05-22T15:41:48.771876100Z"
    }
   },
   "id": "b9c2c93c375e3e53"
  },
  {
   "cell_type": "code",
   "execution_count": 168,
   "outputs": [
    {
     "name": "stdout",
     "output_type": "stream",
     "text": [
      "XGBoost Classification Report:\n",
      "               precision    recall  f1-score   support\n",
      "\n",
      "           0       0.96      0.88      0.92      6030\n",
      "           1       0.63      0.85      0.72      1479\n",
      "\n",
      "    accuracy                           0.87      7509\n",
      "   macro avg       0.79      0.86      0.82      7509\n",
      "weighted avg       0.89      0.87      0.88      7509\n",
      "\n",
      "Test Result:\n",
      "================================================\n",
      "Accuracy Score: 87.04%\n",
      "_______________________________________________\n",
      "CLASSIFICATION REPORT:\n",
      "                   0.0          1.0  accuracy    macro avg  weighted avg\n",
      "precision     0.959978     0.625746  0.870422     0.792862      0.894146\n",
      "recall        0.875124     0.851251  0.870422     0.863188      0.870422\n",
      "f1-score      0.915589     0.721283  0.870422     0.818436      0.877318\n",
      "support    6030.000000  1479.000000  0.870422  7509.000000   7509.000000\n",
      "_______________________________________________\n",
      "Confusion Matrix: \n",
      " [[5277  753]\n",
      " [ 220 1259]]\n"
     ]
    }
   ],
   "source": [
    "import xgboost as xgb\n",
    "\n",
    "# Define the XGBoost classifier\n",
    "xgb_model = xgb.XGBClassifier(scale_pos_weight=(len(y_train) - sum(y_train)) / sum(y_train))\n",
    "\n",
    "# Fit the model using X_train_scaled and y_train\n",
    "xgb_model.fit(X_train_scaled, y_train)\n",
    "\n",
    "# Make predictions on the test set\n",
    "predictions_xgb = xgb_model.predict(X_validation_scaled)\n",
    "\n",
    "# Evaluate the performance of the model\n",
    "class_report_xgb = classification_report(y_validation, predictions_xgb)\n",
    "print(\"XGBoost Classification Report:\\n\", class_report_xgb)\n",
    "evaluate_nn(y_validation_tensor.clone().detach(), predictions_xgb.round(), train=False)\n"
   ],
   "metadata": {
    "collapsed": false,
    "ExecuteTime": {
     "end_time": "2024-05-09T11:14:37.021665200Z",
     "start_time": "2024-05-09T11:14:29.494808900Z"
    }
   },
   "id": "19d30ad99297eea1"
  },
  {
   "cell_type": "code",
   "execution_count": 212,
   "outputs": [
    {
     "name": "stdout",
     "output_type": "stream",
     "text": [
      "Test Result:\n",
      "================================================\n",
      "Accuracy Score: 86.59%\n",
      "_______________________________________________\n",
      "CLASSIFICATION REPORT:\n",
      "                   0.0          1.0  accuracy    macro avg  weighted avg\n",
      "precision     0.959114     0.616313   0.86595     0.787713      0.891489\n",
      "recall        0.870098     0.849069   0.86595     0.859584      0.865950\n",
      "f1-score      0.912440     0.714206   0.86595     0.813323      0.873334\n",
      "support    6120.000000  1504.000000   0.86595  7624.000000   7624.000000\n",
      "_______________________________________________\n",
      "Confusion Matrix: \n",
      " [[5325  795]\n",
      " [ 227 1277]]\n"
     ]
    }
   ],
   "source": [
    "test_preds_xgb = xgb_model.predict(X_test_scaled)\n",
    "evaluate_nn(y_test_tensor.clone().detach(), test_preds_xgb.round(), train=False)"
   ],
   "metadata": {
    "collapsed": false,
    "ExecuteTime": {
     "end_time": "2024-05-09T15:54:36.878119200Z",
     "start_time": "2024-05-09T15:54:36.573069400Z"
    }
   },
   "id": "53bbf524e70efae1"
  },
  {
   "cell_type": "markdown",
   "source": [
    "# Comparing the models on limited data"
   ],
   "metadata": {
    "collapsed": false
   },
   "id": "f628c0721b6d23f1"
  },
  {
   "cell_type": "code",
   "execution_count": 75,
   "outputs": [
    {
     "data": {
      "text/plain": "Index(['loan_amnt', 'term', 'int_rate', 'installment', 'annual_inc', 'dti',\n       'delinq_2yrs', 'fico_range_low', 'inq_last_6mths', 'open_acc',\n       ...\n       'addr_state_UT', 'addr_state_VA', 'addr_state_VT', 'addr_state_WA',\n       'addr_state_WI', 'addr_state_WV', 'addr_state_WY',\n       'initial_list_status_w', 'application_type_Joint App',\n       'hardship_flag_Y'],\n      dtype='object', length=1001)"
     },
     "execution_count": 75,
     "metadata": {},
     "output_type": "execute_result"
    }
   ],
   "source": [
    "X_train.columns"
   ],
   "metadata": {
    "collapsed": false,
    "ExecuteTime": {
     "end_time": "2024-05-22T15:51:11.565459600Z",
     "start_time": "2024-05-22T15:51:11.518094200Z"
    }
   },
   "id": "8f3b4a20ac6d8f6c"
  },
  {
   "cell_type": "code",
   "execution_count": 76,
   "outputs": [
    {
     "data": {
      "text/plain": "torch.Size([265, 1])"
     },
     "execution_count": 76,
     "metadata": {},
     "output_type": "execute_result"
    }
   ],
   "source": [
    "X_train_alt = X_train[['loan_amnt', 'term', 'int_rate', 'installment', 'annual_inc', 'last_fico_range_low']]\n",
    "X_train_lim, X_remain, y_train_lim, y_remain = train_test_split(X_train_alt, y_train, test_size=0.995, random_state=42)\n",
    "X_train_lim_scaled = scaler.fit_transform(X_train_lim)\n",
    "X_validation_alt = X_validation[['loan_amnt', 'term', 'int_rate', 'installment', 'annual_inc', 'last_fico_range_low']]\n",
    "X_validation_lim_scaled = scaler.transform(X_validation_alt)\n",
    "X_validation_tensor_lim = torch.tensor(X_validation_lim_scaled, dtype=torch.float32)\n",
    "X_train_tensor_lim = torch.tensor(X_train_lim_scaled, dtype=torch.float32)\n",
    "y_train_tensor_lim = torch.tensor(y_train_lim.values, dtype=torch.float32).reshape(len(y_train_lim),1)\n",
    "X_train_tensor_lim.shape\n",
    "y_train_tensor_lim.shape"
   ],
   "metadata": {
    "collapsed": false,
    "ExecuteTime": {
     "end_time": "2024-05-22T15:51:12.714712100Z",
     "start_time": "2024-05-22T15:51:12.651469800Z"
    }
   },
   "id": "a1e8c038eabe9279"
  },
  {
   "cell_type": "code",
   "execution_count": 77,
   "outputs": [],
   "source": [
    "X_test_alt = X_test[['loan_amnt', 'term', 'int_rate', 'installment', 'annual_inc', 'last_fico_range_low']]\n",
    "X_test_lim_scaled = scaler.transform(X_test_alt)\n",
    "X_test_tensor_lim = torch.tensor(X_test_lim_scaled, dtype=torch.float32)"
   ],
   "metadata": {
    "collapsed": false,
    "ExecuteTime": {
     "end_time": "2024-05-22T15:51:14.455920500Z",
     "start_time": "2024-05-22T15:51:14.393364100Z"
    }
   },
   "id": "99ab5750d5bc5cf0"
  },
  {
   "cell_type": "code",
   "execution_count": 78,
   "outputs": [],
   "source": [
    "last_fico_index_lim = X_train_lim.columns.get_loc('last_fico_range_low')\n",
    "loan_amnt_index_lim = X_train_lim.columns.get_loc('loan_amnt')"
   ],
   "metadata": {
    "collapsed": false,
    "ExecuteTime": {
     "end_time": "2024-05-22T15:51:16.579119800Z",
     "start_time": "2024-05-22T15:51:16.516255700Z"
    }
   },
   "id": "5246f986e5c759ef"
  },
  {
   "cell_type": "code",
   "execution_count": 79,
   "outputs": [],
   "source": [
    "last_fico_lim = torch.tensor(X_train_lim['last_fico_range_low'].values, dtype=torch.float32).reshape(len(y_train_lim),1)\n",
    "loan_amnt_lim = torch.tensor(X_train_lim['loan_amnt'].values, dtype=torch.float32).reshape(len(y_train_lim),1)\n",
    "#last_pymnt_lim = torch.tensor(X_train_lim['last_pymnt_amnt'].values, dtype=torch.float32).reshape(len(y_train_lim),1)\n",
    "#total_rec_lim = torch.tensor(X_train_lim['total_rec_prncp'].values, dtype=torch.float32).reshape(len(y_train_lim),1)\n",
    "\n",
    "rule_lim = torch.logical_or(\n",
    "    torch.logical_and(last_fico_lim <= 632.5, last_fico_lim <= 572.5),\n",
    "    torch.logical_and(last_fico_lim > 632.5, last_fico_lim > 662.5)).float()\n",
    "rule_lim = torch.where(last_fico_lim <= 632.5, torch.tensor(1), torch.tensor(0))\n",
    "rule_lim = torch.logical_or(torch.logical_and(last_fico_lim<=632.5, last_fico_lim<=572.5),torch.logical_and(last_fico_lim<=632.5, torch.logical_and(last_fico_lim>572.5, loan_amnt_lim>12162.5))).float()\n",
    "rule_lim = (last_fico_lim<=652.5).float()"
   ],
   "metadata": {
    "collapsed": false,
    "ExecuteTime": {
     "end_time": "2024-05-22T15:52:14.572906400Z",
     "start_time": "2024-05-22T15:52:14.541574700Z"
    }
   },
   "id": "66ec68a4d9943866"
  },
  {
   "cell_type": "code",
   "execution_count": 100,
   "outputs": [
    {
     "name": "stdout",
     "output_type": "stream",
     "text": [
      "Epoch: 0 \t| Train loss: 0.193 \t| Train acc: 0.63 \t| Test acc: 0.59\n",
      "Epoch: 100 \t| Train loss: 0.086 \t| Train acc: 0.76 \t| Test acc: 0.77\n",
      "Epoch: 200 \t| Train loss: 0.07 \t| Train acc: 0.82 \t| Test acc: 0.83\n",
      "Epoch: 300 \t| Train loss: 0.064 \t| Train acc: 0.86 \t| Test acc: 0.85\n",
      "Epoch: 400 \t| Train loss: 0.061 \t| Train acc: 0.86 \t| Test acc: 0.86\n",
      "Epoch: 500 \t| Train loss: 0.061 \t| Train acc: 0.86 \t| Test acc: 0.86\n",
      "Epoch: 600 \t| Train loss: 0.06 \t| Train acc: 0.86 \t| Test acc: 0.86\n",
      "Epoch: 700 \t| Train loss: 0.06 \t| Train acc: 0.87 \t| Test acc: 0.86\n",
      "Epoch: 800 \t| Train loss: 0.06 \t| Train acc: 0.87 \t| Test acc: 0.86\n",
      "Epoch: 900 \t| Train loss: 0.06 \t| Train acc: 0.86 \t| Test acc: 0.86\n"
     ]
    }
   ],
   "source": [
    "small_model = Logistic_Regression(num_features=6)\n",
    "optimizer_small = optim.Adam(small_model.parameters(), lr=LEARNING_RATE)\n",
    "class_weights_lim = class_weights_original[y_train_tensor_lim.long()]\n",
    "loss_function_lim=nn.BCELoss(weight=class_weights_lim)\n",
    "train_losses = []\n",
    "#test_losses  = []\n",
    "train_accs = []\n",
    "test_accs  = []\n",
    "\n",
    "for epoch in range(EPOCHS):\n",
    "    # Forward propagation (predicting train data) #a\n",
    "    train_preds_lim = small_model(X_train_tensor_lim)\n",
    "    #train_loss  = loss_function(train_preds, y_train_tensor)\n",
    "    \n",
    "    #print(torch.min(train_preds_lim), torch.max(train_preds_lim))\n",
    "    train_loss = semantic_loss(train_preds_lim, y_train_tensor_lim, rule_lim, class_weights_lim, 0.025)\n",
    "    #train_loss = loss_function_lim(train_preds_lim, y_train_tensor_lim)\n",
    "\n",
    "    # Predicting test data #b\n",
    "    with torch.no_grad():\n",
    "        test_preds = small_model(X_validation_tensor_lim)\n",
    "        #test_loss  = loss_function(test_preds, y_test)\n",
    "\n",
    "    # Calculate accuracy #c\n",
    "    train_acc = calculate_accuracy(train_preds_lim, y_train_tensor_lim)\n",
    "    test_acc  = calculate_accuracy(test_preds, y_validation_tensor)\n",
    "\n",
    "    # Backward propagation #d\n",
    "    optimizer_small.zero_grad()\n",
    "    train_loss.backward()\n",
    "\n",
    "    # Gradient descent step #e\n",
    "    optimizer_small.step()\n",
    "\n",
    "    # Store training history #f\n",
    "    train_losses.append(train_loss.item())\n",
    "    #test_losses.append(test_loss.item())\n",
    "    train_accs.append(train_acc.item())\n",
    "    test_accs.append(test_acc.item())\n",
    "\n",
    "    # Print training data #g\n",
    "    if epoch%100==0:\n",
    "        print(f'Epoch: {epoch} \\t|' \\\n",
    "              f' Train loss: {np.round(train_loss.item(),3)} \\t|' \\\n",
    "                  #f' Test loss: {np.round(test_loss.item(),3)} \\t|' \\\n",
    "              f' Train acc: {np.round(train_acc.item(),2)} \\t|' \\\n",
    "              f' Test acc: {np.round(test_acc.item(),2)}')"
   ],
   "metadata": {
    "collapsed": false,
    "ExecuteTime": {
     "end_time": "2024-05-22T15:56:18.442497900Z",
     "start_time": "2024-05-22T15:56:16.134915800Z"
    }
   },
   "id": "6600606d9bf46e42"
  },
  {
   "cell_type": "code",
   "execution_count": 101,
   "outputs": [
    {
     "name": "stdout",
     "output_type": "stream",
     "text": [
      "Train Result:\n",
      "================================================\n",
      "Accuracy Score: 86.42%\n",
      "_______________________________________________\n",
      "CLASSIFICATION REPORT:\n",
      "                  0.0        1.0  accuracy   macro avg  weighted avg\n",
      "precision    0.954545   0.597015  0.864151    0.775780      0.888436\n",
      "recall       0.875000   0.816327  0.864151    0.845663      0.864151\n",
      "f1-score     0.913043   0.689655  0.864151    0.801349      0.871738\n",
      "support    216.000000  49.000000  0.864151  265.000000    265.000000\n",
      "_______________________________________________\n",
      "Confusion Matrix: \n",
      " [[189  27]\n",
      " [  9  40]]\n",
      "\n",
      "Test Result:\n",
      "================================================\n",
      "Accuracy Score: 86.31%\n",
      "_______________________________________________\n",
      "CLASSIFICATION REPORT:\n",
      "                   0.0          1.0  accuracy    macro avg  weighted avg\n",
      "precision     0.940938     0.622754  0.863098     0.781846      0.878267\n",
      "recall        0.885075     0.773496  0.863098     0.829285      0.863098\n",
      "f1-score      0.912152     0.689988  0.863098     0.801070      0.868394\n",
      "support    6030.000000  1479.000000  0.863098  7509.000000   7509.000000\n",
      "_______________________________________________\n",
      "Confusion Matrix: \n",
      " [[5337  693]\n",
      " [ 335 1144]]\n"
     ]
    }
   ],
   "source": [
    "evaluate_nn(y_train_tensor_lim.clone().detach(), train_preds_lim.clone().detach().round(), train=True)\n",
    "evaluate_nn(y_validation_tensor.clone().detach(), test_preds.clone().detach().round(), train=False)"
   ],
   "metadata": {
    "collapsed": false,
    "ExecuteTime": {
     "end_time": "2024-05-22T15:56:19.861009Z",
     "start_time": "2024-05-22T15:56:19.759157900Z"
    }
   },
   "id": "625de99cc5170c14"
  },
  {
   "cell_type": "code",
   "execution_count": 102,
   "outputs": [
    {
     "name": "stdout",
     "output_type": "stream",
     "text": [
      "Test Result:\n",
      "================================================\n",
      "Accuracy Score: 86.06%\n",
      "_______________________________________________\n",
      "CLASSIFICATION REPORT:\n",
      "                   0.0          1.0  accuracy    macro avg  weighted avg\n",
      "precision     0.942123     0.615748  0.860572     0.778935      0.877738\n",
      "recall        0.880392     0.779920  0.860572     0.830156      0.860572\n",
      "f1-score      0.910212     0.688178  0.860572     0.799195      0.866411\n",
      "support    6120.000000  1504.000000  0.860572  7624.000000   7624.000000\n",
      "_______________________________________________\n",
      "Confusion Matrix: \n",
      " [[5388  732]\n",
      " [ 331 1173]]\n"
     ]
    }
   ],
   "source": [
    "test_preds_lim = small_model(X_test_tensor_lim)\n",
    "evaluate_nn(y_test_tensor.clone().detach(), test_preds_lim.clone().detach().round(), train=False)"
   ],
   "metadata": {
    "collapsed": false,
    "ExecuteTime": {
     "end_time": "2024-05-22T15:56:21.135211800Z",
     "start_time": "2024-05-22T15:56:21.040962700Z"
    }
   },
   "id": "1df70a9aa9e751ff"
  },
  {
   "cell_type": "code",
   "execution_count": 103,
   "outputs": [],
   "source": [
    "dataset_lim = LCDataset(X_train_tensor_lim, y_train_tensor_lim)\n",
    "\n",
    "data_loader_lim = DataLoader(dataset_lim, batch_size=300, shuffle=True)"
   ],
   "metadata": {
    "collapsed": false,
    "ExecuteTime": {
     "end_time": "2024-05-22T16:00:27.546171900Z",
     "start_time": "2024-05-22T16:00:27.523582200Z"
    }
   },
   "id": "1035423da3b9a074"
  },
  {
   "cell_type": "code",
   "execution_count": 104,
   "outputs": [
    {
     "data": {
      "text/plain": "==========================================================================================\nLayer (type:depth-idx)                   Output Shape              Param #\n==========================================================================================\nMLP                                      [265, 1]                  --\n├─Sequential: 1-1                        [265, 1]                  --\n│    └─Linear: 2-1                       [265, 3]                  21\n│    └─ReLU: 2-2                         [265, 3]                  --\n│    └─Linear: 2-3                       [265, 1]                  4\n│    └─Sigmoid: 2-4                      [265, 1]                  --\n==========================================================================================\nTotal params: 25\nTrainable params: 25\nNon-trainable params: 0\nTotal mult-adds (Units.MEGABYTES): 0.01\n==========================================================================================\nInput size (MB): 0.01\nForward/backward pass size (MB): 0.01\nParams size (MB): 0.00\nEstimated Total Size (MB): 0.02\n=========================================================================================="
     },
     "execution_count": 104,
     "metadata": {},
     "output_type": "execute_result"
    }
   ],
   "source": [
    "mlp_model_lim = MLP(num_features=6)\n",
    "summary(mlp_model_lim, input_size=X_train_lim.shape)"
   ],
   "metadata": {
    "collapsed": false,
    "ExecuteTime": {
     "end_time": "2024-05-22T16:00:28.388578800Z",
     "start_time": "2024-05-22T16:00:28.356807200Z"
    }
   },
   "id": "cdf50ca55c4e3757"
  },
  {
   "cell_type": "code",
   "execution_count": 105,
   "outputs": [],
   "source": [
    "optimizer_mlp_lim = optim.Adam(mlp_model_lim.parameters())"
   ],
   "metadata": {
    "collapsed": false,
    "ExecuteTime": {
     "end_time": "2024-05-22T16:00:29.367266600Z",
     "start_time": "2024-05-22T16:00:29.304071800Z"
    }
   },
   "id": "41827833c1c8e319"
  },
  {
   "cell_type": "code",
   "execution_count": 106,
   "outputs": [
    {
     "name": "stdout",
     "output_type": "stream",
     "text": [
      "Epoch: 0 \t| Train loss: 0.227 \t| Train acc: 0.81 \t| Test acc: 0.79\n",
      "Epoch: 1 \t| Train loss: 0.227 \t| Train acc: 0.81 \t| Test acc: 0.79\n",
      "Epoch: 2 \t| Train loss: 0.226 \t| Train acc: 0.81 \t| Test acc: 0.79\n",
      "Epoch: 3 \t| Train loss: 0.226 \t| Train acc: 0.81 \t| Test acc: 0.79\n",
      "Epoch: 4 \t| Train loss: 0.226 \t| Train acc: 0.81 \t| Test acc: 0.79\n",
      "Epoch: 5 \t| Train loss: 0.226 \t| Train acc: 0.81 \t| Test acc: 0.79\n",
      "Epoch: 6 \t| Train loss: 0.225 \t| Train acc: 0.81 \t| Test acc: 0.79\n",
      "Epoch: 7 \t| Train loss: 0.225 \t| Train acc: 0.81 \t| Test acc: 0.79\n",
      "Epoch: 8 \t| Train loss: 0.225 \t| Train acc: 0.81 \t| Test acc: 0.79\n",
      "Epoch: 9 \t| Train loss: 0.225 \t| Train acc: 0.81 \t| Test acc: 0.79\n",
      "Epoch: 10 \t| Train loss: 0.224 \t| Train acc: 0.81 \t| Test acc: 0.79\n",
      "Epoch: 11 \t| Train loss: 0.224 \t| Train acc: 0.81 \t| Test acc: 0.79\n",
      "Epoch: 12 \t| Train loss: 0.224 \t| Train acc: 0.81 \t| Test acc: 0.79\n",
      "Epoch: 13 \t| Train loss: 0.224 \t| Train acc: 0.81 \t| Test acc: 0.79\n",
      "Epoch: 14 \t| Train loss: 0.223 \t| Train acc: 0.81 \t| Test acc: 0.79\n",
      "Epoch: 15 \t| Train loss: 0.223 \t| Train acc: 0.8 \t| Test acc: 0.79\n",
      "Epoch: 16 \t| Train loss: 0.223 \t| Train acc: 0.8 \t| Test acc: 0.79\n",
      "Epoch: 17 \t| Train loss: 0.223 \t| Train acc: 0.8 \t| Test acc: 0.79\n",
      "Epoch: 18 \t| Train loss: 0.223 \t| Train acc: 0.8 \t| Test acc: 0.79\n",
      "Epoch: 19 \t| Train loss: 0.222 \t| Train acc: 0.81 \t| Test acc: 0.79\n",
      "Epoch: 20 \t| Train loss: 0.222 \t| Train acc: 0.81 \t| Test acc: 0.78\n",
      "Epoch: 21 \t| Train loss: 0.222 \t| Train acc: 0.81 \t| Test acc: 0.78\n",
      "Epoch: 22 \t| Train loss: 0.222 \t| Train acc: 0.81 \t| Test acc: 0.78\n",
      "Epoch: 23 \t| Train loss: 0.222 \t| Train acc: 0.81 \t| Test acc: 0.78\n",
      "Epoch: 24 \t| Train loss: 0.221 \t| Train acc: 0.81 \t| Test acc: 0.78\n",
      "Epoch: 25 \t| Train loss: 0.221 \t| Train acc: 0.81 \t| Test acc: 0.78\n",
      "Epoch: 26 \t| Train loss: 0.221 \t| Train acc: 0.81 \t| Test acc: 0.78\n",
      "Epoch: 27 \t| Train loss: 0.221 \t| Train acc: 0.81 \t| Test acc: 0.78\n",
      "Epoch: 28 \t| Train loss: 0.221 \t| Train acc: 0.81 \t| Test acc: 0.78\n",
      "Epoch: 29 \t| Train loss: 0.22 \t| Train acc: 0.81 \t| Test acc: 0.78\n",
      "Epoch: 30 \t| Train loss: 0.22 \t| Train acc: 0.8 \t| Test acc: 0.78\n",
      "Epoch: 31 \t| Train loss: 0.22 \t| Train acc: 0.81 \t| Test acc: 0.78\n",
      "Epoch: 32 \t| Train loss: 0.22 \t| Train acc: 0.8 \t| Test acc: 0.78\n",
      "Epoch: 33 \t| Train loss: 0.22 \t| Train acc: 0.8 \t| Test acc: 0.78\n",
      "Epoch: 34 \t| Train loss: 0.22 \t| Train acc: 0.8 \t| Test acc: 0.78\n",
      "Epoch: 35 \t| Train loss: 0.219 \t| Train acc: 0.8 \t| Test acc: 0.78\n",
      "Epoch: 36 \t| Train loss: 0.219 \t| Train acc: 0.8 \t| Test acc: 0.77\n",
      "Epoch: 37 \t| Train loss: 0.219 \t| Train acc: 0.8 \t| Test acc: 0.77\n",
      "Epoch: 38 \t| Train loss: 0.219 \t| Train acc: 0.8 \t| Test acc: 0.77\n",
      "Epoch: 39 \t| Train loss: 0.219 \t| Train acc: 0.8 \t| Test acc: 0.77\n",
      "Epoch: 40 \t| Train loss: 0.219 \t| Train acc: 0.8 \t| Test acc: 0.77\n",
      "Epoch: 41 \t| Train loss: 0.218 \t| Train acc: 0.8 \t| Test acc: 0.77\n",
      "Epoch: 42 \t| Train loss: 0.218 \t| Train acc: 0.8 \t| Test acc: 0.77\n",
      "Epoch: 43 \t| Train loss: 0.218 \t| Train acc: 0.8 \t| Test acc: 0.77\n",
      "Epoch: 44 \t| Train loss: 0.218 \t| Train acc: 0.8 \t| Test acc: 0.77\n",
      "Epoch: 45 \t| Train loss: 0.218 \t| Train acc: 0.8 \t| Test acc: 0.77\n",
      "Epoch: 46 \t| Train loss: 0.218 \t| Train acc: 0.79 \t| Test acc: 0.77\n",
      "Epoch: 47 \t| Train loss: 0.217 \t| Train acc: 0.79 \t| Test acc: 0.76\n",
      "Epoch: 48 \t| Train loss: 0.217 \t| Train acc: 0.79 \t| Test acc: 0.76\n",
      "Epoch: 49 \t| Train loss: 0.217 \t| Train acc: 0.78 \t| Test acc: 0.76\n",
      "Epoch: 50 \t| Train loss: 0.217 \t| Train acc: 0.79 \t| Test acc: 0.76\n",
      "Epoch: 51 \t| Train loss: 0.217 \t| Train acc: 0.78 \t| Test acc: 0.76\n",
      "Epoch: 52 \t| Train loss: 0.217 \t| Train acc: 0.78 \t| Test acc: 0.76\n",
      "Epoch: 53 \t| Train loss: 0.216 \t| Train acc: 0.78 \t| Test acc: 0.76\n",
      "Epoch: 54 \t| Train loss: 0.216 \t| Train acc: 0.78 \t| Test acc: 0.76\n",
      "Epoch: 55 \t| Train loss: 0.216 \t| Train acc: 0.78 \t| Test acc: 0.76\n",
      "Epoch: 56 \t| Train loss: 0.216 \t| Train acc: 0.78 \t| Test acc: 0.76\n",
      "Epoch: 57 \t| Train loss: 0.216 \t| Train acc: 0.78 \t| Test acc: 0.76\n",
      "Epoch: 58 \t| Train loss: 0.216 \t| Train acc: 0.77 \t| Test acc: 0.75\n",
      "Epoch: 59 \t| Train loss: 0.216 \t| Train acc: 0.77 \t| Test acc: 0.75\n",
      "Epoch: 60 \t| Train loss: 0.215 \t| Train acc: 0.77 \t| Test acc: 0.75\n",
      "Epoch: 61 \t| Train loss: 0.215 \t| Train acc: 0.77 \t| Test acc: 0.75\n",
      "Epoch: 62 \t| Train loss: 0.215 \t| Train acc: 0.77 \t| Test acc: 0.75\n",
      "Epoch: 63 \t| Train loss: 0.215 \t| Train acc: 0.77 \t| Test acc: 0.75\n",
      "Epoch: 64 \t| Train loss: 0.215 \t| Train acc: 0.77 \t| Test acc: 0.75\n",
      "Epoch: 65 \t| Train loss: 0.215 \t| Train acc: 0.77 \t| Test acc: 0.75\n",
      "Epoch: 66 \t| Train loss: 0.214 \t| Train acc: 0.77 \t| Test acc: 0.75\n",
      "Epoch: 67 \t| Train loss: 0.214 \t| Train acc: 0.77 \t| Test acc: 0.75\n",
      "Epoch: 68 \t| Train loss: 0.214 \t| Train acc: 0.78 \t| Test acc: 0.75\n",
      "Epoch: 69 \t| Train loss: 0.214 \t| Train acc: 0.78 \t| Test acc: 0.75\n",
      "Epoch: 70 \t| Train loss: 0.214 \t| Train acc: 0.78 \t| Test acc: 0.75\n",
      "Epoch: 71 \t| Train loss: 0.214 \t| Train acc: 0.78 \t| Test acc: 0.75\n",
      "Epoch: 72 \t| Train loss: 0.214 \t| Train acc: 0.78 \t| Test acc: 0.74\n",
      "Epoch: 73 \t| Train loss: 0.213 \t| Train acc: 0.78 \t| Test acc: 0.74\n",
      "Epoch: 74 \t| Train loss: 0.213 \t| Train acc: 0.77 \t| Test acc: 0.74\n",
      "Epoch: 75 \t| Train loss: 0.213 \t| Train acc: 0.78 \t| Test acc: 0.74\n",
      "Epoch: 76 \t| Train loss: 0.213 \t| Train acc: 0.77 \t| Test acc: 0.74\n",
      "Epoch: 77 \t| Train loss: 0.213 \t| Train acc: 0.77 \t| Test acc: 0.74\n",
      "Epoch: 78 \t| Train loss: 0.213 \t| Train acc: 0.77 \t| Test acc: 0.74\n",
      "Epoch: 79 \t| Train loss: 0.213 \t| Train acc: 0.76 \t| Test acc: 0.74\n",
      "Epoch: 80 \t| Train loss: 0.212 \t| Train acc: 0.76 \t| Test acc: 0.74\n",
      "Epoch: 81 \t| Train loss: 0.212 \t| Train acc: 0.76 \t| Test acc: 0.74\n",
      "Epoch: 82 \t| Train loss: 0.212 \t| Train acc: 0.75 \t| Test acc: 0.74\n",
      "Epoch: 83 \t| Train loss: 0.212 \t| Train acc: 0.75 \t| Test acc: 0.74\n",
      "Epoch: 84 \t| Train loss: 0.212 \t| Train acc: 0.75 \t| Test acc: 0.73\n",
      "Epoch: 85 \t| Train loss: 0.212 \t| Train acc: 0.75 \t| Test acc: 0.73\n",
      "Epoch: 86 \t| Train loss: 0.212 \t| Train acc: 0.75 \t| Test acc: 0.73\n",
      "Epoch: 87 \t| Train loss: 0.211 \t| Train acc: 0.75 \t| Test acc: 0.73\n",
      "Epoch: 88 \t| Train loss: 0.211 \t| Train acc: 0.75 \t| Test acc: 0.73\n",
      "Epoch: 89 \t| Train loss: 0.211 \t| Train acc: 0.75 \t| Test acc: 0.73\n",
      "Epoch: 90 \t| Train loss: 0.211 \t| Train acc: 0.74 \t| Test acc: 0.73\n",
      "Epoch: 91 \t| Train loss: 0.211 \t| Train acc: 0.74 \t| Test acc: 0.73\n",
      "Epoch: 92 \t| Train loss: 0.211 \t| Train acc: 0.74 \t| Test acc: 0.73\n",
      "Epoch: 93 \t| Train loss: 0.211 \t| Train acc: 0.74 \t| Test acc: 0.73\n",
      "Epoch: 94 \t| Train loss: 0.21 \t| Train acc: 0.74 \t| Test acc: 0.73\n",
      "Epoch: 95 \t| Train loss: 0.21 \t| Train acc: 0.74 \t| Test acc: 0.73\n",
      "Epoch: 96 \t| Train loss: 0.21 \t| Train acc: 0.74 \t| Test acc: 0.73\n",
      "Epoch: 97 \t| Train loss: 0.21 \t| Train acc: 0.73 \t| Test acc: 0.72\n",
      "Epoch: 98 \t| Train loss: 0.21 \t| Train acc: 0.73 \t| Test acc: 0.72\n",
      "Epoch: 99 \t| Train loss: 0.21 \t| Train acc: 0.73 \t| Test acc: 0.72\n",
      "Epoch: 100 \t| Train loss: 0.21 \t| Train acc: 0.73 \t| Test acc: 0.72\n",
      "Epoch: 101 \t| Train loss: 0.209 \t| Train acc: 0.73 \t| Test acc: 0.72\n",
      "Epoch: 102 \t| Train loss: 0.209 \t| Train acc: 0.73 \t| Test acc: 0.72\n",
      "Epoch: 103 \t| Train loss: 0.209 \t| Train acc: 0.72 \t| Test acc: 0.72\n",
      "Epoch: 104 \t| Train loss: 0.209 \t| Train acc: 0.72 \t| Test acc: 0.72\n",
      "Epoch: 105 \t| Train loss: 0.209 \t| Train acc: 0.73 \t| Test acc: 0.72\n",
      "Epoch: 106 \t| Train loss: 0.209 \t| Train acc: 0.73 \t| Test acc: 0.72\n",
      "Epoch: 107 \t| Train loss: 0.208 \t| Train acc: 0.73 \t| Test acc: 0.72\n",
      "Epoch: 108 \t| Train loss: 0.208 \t| Train acc: 0.72 \t| Test acc: 0.72\n",
      "Epoch: 109 \t| Train loss: 0.208 \t| Train acc: 0.72 \t| Test acc: 0.72\n",
      "Epoch: 110 \t| Train loss: 0.208 \t| Train acc: 0.72 \t| Test acc: 0.72\n",
      "Epoch: 111 \t| Train loss: 0.208 \t| Train acc: 0.73 \t| Test acc: 0.72\n",
      "Epoch: 112 \t| Train loss: 0.208 \t| Train acc: 0.72 \t| Test acc: 0.72\n",
      "Epoch: 113 \t| Train loss: 0.208 \t| Train acc: 0.72 \t| Test acc: 0.72\n",
      "Epoch: 114 \t| Train loss: 0.207 \t| Train acc: 0.72 \t| Test acc: 0.72\n",
      "Epoch: 115 \t| Train loss: 0.207 \t| Train acc: 0.72 \t| Test acc: 0.72\n",
      "Epoch: 116 \t| Train loss: 0.207 \t| Train acc: 0.72 \t| Test acc: 0.72\n",
      "Epoch: 117 \t| Train loss: 0.207 \t| Train acc: 0.74 \t| Test acc: 0.72\n",
      "Epoch: 118 \t| Train loss: 0.207 \t| Train acc: 0.74 \t| Test acc: 0.72\n",
      "Epoch: 119 \t| Train loss: 0.207 \t| Train acc: 0.74 \t| Test acc: 0.72\n",
      "Epoch: 120 \t| Train loss: 0.206 \t| Train acc: 0.74 \t| Test acc: 0.72\n",
      "Epoch: 121 \t| Train loss: 0.206 \t| Train acc: 0.74 \t| Test acc: 0.72\n",
      "Epoch: 122 \t| Train loss: 0.206 \t| Train acc: 0.74 \t| Test acc: 0.72\n",
      "Epoch: 123 \t| Train loss: 0.206 \t| Train acc: 0.74 \t| Test acc: 0.72\n",
      "Epoch: 124 \t| Train loss: 0.206 \t| Train acc: 0.74 \t| Test acc: 0.72\n",
      "Epoch: 125 \t| Train loss: 0.206 \t| Train acc: 0.74 \t| Test acc: 0.72\n",
      "Epoch: 126 \t| Train loss: 0.205 \t| Train acc: 0.74 \t| Test acc: 0.72\n",
      "Epoch: 127 \t| Train loss: 0.205 \t| Train acc: 0.74 \t| Test acc: 0.72\n",
      "Epoch: 128 \t| Train loss: 0.205 \t| Train acc: 0.74 \t| Test acc: 0.72\n",
      "Epoch: 129 \t| Train loss: 0.205 \t| Train acc: 0.74 \t| Test acc: 0.72\n",
      "Epoch: 130 \t| Train loss: 0.205 \t| Train acc: 0.74 \t| Test acc: 0.72\n",
      "Epoch: 131 \t| Train loss: 0.205 \t| Train acc: 0.74 \t| Test acc: 0.72\n",
      "Epoch: 132 \t| Train loss: 0.204 \t| Train acc: 0.74 \t| Test acc: 0.72\n",
      "Epoch: 133 \t| Train loss: 0.204 \t| Train acc: 0.74 \t| Test acc: 0.72\n",
      "Epoch: 134 \t| Train loss: 0.204 \t| Train acc: 0.74 \t| Test acc: 0.72\n",
      "Epoch: 135 \t| Train loss: 0.204 \t| Train acc: 0.74 \t| Test acc: 0.72\n",
      "Epoch: 136 \t| Train loss: 0.204 \t| Train acc: 0.74 \t| Test acc: 0.72\n",
      "Epoch: 137 \t| Train loss: 0.203 \t| Train acc: 0.74 \t| Test acc: 0.72\n",
      "Epoch: 138 \t| Train loss: 0.203 \t| Train acc: 0.74 \t| Test acc: 0.72\n",
      "Epoch: 139 \t| Train loss: 0.203 \t| Train acc: 0.74 \t| Test acc: 0.72\n",
      "Epoch: 140 \t| Train loss: 0.203 \t| Train acc: 0.74 \t| Test acc: 0.72\n",
      "Epoch: 141 \t| Train loss: 0.203 \t| Train acc: 0.74 \t| Test acc: 0.72\n",
      "Epoch: 142 \t| Train loss: 0.203 \t| Train acc: 0.74 \t| Test acc: 0.72\n",
      "Epoch: 143 \t| Train loss: 0.202 \t| Train acc: 0.74 \t| Test acc: 0.72\n",
      "Epoch: 144 \t| Train loss: 0.202 \t| Train acc: 0.74 \t| Test acc: 0.72\n",
      "Epoch: 145 \t| Train loss: 0.202 \t| Train acc: 0.75 \t| Test acc: 0.72\n",
      "Epoch: 146 \t| Train loss: 0.202 \t| Train acc: 0.75 \t| Test acc: 0.72\n",
      "Epoch: 147 \t| Train loss: 0.202 \t| Train acc: 0.75 \t| Test acc: 0.72\n",
      "Epoch: 148 \t| Train loss: 0.201 \t| Train acc: 0.75 \t| Test acc: 0.72\n",
      "Epoch: 149 \t| Train loss: 0.201 \t| Train acc: 0.75 \t| Test acc: 0.72\n",
      "Epoch: 150 \t| Train loss: 0.201 \t| Train acc: 0.75 \t| Test acc: 0.72\n",
      "Epoch: 151 \t| Train loss: 0.201 \t| Train acc: 0.75 \t| Test acc: 0.72\n",
      "Epoch: 152 \t| Train loss: 0.201 \t| Train acc: 0.75 \t| Test acc: 0.72\n",
      "Epoch: 153 \t| Train loss: 0.2 \t| Train acc: 0.75 \t| Test acc: 0.72\n",
      "Epoch: 154 \t| Train loss: 0.2 \t| Train acc: 0.75 \t| Test acc: 0.72\n",
      "Epoch: 155 \t| Train loss: 0.2 \t| Train acc: 0.75 \t| Test acc: 0.72\n",
      "Epoch: 156 \t| Train loss: 0.2 \t| Train acc: 0.75 \t| Test acc: 0.72\n",
      "Epoch: 157 \t| Train loss: 0.2 \t| Train acc: 0.75 \t| Test acc: 0.72\n",
      "Epoch: 158 \t| Train loss: 0.199 \t| Train acc: 0.75 \t| Test acc: 0.72\n",
      "Epoch: 159 \t| Train loss: 0.199 \t| Train acc: 0.75 \t| Test acc: 0.72\n",
      "Epoch: 160 \t| Train loss: 0.199 \t| Train acc: 0.75 \t| Test acc: 0.72\n",
      "Epoch: 161 \t| Train loss: 0.199 \t| Train acc: 0.75 \t| Test acc: 0.72\n",
      "Epoch: 162 \t| Train loss: 0.199 \t| Train acc: 0.75 \t| Test acc: 0.72\n",
      "Epoch: 163 \t| Train loss: 0.198 \t| Train acc: 0.75 \t| Test acc: 0.72\n",
      "Epoch: 164 \t| Train loss: 0.198 \t| Train acc: 0.75 \t| Test acc: 0.72\n",
      "Epoch: 165 \t| Train loss: 0.198 \t| Train acc: 0.75 \t| Test acc: 0.72\n",
      "Epoch: 166 \t| Train loss: 0.198 \t| Train acc: 0.75 \t| Test acc: 0.72\n",
      "Epoch: 167 \t| Train loss: 0.198 \t| Train acc: 0.76 \t| Test acc: 0.72\n",
      "Epoch: 168 \t| Train loss: 0.197 \t| Train acc: 0.76 \t| Test acc: 0.72\n",
      "Epoch: 169 \t| Train loss: 0.197 \t| Train acc: 0.76 \t| Test acc: 0.72\n",
      "Epoch: 170 \t| Train loss: 0.197 \t| Train acc: 0.76 \t| Test acc: 0.72\n",
      "Epoch: 171 \t| Train loss: 0.197 \t| Train acc: 0.76 \t| Test acc: 0.73\n",
      "Epoch: 172 \t| Train loss: 0.196 \t| Train acc: 0.77 \t| Test acc: 0.73\n",
      "Epoch: 173 \t| Train loss: 0.196 \t| Train acc: 0.77 \t| Test acc: 0.73\n",
      "Epoch: 174 \t| Train loss: 0.196 \t| Train acc: 0.77 \t| Test acc: 0.73\n",
      "Epoch: 175 \t| Train loss: 0.196 \t| Train acc: 0.77 \t| Test acc: 0.73\n",
      "Epoch: 176 \t| Train loss: 0.195 \t| Train acc: 0.77 \t| Test acc: 0.73\n",
      "Epoch: 177 \t| Train loss: 0.195 \t| Train acc: 0.77 \t| Test acc: 0.73\n",
      "Epoch: 178 \t| Train loss: 0.195 \t| Train acc: 0.77 \t| Test acc: 0.73\n",
      "Epoch: 179 \t| Train loss: 0.195 \t| Train acc: 0.77 \t| Test acc: 0.73\n",
      "Epoch: 180 \t| Train loss: 0.194 \t| Train acc: 0.78 \t| Test acc: 0.73\n",
      "Epoch: 181 \t| Train loss: 0.194 \t| Train acc: 0.78 \t| Test acc: 0.73\n",
      "Epoch: 182 \t| Train loss: 0.194 \t| Train acc: 0.78 \t| Test acc: 0.73\n",
      "Epoch: 183 \t| Train loss: 0.194 \t| Train acc: 0.77 \t| Test acc: 0.73\n",
      "Epoch: 184 \t| Train loss: 0.194 \t| Train acc: 0.77 \t| Test acc: 0.73\n",
      "Epoch: 185 \t| Train loss: 0.193 \t| Train acc: 0.77 \t| Test acc: 0.73\n",
      "Epoch: 186 \t| Train loss: 0.193 \t| Train acc: 0.77 \t| Test acc: 0.73\n",
      "Epoch: 187 \t| Train loss: 0.193 \t| Train acc: 0.77 \t| Test acc: 0.73\n",
      "Epoch: 188 \t| Train loss: 0.193 \t| Train acc: 0.77 \t| Test acc: 0.73\n",
      "Epoch: 189 \t| Train loss: 0.192 \t| Train acc: 0.77 \t| Test acc: 0.73\n",
      "Epoch: 190 \t| Train loss: 0.192 \t| Train acc: 0.77 \t| Test acc: 0.73\n",
      "Epoch: 191 \t| Train loss: 0.192 \t| Train acc: 0.77 \t| Test acc: 0.74\n",
      "Epoch: 192 \t| Train loss: 0.192 \t| Train acc: 0.77 \t| Test acc: 0.74\n",
      "Epoch: 193 \t| Train loss: 0.191 \t| Train acc: 0.77 \t| Test acc: 0.74\n",
      "Epoch: 194 \t| Train loss: 0.191 \t| Train acc: 0.77 \t| Test acc: 0.74\n",
      "Epoch: 195 \t| Train loss: 0.191 \t| Train acc: 0.77 \t| Test acc: 0.74\n",
      "Epoch: 196 \t| Train loss: 0.191 \t| Train acc: 0.77 \t| Test acc: 0.74\n",
      "Epoch: 197 \t| Train loss: 0.19 \t| Train acc: 0.77 \t| Test acc: 0.74\n",
      "Epoch: 198 \t| Train loss: 0.19 \t| Train acc: 0.77 \t| Test acc: 0.74\n",
      "Epoch: 199 \t| Train loss: 0.19 \t| Train acc: 0.77 \t| Test acc: 0.74\n",
      "Epoch: 200 \t| Train loss: 0.19 \t| Train acc: 0.77 \t| Test acc: 0.74\n",
      "Epoch: 201 \t| Train loss: 0.189 \t| Train acc: 0.77 \t| Test acc: 0.74\n",
      "Epoch: 202 \t| Train loss: 0.189 \t| Train acc: 0.77 \t| Test acc: 0.74\n",
      "Epoch: 203 \t| Train loss: 0.189 \t| Train acc: 0.77 \t| Test acc: 0.74\n",
      "Epoch: 204 \t| Train loss: 0.189 \t| Train acc: 0.76 \t| Test acc: 0.74\n",
      "Epoch: 205 \t| Train loss: 0.189 \t| Train acc: 0.76 \t| Test acc: 0.74\n",
      "Epoch: 206 \t| Train loss: 0.188 \t| Train acc: 0.77 \t| Test acc: 0.74\n",
      "Epoch: 207 \t| Train loss: 0.188 \t| Train acc: 0.77 \t| Test acc: 0.74\n",
      "Epoch: 208 \t| Train loss: 0.188 \t| Train acc: 0.77 \t| Test acc: 0.74\n",
      "Epoch: 209 \t| Train loss: 0.188 \t| Train acc: 0.76 \t| Test acc: 0.74\n",
      "Epoch: 210 \t| Train loss: 0.187 \t| Train acc: 0.76 \t| Test acc: 0.74\n",
      "Epoch: 211 \t| Train loss: 0.187 \t| Train acc: 0.76 \t| Test acc: 0.74\n",
      "Epoch: 212 \t| Train loss: 0.187 \t| Train acc: 0.76 \t| Test acc: 0.74\n",
      "Epoch: 213 \t| Train loss: 0.187 \t| Train acc: 0.76 \t| Test acc: 0.74\n",
      "Epoch: 214 \t| Train loss: 0.186 \t| Train acc: 0.76 \t| Test acc: 0.74\n",
      "Epoch: 215 \t| Train loss: 0.186 \t| Train acc: 0.76 \t| Test acc: 0.74\n",
      "Epoch: 216 \t| Train loss: 0.186 \t| Train acc: 0.76 \t| Test acc: 0.74\n",
      "Epoch: 217 \t| Train loss: 0.186 \t| Train acc: 0.76 \t| Test acc: 0.74\n",
      "Epoch: 218 \t| Train loss: 0.186 \t| Train acc: 0.76 \t| Test acc: 0.74\n",
      "Epoch: 219 \t| Train loss: 0.185 \t| Train acc: 0.76 \t| Test acc: 0.74\n",
      "Epoch: 220 \t| Train loss: 0.185 \t| Train acc: 0.76 \t| Test acc: 0.74\n",
      "Epoch: 221 \t| Train loss: 0.185 \t| Train acc: 0.76 \t| Test acc: 0.74\n",
      "Epoch: 222 \t| Train loss: 0.185 \t| Train acc: 0.76 \t| Test acc: 0.74\n",
      "Epoch: 223 \t| Train loss: 0.184 \t| Train acc: 0.76 \t| Test acc: 0.74\n",
      "Epoch: 224 \t| Train loss: 0.184 \t| Train acc: 0.76 \t| Test acc: 0.74\n",
      "Epoch: 225 \t| Train loss: 0.184 \t| Train acc: 0.76 \t| Test acc: 0.74\n",
      "Epoch: 226 \t| Train loss: 0.184 \t| Train acc: 0.76 \t| Test acc: 0.74\n",
      "Epoch: 227 \t| Train loss: 0.184 \t| Train acc: 0.76 \t| Test acc: 0.74\n",
      "Epoch: 228 \t| Train loss: 0.183 \t| Train acc: 0.76 \t| Test acc: 0.74\n",
      "Epoch: 229 \t| Train loss: 0.183 \t| Train acc: 0.76 \t| Test acc: 0.74\n",
      "Epoch: 230 \t| Train loss: 0.183 \t| Train acc: 0.77 \t| Test acc: 0.74\n",
      "Epoch: 231 \t| Train loss: 0.183 \t| Train acc: 0.77 \t| Test acc: 0.74\n",
      "Epoch: 232 \t| Train loss: 0.183 \t| Train acc: 0.77 \t| Test acc: 0.74\n",
      "Epoch: 233 \t| Train loss: 0.182 \t| Train acc: 0.77 \t| Test acc: 0.74\n",
      "Epoch: 234 \t| Train loss: 0.182 \t| Train acc: 0.77 \t| Test acc: 0.74\n",
      "Epoch: 235 \t| Train loss: 0.182 \t| Train acc: 0.77 \t| Test acc: 0.74\n",
      "Epoch: 236 \t| Train loss: 0.182 \t| Train acc: 0.77 \t| Test acc: 0.74\n",
      "Epoch: 237 \t| Train loss: 0.182 \t| Train acc: 0.77 \t| Test acc: 0.74\n",
      "Epoch: 238 \t| Train loss: 0.181 \t| Train acc: 0.77 \t| Test acc: 0.74\n",
      "Epoch: 239 \t| Train loss: 0.181 \t| Train acc: 0.77 \t| Test acc: 0.74\n",
      "Epoch: 240 \t| Train loss: 0.181 \t| Train acc: 0.77 \t| Test acc: 0.74\n",
      "Epoch: 241 \t| Train loss: 0.181 \t| Train acc: 0.77 \t| Test acc: 0.74\n",
      "Epoch: 242 \t| Train loss: 0.181 \t| Train acc: 0.77 \t| Test acc: 0.74\n",
      "Epoch: 243 \t| Train loss: 0.18 \t| Train acc: 0.77 \t| Test acc: 0.74\n",
      "Epoch: 244 \t| Train loss: 0.18 \t| Train acc: 0.77 \t| Test acc: 0.74\n",
      "Epoch: 245 \t| Train loss: 0.18 \t| Train acc: 0.77 \t| Test acc: 0.74\n",
      "Epoch: 246 \t| Train loss: 0.18 \t| Train acc: 0.76 \t| Test acc: 0.74\n",
      "Epoch: 247 \t| Train loss: 0.18 \t| Train acc: 0.76 \t| Test acc: 0.74\n",
      "Epoch: 248 \t| Train loss: 0.18 \t| Train acc: 0.77 \t| Test acc: 0.74\n",
      "Epoch: 249 \t| Train loss: 0.179 \t| Train acc: 0.77 \t| Test acc: 0.74\n",
      "Epoch: 250 \t| Train loss: 0.179 \t| Train acc: 0.77 \t| Test acc: 0.74\n",
      "Epoch: 251 \t| Train loss: 0.179 \t| Train acc: 0.77 \t| Test acc: 0.74\n",
      "Epoch: 252 \t| Train loss: 0.179 \t| Train acc: 0.77 \t| Test acc: 0.74\n",
      "Epoch: 253 \t| Train loss: 0.179 \t| Train acc: 0.77 \t| Test acc: 0.75\n",
      "Epoch: 254 \t| Train loss: 0.178 \t| Train acc: 0.77 \t| Test acc: 0.75\n",
      "Epoch: 255 \t| Train loss: 0.178 \t| Train acc: 0.77 \t| Test acc: 0.75\n",
      "Epoch: 256 \t| Train loss: 0.178 \t| Train acc: 0.77 \t| Test acc: 0.75\n",
      "Epoch: 257 \t| Train loss: 0.178 \t| Train acc: 0.77 \t| Test acc: 0.75\n",
      "Epoch: 258 \t| Train loss: 0.178 \t| Train acc: 0.77 \t| Test acc: 0.75\n",
      "Epoch: 259 \t| Train loss: 0.177 \t| Train acc: 0.77 \t| Test acc: 0.75\n",
      "Epoch: 260 \t| Train loss: 0.177 \t| Train acc: 0.77 \t| Test acc: 0.75\n",
      "Epoch: 261 \t| Train loss: 0.177 \t| Train acc: 0.77 \t| Test acc: 0.75\n",
      "Epoch: 262 \t| Train loss: 0.177 \t| Train acc: 0.77 \t| Test acc: 0.75\n",
      "Epoch: 263 \t| Train loss: 0.177 \t| Train acc: 0.77 \t| Test acc: 0.75\n",
      "Epoch: 264 \t| Train loss: 0.177 \t| Train acc: 0.77 \t| Test acc: 0.75\n",
      "Epoch: 265 \t| Train loss: 0.176 \t| Train acc: 0.77 \t| Test acc: 0.75\n",
      "Epoch: 266 \t| Train loss: 0.176 \t| Train acc: 0.77 \t| Test acc: 0.75\n",
      "Epoch: 267 \t| Train loss: 0.176 \t| Train acc: 0.77 \t| Test acc: 0.75\n",
      "Epoch: 268 \t| Train loss: 0.176 \t| Train acc: 0.77 \t| Test acc: 0.75\n",
      "Epoch: 269 \t| Train loss: 0.176 \t| Train acc: 0.77 \t| Test acc: 0.75\n",
      "Epoch: 270 \t| Train loss: 0.175 \t| Train acc: 0.77 \t| Test acc: 0.75\n",
      "Epoch: 271 \t| Train loss: 0.175 \t| Train acc: 0.77 \t| Test acc: 0.75\n",
      "Epoch: 272 \t| Train loss: 0.175 \t| Train acc: 0.77 \t| Test acc: 0.75\n",
      "Epoch: 273 \t| Train loss: 0.175 \t| Train acc: 0.77 \t| Test acc: 0.75\n",
      "Epoch: 274 \t| Train loss: 0.175 \t| Train acc: 0.77 \t| Test acc: 0.75\n",
      "Epoch: 275 \t| Train loss: 0.175 \t| Train acc: 0.77 \t| Test acc: 0.75\n",
      "Epoch: 276 \t| Train loss: 0.174 \t| Train acc: 0.77 \t| Test acc: 0.75\n",
      "Epoch: 277 \t| Train loss: 0.174 \t| Train acc: 0.77 \t| Test acc: 0.75\n",
      "Epoch: 278 \t| Train loss: 0.174 \t| Train acc: 0.77 \t| Test acc: 0.75\n",
      "Epoch: 279 \t| Train loss: 0.174 \t| Train acc: 0.77 \t| Test acc: 0.75\n",
      "Epoch: 280 \t| Train loss: 0.174 \t| Train acc: 0.77 \t| Test acc: 0.75\n",
      "Epoch: 281 \t| Train loss: 0.174 \t| Train acc: 0.77 \t| Test acc: 0.75\n",
      "Epoch: 282 \t| Train loss: 0.173 \t| Train acc: 0.77 \t| Test acc: 0.75\n",
      "Epoch: 283 \t| Train loss: 0.173 \t| Train acc: 0.77 \t| Test acc: 0.75\n",
      "Epoch: 284 \t| Train loss: 0.173 \t| Train acc: 0.78 \t| Test acc: 0.75\n",
      "Epoch: 285 \t| Train loss: 0.173 \t| Train acc: 0.78 \t| Test acc: 0.75\n",
      "Epoch: 286 \t| Train loss: 0.173 \t| Train acc: 0.78 \t| Test acc: 0.75\n",
      "Epoch: 287 \t| Train loss: 0.172 \t| Train acc: 0.78 \t| Test acc: 0.75\n",
      "Epoch: 288 \t| Train loss: 0.172 \t| Train acc: 0.78 \t| Test acc: 0.75\n",
      "Epoch: 289 \t| Train loss: 0.172 \t| Train acc: 0.78 \t| Test acc: 0.75\n",
      "Epoch: 290 \t| Train loss: 0.172 \t| Train acc: 0.78 \t| Test acc: 0.75\n",
      "Epoch: 291 \t| Train loss: 0.172 \t| Train acc: 0.78 \t| Test acc: 0.75\n",
      "Epoch: 292 \t| Train loss: 0.172 \t| Train acc: 0.78 \t| Test acc: 0.75\n",
      "Epoch: 293 \t| Train loss: 0.171 \t| Train acc: 0.78 \t| Test acc: 0.75\n",
      "Epoch: 294 \t| Train loss: 0.171 \t| Train acc: 0.78 \t| Test acc: 0.75\n",
      "Epoch: 295 \t| Train loss: 0.171 \t| Train acc: 0.78 \t| Test acc: 0.75\n",
      "Epoch: 296 \t| Train loss: 0.171 \t| Train acc: 0.78 \t| Test acc: 0.75\n",
      "Epoch: 297 \t| Train loss: 0.171 \t| Train acc: 0.78 \t| Test acc: 0.75\n",
      "Epoch: 298 \t| Train loss: 0.171 \t| Train acc: 0.78 \t| Test acc: 0.75\n",
      "Epoch: 299 \t| Train loss: 0.17 \t| Train acc: 0.78 \t| Test acc: 0.75\n",
      "Epoch: 300 \t| Train loss: 0.17 \t| Train acc: 0.78 \t| Test acc: 0.75\n",
      "Epoch: 301 \t| Train loss: 0.17 \t| Train acc: 0.78 \t| Test acc: 0.75\n",
      "Epoch: 302 \t| Train loss: 0.17 \t| Train acc: 0.78 \t| Test acc: 0.75\n",
      "Epoch: 303 \t| Train loss: 0.17 \t| Train acc: 0.78 \t| Test acc: 0.75\n",
      "Epoch: 304 \t| Train loss: 0.17 \t| Train acc: 0.78 \t| Test acc: 0.75\n",
      "Epoch: 305 \t| Train loss: 0.169 \t| Train acc: 0.78 \t| Test acc: 0.75\n",
      "Epoch: 306 \t| Train loss: 0.169 \t| Train acc: 0.78 \t| Test acc: 0.75\n",
      "Epoch: 307 \t| Train loss: 0.169 \t| Train acc: 0.78 \t| Test acc: 0.75\n",
      "Epoch: 308 \t| Train loss: 0.169 \t| Train acc: 0.78 \t| Test acc: 0.75\n",
      "Epoch: 309 \t| Train loss: 0.169 \t| Train acc: 0.78 \t| Test acc: 0.75\n",
      "Epoch: 310 \t| Train loss: 0.169 \t| Train acc: 0.78 \t| Test acc: 0.75\n",
      "Epoch: 311 \t| Train loss: 0.169 \t| Train acc: 0.78 \t| Test acc: 0.75\n",
      "Epoch: 312 \t| Train loss: 0.168 \t| Train acc: 0.78 \t| Test acc: 0.75\n",
      "Epoch: 313 \t| Train loss: 0.168 \t| Train acc: 0.78 \t| Test acc: 0.75\n",
      "Epoch: 314 \t| Train loss: 0.168 \t| Train acc: 0.78 \t| Test acc: 0.75\n",
      "Epoch: 315 \t| Train loss: 0.168 \t| Train acc: 0.78 \t| Test acc: 0.75\n",
      "Epoch: 316 \t| Train loss: 0.168 \t| Train acc: 0.78 \t| Test acc: 0.75\n",
      "Epoch: 317 \t| Train loss: 0.168 \t| Train acc: 0.77 \t| Test acc: 0.75\n",
      "Epoch: 318 \t| Train loss: 0.168 \t| Train acc: 0.77 \t| Test acc: 0.75\n",
      "Epoch: 319 \t| Train loss: 0.167 \t| Train acc: 0.77 \t| Test acc: 0.75\n",
      "Epoch: 320 \t| Train loss: 0.167 \t| Train acc: 0.77 \t| Test acc: 0.75\n",
      "Epoch: 321 \t| Train loss: 0.167 \t| Train acc: 0.77 \t| Test acc: 0.75\n",
      "Epoch: 322 \t| Train loss: 0.167 \t| Train acc: 0.77 \t| Test acc: 0.75\n",
      "Epoch: 323 \t| Train loss: 0.167 \t| Train acc: 0.78 \t| Test acc: 0.75\n",
      "Epoch: 324 \t| Train loss: 0.167 \t| Train acc: 0.78 \t| Test acc: 0.75\n",
      "Epoch: 325 \t| Train loss: 0.167 \t| Train acc: 0.78 \t| Test acc: 0.75\n",
      "Epoch: 326 \t| Train loss: 0.166 \t| Train acc: 0.78 \t| Test acc: 0.75\n",
      "Epoch: 327 \t| Train loss: 0.166 \t| Train acc: 0.78 \t| Test acc: 0.75\n",
      "Epoch: 328 \t| Train loss: 0.166 \t| Train acc: 0.78 \t| Test acc: 0.75\n",
      "Epoch: 329 \t| Train loss: 0.166 \t| Train acc: 0.78 \t| Test acc: 0.75\n",
      "Epoch: 330 \t| Train loss: 0.166 \t| Train acc: 0.78 \t| Test acc: 0.75\n",
      "Epoch: 331 \t| Train loss: 0.166 \t| Train acc: 0.78 \t| Test acc: 0.75\n",
      "Epoch: 332 \t| Train loss: 0.166 \t| Train acc: 0.78 \t| Test acc: 0.75\n",
      "Epoch: 333 \t| Train loss: 0.165 \t| Train acc: 0.78 \t| Test acc: 0.75\n",
      "Epoch: 334 \t| Train loss: 0.165 \t| Train acc: 0.78 \t| Test acc: 0.76\n",
      "Epoch: 335 \t| Train loss: 0.165 \t| Train acc: 0.78 \t| Test acc: 0.76\n",
      "Epoch: 336 \t| Train loss: 0.165 \t| Train acc: 0.78 \t| Test acc: 0.76\n",
      "Epoch: 337 \t| Train loss: 0.165 \t| Train acc: 0.78 \t| Test acc: 0.76\n",
      "Epoch: 338 \t| Train loss: 0.165 \t| Train acc: 0.78 \t| Test acc: 0.76\n",
      "Epoch: 339 \t| Train loss: 0.165 \t| Train acc: 0.78 \t| Test acc: 0.76\n",
      "Epoch: 340 \t| Train loss: 0.164 \t| Train acc: 0.78 \t| Test acc: 0.76\n",
      "Epoch: 341 \t| Train loss: 0.164 \t| Train acc: 0.78 \t| Test acc: 0.76\n",
      "Epoch: 342 \t| Train loss: 0.164 \t| Train acc: 0.78 \t| Test acc: 0.76\n",
      "Epoch: 343 \t| Train loss: 0.164 \t| Train acc: 0.78 \t| Test acc: 0.76\n",
      "Epoch: 344 \t| Train loss: 0.164 \t| Train acc: 0.78 \t| Test acc: 0.76\n",
      "Epoch: 345 \t| Train loss: 0.164 \t| Train acc: 0.78 \t| Test acc: 0.76\n",
      "Epoch: 346 \t| Train loss: 0.164 \t| Train acc: 0.78 \t| Test acc: 0.76\n",
      "Epoch: 347 \t| Train loss: 0.164 \t| Train acc: 0.78 \t| Test acc: 0.76\n",
      "Epoch: 348 \t| Train loss: 0.163 \t| Train acc: 0.78 \t| Test acc: 0.76\n",
      "Epoch: 349 \t| Train loss: 0.163 \t| Train acc: 0.78 \t| Test acc: 0.76\n",
      "Epoch: 350 \t| Train loss: 0.163 \t| Train acc: 0.78 \t| Test acc: 0.76\n",
      "Epoch: 351 \t| Train loss: 0.163 \t| Train acc: 0.78 \t| Test acc: 0.76\n",
      "Epoch: 352 \t| Train loss: 0.163 \t| Train acc: 0.78 \t| Test acc: 0.76\n",
      "Epoch: 353 \t| Train loss: 0.163 \t| Train acc: 0.78 \t| Test acc: 0.76\n",
      "Epoch: 354 \t| Train loss: 0.163 \t| Train acc: 0.78 \t| Test acc: 0.76\n",
      "Epoch: 355 \t| Train loss: 0.163 \t| Train acc: 0.78 \t| Test acc: 0.76\n",
      "Epoch: 356 \t| Train loss: 0.162 \t| Train acc: 0.78 \t| Test acc: 0.76\n",
      "Epoch: 357 \t| Train loss: 0.162 \t| Train acc: 0.78 \t| Test acc: 0.76\n",
      "Epoch: 358 \t| Train loss: 0.162 \t| Train acc: 0.78 \t| Test acc: 0.76\n",
      "Epoch: 359 \t| Train loss: 0.162 \t| Train acc: 0.78 \t| Test acc: 0.76\n",
      "Epoch: 360 \t| Train loss: 0.162 \t| Train acc: 0.78 \t| Test acc: 0.76\n",
      "Epoch: 361 \t| Train loss: 0.162 \t| Train acc: 0.78 \t| Test acc: 0.76\n",
      "Epoch: 362 \t| Train loss: 0.162 \t| Train acc: 0.78 \t| Test acc: 0.76\n",
      "Epoch: 363 \t| Train loss: 0.162 \t| Train acc: 0.78 \t| Test acc: 0.76\n",
      "Epoch: 364 \t| Train loss: 0.162 \t| Train acc: 0.78 \t| Test acc: 0.76\n",
      "Epoch: 365 \t| Train loss: 0.161 \t| Train acc: 0.78 \t| Test acc: 0.76\n",
      "Epoch: 366 \t| Train loss: 0.161 \t| Train acc: 0.78 \t| Test acc: 0.76\n",
      "Epoch: 367 \t| Train loss: 0.161 \t| Train acc: 0.78 \t| Test acc: 0.76\n",
      "Epoch: 368 \t| Train loss: 0.161 \t| Train acc: 0.78 \t| Test acc: 0.76\n",
      "Epoch: 369 \t| Train loss: 0.161 \t| Train acc: 0.78 \t| Test acc: 0.76\n",
      "Epoch: 370 \t| Train loss: 0.161 \t| Train acc: 0.78 \t| Test acc: 0.76\n",
      "Epoch: 371 \t| Train loss: 0.161 \t| Train acc: 0.78 \t| Test acc: 0.76\n",
      "Epoch: 372 \t| Train loss: 0.161 \t| Train acc: 0.78 \t| Test acc: 0.76\n",
      "Epoch: 373 \t| Train loss: 0.161 \t| Train acc: 0.78 \t| Test acc: 0.76\n",
      "Epoch: 374 \t| Train loss: 0.16 \t| Train acc: 0.78 \t| Test acc: 0.76\n",
      "Epoch: 375 \t| Train loss: 0.16 \t| Train acc: 0.78 \t| Test acc: 0.76\n",
      "Epoch: 376 \t| Train loss: 0.16 \t| Train acc: 0.78 \t| Test acc: 0.76\n",
      "Epoch: 377 \t| Train loss: 0.16 \t| Train acc: 0.78 \t| Test acc: 0.76\n",
      "Epoch: 378 \t| Train loss: 0.16 \t| Train acc: 0.78 \t| Test acc: 0.76\n",
      "Epoch: 379 \t| Train loss: 0.16 \t| Train acc: 0.78 \t| Test acc: 0.76\n",
      "Epoch: 380 \t| Train loss: 0.16 \t| Train acc: 0.78 \t| Test acc: 0.76\n",
      "Epoch: 381 \t| Train loss: 0.16 \t| Train acc: 0.78 \t| Test acc: 0.76\n",
      "Epoch: 382 \t| Train loss: 0.16 \t| Train acc: 0.78 \t| Test acc: 0.76\n",
      "Epoch: 383 \t| Train loss: 0.159 \t| Train acc: 0.78 \t| Test acc: 0.76\n",
      "Epoch: 384 \t| Train loss: 0.159 \t| Train acc: 0.78 \t| Test acc: 0.76\n",
      "Epoch: 385 \t| Train loss: 0.159 \t| Train acc: 0.78 \t| Test acc: 0.76\n",
      "Epoch: 386 \t| Train loss: 0.159 \t| Train acc: 0.78 \t| Test acc: 0.76\n",
      "Epoch: 387 \t| Train loss: 0.159 \t| Train acc: 0.78 \t| Test acc: 0.76\n",
      "Epoch: 388 \t| Train loss: 0.159 \t| Train acc: 0.78 \t| Test acc: 0.76\n",
      "Epoch: 389 \t| Train loss: 0.159 \t| Train acc: 0.78 \t| Test acc: 0.76\n",
      "Epoch: 390 \t| Train loss: 0.159 \t| Train acc: 0.78 \t| Test acc: 0.76\n",
      "Epoch: 391 \t| Train loss: 0.159 \t| Train acc: 0.78 \t| Test acc: 0.76\n",
      "Epoch: 392 \t| Train loss: 0.159 \t| Train acc: 0.78 \t| Test acc: 0.76\n",
      "Epoch: 393 \t| Train loss: 0.158 \t| Train acc: 0.78 \t| Test acc: 0.76\n",
      "Epoch: 394 \t| Train loss: 0.158 \t| Train acc: 0.78 \t| Test acc: 0.76\n",
      "Epoch: 395 \t| Train loss: 0.158 \t| Train acc: 0.78 \t| Test acc: 0.76\n",
      "Epoch: 396 \t| Train loss: 0.158 \t| Train acc: 0.78 \t| Test acc: 0.76\n",
      "Epoch: 397 \t| Train loss: 0.158 \t| Train acc: 0.78 \t| Test acc: 0.76\n",
      "Epoch: 398 \t| Train loss: 0.158 \t| Train acc: 0.78 \t| Test acc: 0.76\n",
      "Epoch: 399 \t| Train loss: 0.158 \t| Train acc: 0.78 \t| Test acc: 0.76\n",
      "Epoch: 400 \t| Train loss: 0.158 \t| Train acc: 0.78 \t| Test acc: 0.76\n",
      "Epoch: 401 \t| Train loss: 0.158 \t| Train acc: 0.78 \t| Test acc: 0.76\n",
      "Epoch: 402 \t| Train loss: 0.158 \t| Train acc: 0.79 \t| Test acc: 0.76\n",
      "Epoch: 403 \t| Train loss: 0.157 \t| Train acc: 0.79 \t| Test acc: 0.76\n",
      "Epoch: 404 \t| Train loss: 0.157 \t| Train acc: 0.79 \t| Test acc: 0.76\n",
      "Epoch: 405 \t| Train loss: 0.157 \t| Train acc: 0.79 \t| Test acc: 0.76\n",
      "Epoch: 406 \t| Train loss: 0.157 \t| Train acc: 0.79 \t| Test acc: 0.76\n",
      "Epoch: 407 \t| Train loss: 0.157 \t| Train acc: 0.79 \t| Test acc: 0.76\n",
      "Epoch: 408 \t| Train loss: 0.157 \t| Train acc: 0.79 \t| Test acc: 0.76\n",
      "Epoch: 409 \t| Train loss: 0.157 \t| Train acc: 0.79 \t| Test acc: 0.76\n",
      "Epoch: 410 \t| Train loss: 0.157 \t| Train acc: 0.79 \t| Test acc: 0.77\n",
      "Epoch: 411 \t| Train loss: 0.157 \t| Train acc: 0.79 \t| Test acc: 0.77\n",
      "Epoch: 412 \t| Train loss: 0.157 \t| Train acc: 0.79 \t| Test acc: 0.77\n",
      "Epoch: 413 \t| Train loss: 0.156 \t| Train acc: 0.79 \t| Test acc: 0.77\n",
      "Epoch: 414 \t| Train loss: 0.156 \t| Train acc: 0.79 \t| Test acc: 0.77\n",
      "Epoch: 415 \t| Train loss: 0.156 \t| Train acc: 0.79 \t| Test acc: 0.77\n",
      "Epoch: 416 \t| Train loss: 0.156 \t| Train acc: 0.79 \t| Test acc: 0.77\n",
      "Epoch: 417 \t| Train loss: 0.156 \t| Train acc: 0.79 \t| Test acc: 0.77\n",
      "Epoch: 418 \t| Train loss: 0.156 \t| Train acc: 0.79 \t| Test acc: 0.77\n",
      "Epoch: 419 \t| Train loss: 0.156 \t| Train acc: 0.79 \t| Test acc: 0.77\n",
      "Epoch: 420 \t| Train loss: 0.156 \t| Train acc: 0.79 \t| Test acc: 0.77\n",
      "Epoch: 421 \t| Train loss: 0.156 \t| Train acc: 0.79 \t| Test acc: 0.77\n",
      "Epoch: 422 \t| Train loss: 0.156 \t| Train acc: 0.79 \t| Test acc: 0.77\n",
      "Epoch: 423 \t| Train loss: 0.156 \t| Train acc: 0.79 \t| Test acc: 0.77\n",
      "Epoch: 424 \t| Train loss: 0.155 \t| Train acc: 0.79 \t| Test acc: 0.77\n",
      "Epoch: 425 \t| Train loss: 0.155 \t| Train acc: 0.79 \t| Test acc: 0.77\n",
      "Epoch: 426 \t| Train loss: 0.155 \t| Train acc: 0.79 \t| Test acc: 0.77\n",
      "Epoch: 427 \t| Train loss: 0.155 \t| Train acc: 0.79 \t| Test acc: 0.77\n",
      "Epoch: 428 \t| Train loss: 0.155 \t| Train acc: 0.79 \t| Test acc: 0.77\n",
      "Epoch: 429 \t| Train loss: 0.155 \t| Train acc: 0.79 \t| Test acc: 0.77\n",
      "Epoch: 430 \t| Train loss: 0.155 \t| Train acc: 0.79 \t| Test acc: 0.77\n",
      "Epoch: 431 \t| Train loss: 0.155 \t| Train acc: 0.79 \t| Test acc: 0.77\n",
      "Epoch: 432 \t| Train loss: 0.155 \t| Train acc: 0.79 \t| Test acc: 0.77\n",
      "Epoch: 433 \t| Train loss: 0.155 \t| Train acc: 0.79 \t| Test acc: 0.77\n",
      "Epoch: 434 \t| Train loss: 0.155 \t| Train acc: 0.79 \t| Test acc: 0.77\n",
      "Epoch: 435 \t| Train loss: 0.154 \t| Train acc: 0.79 \t| Test acc: 0.77\n",
      "Epoch: 436 \t| Train loss: 0.154 \t| Train acc: 0.79 \t| Test acc: 0.77\n",
      "Epoch: 437 \t| Train loss: 0.154 \t| Train acc: 0.79 \t| Test acc: 0.77\n",
      "Epoch: 438 \t| Train loss: 0.154 \t| Train acc: 0.79 \t| Test acc: 0.77\n",
      "Epoch: 439 \t| Train loss: 0.154 \t| Train acc: 0.79 \t| Test acc: 0.77\n",
      "Epoch: 440 \t| Train loss: 0.154 \t| Train acc: 0.79 \t| Test acc: 0.77\n",
      "Epoch: 441 \t| Train loss: 0.154 \t| Train acc: 0.79 \t| Test acc: 0.77\n",
      "Epoch: 442 \t| Train loss: 0.154 \t| Train acc: 0.79 \t| Test acc: 0.77\n",
      "Epoch: 443 \t| Train loss: 0.154 \t| Train acc: 0.79 \t| Test acc: 0.77\n",
      "Epoch: 444 \t| Train loss: 0.154 \t| Train acc: 0.79 \t| Test acc: 0.77\n",
      "Epoch: 445 \t| Train loss: 0.154 \t| Train acc: 0.79 \t| Test acc: 0.77\n",
      "Epoch: 446 \t| Train loss: 0.154 \t| Train acc: 0.8 \t| Test acc: 0.77\n",
      "Epoch: 447 \t| Train loss: 0.153 \t| Train acc: 0.8 \t| Test acc: 0.77\n",
      "Epoch: 448 \t| Train loss: 0.153 \t| Train acc: 0.8 \t| Test acc: 0.77\n",
      "Epoch: 449 \t| Train loss: 0.153 \t| Train acc: 0.8 \t| Test acc: 0.77\n",
      "Epoch: 450 \t| Train loss: 0.153 \t| Train acc: 0.8 \t| Test acc: 0.77\n",
      "Epoch: 451 \t| Train loss: 0.153 \t| Train acc: 0.8 \t| Test acc: 0.77\n",
      "Epoch: 452 \t| Train loss: 0.153 \t| Train acc: 0.8 \t| Test acc: 0.77\n",
      "Epoch: 453 \t| Train loss: 0.153 \t| Train acc: 0.8 \t| Test acc: 0.77\n",
      "Epoch: 454 \t| Train loss: 0.153 \t| Train acc: 0.8 \t| Test acc: 0.77\n",
      "Epoch: 455 \t| Train loss: 0.153 \t| Train acc: 0.8 \t| Test acc: 0.77\n",
      "Epoch: 456 \t| Train loss: 0.153 \t| Train acc: 0.8 \t| Test acc: 0.77\n",
      "Epoch: 457 \t| Train loss: 0.153 \t| Train acc: 0.8 \t| Test acc: 0.77\n",
      "Epoch: 458 \t| Train loss: 0.153 \t| Train acc: 0.8 \t| Test acc: 0.77\n",
      "Epoch: 459 \t| Train loss: 0.152 \t| Train acc: 0.8 \t| Test acc: 0.77\n",
      "Epoch: 460 \t| Train loss: 0.152 \t| Train acc: 0.8 \t| Test acc: 0.77\n",
      "Epoch: 461 \t| Train loss: 0.152 \t| Train acc: 0.8 \t| Test acc: 0.77\n",
      "Epoch: 462 \t| Train loss: 0.152 \t| Train acc: 0.8 \t| Test acc: 0.77\n",
      "Epoch: 463 \t| Train loss: 0.152 \t| Train acc: 0.8 \t| Test acc: 0.77\n",
      "Epoch: 464 \t| Train loss: 0.152 \t| Train acc: 0.8 \t| Test acc: 0.77\n",
      "Epoch: 465 \t| Train loss: 0.152 \t| Train acc: 0.8 \t| Test acc: 0.77\n",
      "Epoch: 466 \t| Train loss: 0.152 \t| Train acc: 0.8 \t| Test acc: 0.77\n",
      "Epoch: 467 \t| Train loss: 0.152 \t| Train acc: 0.8 \t| Test acc: 0.77\n",
      "Epoch: 468 \t| Train loss: 0.152 \t| Train acc: 0.8 \t| Test acc: 0.77\n",
      "Epoch: 469 \t| Train loss: 0.152 \t| Train acc: 0.8 \t| Test acc: 0.77\n",
      "Epoch: 470 \t| Train loss: 0.152 \t| Train acc: 0.8 \t| Test acc: 0.77\n",
      "Epoch: 471 \t| Train loss: 0.151 \t| Train acc: 0.79 \t| Test acc: 0.77\n",
      "Epoch: 472 \t| Train loss: 0.151 \t| Train acc: 0.79 \t| Test acc: 0.77\n",
      "Epoch: 473 \t| Train loss: 0.151 \t| Train acc: 0.79 \t| Test acc: 0.77\n",
      "Epoch: 474 \t| Train loss: 0.151 \t| Train acc: 0.79 \t| Test acc: 0.77\n",
      "Epoch: 475 \t| Train loss: 0.151 \t| Train acc: 0.79 \t| Test acc: 0.77\n",
      "Epoch: 476 \t| Train loss: 0.151 \t| Train acc: 0.8 \t| Test acc: 0.77\n",
      "Epoch: 477 \t| Train loss: 0.151 \t| Train acc: 0.8 \t| Test acc: 0.77\n",
      "Epoch: 478 \t| Train loss: 0.151 \t| Train acc: 0.8 \t| Test acc: 0.77\n",
      "Epoch: 479 \t| Train loss: 0.151 \t| Train acc: 0.8 \t| Test acc: 0.78\n",
      "Epoch: 480 \t| Train loss: 0.151 \t| Train acc: 0.8 \t| Test acc: 0.78\n",
      "Epoch: 481 \t| Train loss: 0.151 \t| Train acc: 0.8 \t| Test acc: 0.78\n",
      "Epoch: 482 \t| Train loss: 0.151 \t| Train acc: 0.8 \t| Test acc: 0.78\n",
      "Epoch: 483 \t| Train loss: 0.151 \t| Train acc: 0.8 \t| Test acc: 0.78\n",
      "Epoch: 484 \t| Train loss: 0.151 \t| Train acc: 0.8 \t| Test acc: 0.78\n",
      "Epoch: 485 \t| Train loss: 0.15 \t| Train acc: 0.8 \t| Test acc: 0.78\n",
      "Epoch: 486 \t| Train loss: 0.15 \t| Train acc: 0.8 \t| Test acc: 0.78\n",
      "Epoch: 487 \t| Train loss: 0.15 \t| Train acc: 0.8 \t| Test acc: 0.78\n",
      "Epoch: 488 \t| Train loss: 0.15 \t| Train acc: 0.8 \t| Test acc: 0.78\n",
      "Epoch: 489 \t| Train loss: 0.15 \t| Train acc: 0.8 \t| Test acc: 0.78\n",
      "Epoch: 490 \t| Train loss: 0.15 \t| Train acc: 0.8 \t| Test acc: 0.78\n",
      "Epoch: 491 \t| Train loss: 0.15 \t| Train acc: 0.8 \t| Test acc: 0.78\n",
      "Epoch: 492 \t| Train loss: 0.15 \t| Train acc: 0.8 \t| Test acc: 0.78\n",
      "Epoch: 493 \t| Train loss: 0.15 \t| Train acc: 0.8 \t| Test acc: 0.78\n",
      "Epoch: 494 \t| Train loss: 0.15 \t| Train acc: 0.8 \t| Test acc: 0.78\n",
      "Epoch: 495 \t| Train loss: 0.15 \t| Train acc: 0.8 \t| Test acc: 0.78\n",
      "Epoch: 496 \t| Train loss: 0.15 \t| Train acc: 0.8 \t| Test acc: 0.78\n",
      "Epoch: 497 \t| Train loss: 0.15 \t| Train acc: 0.8 \t| Test acc: 0.78\n",
      "Epoch: 498 \t| Train loss: 0.149 \t| Train acc: 0.8 \t| Test acc: 0.78\n",
      "Epoch: 499 \t| Train loss: 0.149 \t| Train acc: 0.8 \t| Test acc: 0.78\n",
      "Epoch: 500 \t| Train loss: 0.149 \t| Train acc: 0.8 \t| Test acc: 0.78\n",
      "Epoch: 501 \t| Train loss: 0.149 \t| Train acc: 0.8 \t| Test acc: 0.78\n",
      "Epoch: 502 \t| Train loss: 0.149 \t| Train acc: 0.8 \t| Test acc: 0.78\n",
      "Epoch: 503 \t| Train loss: 0.149 \t| Train acc: 0.8 \t| Test acc: 0.78\n",
      "Epoch: 504 \t| Train loss: 0.149 \t| Train acc: 0.8 \t| Test acc: 0.78\n",
      "Epoch: 505 \t| Train loss: 0.149 \t| Train acc: 0.8 \t| Test acc: 0.78\n",
      "Epoch: 506 \t| Train loss: 0.149 \t| Train acc: 0.8 \t| Test acc: 0.78\n",
      "Epoch: 507 \t| Train loss: 0.149 \t| Train acc: 0.8 \t| Test acc: 0.78\n",
      "Epoch: 508 \t| Train loss: 0.149 \t| Train acc: 0.8 \t| Test acc: 0.78\n",
      "Epoch: 509 \t| Train loss: 0.149 \t| Train acc: 0.8 \t| Test acc: 0.78\n",
      "Epoch: 510 \t| Train loss: 0.149 \t| Train acc: 0.8 \t| Test acc: 0.78\n",
      "Epoch: 511 \t| Train loss: 0.149 \t| Train acc: 0.8 \t| Test acc: 0.78\n",
      "Epoch: 512 \t| Train loss: 0.148 \t| Train acc: 0.8 \t| Test acc: 0.78\n",
      "Epoch: 513 \t| Train loss: 0.148 \t| Train acc: 0.8 \t| Test acc: 0.78\n",
      "Epoch: 514 \t| Train loss: 0.148 \t| Train acc: 0.8 \t| Test acc: 0.78\n",
      "Epoch: 515 \t| Train loss: 0.148 \t| Train acc: 0.8 \t| Test acc: 0.78\n",
      "Epoch: 516 \t| Train loss: 0.148 \t| Train acc: 0.8 \t| Test acc: 0.78\n",
      "Epoch: 517 \t| Train loss: 0.148 \t| Train acc: 0.8 \t| Test acc: 0.78\n",
      "Epoch: 518 \t| Train loss: 0.148 \t| Train acc: 0.8 \t| Test acc: 0.78\n",
      "Epoch: 519 \t| Train loss: 0.148 \t| Train acc: 0.8 \t| Test acc: 0.78\n",
      "Epoch: 520 \t| Train loss: 0.148 \t| Train acc: 0.8 \t| Test acc: 0.78\n",
      "Epoch: 521 \t| Train loss: 0.148 \t| Train acc: 0.8 \t| Test acc: 0.78\n",
      "Epoch: 522 \t| Train loss: 0.148 \t| Train acc: 0.8 \t| Test acc: 0.78\n",
      "Epoch: 523 \t| Train loss: 0.148 \t| Train acc: 0.8 \t| Test acc: 0.78\n",
      "Epoch: 524 \t| Train loss: 0.148 \t| Train acc: 0.8 \t| Test acc: 0.78\n",
      "Epoch: 525 \t| Train loss: 0.148 \t| Train acc: 0.8 \t| Test acc: 0.78\n",
      "Epoch: 526 \t| Train loss: 0.147 \t| Train acc: 0.8 \t| Test acc: 0.78\n",
      "Epoch: 527 \t| Train loss: 0.147 \t| Train acc: 0.8 \t| Test acc: 0.78\n",
      "Epoch: 528 \t| Train loss: 0.147 \t| Train acc: 0.8 \t| Test acc: 0.78\n",
      "Epoch: 529 \t| Train loss: 0.147 \t| Train acc: 0.8 \t| Test acc: 0.78\n",
      "Epoch: 530 \t| Train loss: 0.147 \t| Train acc: 0.8 \t| Test acc: 0.78\n",
      "Epoch: 531 \t| Train loss: 0.147 \t| Train acc: 0.8 \t| Test acc: 0.78\n",
      "Epoch: 532 \t| Train loss: 0.147 \t| Train acc: 0.8 \t| Test acc: 0.78\n",
      "Epoch: 533 \t| Train loss: 0.147 \t| Train acc: 0.8 \t| Test acc: 0.78\n",
      "Epoch: 534 \t| Train loss: 0.147 \t| Train acc: 0.8 \t| Test acc: 0.78\n",
      "Epoch: 535 \t| Train loss: 0.147 \t| Train acc: 0.8 \t| Test acc: 0.78\n",
      "Epoch: 536 \t| Train loss: 0.147 \t| Train acc: 0.8 \t| Test acc: 0.78\n",
      "Epoch: 537 \t| Train loss: 0.147 \t| Train acc: 0.8 \t| Test acc: 0.78\n",
      "Epoch: 538 \t| Train loss: 0.147 \t| Train acc: 0.8 \t| Test acc: 0.78\n",
      "Epoch: 539 \t| Train loss: 0.147 \t| Train acc: 0.8 \t| Test acc: 0.78\n",
      "Epoch: 540 \t| Train loss: 0.147 \t| Train acc: 0.8 \t| Test acc: 0.78\n",
      "Epoch: 541 \t| Train loss: 0.146 \t| Train acc: 0.8 \t| Test acc: 0.78\n",
      "Epoch: 542 \t| Train loss: 0.146 \t| Train acc: 0.8 \t| Test acc: 0.78\n",
      "Epoch: 543 \t| Train loss: 0.146 \t| Train acc: 0.8 \t| Test acc: 0.78\n",
      "Epoch: 544 \t| Train loss: 0.146 \t| Train acc: 0.81 \t| Test acc: 0.78\n",
      "Epoch: 545 \t| Train loss: 0.146 \t| Train acc: 0.81 \t| Test acc: 0.78\n",
      "Epoch: 546 \t| Train loss: 0.146 \t| Train acc: 0.81 \t| Test acc: 0.78\n",
      "Epoch: 547 \t| Train loss: 0.146 \t| Train acc: 0.81 \t| Test acc: 0.78\n",
      "Epoch: 548 \t| Train loss: 0.146 \t| Train acc: 0.81 \t| Test acc: 0.78\n",
      "Epoch: 549 \t| Train loss: 0.146 \t| Train acc: 0.81 \t| Test acc: 0.78\n",
      "Epoch: 550 \t| Train loss: 0.146 \t| Train acc: 0.81 \t| Test acc: 0.78\n",
      "Epoch: 551 \t| Train loss: 0.146 \t| Train acc: 0.81 \t| Test acc: 0.78\n",
      "Epoch: 552 \t| Train loss: 0.146 \t| Train acc: 0.81 \t| Test acc: 0.79\n",
      "Epoch: 553 \t| Train loss: 0.146 \t| Train acc: 0.81 \t| Test acc: 0.79\n",
      "Epoch: 554 \t| Train loss: 0.146 \t| Train acc: 0.81 \t| Test acc: 0.79\n",
      "Epoch: 555 \t| Train loss: 0.146 \t| Train acc: 0.81 \t| Test acc: 0.79\n",
      "Epoch: 556 \t| Train loss: 0.145 \t| Train acc: 0.81 \t| Test acc: 0.79\n",
      "Epoch: 557 \t| Train loss: 0.145 \t| Train acc: 0.8 \t| Test acc: 0.79\n",
      "Epoch: 558 \t| Train loss: 0.145 \t| Train acc: 0.8 \t| Test acc: 0.79\n",
      "Epoch: 559 \t| Train loss: 0.145 \t| Train acc: 0.8 \t| Test acc: 0.79\n",
      "Epoch: 560 \t| Train loss: 0.145 \t| Train acc: 0.8 \t| Test acc: 0.79\n",
      "Epoch: 561 \t| Train loss: 0.145 \t| Train acc: 0.8 \t| Test acc: 0.79\n",
      "Epoch: 562 \t| Train loss: 0.145 \t| Train acc: 0.8 \t| Test acc: 0.79\n",
      "Epoch: 563 \t| Train loss: 0.145 \t| Train acc: 0.8 \t| Test acc: 0.79\n",
      "Epoch: 564 \t| Train loss: 0.145 \t| Train acc: 0.8 \t| Test acc: 0.79\n",
      "Epoch: 565 \t| Train loss: 0.145 \t| Train acc: 0.8 \t| Test acc: 0.79\n",
      "Epoch: 566 \t| Train loss: 0.145 \t| Train acc: 0.8 \t| Test acc: 0.79\n",
      "Epoch: 567 \t| Train loss: 0.145 \t| Train acc: 0.8 \t| Test acc: 0.79\n",
      "Epoch: 568 \t| Train loss: 0.145 \t| Train acc: 0.8 \t| Test acc: 0.79\n",
      "Epoch: 569 \t| Train loss: 0.145 \t| Train acc: 0.8 \t| Test acc: 0.79\n",
      "Epoch: 570 \t| Train loss: 0.145 \t| Train acc: 0.8 \t| Test acc: 0.79\n",
      "Epoch: 571 \t| Train loss: 0.144 \t| Train acc: 0.8 \t| Test acc: 0.79\n",
      "Epoch: 572 \t| Train loss: 0.144 \t| Train acc: 0.8 \t| Test acc: 0.79\n",
      "Epoch: 573 \t| Train loss: 0.144 \t| Train acc: 0.8 \t| Test acc: 0.79\n",
      "Epoch: 574 \t| Train loss: 0.144 \t| Train acc: 0.8 \t| Test acc: 0.79\n",
      "Epoch: 575 \t| Train loss: 0.144 \t| Train acc: 0.8 \t| Test acc: 0.79\n",
      "Epoch: 576 \t| Train loss: 0.144 \t| Train acc: 0.8 \t| Test acc: 0.79\n",
      "Epoch: 577 \t| Train loss: 0.144 \t| Train acc: 0.8 \t| Test acc: 0.79\n",
      "Epoch: 578 \t| Train loss: 0.144 \t| Train acc: 0.8 \t| Test acc: 0.79\n",
      "Epoch: 579 \t| Train loss: 0.144 \t| Train acc: 0.8 \t| Test acc: 0.79\n",
      "Epoch: 580 \t| Train loss: 0.144 \t| Train acc: 0.8 \t| Test acc: 0.79\n",
      "Epoch: 581 \t| Train loss: 0.144 \t| Train acc: 0.8 \t| Test acc: 0.79\n",
      "Epoch: 582 \t| Train loss: 0.144 \t| Train acc: 0.8 \t| Test acc: 0.79\n",
      "Epoch: 583 \t| Train loss: 0.144 \t| Train acc: 0.8 \t| Test acc: 0.79\n",
      "Epoch: 584 \t| Train loss: 0.144 \t| Train acc: 0.8 \t| Test acc: 0.79\n",
      "Epoch: 585 \t| Train loss: 0.144 \t| Train acc: 0.81 \t| Test acc: 0.79\n",
      "Epoch: 586 \t| Train loss: 0.143 \t| Train acc: 0.81 \t| Test acc: 0.79\n",
      "Epoch: 587 \t| Train loss: 0.143 \t| Train acc: 0.81 \t| Test acc: 0.79\n",
      "Epoch: 588 \t| Train loss: 0.143 \t| Train acc: 0.81 \t| Test acc: 0.79\n",
      "Epoch: 589 \t| Train loss: 0.143 \t| Train acc: 0.81 \t| Test acc: 0.79\n",
      "Epoch: 590 \t| Train loss: 0.143 \t| Train acc: 0.81 \t| Test acc: 0.79\n",
      "Epoch: 591 \t| Train loss: 0.143 \t| Train acc: 0.81 \t| Test acc: 0.79\n",
      "Epoch: 592 \t| Train loss: 0.143 \t| Train acc: 0.81 \t| Test acc: 0.79\n",
      "Epoch: 593 \t| Train loss: 0.143 \t| Train acc: 0.81 \t| Test acc: 0.79\n",
      "Epoch: 594 \t| Train loss: 0.143 \t| Train acc: 0.81 \t| Test acc: 0.79\n",
      "Epoch: 595 \t| Train loss: 0.143 \t| Train acc: 0.81 \t| Test acc: 0.79\n",
      "Epoch: 596 \t| Train loss: 0.143 \t| Train acc: 0.81 \t| Test acc: 0.79\n",
      "Epoch: 597 \t| Train loss: 0.143 \t| Train acc: 0.81 \t| Test acc: 0.79\n",
      "Epoch: 598 \t| Train loss: 0.143 \t| Train acc: 0.81 \t| Test acc: 0.79\n",
      "Epoch: 599 \t| Train loss: 0.143 \t| Train acc: 0.81 \t| Test acc: 0.79\n",
      "Epoch: 600 \t| Train loss: 0.143 \t| Train acc: 0.81 \t| Test acc: 0.79\n",
      "Epoch: 601 \t| Train loss: 0.143 \t| Train acc: 0.81 \t| Test acc: 0.79\n",
      "Epoch: 602 \t| Train loss: 0.143 \t| Train acc: 0.81 \t| Test acc: 0.79\n",
      "Epoch: 603 \t| Train loss: 0.142 \t| Train acc: 0.81 \t| Test acc: 0.79\n",
      "Epoch: 604 \t| Train loss: 0.142 \t| Train acc: 0.81 \t| Test acc: 0.79\n",
      "Epoch: 605 \t| Train loss: 0.142 \t| Train acc: 0.81 \t| Test acc: 0.79\n",
      "Epoch: 606 \t| Train loss: 0.142 \t| Train acc: 0.81 \t| Test acc: 0.79\n",
      "Epoch: 607 \t| Train loss: 0.142 \t| Train acc: 0.81 \t| Test acc: 0.79\n",
      "Epoch: 608 \t| Train loss: 0.142 \t| Train acc: 0.81 \t| Test acc: 0.79\n",
      "Epoch: 609 \t| Train loss: 0.142 \t| Train acc: 0.81 \t| Test acc: 0.79\n",
      "Epoch: 610 \t| Train loss: 0.142 \t| Train acc: 0.81 \t| Test acc: 0.8\n",
      "Epoch: 611 \t| Train loss: 0.142 \t| Train acc: 0.81 \t| Test acc: 0.8\n",
      "Epoch: 612 \t| Train loss: 0.142 \t| Train acc: 0.81 \t| Test acc: 0.8\n",
      "Epoch: 613 \t| Train loss: 0.142 \t| Train acc: 0.81 \t| Test acc: 0.8\n",
      "Epoch: 614 \t| Train loss: 0.142 \t| Train acc: 0.81 \t| Test acc: 0.8\n",
      "Epoch: 615 \t| Train loss: 0.142 \t| Train acc: 0.81 \t| Test acc: 0.8\n",
      "Epoch: 616 \t| Train loss: 0.142 \t| Train acc: 0.81 \t| Test acc: 0.8\n",
      "Epoch: 617 \t| Train loss: 0.142 \t| Train acc: 0.81 \t| Test acc: 0.8\n",
      "Epoch: 618 \t| Train loss: 0.142 \t| Train acc: 0.81 \t| Test acc: 0.8\n",
      "Epoch: 619 \t| Train loss: 0.142 \t| Train acc: 0.81 \t| Test acc: 0.8\n",
      "Epoch: 620 \t| Train loss: 0.142 \t| Train acc: 0.8 \t| Test acc: 0.8\n",
      "Epoch: 621 \t| Train loss: 0.141 \t| Train acc: 0.8 \t| Test acc: 0.8\n",
      "Epoch: 622 \t| Train loss: 0.141 \t| Train acc: 0.8 \t| Test acc: 0.8\n",
      "Epoch: 623 \t| Train loss: 0.141 \t| Train acc: 0.8 \t| Test acc: 0.8\n",
      "Epoch: 624 \t| Train loss: 0.141 \t| Train acc: 0.8 \t| Test acc: 0.8\n",
      "Epoch: 625 \t| Train loss: 0.141 \t| Train acc: 0.8 \t| Test acc: 0.8\n",
      "Epoch: 626 \t| Train loss: 0.141 \t| Train acc: 0.8 \t| Test acc: 0.8\n",
      "Epoch: 627 \t| Train loss: 0.141 \t| Train acc: 0.8 \t| Test acc: 0.8\n",
      "Epoch: 628 \t| Train loss: 0.141 \t| Train acc: 0.8 \t| Test acc: 0.8\n",
      "Epoch: 629 \t| Train loss: 0.141 \t| Train acc: 0.8 \t| Test acc: 0.8\n",
      "Epoch: 630 \t| Train loss: 0.141 \t| Train acc: 0.81 \t| Test acc: 0.8\n",
      "Epoch: 631 \t| Train loss: 0.141 \t| Train acc: 0.81 \t| Test acc: 0.8\n",
      "Epoch: 632 \t| Train loss: 0.141 \t| Train acc: 0.81 \t| Test acc: 0.8\n",
      "Epoch: 633 \t| Train loss: 0.141 \t| Train acc: 0.81 \t| Test acc: 0.8\n",
      "Epoch: 634 \t| Train loss: 0.141 \t| Train acc: 0.81 \t| Test acc: 0.8\n",
      "Epoch: 635 \t| Train loss: 0.141 \t| Train acc: 0.81 \t| Test acc: 0.8\n",
      "Epoch: 636 \t| Train loss: 0.141 \t| Train acc: 0.81 \t| Test acc: 0.8\n",
      "Epoch: 637 \t| Train loss: 0.14 \t| Train acc: 0.81 \t| Test acc: 0.8\n",
      "Epoch: 638 \t| Train loss: 0.14 \t| Train acc: 0.81 \t| Test acc: 0.8\n",
      "Epoch: 639 \t| Train loss: 0.14 \t| Train acc: 0.81 \t| Test acc: 0.8\n",
      "Epoch: 640 \t| Train loss: 0.14 \t| Train acc: 0.81 \t| Test acc: 0.8\n",
      "Epoch: 641 \t| Train loss: 0.14 \t| Train acc: 0.81 \t| Test acc: 0.8\n",
      "Epoch: 642 \t| Train loss: 0.14 \t| Train acc: 0.81 \t| Test acc: 0.8\n",
      "Epoch: 643 \t| Train loss: 0.14 \t| Train acc: 0.81 \t| Test acc: 0.8\n",
      "Epoch: 644 \t| Train loss: 0.14 \t| Train acc: 0.81 \t| Test acc: 0.8\n",
      "Epoch: 645 \t| Train loss: 0.14 \t| Train acc: 0.81 \t| Test acc: 0.8\n",
      "Epoch: 646 \t| Train loss: 0.14 \t| Train acc: 0.81 \t| Test acc: 0.8\n",
      "Epoch: 647 \t| Train loss: 0.14 \t| Train acc: 0.81 \t| Test acc: 0.8\n",
      "Epoch: 648 \t| Train loss: 0.14 \t| Train acc: 0.81 \t| Test acc: 0.8\n",
      "Epoch: 649 \t| Train loss: 0.14 \t| Train acc: 0.81 \t| Test acc: 0.8\n",
      "Epoch: 650 \t| Train loss: 0.14 \t| Train acc: 0.81 \t| Test acc: 0.8\n",
      "Epoch: 651 \t| Train loss: 0.14 \t| Train acc: 0.81 \t| Test acc: 0.8\n",
      "Epoch: 652 \t| Train loss: 0.14 \t| Train acc: 0.81 \t| Test acc: 0.8\n",
      "Epoch: 653 \t| Train loss: 0.14 \t| Train acc: 0.81 \t| Test acc: 0.8\n",
      "Epoch: 654 \t| Train loss: 0.139 \t| Train acc: 0.81 \t| Test acc: 0.8\n",
      "Epoch: 655 \t| Train loss: 0.139 \t| Train acc: 0.81 \t| Test acc: 0.8\n",
      "Epoch: 656 \t| Train loss: 0.139 \t| Train acc: 0.81 \t| Test acc: 0.8\n",
      "Epoch: 657 \t| Train loss: 0.139 \t| Train acc: 0.81 \t| Test acc: 0.8\n",
      "Epoch: 658 \t| Train loss: 0.139 \t| Train acc: 0.81 \t| Test acc: 0.8\n",
      "Epoch: 659 \t| Train loss: 0.139 \t| Train acc: 0.81 \t| Test acc: 0.8\n",
      "Epoch: 660 \t| Train loss: 0.139 \t| Train acc: 0.81 \t| Test acc: 0.8\n",
      "Epoch: 661 \t| Train loss: 0.139 \t| Train acc: 0.81 \t| Test acc: 0.8\n",
      "Epoch: 662 \t| Train loss: 0.139 \t| Train acc: 0.81 \t| Test acc: 0.8\n",
      "Epoch: 663 \t| Train loss: 0.139 \t| Train acc: 0.81 \t| Test acc: 0.8\n",
      "Epoch: 664 \t| Train loss: 0.139 \t| Train acc: 0.81 \t| Test acc: 0.8\n",
      "Epoch: 665 \t| Train loss: 0.139 \t| Train acc: 0.81 \t| Test acc: 0.8\n",
      "Epoch: 666 \t| Train loss: 0.139 \t| Train acc: 0.81 \t| Test acc: 0.8\n",
      "Epoch: 667 \t| Train loss: 0.139 \t| Train acc: 0.81 \t| Test acc: 0.8\n",
      "Epoch: 668 \t| Train loss: 0.139 \t| Train acc: 0.81 \t| Test acc: 0.8\n",
      "Epoch: 669 \t| Train loss: 0.139 \t| Train acc: 0.81 \t| Test acc: 0.8\n",
      "Epoch: 670 \t| Train loss: 0.139 \t| Train acc: 0.8 \t| Test acc: 0.8\n",
      "Epoch: 671 \t| Train loss: 0.138 \t| Train acc: 0.8 \t| Test acc: 0.8\n",
      "Epoch: 672 \t| Train loss: 0.138 \t| Train acc: 0.8 \t| Test acc: 0.8\n",
      "Epoch: 673 \t| Train loss: 0.138 \t| Train acc: 0.8 \t| Test acc: 0.8\n",
      "Epoch: 674 \t| Train loss: 0.138 \t| Train acc: 0.8 \t| Test acc: 0.8\n",
      "Epoch: 675 \t| Train loss: 0.138 \t| Train acc: 0.8 \t| Test acc: 0.8\n",
      "Epoch: 676 \t| Train loss: 0.138 \t| Train acc: 0.8 \t| Test acc: 0.8\n",
      "Epoch: 677 \t| Train loss: 0.138 \t| Train acc: 0.8 \t| Test acc: 0.8\n",
      "Epoch: 678 \t| Train loss: 0.138 \t| Train acc: 0.8 \t| Test acc: 0.8\n",
      "Epoch: 679 \t| Train loss: 0.138 \t| Train acc: 0.8 \t| Test acc: 0.8\n",
      "Epoch: 680 \t| Train loss: 0.138 \t| Train acc: 0.81 \t| Test acc: 0.8\n",
      "Epoch: 681 \t| Train loss: 0.138 \t| Train acc: 0.81 \t| Test acc: 0.8\n",
      "Epoch: 682 \t| Train loss: 0.138 \t| Train acc: 0.81 \t| Test acc: 0.8\n",
      "Epoch: 683 \t| Train loss: 0.138 \t| Train acc: 0.8 \t| Test acc: 0.8\n",
      "Epoch: 684 \t| Train loss: 0.138 \t| Train acc: 0.8 \t| Test acc: 0.8\n",
      "Epoch: 685 \t| Train loss: 0.138 \t| Train acc: 0.8 \t| Test acc: 0.8\n",
      "Epoch: 686 \t| Train loss: 0.138 \t| Train acc: 0.8 \t| Test acc: 0.8\n",
      "Epoch: 687 \t| Train loss: 0.138 \t| Train acc: 0.8 \t| Test acc: 0.8\n",
      "Epoch: 688 \t| Train loss: 0.138 \t| Train acc: 0.8 \t| Test acc: 0.8\n",
      "Epoch: 689 \t| Train loss: 0.137 \t| Train acc: 0.8 \t| Test acc: 0.8\n",
      "Epoch: 690 \t| Train loss: 0.137 \t| Train acc: 0.8 \t| Test acc: 0.8\n",
      "Epoch: 691 \t| Train loss: 0.137 \t| Train acc: 0.8 \t| Test acc: 0.8\n",
      "Epoch: 692 \t| Train loss: 0.137 \t| Train acc: 0.8 \t| Test acc: 0.8\n",
      "Epoch: 693 \t| Train loss: 0.137 \t| Train acc: 0.8 \t| Test acc: 0.8\n",
      "Epoch: 694 \t| Train loss: 0.137 \t| Train acc: 0.8 \t| Test acc: 0.8\n",
      "Epoch: 695 \t| Train loss: 0.137 \t| Train acc: 0.8 \t| Test acc: 0.8\n",
      "Epoch: 696 \t| Train loss: 0.137 \t| Train acc: 0.8 \t| Test acc: 0.8\n",
      "Epoch: 697 \t| Train loss: 0.137 \t| Train acc: 0.8 \t| Test acc: 0.8\n",
      "Epoch: 698 \t| Train loss: 0.137 \t| Train acc: 0.8 \t| Test acc: 0.8\n",
      "Epoch: 699 \t| Train loss: 0.137 \t| Train acc: 0.8 \t| Test acc: 0.8\n",
      "Epoch: 700 \t| Train loss: 0.137 \t| Train acc: 0.8 \t| Test acc: 0.8\n",
      "Epoch: 701 \t| Train loss: 0.137 \t| Train acc: 0.81 \t| Test acc: 0.8\n",
      "Epoch: 702 \t| Train loss: 0.137 \t| Train acc: 0.81 \t| Test acc: 0.8\n",
      "Epoch: 703 \t| Train loss: 0.137 \t| Train acc: 0.81 \t| Test acc: 0.8\n",
      "Epoch: 704 \t| Train loss: 0.137 \t| Train acc: 0.81 \t| Test acc: 0.81\n",
      "Epoch: 705 \t| Train loss: 0.137 \t| Train acc: 0.81 \t| Test acc: 0.81\n",
      "Epoch: 706 \t| Train loss: 0.137 \t| Train acc: 0.81 \t| Test acc: 0.81\n",
      "Epoch: 707 \t| Train loss: 0.137 \t| Train acc: 0.81 \t| Test acc: 0.81\n",
      "Epoch: 708 \t| Train loss: 0.136 \t| Train acc: 0.81 \t| Test acc: 0.81\n",
      "Epoch: 709 \t| Train loss: 0.136 \t| Train acc: 0.81 \t| Test acc: 0.81\n",
      "Epoch: 710 \t| Train loss: 0.136 \t| Train acc: 0.81 \t| Test acc: 0.81\n",
      "Epoch: 711 \t| Train loss: 0.136 \t| Train acc: 0.81 \t| Test acc: 0.81\n",
      "Epoch: 712 \t| Train loss: 0.136 \t| Train acc: 0.81 \t| Test acc: 0.81\n",
      "Epoch: 713 \t| Train loss: 0.136 \t| Train acc: 0.81 \t| Test acc: 0.81\n",
      "Epoch: 714 \t| Train loss: 0.136 \t| Train acc: 0.81 \t| Test acc: 0.81\n",
      "Epoch: 715 \t| Train loss: 0.136 \t| Train acc: 0.81 \t| Test acc: 0.81\n",
      "Epoch: 716 \t| Train loss: 0.136 \t| Train acc: 0.81 \t| Test acc: 0.81\n",
      "Epoch: 717 \t| Train loss: 0.136 \t| Train acc: 0.81 \t| Test acc: 0.81\n",
      "Epoch: 718 \t| Train loss: 0.136 \t| Train acc: 0.81 \t| Test acc: 0.81\n",
      "Epoch: 719 \t| Train loss: 0.136 \t| Train acc: 0.81 \t| Test acc: 0.81\n",
      "Epoch: 720 \t| Train loss: 0.136 \t| Train acc: 0.81 \t| Test acc: 0.81\n",
      "Epoch: 721 \t| Train loss: 0.136 \t| Train acc: 0.81 \t| Test acc: 0.81\n",
      "Epoch: 722 \t| Train loss: 0.136 \t| Train acc: 0.81 \t| Test acc: 0.81\n",
      "Epoch: 723 \t| Train loss: 0.136 \t| Train acc: 0.81 \t| Test acc: 0.81\n",
      "Epoch: 724 \t| Train loss: 0.136 \t| Train acc: 0.81 \t| Test acc: 0.81\n",
      "Epoch: 725 \t| Train loss: 0.135 \t| Train acc: 0.81 \t| Test acc: 0.81\n",
      "Epoch: 726 \t| Train loss: 0.135 \t| Train acc: 0.81 \t| Test acc: 0.81\n",
      "Epoch: 727 \t| Train loss: 0.135 \t| Train acc: 0.81 \t| Test acc: 0.81\n",
      "Epoch: 728 \t| Train loss: 0.135 \t| Train acc: 0.81 \t| Test acc: 0.81\n",
      "Epoch: 729 \t| Train loss: 0.135 \t| Train acc: 0.81 \t| Test acc: 0.81\n",
      "Epoch: 730 \t| Train loss: 0.135 \t| Train acc: 0.81 \t| Test acc: 0.81\n",
      "Epoch: 731 \t| Train loss: 0.135 \t| Train acc: 0.81 \t| Test acc: 0.81\n",
      "Epoch: 732 \t| Train loss: 0.135 \t| Train acc: 0.81 \t| Test acc: 0.81\n",
      "Epoch: 733 \t| Train loss: 0.135 \t| Train acc: 0.81 \t| Test acc: 0.81\n",
      "Epoch: 734 \t| Train loss: 0.135 \t| Train acc: 0.81 \t| Test acc: 0.81\n",
      "Epoch: 735 \t| Train loss: 0.135 \t| Train acc: 0.81 \t| Test acc: 0.81\n",
      "Epoch: 736 \t| Train loss: 0.135 \t| Train acc: 0.82 \t| Test acc: 0.81\n",
      "Epoch: 737 \t| Train loss: 0.135 \t| Train acc: 0.82 \t| Test acc: 0.81\n",
      "Epoch: 738 \t| Train loss: 0.135 \t| Train acc: 0.82 \t| Test acc: 0.81\n",
      "Epoch: 739 \t| Train loss: 0.135 \t| Train acc: 0.82 \t| Test acc: 0.81\n",
      "Epoch: 740 \t| Train loss: 0.135 \t| Train acc: 0.82 \t| Test acc: 0.81\n",
      "Epoch: 741 \t| Train loss: 0.135 \t| Train acc: 0.82 \t| Test acc: 0.81\n",
      "Epoch: 742 \t| Train loss: 0.134 \t| Train acc: 0.82 \t| Test acc: 0.81\n",
      "Epoch: 743 \t| Train loss: 0.134 \t| Train acc: 0.82 \t| Test acc: 0.81\n",
      "Epoch: 744 \t| Train loss: 0.134 \t| Train acc: 0.82 \t| Test acc: 0.81\n",
      "Epoch: 745 \t| Train loss: 0.134 \t| Train acc: 0.82 \t| Test acc: 0.81\n",
      "Epoch: 746 \t| Train loss: 0.134 \t| Train acc: 0.82 \t| Test acc: 0.81\n",
      "Epoch: 747 \t| Train loss: 0.134 \t| Train acc: 0.82 \t| Test acc: 0.81\n",
      "Epoch: 748 \t| Train loss: 0.134 \t| Train acc: 0.82 \t| Test acc: 0.81\n",
      "Epoch: 749 \t| Train loss: 0.134 \t| Train acc: 0.82 \t| Test acc: 0.81\n",
      "Epoch: 750 \t| Train loss: 0.134 \t| Train acc: 0.82 \t| Test acc: 0.81\n",
      "Epoch: 751 \t| Train loss: 0.134 \t| Train acc: 0.82 \t| Test acc: 0.81\n",
      "Epoch: 752 \t| Train loss: 0.134 \t| Train acc: 0.82 \t| Test acc: 0.81\n",
      "Epoch: 753 \t| Train loss: 0.134 \t| Train acc: 0.82 \t| Test acc: 0.81\n",
      "Epoch: 754 \t| Train loss: 0.134 \t| Train acc: 0.82 \t| Test acc: 0.81\n",
      "Epoch: 755 \t| Train loss: 0.134 \t| Train acc: 0.82 \t| Test acc: 0.81\n",
      "Epoch: 756 \t| Train loss: 0.134 \t| Train acc: 0.82 \t| Test acc: 0.81\n",
      "Epoch: 757 \t| Train loss: 0.133 \t| Train acc: 0.81 \t| Test acc: 0.81\n",
      "Epoch: 758 \t| Train loss: 0.133 \t| Train acc: 0.81 \t| Test acc: 0.81\n",
      "Epoch: 759 \t| Train loss: 0.133 \t| Train acc: 0.81 \t| Test acc: 0.81\n",
      "Epoch: 760 \t| Train loss: 0.133 \t| Train acc: 0.81 \t| Test acc: 0.81\n",
      "Epoch: 761 \t| Train loss: 0.133 \t| Train acc: 0.81 \t| Test acc: 0.81\n",
      "Epoch: 762 \t| Train loss: 0.133 \t| Train acc: 0.81 \t| Test acc: 0.81\n",
      "Epoch: 763 \t| Train loss: 0.133 \t| Train acc: 0.81 \t| Test acc: 0.81\n",
      "Epoch: 764 \t| Train loss: 0.133 \t| Train acc: 0.81 \t| Test acc: 0.81\n",
      "Epoch: 765 \t| Train loss: 0.133 \t| Train acc: 0.81 \t| Test acc: 0.81\n",
      "Epoch: 766 \t| Train loss: 0.133 \t| Train acc: 0.81 \t| Test acc: 0.81\n",
      "Epoch: 767 \t| Train loss: 0.133 \t| Train acc: 0.81 \t| Test acc: 0.81\n",
      "Epoch: 768 \t| Train loss: 0.133 \t| Train acc: 0.81 \t| Test acc: 0.82\n",
      "Epoch: 769 \t| Train loss: 0.133 \t| Train acc: 0.81 \t| Test acc: 0.82\n",
      "Epoch: 770 \t| Train loss: 0.133 \t| Train acc: 0.81 \t| Test acc: 0.82\n",
      "Epoch: 771 \t| Train loss: 0.133 \t| Train acc: 0.81 \t| Test acc: 0.82\n",
      "Epoch: 772 \t| Train loss: 0.132 \t| Train acc: 0.81 \t| Test acc: 0.82\n",
      "Epoch: 773 \t| Train loss: 0.132 \t| Train acc: 0.81 \t| Test acc: 0.82\n",
      "Epoch: 774 \t| Train loss: 0.132 \t| Train acc: 0.81 \t| Test acc: 0.82\n",
      "Epoch: 775 \t| Train loss: 0.132 \t| Train acc: 0.81 \t| Test acc: 0.82\n",
      "Epoch: 776 \t| Train loss: 0.132 \t| Train acc: 0.81 \t| Test acc: 0.82\n",
      "Epoch: 777 \t| Train loss: 0.132 \t| Train acc: 0.81 \t| Test acc: 0.82\n",
      "Epoch: 778 \t| Train loss: 0.132 \t| Train acc: 0.81 \t| Test acc: 0.82\n",
      "Epoch: 779 \t| Train loss: 0.132 \t| Train acc: 0.81 \t| Test acc: 0.82\n",
      "Epoch: 780 \t| Train loss: 0.132 \t| Train acc: 0.82 \t| Test acc: 0.82\n",
      "Epoch: 781 \t| Train loss: 0.132 \t| Train acc: 0.82 \t| Test acc: 0.82\n",
      "Epoch: 782 \t| Train loss: 0.132 \t| Train acc: 0.82 \t| Test acc: 0.82\n",
      "Epoch: 783 \t| Train loss: 0.132 \t| Train acc: 0.82 \t| Test acc: 0.82\n",
      "Epoch: 784 \t| Train loss: 0.132 \t| Train acc: 0.82 \t| Test acc: 0.82\n",
      "Epoch: 785 \t| Train loss: 0.132 \t| Train acc: 0.82 \t| Test acc: 0.82\n",
      "Epoch: 786 \t| Train loss: 0.132 \t| Train acc: 0.82 \t| Test acc: 0.82\n",
      "Epoch: 787 \t| Train loss: 0.132 \t| Train acc: 0.82 \t| Test acc: 0.82\n",
      "Epoch: 788 \t| Train loss: 0.132 \t| Train acc: 0.82 \t| Test acc: 0.82\n",
      "Epoch: 789 \t| Train loss: 0.131 \t| Train acc: 0.82 \t| Test acc: 0.82\n",
      "Epoch: 790 \t| Train loss: 0.131 \t| Train acc: 0.82 \t| Test acc: 0.82\n",
      "Epoch: 791 \t| Train loss: 0.131 \t| Train acc: 0.82 \t| Test acc: 0.82\n",
      "Epoch: 792 \t| Train loss: 0.131 \t| Train acc: 0.82 \t| Test acc: 0.82\n",
      "Epoch: 793 \t| Train loss: 0.131 \t| Train acc: 0.82 \t| Test acc: 0.82\n",
      "Epoch: 794 \t| Train loss: 0.131 \t| Train acc: 0.82 \t| Test acc: 0.82\n",
      "Epoch: 795 \t| Train loss: 0.131 \t| Train acc: 0.82 \t| Test acc: 0.82\n",
      "Epoch: 796 \t| Train loss: 0.131 \t| Train acc: 0.82 \t| Test acc: 0.82\n",
      "Epoch: 797 \t| Train loss: 0.131 \t| Train acc: 0.82 \t| Test acc: 0.82\n",
      "Epoch: 798 \t| Train loss: 0.131 \t| Train acc: 0.83 \t| Test acc: 0.82\n",
      "Epoch: 799 \t| Train loss: 0.131 \t| Train acc: 0.83 \t| Test acc: 0.82\n",
      "Epoch: 800 \t| Train loss: 0.131 \t| Train acc: 0.83 \t| Test acc: 0.82\n",
      "Epoch: 801 \t| Train loss: 0.131 \t| Train acc: 0.83 \t| Test acc: 0.82\n",
      "Epoch: 802 \t| Train loss: 0.131 \t| Train acc: 0.83 \t| Test acc: 0.82\n",
      "Epoch: 803 \t| Train loss: 0.131 \t| Train acc: 0.83 \t| Test acc: 0.82\n",
      "Epoch: 804 \t| Train loss: 0.131 \t| Train acc: 0.83 \t| Test acc: 0.82\n",
      "Epoch: 805 \t| Train loss: 0.131 \t| Train acc: 0.83 \t| Test acc: 0.82\n",
      "Epoch: 806 \t| Train loss: 0.131 \t| Train acc: 0.83 \t| Test acc: 0.82\n",
      "Epoch: 807 \t| Train loss: 0.131 \t| Train acc: 0.83 \t| Test acc: 0.82\n",
      "Epoch: 808 \t| Train loss: 0.13 \t| Train acc: 0.83 \t| Test acc: 0.82\n",
      "Epoch: 809 \t| Train loss: 0.13 \t| Train acc: 0.83 \t| Test acc: 0.82\n",
      "Epoch: 810 \t| Train loss: 0.13 \t| Train acc: 0.83 \t| Test acc: 0.82\n",
      "Epoch: 811 \t| Train loss: 0.13 \t| Train acc: 0.83 \t| Test acc: 0.82\n",
      "Epoch: 812 \t| Train loss: 0.13 \t| Train acc: 0.83 \t| Test acc: 0.82\n",
      "Epoch: 813 \t| Train loss: 0.13 \t| Train acc: 0.83 \t| Test acc: 0.82\n",
      "Epoch: 814 \t| Train loss: 0.13 \t| Train acc: 0.83 \t| Test acc: 0.82\n",
      "Epoch: 815 \t| Train loss: 0.13 \t| Train acc: 0.83 \t| Test acc: 0.82\n",
      "Epoch: 816 \t| Train loss: 0.13 \t| Train acc: 0.83 \t| Test acc: 0.82\n",
      "Epoch: 817 \t| Train loss: 0.13 \t| Train acc: 0.83 \t| Test acc: 0.82\n",
      "Epoch: 818 \t| Train loss: 0.13 \t| Train acc: 0.83 \t| Test acc: 0.82\n",
      "Epoch: 819 \t| Train loss: 0.13 \t| Train acc: 0.83 \t| Test acc: 0.82\n",
      "Epoch: 820 \t| Train loss: 0.13 \t| Train acc: 0.83 \t| Test acc: 0.82\n",
      "Epoch: 821 \t| Train loss: 0.13 \t| Train acc: 0.83 \t| Test acc: 0.82\n",
      "Epoch: 822 \t| Train loss: 0.13 \t| Train acc: 0.83 \t| Test acc: 0.82\n",
      "Epoch: 823 \t| Train loss: 0.13 \t| Train acc: 0.83 \t| Test acc: 0.82\n",
      "Epoch: 824 \t| Train loss: 0.13 \t| Train acc: 0.83 \t| Test acc: 0.82\n",
      "Epoch: 825 \t| Train loss: 0.13 \t| Train acc: 0.83 \t| Test acc: 0.82\n",
      "Epoch: 826 \t| Train loss: 0.13 \t| Train acc: 0.83 \t| Test acc: 0.82\n",
      "Epoch: 827 \t| Train loss: 0.13 \t| Train acc: 0.83 \t| Test acc: 0.82\n",
      "Epoch: 828 \t| Train loss: 0.129 \t| Train acc: 0.83 \t| Test acc: 0.82\n",
      "Epoch: 829 \t| Train loss: 0.129 \t| Train acc: 0.83 \t| Test acc: 0.82\n",
      "Epoch: 830 \t| Train loss: 0.129 \t| Train acc: 0.83 \t| Test acc: 0.82\n",
      "Epoch: 831 \t| Train loss: 0.129 \t| Train acc: 0.83 \t| Test acc: 0.82\n",
      "Epoch: 832 \t| Train loss: 0.129 \t| Train acc: 0.83 \t| Test acc: 0.82\n",
      "Epoch: 833 \t| Train loss: 0.129 \t| Train acc: 0.83 \t| Test acc: 0.82\n",
      "Epoch: 834 \t| Train loss: 0.129 \t| Train acc: 0.83 \t| Test acc: 0.82\n",
      "Epoch: 835 \t| Train loss: 0.129 \t| Train acc: 0.83 \t| Test acc: 0.82\n",
      "Epoch: 836 \t| Train loss: 0.129 \t| Train acc: 0.83 \t| Test acc: 0.82\n",
      "Epoch: 837 \t| Train loss: 0.129 \t| Train acc: 0.83 \t| Test acc: 0.82\n",
      "Epoch: 838 \t| Train loss: 0.129 \t| Train acc: 0.83 \t| Test acc: 0.82\n",
      "Epoch: 839 \t| Train loss: 0.129 \t| Train acc: 0.83 \t| Test acc: 0.82\n",
      "Epoch: 840 \t| Train loss: 0.129 \t| Train acc: 0.83 \t| Test acc: 0.82\n",
      "Epoch: 841 \t| Train loss: 0.129 \t| Train acc: 0.83 \t| Test acc: 0.82\n",
      "Epoch: 842 \t| Train loss: 0.129 \t| Train acc: 0.83 \t| Test acc: 0.82\n",
      "Epoch: 843 \t| Train loss: 0.129 \t| Train acc: 0.83 \t| Test acc: 0.82\n",
      "Epoch: 844 \t| Train loss: 0.129 \t| Train acc: 0.83 \t| Test acc: 0.82\n",
      "Epoch: 845 \t| Train loss: 0.129 \t| Train acc: 0.83 \t| Test acc: 0.83\n",
      "Epoch: 846 \t| Train loss: 0.129 \t| Train acc: 0.83 \t| Test acc: 0.83\n",
      "Epoch: 847 \t| Train loss: 0.129 \t| Train acc: 0.83 \t| Test acc: 0.83\n",
      "Epoch: 848 \t| Train loss: 0.129 \t| Train acc: 0.83 \t| Test acc: 0.83\n",
      "Epoch: 849 \t| Train loss: 0.129 \t| Train acc: 0.83 \t| Test acc: 0.83\n",
      "Epoch: 850 \t| Train loss: 0.128 \t| Train acc: 0.83 \t| Test acc: 0.83\n",
      "Epoch: 851 \t| Train loss: 0.128 \t| Train acc: 0.83 \t| Test acc: 0.83\n",
      "Epoch: 852 \t| Train loss: 0.128 \t| Train acc: 0.83 \t| Test acc: 0.83\n",
      "Epoch: 853 \t| Train loss: 0.128 \t| Train acc: 0.83 \t| Test acc: 0.83\n",
      "Epoch: 854 \t| Train loss: 0.128 \t| Train acc: 0.83 \t| Test acc: 0.83\n",
      "Epoch: 855 \t| Train loss: 0.128 \t| Train acc: 0.83 \t| Test acc: 0.83\n",
      "Epoch: 856 \t| Train loss: 0.128 \t| Train acc: 0.83 \t| Test acc: 0.83\n",
      "Epoch: 857 \t| Train loss: 0.128 \t| Train acc: 0.83 \t| Test acc: 0.83\n",
      "Epoch: 858 \t| Train loss: 0.128 \t| Train acc: 0.83 \t| Test acc: 0.83\n",
      "Epoch: 859 \t| Train loss: 0.128 \t| Train acc: 0.83 \t| Test acc: 0.83\n",
      "Epoch: 860 \t| Train loss: 0.128 \t| Train acc: 0.83 \t| Test acc: 0.83\n",
      "Epoch: 861 \t| Train loss: 0.128 \t| Train acc: 0.83 \t| Test acc: 0.83\n",
      "Epoch: 862 \t| Train loss: 0.128 \t| Train acc: 0.83 \t| Test acc: 0.83\n",
      "Epoch: 863 \t| Train loss: 0.128 \t| Train acc: 0.83 \t| Test acc: 0.83\n",
      "Epoch: 864 \t| Train loss: 0.128 \t| Train acc: 0.83 \t| Test acc: 0.83\n",
      "Epoch: 865 \t| Train loss: 0.128 \t| Train acc: 0.83 \t| Test acc: 0.83\n",
      "Epoch: 866 \t| Train loss: 0.128 \t| Train acc: 0.83 \t| Test acc: 0.83\n",
      "Epoch: 867 \t| Train loss: 0.128 \t| Train acc: 0.83 \t| Test acc: 0.83\n",
      "Epoch: 868 \t| Train loss: 0.128 \t| Train acc: 0.83 \t| Test acc: 0.83\n",
      "Epoch: 869 \t| Train loss: 0.128 \t| Train acc: 0.83 \t| Test acc: 0.83\n",
      "Epoch: 870 \t| Train loss: 0.128 \t| Train acc: 0.83 \t| Test acc: 0.83\n",
      "Epoch: 871 \t| Train loss: 0.128 \t| Train acc: 0.83 \t| Test acc: 0.83\n",
      "Epoch: 872 \t| Train loss: 0.128 \t| Train acc: 0.83 \t| Test acc: 0.83\n",
      "Epoch: 873 \t| Train loss: 0.128 \t| Train acc: 0.83 \t| Test acc: 0.83\n",
      "Epoch: 874 \t| Train loss: 0.128 \t| Train acc: 0.83 \t| Test acc: 0.83\n",
      "Epoch: 875 \t| Train loss: 0.127 \t| Train acc: 0.83 \t| Test acc: 0.83\n",
      "Epoch: 876 \t| Train loss: 0.127 \t| Train acc: 0.83 \t| Test acc: 0.83\n",
      "Epoch: 877 \t| Train loss: 0.127 \t| Train acc: 0.83 \t| Test acc: 0.83\n",
      "Epoch: 878 \t| Train loss: 0.127 \t| Train acc: 0.83 \t| Test acc: 0.83\n",
      "Epoch: 879 \t| Train loss: 0.127 \t| Train acc: 0.83 \t| Test acc: 0.83\n",
      "Epoch: 880 \t| Train loss: 0.127 \t| Train acc: 0.83 \t| Test acc: 0.83\n",
      "Epoch: 881 \t| Train loss: 0.127 \t| Train acc: 0.83 \t| Test acc: 0.83\n",
      "Epoch: 882 \t| Train loss: 0.127 \t| Train acc: 0.83 \t| Test acc: 0.83\n",
      "Epoch: 883 \t| Train loss: 0.127 \t| Train acc: 0.83 \t| Test acc: 0.83\n",
      "Epoch: 884 \t| Train loss: 0.127 \t| Train acc: 0.83 \t| Test acc: 0.83\n",
      "Epoch: 885 \t| Train loss: 0.127 \t| Train acc: 0.83 \t| Test acc: 0.83\n",
      "Epoch: 886 \t| Train loss: 0.127 \t| Train acc: 0.83 \t| Test acc: 0.83\n",
      "Epoch: 887 \t| Train loss: 0.127 \t| Train acc: 0.83 \t| Test acc: 0.83\n",
      "Epoch: 888 \t| Train loss: 0.127 \t| Train acc: 0.83 \t| Test acc: 0.83\n",
      "Epoch: 889 \t| Train loss: 0.127 \t| Train acc: 0.83 \t| Test acc: 0.83\n",
      "Epoch: 890 \t| Train loss: 0.127 \t| Train acc: 0.83 \t| Test acc: 0.83\n",
      "Epoch: 891 \t| Train loss: 0.127 \t| Train acc: 0.83 \t| Test acc: 0.83\n",
      "Epoch: 892 \t| Train loss: 0.127 \t| Train acc: 0.83 \t| Test acc: 0.83\n",
      "Epoch: 893 \t| Train loss: 0.127 \t| Train acc: 0.83 \t| Test acc: 0.83\n",
      "Epoch: 894 \t| Train loss: 0.127 \t| Train acc: 0.83 \t| Test acc: 0.83\n",
      "Epoch: 895 \t| Train loss: 0.127 \t| Train acc: 0.83 \t| Test acc: 0.83\n",
      "Epoch: 896 \t| Train loss: 0.127 \t| Train acc: 0.83 \t| Test acc: 0.83\n",
      "Epoch: 897 \t| Train loss: 0.127 \t| Train acc: 0.83 \t| Test acc: 0.83\n",
      "Epoch: 898 \t| Train loss: 0.127 \t| Train acc: 0.83 \t| Test acc: 0.83\n",
      "Epoch: 899 \t| Train loss: 0.127 \t| Train acc: 0.83 \t| Test acc: 0.83\n",
      "Epoch: 900 \t| Train loss: 0.127 \t| Train acc: 0.83 \t| Test acc: 0.83\n",
      "Epoch: 901 \t| Train loss: 0.127 \t| Train acc: 0.83 \t| Test acc: 0.83\n",
      "Epoch: 902 \t| Train loss: 0.126 \t| Train acc: 0.83 \t| Test acc: 0.83\n",
      "Epoch: 903 \t| Train loss: 0.126 \t| Train acc: 0.83 \t| Test acc: 0.83\n",
      "Epoch: 904 \t| Train loss: 0.126 \t| Train acc: 0.83 \t| Test acc: 0.83\n",
      "Epoch: 905 \t| Train loss: 0.126 \t| Train acc: 0.83 \t| Test acc: 0.83\n",
      "Epoch: 906 \t| Train loss: 0.126 \t| Train acc: 0.83 \t| Test acc: 0.83\n",
      "Epoch: 907 \t| Train loss: 0.126 \t| Train acc: 0.83 \t| Test acc: 0.83\n",
      "Epoch: 908 \t| Train loss: 0.126 \t| Train acc: 0.83 \t| Test acc: 0.83\n",
      "Epoch: 909 \t| Train loss: 0.126 \t| Train acc: 0.83 \t| Test acc: 0.83\n",
      "Epoch: 910 \t| Train loss: 0.126 \t| Train acc: 0.83 \t| Test acc: 0.83\n",
      "Epoch: 911 \t| Train loss: 0.126 \t| Train acc: 0.83 \t| Test acc: 0.83\n",
      "Epoch: 912 \t| Train loss: 0.126 \t| Train acc: 0.83 \t| Test acc: 0.83\n",
      "Epoch: 913 \t| Train loss: 0.126 \t| Train acc: 0.83 \t| Test acc: 0.83\n",
      "Epoch: 914 \t| Train loss: 0.126 \t| Train acc: 0.83 \t| Test acc: 0.83\n",
      "Epoch: 915 \t| Train loss: 0.126 \t| Train acc: 0.83 \t| Test acc: 0.83\n",
      "Epoch: 916 \t| Train loss: 0.126 \t| Train acc: 0.83 \t| Test acc: 0.83\n",
      "Epoch: 917 \t| Train loss: 0.126 \t| Train acc: 0.83 \t| Test acc: 0.83\n",
      "Epoch: 918 \t| Train loss: 0.126 \t| Train acc: 0.83 \t| Test acc: 0.83\n",
      "Epoch: 919 \t| Train loss: 0.126 \t| Train acc: 0.83 \t| Test acc: 0.83\n",
      "Epoch: 920 \t| Train loss: 0.126 \t| Train acc: 0.83 \t| Test acc: 0.83\n",
      "Epoch: 921 \t| Train loss: 0.126 \t| Train acc: 0.83 \t| Test acc: 0.83\n",
      "Epoch: 922 \t| Train loss: 0.126 \t| Train acc: 0.83 \t| Test acc: 0.83\n",
      "Epoch: 923 \t| Train loss: 0.125 \t| Train acc: 0.83 \t| Test acc: 0.83\n",
      "Epoch: 924 \t| Train loss: 0.125 \t| Train acc: 0.83 \t| Test acc: 0.83\n",
      "Epoch: 925 \t| Train loss: 0.125 \t| Train acc: 0.83 \t| Test acc: 0.83\n",
      "Epoch: 926 \t| Train loss: 0.125 \t| Train acc: 0.83 \t| Test acc: 0.83\n",
      "Epoch: 927 \t| Train loss: 0.125 \t| Train acc: 0.83 \t| Test acc: 0.83\n",
      "Epoch: 928 \t| Train loss: 0.125 \t| Train acc: 0.83 \t| Test acc: 0.83\n",
      "Epoch: 929 \t| Train loss: 0.125 \t| Train acc: 0.83 \t| Test acc: 0.83\n",
      "Epoch: 930 \t| Train loss: 0.125 \t| Train acc: 0.83 \t| Test acc: 0.83\n",
      "Epoch: 931 \t| Train loss: 0.125 \t| Train acc: 0.83 \t| Test acc: 0.83\n",
      "Epoch: 932 \t| Train loss: 0.125 \t| Train acc: 0.83 \t| Test acc: 0.83\n",
      "Epoch: 933 \t| Train loss: 0.125 \t| Train acc: 0.83 \t| Test acc: 0.83\n",
      "Epoch: 934 \t| Train loss: 0.125 \t| Train acc: 0.83 \t| Test acc: 0.83\n",
      "Epoch: 935 \t| Train loss: 0.125 \t| Train acc: 0.83 \t| Test acc: 0.83\n",
      "Epoch: 936 \t| Train loss: 0.125 \t| Train acc: 0.83 \t| Test acc: 0.83\n",
      "Epoch: 937 \t| Train loss: 0.125 \t| Train acc: 0.83 \t| Test acc: 0.83\n",
      "Epoch: 938 \t| Train loss: 0.125 \t| Train acc: 0.83 \t| Test acc: 0.83\n",
      "Epoch: 939 \t| Train loss: 0.125 \t| Train acc: 0.83 \t| Test acc: 0.83\n",
      "Epoch: 940 \t| Train loss: 0.124 \t| Train acc: 0.83 \t| Test acc: 0.83\n",
      "Epoch: 941 \t| Train loss: 0.124 \t| Train acc: 0.83 \t| Test acc: 0.83\n",
      "Epoch: 942 \t| Train loss: 0.124 \t| Train acc: 0.83 \t| Test acc: 0.83\n",
      "Epoch: 943 \t| Train loss: 0.124 \t| Train acc: 0.83 \t| Test acc: 0.83\n",
      "Epoch: 944 \t| Train loss: 0.124 \t| Train acc: 0.83 \t| Test acc: 0.83\n",
      "Epoch: 945 \t| Train loss: 0.124 \t| Train acc: 0.83 \t| Test acc: 0.83\n",
      "Epoch: 946 \t| Train loss: 0.124 \t| Train acc: 0.83 \t| Test acc: 0.83\n",
      "Epoch: 947 \t| Train loss: 0.124 \t| Train acc: 0.83 \t| Test acc: 0.83\n",
      "Epoch: 948 \t| Train loss: 0.124 \t| Train acc: 0.83 \t| Test acc: 0.83\n",
      "Epoch: 949 \t| Train loss: 0.124 \t| Train acc: 0.83 \t| Test acc: 0.83\n",
      "Epoch: 950 \t| Train loss: 0.124 \t| Train acc: 0.83 \t| Test acc: 0.83\n",
      "Epoch: 951 \t| Train loss: 0.124 \t| Train acc: 0.82 \t| Test acc: 0.83\n",
      "Epoch: 952 \t| Train loss: 0.124 \t| Train acc: 0.82 \t| Test acc: 0.83\n",
      "Epoch: 953 \t| Train loss: 0.124 \t| Train acc: 0.82 \t| Test acc: 0.83\n",
      "Epoch: 954 \t| Train loss: 0.124 \t| Train acc: 0.82 \t| Test acc: 0.83\n",
      "Epoch: 955 \t| Train loss: 0.124 \t| Train acc: 0.82 \t| Test acc: 0.83\n",
      "Epoch: 956 \t| Train loss: 0.124 \t| Train acc: 0.82 \t| Test acc: 0.83\n",
      "Epoch: 957 \t| Train loss: 0.124 \t| Train acc: 0.82 \t| Test acc: 0.83\n",
      "Epoch: 958 \t| Train loss: 0.124 \t| Train acc: 0.82 \t| Test acc: 0.83\n",
      "Epoch: 959 \t| Train loss: 0.124 \t| Train acc: 0.82 \t| Test acc: 0.83\n",
      "Epoch: 960 \t| Train loss: 0.124 \t| Train acc: 0.82 \t| Test acc: 0.84\n",
      "Epoch: 961 \t| Train loss: 0.123 \t| Train acc: 0.83 \t| Test acc: 0.84\n",
      "Epoch: 962 \t| Train loss: 0.123 \t| Train acc: 0.83 \t| Test acc: 0.84\n",
      "Epoch: 963 \t| Train loss: 0.123 \t| Train acc: 0.83 \t| Test acc: 0.84\n",
      "Epoch: 964 \t| Train loss: 0.123 \t| Train acc: 0.83 \t| Test acc: 0.84\n",
      "Epoch: 965 \t| Train loss: 0.123 \t| Train acc: 0.83 \t| Test acc: 0.84\n",
      "Epoch: 966 \t| Train loss: 0.123 \t| Train acc: 0.82 \t| Test acc: 0.84\n",
      "Epoch: 967 \t| Train loss: 0.123 \t| Train acc: 0.82 \t| Test acc: 0.84\n",
      "Epoch: 968 \t| Train loss: 0.123 \t| Train acc: 0.82 \t| Test acc: 0.84\n",
      "Epoch: 969 \t| Train loss: 0.123 \t| Train acc: 0.83 \t| Test acc: 0.84\n",
      "Epoch: 970 \t| Train loss: 0.123 \t| Train acc: 0.83 \t| Test acc: 0.84\n",
      "Epoch: 971 \t| Train loss: 0.123 \t| Train acc: 0.83 \t| Test acc: 0.84\n",
      "Epoch: 972 \t| Train loss: 0.123 \t| Train acc: 0.83 \t| Test acc: 0.84\n",
      "Epoch: 973 \t| Train loss: 0.123 \t| Train acc: 0.83 \t| Test acc: 0.84\n",
      "Epoch: 974 \t| Train loss: 0.123 \t| Train acc: 0.83 \t| Test acc: 0.84\n",
      "Epoch: 975 \t| Train loss: 0.123 \t| Train acc: 0.83 \t| Test acc: 0.84\n",
      "Epoch: 976 \t| Train loss: 0.123 \t| Train acc: 0.83 \t| Test acc: 0.84\n",
      "Epoch: 977 \t| Train loss: 0.123 \t| Train acc: 0.83 \t| Test acc: 0.84\n",
      "Epoch: 978 \t| Train loss: 0.123 \t| Train acc: 0.83 \t| Test acc: 0.84\n",
      "Epoch: 979 \t| Train loss: 0.123 \t| Train acc: 0.83 \t| Test acc: 0.84\n",
      "Epoch: 980 \t| Train loss: 0.123 \t| Train acc: 0.83 \t| Test acc: 0.84\n",
      "Epoch: 981 \t| Train loss: 0.122 \t| Train acc: 0.83 \t| Test acc: 0.84\n",
      "Epoch: 982 \t| Train loss: 0.122 \t| Train acc: 0.83 \t| Test acc: 0.84\n",
      "Epoch: 983 \t| Train loss: 0.122 \t| Train acc: 0.83 \t| Test acc: 0.84\n",
      "Epoch: 984 \t| Train loss: 0.122 \t| Train acc: 0.83 \t| Test acc: 0.84\n",
      "Epoch: 985 \t| Train loss: 0.122 \t| Train acc: 0.83 \t| Test acc: 0.84\n",
      "Epoch: 986 \t| Train loss: 0.122 \t| Train acc: 0.83 \t| Test acc: 0.84\n",
      "Epoch: 987 \t| Train loss: 0.122 \t| Train acc: 0.83 \t| Test acc: 0.84\n",
      "Epoch: 988 \t| Train loss: 0.122 \t| Train acc: 0.84 \t| Test acc: 0.84\n",
      "Epoch: 989 \t| Train loss: 0.122 \t| Train acc: 0.84 \t| Test acc: 0.84\n",
      "Epoch: 990 \t| Train loss: 0.122 \t| Train acc: 0.84 \t| Test acc: 0.84\n",
      "Epoch: 991 \t| Train loss: 0.122 \t| Train acc: 0.84 \t| Test acc: 0.84\n",
      "Epoch: 992 \t| Train loss: 0.122 \t| Train acc: 0.84 \t| Test acc: 0.84\n",
      "Epoch: 993 \t| Train loss: 0.122 \t| Train acc: 0.84 \t| Test acc: 0.84\n",
      "Epoch: 994 \t| Train loss: 0.122 \t| Train acc: 0.84 \t| Test acc: 0.84\n",
      "Epoch: 995 \t| Train loss: 0.122 \t| Train acc: 0.84 \t| Test acc: 0.84\n",
      "Epoch: 996 \t| Train loss: 0.122 \t| Train acc: 0.84 \t| Test acc: 0.84\n",
      "Epoch: 997 \t| Train loss: 0.122 \t| Train acc: 0.84 \t| Test acc: 0.84\n",
      "Epoch: 998 \t| Train loss: 0.122 \t| Train acc: 0.84 \t| Test acc: 0.84\n",
      "Epoch: 999 \t| Train loss: 0.122 \t| Train acc: 0.84 \t| Test acc: 0.84\n"
     ]
    }
   ],
   "source": [
    "train_losses_mlp_lim = []\n",
    "#test_losses  = []\n",
    "train_accs_mlp_lim = []\n",
    "test_accs_mlp_lim  = []\n",
    "\n",
    "for epoch in range(1000):\n",
    "    # Forward propagation (predicting train data)\n",
    "    for features, labels in data_loader_lim:\n",
    "        train_preds_mlp_lim = mlp_model_lim(features)\n",
    "        class_weights_batch = class_weights_original[labels.long()]\n",
    "        loss_function = nn.BCELoss(weight=class_weights_batch)\n",
    "\n",
    "        train_loss_mlp_lim  = loss_function(train_preds_mlp_lim, labels)\n",
    "\n",
    "        # Predicting test data #b\n",
    "        with torch.no_grad():\n",
    "            test_preds_mlp_lim = mlp_model_lim(X_validation_tensor_lim)\n",
    "            #test_loss  = loss_function(test_preds, y_test)\n",
    "\n",
    "        # Calculate accuracy #c\n",
    "        train_acc = calculate_accuracy(train_preds_mlp_lim, labels)\n",
    "        test_acc  = calculate_accuracy(test_preds_mlp_lim, y_validation_tensor)\n",
    "\n",
    "        # Backward propagation #d\n",
    "        optimizer_mlp_lim.zero_grad()\n",
    "        train_loss_mlp_lim.backward()\n",
    "\n",
    "        # Gradient descent step #e\n",
    "        optimizer_mlp_lim.step()\n",
    "\n",
    "        # Store training history #f\n",
    "        train_losses_mlp_lim.append(train_loss_mlp_lim.item())\n",
    "        #test_losses.append(test_loss.item())\n",
    "        train_accs_mlp_lim.append(train_acc.item())\n",
    "        test_accs_mlp_lim.append(test_acc.item())\n",
    "\n",
    "    # Print training data #g\n",
    "    #if epoch%100==0:\n",
    "    print(f'Epoch: {epoch} \\t|' \\\n",
    "          f' Train loss: {np.round(train_loss_mlp_lim.item(),3)} \\t|' \\\n",
    "              #f' Test loss: {np.round(test_loss.item(),3)} \\t|' \\\n",
    "          f' Train acc: {np.round(train_acc.item(),2)} \\t|' \\\n",
    "          f' Test acc: {np.round(test_acc.item(),2)}')"
   ],
   "metadata": {
    "collapsed": false,
    "ExecuteTime": {
     "end_time": "2024-05-22T16:00:36.041800300Z",
     "start_time": "2024-05-22T16:00:29.832443500Z"
    }
   },
   "id": "93e7caf29cb73293"
  },
  {
   "cell_type": "code",
   "execution_count": 107,
   "outputs": [
    {
     "name": "stdout",
     "output_type": "stream",
     "text": [
      "Test Result:\n",
      "================================================\n",
      "Accuracy Score: 83.73%\n",
      "_______________________________________________\n",
      "CLASSIFICATION REPORT:\n",
      "                   0.0          1.0  accuracy    macro avg  weighted avg\n",
      "precision     0.940939     0.562470  0.837262     0.751704      0.866394\n",
      "recall        0.850746     0.782285  0.837262     0.816516      0.837262\n",
      "f1-score      0.893573     0.654412  0.837262     0.773992      0.846467\n",
      "support    6030.000000  1479.000000  0.837262  7509.000000   7509.000000\n",
      "_______________________________________________\n",
      "Confusion Matrix: \n",
      " [[5130  900]\n",
      " [ 322 1157]]\n"
     ]
    }
   ],
   "source": [
    "evaluate_nn(y_validation_tensor.clone().detach(), test_preds_mlp_lim.clone().detach().round(), train=False)"
   ],
   "metadata": {
    "collapsed": false,
    "ExecuteTime": {
     "end_time": "2024-05-22T16:00:44.036075600Z",
     "start_time": "2024-05-22T16:00:43.941830800Z"
    }
   },
   "id": "910506e2e43cdd2"
  },
  {
   "cell_type": "code",
   "execution_count": 108,
   "outputs": [
    {
     "name": "stdout",
     "output_type": "stream",
     "text": [
      "Test Result:\n",
      "================================================\n",
      "Accuracy Score: 83.30%\n",
      "_______________________________________________\n",
      "CLASSIFICATION REPORT:\n",
      "                  0.0          1.0  accuracy    macro avg  weighted avg\n",
      "precision     0.93706     0.555556  0.833027     0.746308      0.861800\n",
      "recall        0.84902     0.767952  0.833027     0.808486      0.833027\n",
      "f1-score      0.89087     0.644711  0.833027     0.767791      0.842310\n",
      "support    6120.00000  1504.000000  0.833027  7624.000000   7624.000000\n",
      "_______________________________________________\n",
      "Confusion Matrix: \n",
      " [[5196  924]\n",
      " [ 349 1155]]\n"
     ]
    }
   ],
   "source": [
    "test_preds_mlp_lim = mlp_model_lim(X_test_tensor_lim)\n",
    "evaluate_nn(y_test_tensor.clone().detach(), test_preds_mlp_lim.clone().detach().round(), train=False)"
   ],
   "metadata": {
    "collapsed": false,
    "ExecuteTime": {
     "end_time": "2024-05-22T16:00:44.846320400Z",
     "start_time": "2024-05-22T16:00:44.751812100Z"
    }
   },
   "id": "9264266461743f9a"
  },
  {
   "cell_type": "code",
   "execution_count": 114,
   "outputs": [
    {
     "data": {
      "text/plain": "==========================================================================================\nLayer (type:depth-idx)                   Output Shape              Param #\n==========================================================================================\nMLP                                      [265, 1]                  --\n├─Sequential: 1-1                        [265, 1]                  --\n│    └─Linear: 2-1                       [265, 3]                  21\n│    └─ReLU: 2-2                         [265, 3]                  --\n│    └─Linear: 2-3                       [265, 1]                  4\n│    └─Sigmoid: 2-4                      [265, 1]                  --\n==========================================================================================\nTotal params: 25\nTrainable params: 25\nNon-trainable params: 0\nTotal mult-adds (Units.MEGABYTES): 0.01\n==========================================================================================\nInput size (MB): 0.01\nForward/backward pass size (MB): 0.01\nParams size (MB): 0.00\nEstimated Total Size (MB): 0.02\n=========================================================================================="
     },
     "execution_count": 114,
     "metadata": {},
     "output_type": "execute_result"
    }
   ],
   "source": [
    "mlpsl_model_lim = MLP(num_features=6)\n",
    "summary(mlpsl_model_lim, input_size=X_train_lim.shape)"
   ],
   "metadata": {
    "collapsed": false,
    "ExecuteTime": {
     "end_time": "2024-05-22T16:02:44.835082200Z",
     "start_time": "2024-05-22T16:02:44.800635300Z"
    }
   },
   "id": "853a5e713cc7575c"
  },
  {
   "cell_type": "code",
   "execution_count": 115,
   "outputs": [],
   "source": [
    "optimizer_mlpsl_lim = optim.Adam(mlpsl_model_lim.parameters())"
   ],
   "metadata": {
    "collapsed": false,
    "ExecuteTime": {
     "end_time": "2024-05-22T16:02:45.387267900Z",
     "start_time": "2024-05-22T16:02:45.324497Z"
    }
   },
   "id": "40a22eaceb46d968"
  },
  {
   "cell_type": "code",
   "execution_count": 116,
   "outputs": [
    {
     "name": "stdout",
     "output_type": "stream",
     "text": [
      "Epoch: 0 \t| Train loss: 0.132 \t| Train acc: 0.82 \t| Test acc: 0.8\n",
      "Epoch: 1 \t| Train loss: 0.132 \t| Train acc: 0.82 \t| Test acc: 0.8\n",
      "Epoch: 2 \t| Train loss: 0.132 \t| Train acc: 0.82 \t| Test acc: 0.8\n",
      "Epoch: 3 \t| Train loss: 0.131 \t| Train acc: 0.82 \t| Test acc: 0.8\n",
      "Epoch: 4 \t| Train loss: 0.131 \t| Train acc: 0.82 \t| Test acc: 0.8\n",
      "Epoch: 5 \t| Train loss: 0.131 \t| Train acc: 0.82 \t| Test acc: 0.8\n",
      "Epoch: 6 \t| Train loss: 0.131 \t| Train acc: 0.82 \t| Test acc: 0.8\n",
      "Epoch: 7 \t| Train loss: 0.13 \t| Train acc: 0.82 \t| Test acc: 0.8\n",
      "Epoch: 8 \t| Train loss: 0.13 \t| Train acc: 0.82 \t| Test acc: 0.8\n",
      "Epoch: 9 \t| Train loss: 0.13 \t| Train acc: 0.82 \t| Test acc: 0.8\n",
      "Epoch: 10 \t| Train loss: 0.13 \t| Train acc: 0.82 \t| Test acc: 0.8\n",
      "Epoch: 11 \t| Train loss: 0.129 \t| Train acc: 0.82 \t| Test acc: 0.8\n",
      "Epoch: 12 \t| Train loss: 0.129 \t| Train acc: 0.82 \t| Test acc: 0.8\n",
      "Epoch: 13 \t| Train loss: 0.129 \t| Train acc: 0.82 \t| Test acc: 0.8\n",
      "Epoch: 14 \t| Train loss: 0.129 \t| Train acc: 0.82 \t| Test acc: 0.8\n",
      "Epoch: 15 \t| Train loss: 0.128 \t| Train acc: 0.82 \t| Test acc: 0.8\n",
      "Epoch: 16 \t| Train loss: 0.128 \t| Train acc: 0.82 \t| Test acc: 0.8\n",
      "Epoch: 17 \t| Train loss: 0.128 \t| Train acc: 0.82 \t| Test acc: 0.8\n",
      "Epoch: 18 \t| Train loss: 0.128 \t| Train acc: 0.82 \t| Test acc: 0.8\n",
      "Epoch: 19 \t| Train loss: 0.127 \t| Train acc: 0.82 \t| Test acc: 0.8\n",
      "Epoch: 20 \t| Train loss: 0.127 \t| Train acc: 0.82 \t| Test acc: 0.8\n",
      "Epoch: 21 \t| Train loss: 0.127 \t| Train acc: 0.82 \t| Test acc: 0.8\n",
      "Epoch: 22 \t| Train loss: 0.127 \t| Train acc: 0.82 \t| Test acc: 0.8\n",
      "Epoch: 23 \t| Train loss: 0.126 \t| Train acc: 0.82 \t| Test acc: 0.8\n",
      "Epoch: 24 \t| Train loss: 0.126 \t| Train acc: 0.82 \t| Test acc: 0.8\n",
      "Epoch: 25 \t| Train loss: 0.126 \t| Train acc: 0.82 \t| Test acc: 0.8\n",
      "Epoch: 26 \t| Train loss: 0.126 \t| Train acc: 0.82 \t| Test acc: 0.8\n",
      "Epoch: 27 \t| Train loss: 0.126 \t| Train acc: 0.82 \t| Test acc: 0.8\n",
      "Epoch: 28 \t| Train loss: 0.125 \t| Train acc: 0.82 \t| Test acc: 0.8\n",
      "Epoch: 29 \t| Train loss: 0.125 \t| Train acc: 0.82 \t| Test acc: 0.8\n",
      "Epoch: 30 \t| Train loss: 0.125 \t| Train acc: 0.82 \t| Test acc: 0.8\n",
      "Epoch: 31 \t| Train loss: 0.125 \t| Train acc: 0.82 \t| Test acc: 0.8\n",
      "Epoch: 32 \t| Train loss: 0.125 \t| Train acc: 0.82 \t| Test acc: 0.8\n",
      "Epoch: 33 \t| Train loss: 0.124 \t| Train acc: 0.82 \t| Test acc: 0.8\n",
      "Epoch: 34 \t| Train loss: 0.124 \t| Train acc: 0.82 \t| Test acc: 0.8\n",
      "Epoch: 35 \t| Train loss: 0.124 \t| Train acc: 0.82 \t| Test acc: 0.8\n",
      "Epoch: 36 \t| Train loss: 0.124 \t| Train acc: 0.82 \t| Test acc: 0.8\n",
      "Epoch: 37 \t| Train loss: 0.124 \t| Train acc: 0.82 \t| Test acc: 0.8\n",
      "Epoch: 38 \t| Train loss: 0.123 \t| Train acc: 0.82 \t| Test acc: 0.8\n",
      "Epoch: 39 \t| Train loss: 0.123 \t| Train acc: 0.82 \t| Test acc: 0.8\n",
      "Epoch: 40 \t| Train loss: 0.123 \t| Train acc: 0.82 \t| Test acc: 0.8\n",
      "Epoch: 41 \t| Train loss: 0.123 \t| Train acc: 0.82 \t| Test acc: 0.8\n",
      "Epoch: 42 \t| Train loss: 0.123 \t| Train acc: 0.82 \t| Test acc: 0.8\n",
      "Epoch: 43 \t| Train loss: 0.122 \t| Train acc: 0.82 \t| Test acc: 0.8\n",
      "Epoch: 44 \t| Train loss: 0.122 \t| Train acc: 0.82 \t| Test acc: 0.8\n",
      "Epoch: 45 \t| Train loss: 0.122 \t| Train acc: 0.82 \t| Test acc: 0.8\n",
      "Epoch: 46 \t| Train loss: 0.122 \t| Train acc: 0.82 \t| Test acc: 0.8\n",
      "Epoch: 47 \t| Train loss: 0.122 \t| Train acc: 0.82 \t| Test acc: 0.8\n",
      "Epoch: 48 \t| Train loss: 0.122 \t| Train acc: 0.82 \t| Test acc: 0.8\n",
      "Epoch: 49 \t| Train loss: 0.121 \t| Train acc: 0.82 \t| Test acc: 0.8\n",
      "Epoch: 50 \t| Train loss: 0.121 \t| Train acc: 0.82 \t| Test acc: 0.8\n",
      "Epoch: 51 \t| Train loss: 0.121 \t| Train acc: 0.82 \t| Test acc: 0.8\n",
      "Epoch: 52 \t| Train loss: 0.121 \t| Train acc: 0.82 \t| Test acc: 0.8\n",
      "Epoch: 53 \t| Train loss: 0.121 \t| Train acc: 0.82 \t| Test acc: 0.8\n",
      "Epoch: 54 \t| Train loss: 0.121 \t| Train acc: 0.82 \t| Test acc: 0.8\n",
      "Epoch: 55 \t| Train loss: 0.12 \t| Train acc: 0.82 \t| Test acc: 0.8\n",
      "Epoch: 56 \t| Train loss: 0.12 \t| Train acc: 0.82 \t| Test acc: 0.8\n",
      "Epoch: 57 \t| Train loss: 0.12 \t| Train acc: 0.82 \t| Test acc: 0.8\n",
      "Epoch: 58 \t| Train loss: 0.12 \t| Train acc: 0.82 \t| Test acc: 0.8\n",
      "Epoch: 59 \t| Train loss: 0.12 \t| Train acc: 0.82 \t| Test acc: 0.8\n",
      "Epoch: 60 \t| Train loss: 0.12 \t| Train acc: 0.82 \t| Test acc: 0.8\n",
      "Epoch: 61 \t| Train loss: 0.119 \t| Train acc: 0.82 \t| Test acc: 0.8\n",
      "Epoch: 62 \t| Train loss: 0.119 \t| Train acc: 0.82 \t| Test acc: 0.8\n",
      "Epoch: 63 \t| Train loss: 0.119 \t| Train acc: 0.82 \t| Test acc: 0.8\n",
      "Epoch: 64 \t| Train loss: 0.119 \t| Train acc: 0.82 \t| Test acc: 0.8\n",
      "Epoch: 65 \t| Train loss: 0.119 \t| Train acc: 0.82 \t| Test acc: 0.8\n",
      "Epoch: 66 \t| Train loss: 0.119 \t| Train acc: 0.82 \t| Test acc: 0.8\n",
      "Epoch: 67 \t| Train loss: 0.119 \t| Train acc: 0.82 \t| Test acc: 0.8\n",
      "Epoch: 68 \t| Train loss: 0.118 \t| Train acc: 0.82 \t| Test acc: 0.8\n",
      "Epoch: 69 \t| Train loss: 0.118 \t| Train acc: 0.82 \t| Test acc: 0.8\n",
      "Epoch: 70 \t| Train loss: 0.118 \t| Train acc: 0.82 \t| Test acc: 0.8\n",
      "Epoch: 71 \t| Train loss: 0.118 \t| Train acc: 0.82 \t| Test acc: 0.8\n",
      "Epoch: 72 \t| Train loss: 0.118 \t| Train acc: 0.82 \t| Test acc: 0.8\n",
      "Epoch: 73 \t| Train loss: 0.118 \t| Train acc: 0.82 \t| Test acc: 0.8\n",
      "Epoch: 74 \t| Train loss: 0.118 \t| Train acc: 0.82 \t| Test acc: 0.8\n",
      "Epoch: 75 \t| Train loss: 0.117 \t| Train acc: 0.82 \t| Test acc: 0.8\n",
      "Epoch: 76 \t| Train loss: 0.117 \t| Train acc: 0.82 \t| Test acc: 0.8\n",
      "Epoch: 77 \t| Train loss: 0.117 \t| Train acc: 0.82 \t| Test acc: 0.8\n",
      "Epoch: 78 \t| Train loss: 0.117 \t| Train acc: 0.82 \t| Test acc: 0.8\n",
      "Epoch: 79 \t| Train loss: 0.117 \t| Train acc: 0.82 \t| Test acc: 0.8\n",
      "Epoch: 80 \t| Train loss: 0.117 \t| Train acc: 0.82 \t| Test acc: 0.8\n",
      "Epoch: 81 \t| Train loss: 0.117 \t| Train acc: 0.82 \t| Test acc: 0.8\n",
      "Epoch: 82 \t| Train loss: 0.117 \t| Train acc: 0.82 \t| Test acc: 0.8\n",
      "Epoch: 83 \t| Train loss: 0.116 \t| Train acc: 0.82 \t| Test acc: 0.8\n",
      "Epoch: 84 \t| Train loss: 0.116 \t| Train acc: 0.82 \t| Test acc: 0.8\n",
      "Epoch: 85 \t| Train loss: 0.116 \t| Train acc: 0.82 \t| Test acc: 0.8\n",
      "Epoch: 86 \t| Train loss: 0.116 \t| Train acc: 0.82 \t| Test acc: 0.8\n",
      "Epoch: 87 \t| Train loss: 0.116 \t| Train acc: 0.82 \t| Test acc: 0.8\n",
      "Epoch: 88 \t| Train loss: 0.116 \t| Train acc: 0.82 \t| Test acc: 0.8\n",
      "Epoch: 89 \t| Train loss: 0.116 \t| Train acc: 0.82 \t| Test acc: 0.8\n",
      "Epoch: 90 \t| Train loss: 0.116 \t| Train acc: 0.82 \t| Test acc: 0.8\n",
      "Epoch: 91 \t| Train loss: 0.116 \t| Train acc: 0.82 \t| Test acc: 0.8\n",
      "Epoch: 92 \t| Train loss: 0.115 \t| Train acc: 0.82 \t| Test acc: 0.8\n",
      "Epoch: 93 \t| Train loss: 0.115 \t| Train acc: 0.82 \t| Test acc: 0.8\n",
      "Epoch: 94 \t| Train loss: 0.115 \t| Train acc: 0.82 \t| Test acc: 0.8\n",
      "Epoch: 95 \t| Train loss: 0.115 \t| Train acc: 0.82 \t| Test acc: 0.8\n",
      "Epoch: 96 \t| Train loss: 0.115 \t| Train acc: 0.82 \t| Test acc: 0.8\n",
      "Epoch: 97 \t| Train loss: 0.115 \t| Train acc: 0.82 \t| Test acc: 0.8\n",
      "Epoch: 98 \t| Train loss: 0.115 \t| Train acc: 0.82 \t| Test acc: 0.8\n",
      "Epoch: 99 \t| Train loss: 0.115 \t| Train acc: 0.82 \t| Test acc: 0.8\n",
      "Epoch: 100 \t| Train loss: 0.115 \t| Train acc: 0.82 \t| Test acc: 0.8\n",
      "Epoch: 101 \t| Train loss: 0.114 \t| Train acc: 0.82 \t| Test acc: 0.8\n",
      "Epoch: 102 \t| Train loss: 0.114 \t| Train acc: 0.82 \t| Test acc: 0.8\n",
      "Epoch: 103 \t| Train loss: 0.114 \t| Train acc: 0.82 \t| Test acc: 0.8\n",
      "Epoch: 104 \t| Train loss: 0.114 \t| Train acc: 0.82 \t| Test acc: 0.8\n",
      "Epoch: 105 \t| Train loss: 0.114 \t| Train acc: 0.82 \t| Test acc: 0.8\n",
      "Epoch: 106 \t| Train loss: 0.114 \t| Train acc: 0.82 \t| Test acc: 0.8\n",
      "Epoch: 107 \t| Train loss: 0.114 \t| Train acc: 0.82 \t| Test acc: 0.8\n",
      "Epoch: 108 \t| Train loss: 0.114 \t| Train acc: 0.82 \t| Test acc: 0.8\n",
      "Epoch: 109 \t| Train loss: 0.114 \t| Train acc: 0.82 \t| Test acc: 0.8\n",
      "Epoch: 110 \t| Train loss: 0.114 \t| Train acc: 0.82 \t| Test acc: 0.8\n",
      "Epoch: 111 \t| Train loss: 0.114 \t| Train acc: 0.82 \t| Test acc: 0.8\n",
      "Epoch: 112 \t| Train loss: 0.113 \t| Train acc: 0.82 \t| Test acc: 0.8\n",
      "Epoch: 113 \t| Train loss: 0.113 \t| Train acc: 0.82 \t| Test acc: 0.8\n",
      "Epoch: 114 \t| Train loss: 0.113 \t| Train acc: 0.82 \t| Test acc: 0.8\n",
      "Epoch: 115 \t| Train loss: 0.113 \t| Train acc: 0.82 \t| Test acc: 0.8\n",
      "Epoch: 116 \t| Train loss: 0.113 \t| Train acc: 0.82 \t| Test acc: 0.8\n",
      "Epoch: 117 \t| Train loss: 0.113 \t| Train acc: 0.82 \t| Test acc: 0.8\n",
      "Epoch: 118 \t| Train loss: 0.113 \t| Train acc: 0.82 \t| Test acc: 0.8\n",
      "Epoch: 119 \t| Train loss: 0.113 \t| Train acc: 0.82 \t| Test acc: 0.8\n",
      "Epoch: 120 \t| Train loss: 0.113 \t| Train acc: 0.82 \t| Test acc: 0.8\n",
      "Epoch: 121 \t| Train loss: 0.113 \t| Train acc: 0.82 \t| Test acc: 0.8\n",
      "Epoch: 122 \t| Train loss: 0.113 \t| Train acc: 0.82 \t| Test acc: 0.8\n",
      "Epoch: 123 \t| Train loss: 0.113 \t| Train acc: 0.82 \t| Test acc: 0.8\n",
      "Epoch: 124 \t| Train loss: 0.113 \t| Train acc: 0.82 \t| Test acc: 0.8\n",
      "Epoch: 125 \t| Train loss: 0.112 \t| Train acc: 0.82 \t| Test acc: 0.8\n",
      "Epoch: 126 \t| Train loss: 0.112 \t| Train acc: 0.82 \t| Test acc: 0.8\n",
      "Epoch: 127 \t| Train loss: 0.112 \t| Train acc: 0.82 \t| Test acc: 0.8\n",
      "Epoch: 128 \t| Train loss: 0.112 \t| Train acc: 0.82 \t| Test acc: 0.8\n",
      "Epoch: 129 \t| Train loss: 0.112 \t| Train acc: 0.82 \t| Test acc: 0.8\n",
      "Epoch: 130 \t| Train loss: 0.112 \t| Train acc: 0.82 \t| Test acc: 0.8\n",
      "Epoch: 131 \t| Train loss: 0.112 \t| Train acc: 0.82 \t| Test acc: 0.8\n",
      "Epoch: 132 \t| Train loss: 0.112 \t| Train acc: 0.82 \t| Test acc: 0.8\n",
      "Epoch: 133 \t| Train loss: 0.112 \t| Train acc: 0.82 \t| Test acc: 0.8\n",
      "Epoch: 134 \t| Train loss: 0.112 \t| Train acc: 0.82 \t| Test acc: 0.8\n",
      "Epoch: 135 \t| Train loss: 0.112 \t| Train acc: 0.82 \t| Test acc: 0.8\n",
      "Epoch: 136 \t| Train loss: 0.112 \t| Train acc: 0.82 \t| Test acc: 0.8\n",
      "Epoch: 137 \t| Train loss: 0.111 \t| Train acc: 0.82 \t| Test acc: 0.8\n",
      "Epoch: 138 \t| Train loss: 0.111 \t| Train acc: 0.82 \t| Test acc: 0.8\n",
      "Epoch: 139 \t| Train loss: 0.111 \t| Train acc: 0.82 \t| Test acc: 0.8\n",
      "Epoch: 140 \t| Train loss: 0.111 \t| Train acc: 0.82 \t| Test acc: 0.8\n",
      "Epoch: 141 \t| Train loss: 0.111 \t| Train acc: 0.82 \t| Test acc: 0.8\n",
      "Epoch: 142 \t| Train loss: 0.111 \t| Train acc: 0.82 \t| Test acc: 0.8\n",
      "Epoch: 143 \t| Train loss: 0.111 \t| Train acc: 0.82 \t| Test acc: 0.8\n",
      "Epoch: 144 \t| Train loss: 0.111 \t| Train acc: 0.82 \t| Test acc: 0.8\n",
      "Epoch: 145 \t| Train loss: 0.111 \t| Train acc: 0.82 \t| Test acc: 0.8\n",
      "Epoch: 146 \t| Train loss: 0.111 \t| Train acc: 0.82 \t| Test acc: 0.8\n",
      "Epoch: 147 \t| Train loss: 0.111 \t| Train acc: 0.82 \t| Test acc: 0.8\n",
      "Epoch: 148 \t| Train loss: 0.111 \t| Train acc: 0.82 \t| Test acc: 0.8\n",
      "Epoch: 149 \t| Train loss: 0.111 \t| Train acc: 0.82 \t| Test acc: 0.8\n",
      "Epoch: 150 \t| Train loss: 0.11 \t| Train acc: 0.82 \t| Test acc: 0.8\n",
      "Epoch: 151 \t| Train loss: 0.11 \t| Train acc: 0.82 \t| Test acc: 0.8\n",
      "Epoch: 152 \t| Train loss: 0.11 \t| Train acc: 0.82 \t| Test acc: 0.8\n",
      "Epoch: 153 \t| Train loss: 0.11 \t| Train acc: 0.82 \t| Test acc: 0.8\n",
      "Epoch: 154 \t| Train loss: 0.11 \t| Train acc: 0.82 \t| Test acc: 0.8\n",
      "Epoch: 155 \t| Train loss: 0.11 \t| Train acc: 0.82 \t| Test acc: 0.8\n",
      "Epoch: 156 \t| Train loss: 0.11 \t| Train acc: 0.82 \t| Test acc: 0.8\n",
      "Epoch: 157 \t| Train loss: 0.11 \t| Train acc: 0.82 \t| Test acc: 0.8\n",
      "Epoch: 158 \t| Train loss: 0.11 \t| Train acc: 0.82 \t| Test acc: 0.8\n",
      "Epoch: 159 \t| Train loss: 0.11 \t| Train acc: 0.82 \t| Test acc: 0.8\n",
      "Epoch: 160 \t| Train loss: 0.11 \t| Train acc: 0.82 \t| Test acc: 0.8\n",
      "Epoch: 161 \t| Train loss: 0.11 \t| Train acc: 0.82 \t| Test acc: 0.8\n",
      "Epoch: 162 \t| Train loss: 0.11 \t| Train acc: 0.82 \t| Test acc: 0.8\n",
      "Epoch: 163 \t| Train loss: 0.11 \t| Train acc: 0.82 \t| Test acc: 0.8\n",
      "Epoch: 164 \t| Train loss: 0.109 \t| Train acc: 0.82 \t| Test acc: 0.8\n",
      "Epoch: 165 \t| Train loss: 0.109 \t| Train acc: 0.82 \t| Test acc: 0.8\n",
      "Epoch: 166 \t| Train loss: 0.109 \t| Train acc: 0.82 \t| Test acc: 0.8\n",
      "Epoch: 167 \t| Train loss: 0.109 \t| Train acc: 0.82 \t| Test acc: 0.8\n",
      "Epoch: 168 \t| Train loss: 0.109 \t| Train acc: 0.82 \t| Test acc: 0.8\n",
      "Epoch: 169 \t| Train loss: 0.109 \t| Train acc: 0.82 \t| Test acc: 0.8\n",
      "Epoch: 170 \t| Train loss: 0.109 \t| Train acc: 0.82 \t| Test acc: 0.8\n",
      "Epoch: 171 \t| Train loss: 0.109 \t| Train acc: 0.82 \t| Test acc: 0.8\n",
      "Epoch: 172 \t| Train loss: 0.109 \t| Train acc: 0.82 \t| Test acc: 0.8\n",
      "Epoch: 173 \t| Train loss: 0.109 \t| Train acc: 0.82 \t| Test acc: 0.8\n",
      "Epoch: 174 \t| Train loss: 0.109 \t| Train acc: 0.82 \t| Test acc: 0.8\n",
      "Epoch: 175 \t| Train loss: 0.109 \t| Train acc: 0.82 \t| Test acc: 0.8\n",
      "Epoch: 176 \t| Train loss: 0.109 \t| Train acc: 0.82 \t| Test acc: 0.8\n",
      "Epoch: 177 \t| Train loss: 0.109 \t| Train acc: 0.82 \t| Test acc: 0.8\n",
      "Epoch: 178 \t| Train loss: 0.108 \t| Train acc: 0.82 \t| Test acc: 0.8\n",
      "Epoch: 179 \t| Train loss: 0.108 \t| Train acc: 0.82 \t| Test acc: 0.8\n",
      "Epoch: 180 \t| Train loss: 0.108 \t| Train acc: 0.82 \t| Test acc: 0.8\n",
      "Epoch: 181 \t| Train loss: 0.108 \t| Train acc: 0.82 \t| Test acc: 0.8\n",
      "Epoch: 182 \t| Train loss: 0.108 \t| Train acc: 0.82 \t| Test acc: 0.8\n",
      "Epoch: 183 \t| Train loss: 0.108 \t| Train acc: 0.82 \t| Test acc: 0.8\n",
      "Epoch: 184 \t| Train loss: 0.108 \t| Train acc: 0.82 \t| Test acc: 0.8\n",
      "Epoch: 185 \t| Train loss: 0.108 \t| Train acc: 0.82 \t| Test acc: 0.8\n",
      "Epoch: 186 \t| Train loss: 0.108 \t| Train acc: 0.82 \t| Test acc: 0.8\n",
      "Epoch: 187 \t| Train loss: 0.108 \t| Train acc: 0.82 \t| Test acc: 0.8\n",
      "Epoch: 188 \t| Train loss: 0.108 \t| Train acc: 0.82 \t| Test acc: 0.8\n",
      "Epoch: 189 \t| Train loss: 0.108 \t| Train acc: 0.82 \t| Test acc: 0.8\n",
      "Epoch: 190 \t| Train loss: 0.108 \t| Train acc: 0.82 \t| Test acc: 0.8\n",
      "Epoch: 191 \t| Train loss: 0.108 \t| Train acc: 0.82 \t| Test acc: 0.8\n",
      "Epoch: 192 \t| Train loss: 0.107 \t| Train acc: 0.82 \t| Test acc: 0.8\n",
      "Epoch: 193 \t| Train loss: 0.107 \t| Train acc: 0.82 \t| Test acc: 0.8\n",
      "Epoch: 194 \t| Train loss: 0.107 \t| Train acc: 0.82 \t| Test acc: 0.8\n",
      "Epoch: 195 \t| Train loss: 0.107 \t| Train acc: 0.82 \t| Test acc: 0.8\n",
      "Epoch: 196 \t| Train loss: 0.107 \t| Train acc: 0.82 \t| Test acc: 0.8\n",
      "Epoch: 197 \t| Train loss: 0.107 \t| Train acc: 0.82 \t| Test acc: 0.8\n",
      "Epoch: 198 \t| Train loss: 0.107 \t| Train acc: 0.82 \t| Test acc: 0.8\n",
      "Epoch: 199 \t| Train loss: 0.107 \t| Train acc: 0.82 \t| Test acc: 0.8\n",
      "Epoch: 200 \t| Train loss: 0.107 \t| Train acc: 0.82 \t| Test acc: 0.8\n",
      "Epoch: 201 \t| Train loss: 0.107 \t| Train acc: 0.82 \t| Test acc: 0.8\n",
      "Epoch: 202 \t| Train loss: 0.107 \t| Train acc: 0.82 \t| Test acc: 0.8\n",
      "Epoch: 203 \t| Train loss: 0.107 \t| Train acc: 0.82 \t| Test acc: 0.8\n",
      "Epoch: 204 \t| Train loss: 0.107 \t| Train acc: 0.82 \t| Test acc: 0.8\n",
      "Epoch: 205 \t| Train loss: 0.107 \t| Train acc: 0.82 \t| Test acc: 0.8\n",
      "Epoch: 206 \t| Train loss: 0.106 \t| Train acc: 0.82 \t| Test acc: 0.8\n",
      "Epoch: 207 \t| Train loss: 0.106 \t| Train acc: 0.82 \t| Test acc: 0.8\n",
      "Epoch: 208 \t| Train loss: 0.106 \t| Train acc: 0.82 \t| Test acc: 0.8\n",
      "Epoch: 209 \t| Train loss: 0.106 \t| Train acc: 0.82 \t| Test acc: 0.8\n",
      "Epoch: 210 \t| Train loss: 0.106 \t| Train acc: 0.82 \t| Test acc: 0.8\n",
      "Epoch: 211 \t| Train loss: 0.106 \t| Train acc: 0.82 \t| Test acc: 0.8\n",
      "Epoch: 212 \t| Train loss: 0.106 \t| Train acc: 0.82 \t| Test acc: 0.8\n",
      "Epoch: 213 \t| Train loss: 0.106 \t| Train acc: 0.82 \t| Test acc: 0.8\n",
      "Epoch: 214 \t| Train loss: 0.106 \t| Train acc: 0.82 \t| Test acc: 0.8\n",
      "Epoch: 215 \t| Train loss: 0.106 \t| Train acc: 0.82 \t| Test acc: 0.8\n",
      "Epoch: 216 \t| Train loss: 0.106 \t| Train acc: 0.82 \t| Test acc: 0.8\n",
      "Epoch: 217 \t| Train loss: 0.106 \t| Train acc: 0.82 \t| Test acc: 0.8\n",
      "Epoch: 218 \t| Train loss: 0.106 \t| Train acc: 0.82 \t| Test acc: 0.8\n",
      "Epoch: 219 \t| Train loss: 0.106 \t| Train acc: 0.82 \t| Test acc: 0.8\n",
      "Epoch: 220 \t| Train loss: 0.105 \t| Train acc: 0.82 \t| Test acc: 0.8\n",
      "Epoch: 221 \t| Train loss: 0.105 \t| Train acc: 0.82 \t| Test acc: 0.8\n",
      "Epoch: 222 \t| Train loss: 0.105 \t| Train acc: 0.82 \t| Test acc: 0.8\n",
      "Epoch: 223 \t| Train loss: 0.105 \t| Train acc: 0.82 \t| Test acc: 0.8\n",
      "Epoch: 224 \t| Train loss: 0.105 \t| Train acc: 0.82 \t| Test acc: 0.8\n",
      "Epoch: 225 \t| Train loss: 0.105 \t| Train acc: 0.82 \t| Test acc: 0.8\n",
      "Epoch: 226 \t| Train loss: 0.105 \t| Train acc: 0.82 \t| Test acc: 0.8\n",
      "Epoch: 227 \t| Train loss: 0.105 \t| Train acc: 0.82 \t| Test acc: 0.8\n",
      "Epoch: 228 \t| Train loss: 0.105 \t| Train acc: 0.82 \t| Test acc: 0.8\n",
      "Epoch: 229 \t| Train loss: 0.105 \t| Train acc: 0.82 \t| Test acc: 0.8\n",
      "Epoch: 230 \t| Train loss: 0.105 \t| Train acc: 0.82 \t| Test acc: 0.8\n",
      "Epoch: 231 \t| Train loss: 0.105 \t| Train acc: 0.82 \t| Test acc: 0.8\n",
      "Epoch: 232 \t| Train loss: 0.105 \t| Train acc: 0.82 \t| Test acc: 0.8\n",
      "Epoch: 233 \t| Train loss: 0.104 \t| Train acc: 0.82 \t| Test acc: 0.8\n",
      "Epoch: 234 \t| Train loss: 0.104 \t| Train acc: 0.82 \t| Test acc: 0.8\n",
      "Epoch: 235 \t| Train loss: 0.104 \t| Train acc: 0.82 \t| Test acc: 0.8\n",
      "Epoch: 236 \t| Train loss: 0.104 \t| Train acc: 0.82 \t| Test acc: 0.8\n",
      "Epoch: 237 \t| Train loss: 0.104 \t| Train acc: 0.82 \t| Test acc: 0.8\n",
      "Epoch: 238 \t| Train loss: 0.104 \t| Train acc: 0.82 \t| Test acc: 0.8\n",
      "Epoch: 239 \t| Train loss: 0.104 \t| Train acc: 0.82 \t| Test acc: 0.8\n",
      "Epoch: 240 \t| Train loss: 0.104 \t| Train acc: 0.82 \t| Test acc: 0.8\n",
      "Epoch: 241 \t| Train loss: 0.104 \t| Train acc: 0.82 \t| Test acc: 0.8\n",
      "Epoch: 242 \t| Train loss: 0.104 \t| Train acc: 0.82 \t| Test acc: 0.8\n",
      "Epoch: 243 \t| Train loss: 0.104 \t| Train acc: 0.82 \t| Test acc: 0.8\n",
      "Epoch: 244 \t| Train loss: 0.104 \t| Train acc: 0.82 \t| Test acc: 0.8\n",
      "Epoch: 245 \t| Train loss: 0.104 \t| Train acc: 0.82 \t| Test acc: 0.8\n",
      "Epoch: 246 \t| Train loss: 0.104 \t| Train acc: 0.82 \t| Test acc: 0.8\n",
      "Epoch: 247 \t| Train loss: 0.103 \t| Train acc: 0.82 \t| Test acc: 0.8\n",
      "Epoch: 248 \t| Train loss: 0.103 \t| Train acc: 0.82 \t| Test acc: 0.8\n",
      "Epoch: 249 \t| Train loss: 0.103 \t| Train acc: 0.82 \t| Test acc: 0.8\n",
      "Epoch: 250 \t| Train loss: 0.103 \t| Train acc: 0.82 \t| Test acc: 0.8\n",
      "Epoch: 251 \t| Train loss: 0.103 \t| Train acc: 0.82 \t| Test acc: 0.8\n",
      "Epoch: 252 \t| Train loss: 0.103 \t| Train acc: 0.82 \t| Test acc: 0.8\n",
      "Epoch: 253 \t| Train loss: 0.103 \t| Train acc: 0.82 \t| Test acc: 0.8\n",
      "Epoch: 254 \t| Train loss: 0.103 \t| Train acc: 0.82 \t| Test acc: 0.8\n",
      "Epoch: 255 \t| Train loss: 0.103 \t| Train acc: 0.82 \t| Test acc: 0.8\n",
      "Epoch: 256 \t| Train loss: 0.103 \t| Train acc: 0.82 \t| Test acc: 0.8\n",
      "Epoch: 257 \t| Train loss: 0.103 \t| Train acc: 0.82 \t| Test acc: 0.8\n",
      "Epoch: 258 \t| Train loss: 0.103 \t| Train acc: 0.82 \t| Test acc: 0.8\n",
      "Epoch: 259 \t| Train loss: 0.103 \t| Train acc: 0.82 \t| Test acc: 0.8\n",
      "Epoch: 260 \t| Train loss: 0.103 \t| Train acc: 0.82 \t| Test acc: 0.8\n",
      "Epoch: 261 \t| Train loss: 0.102 \t| Train acc: 0.82 \t| Test acc: 0.8\n",
      "Epoch: 262 \t| Train loss: 0.102 \t| Train acc: 0.82 \t| Test acc: 0.8\n",
      "Epoch: 263 \t| Train loss: 0.102 \t| Train acc: 0.82 \t| Test acc: 0.8\n",
      "Epoch: 264 \t| Train loss: 0.102 \t| Train acc: 0.82 \t| Test acc: 0.8\n",
      "Epoch: 265 \t| Train loss: 0.102 \t| Train acc: 0.82 \t| Test acc: 0.8\n",
      "Epoch: 266 \t| Train loss: 0.102 \t| Train acc: 0.82 \t| Test acc: 0.8\n",
      "Epoch: 267 \t| Train loss: 0.102 \t| Train acc: 0.82 \t| Test acc: 0.8\n",
      "Epoch: 268 \t| Train loss: 0.102 \t| Train acc: 0.82 \t| Test acc: 0.8\n",
      "Epoch: 269 \t| Train loss: 0.102 \t| Train acc: 0.82 \t| Test acc: 0.8\n",
      "Epoch: 270 \t| Train loss: 0.102 \t| Train acc: 0.82 \t| Test acc: 0.8\n",
      "Epoch: 271 \t| Train loss: 0.102 \t| Train acc: 0.82 \t| Test acc: 0.8\n",
      "Epoch: 272 \t| Train loss: 0.102 \t| Train acc: 0.82 \t| Test acc: 0.8\n",
      "Epoch: 273 \t| Train loss: 0.102 \t| Train acc: 0.82 \t| Test acc: 0.8\n",
      "Epoch: 274 \t| Train loss: 0.102 \t| Train acc: 0.82 \t| Test acc: 0.8\n",
      "Epoch: 275 \t| Train loss: 0.101 \t| Train acc: 0.82 \t| Test acc: 0.8\n",
      "Epoch: 276 \t| Train loss: 0.101 \t| Train acc: 0.82 \t| Test acc: 0.8\n",
      "Epoch: 277 \t| Train loss: 0.101 \t| Train acc: 0.82 \t| Test acc: 0.8\n",
      "Epoch: 278 \t| Train loss: 0.101 \t| Train acc: 0.82 \t| Test acc: 0.8\n",
      "Epoch: 279 \t| Train loss: 0.101 \t| Train acc: 0.82 \t| Test acc: 0.8\n",
      "Epoch: 280 \t| Train loss: 0.101 \t| Train acc: 0.82 \t| Test acc: 0.8\n",
      "Epoch: 281 \t| Train loss: 0.101 \t| Train acc: 0.82 \t| Test acc: 0.8\n",
      "Epoch: 282 \t| Train loss: 0.101 \t| Train acc: 0.82 \t| Test acc: 0.8\n",
      "Epoch: 283 \t| Train loss: 0.101 \t| Train acc: 0.82 \t| Test acc: 0.8\n",
      "Epoch: 284 \t| Train loss: 0.101 \t| Train acc: 0.82 \t| Test acc: 0.8\n",
      "Epoch: 285 \t| Train loss: 0.101 \t| Train acc: 0.82 \t| Test acc: 0.8\n",
      "Epoch: 286 \t| Train loss: 0.101 \t| Train acc: 0.82 \t| Test acc: 0.8\n",
      "Epoch: 287 \t| Train loss: 0.101 \t| Train acc: 0.82 \t| Test acc: 0.8\n",
      "Epoch: 288 \t| Train loss: 0.101 \t| Train acc: 0.82 \t| Test acc: 0.8\n",
      "Epoch: 289 \t| Train loss: 0.1 \t| Train acc: 0.82 \t| Test acc: 0.8\n",
      "Epoch: 290 \t| Train loss: 0.1 \t| Train acc: 0.82 \t| Test acc: 0.8\n",
      "Epoch: 291 \t| Train loss: 0.1 \t| Train acc: 0.82 \t| Test acc: 0.8\n",
      "Epoch: 292 \t| Train loss: 0.1 \t| Train acc: 0.82 \t| Test acc: 0.8\n",
      "Epoch: 293 \t| Train loss: 0.1 \t| Train acc: 0.82 \t| Test acc: 0.8\n",
      "Epoch: 294 \t| Train loss: 0.1 \t| Train acc: 0.82 \t| Test acc: 0.8\n",
      "Epoch: 295 \t| Train loss: 0.1 \t| Train acc: 0.82 \t| Test acc: 0.8\n",
      "Epoch: 296 \t| Train loss: 0.1 \t| Train acc: 0.82 \t| Test acc: 0.8\n",
      "Epoch: 297 \t| Train loss: 0.1 \t| Train acc: 0.82 \t| Test acc: 0.8\n",
      "Epoch: 298 \t| Train loss: 0.1 \t| Train acc: 0.82 \t| Test acc: 0.8\n",
      "Epoch: 299 \t| Train loss: 0.1 \t| Train acc: 0.82 \t| Test acc: 0.8\n",
      "Epoch: 300 \t| Train loss: 0.1 \t| Train acc: 0.82 \t| Test acc: 0.8\n",
      "Epoch: 301 \t| Train loss: 0.1 \t| Train acc: 0.82 \t| Test acc: 0.8\n",
      "Epoch: 302 \t| Train loss: 0.1 \t| Train acc: 0.82 \t| Test acc: 0.8\n",
      "Epoch: 303 \t| Train loss: 0.099 \t| Train acc: 0.82 \t| Test acc: 0.8\n",
      "Epoch: 304 \t| Train loss: 0.099 \t| Train acc: 0.82 \t| Test acc: 0.8\n",
      "Epoch: 305 \t| Train loss: 0.099 \t| Train acc: 0.82 \t| Test acc: 0.8\n",
      "Epoch: 306 \t| Train loss: 0.099 \t| Train acc: 0.82 \t| Test acc: 0.8\n",
      "Epoch: 307 \t| Train loss: 0.099 \t| Train acc: 0.82 \t| Test acc: 0.8\n",
      "Epoch: 308 \t| Train loss: 0.099 \t| Train acc: 0.82 \t| Test acc: 0.8\n",
      "Epoch: 309 \t| Train loss: 0.099 \t| Train acc: 0.82 \t| Test acc: 0.8\n",
      "Epoch: 310 \t| Train loss: 0.099 \t| Train acc: 0.82 \t| Test acc: 0.8\n",
      "Epoch: 311 \t| Train loss: 0.099 \t| Train acc: 0.82 \t| Test acc: 0.8\n",
      "Epoch: 312 \t| Train loss: 0.099 \t| Train acc: 0.82 \t| Test acc: 0.8\n",
      "Epoch: 313 \t| Train loss: 0.099 \t| Train acc: 0.82 \t| Test acc: 0.8\n",
      "Epoch: 314 \t| Train loss: 0.099 \t| Train acc: 0.82 \t| Test acc: 0.8\n",
      "Epoch: 315 \t| Train loss: 0.099 \t| Train acc: 0.82 \t| Test acc: 0.8\n",
      "Epoch: 316 \t| Train loss: 0.098 \t| Train acc: 0.82 \t| Test acc: 0.8\n",
      "Epoch: 317 \t| Train loss: 0.098 \t| Train acc: 0.82 \t| Test acc: 0.8\n",
      "Epoch: 318 \t| Train loss: 0.098 \t| Train acc: 0.82 \t| Test acc: 0.8\n",
      "Epoch: 319 \t| Train loss: 0.098 \t| Train acc: 0.82 \t| Test acc: 0.8\n",
      "Epoch: 320 \t| Train loss: 0.098 \t| Train acc: 0.82 \t| Test acc: 0.8\n",
      "Epoch: 321 \t| Train loss: 0.098 \t| Train acc: 0.82 \t| Test acc: 0.8\n",
      "Epoch: 322 \t| Train loss: 0.098 \t| Train acc: 0.82 \t| Test acc: 0.8\n",
      "Epoch: 323 \t| Train loss: 0.098 \t| Train acc: 0.82 \t| Test acc: 0.8\n",
      "Epoch: 324 \t| Train loss: 0.098 \t| Train acc: 0.82 \t| Test acc: 0.8\n",
      "Epoch: 325 \t| Train loss: 0.098 \t| Train acc: 0.82 \t| Test acc: 0.8\n",
      "Epoch: 326 \t| Train loss: 0.098 \t| Train acc: 0.82 \t| Test acc: 0.8\n",
      "Epoch: 327 \t| Train loss: 0.098 \t| Train acc: 0.82 \t| Test acc: 0.8\n",
      "Epoch: 328 \t| Train loss: 0.098 \t| Train acc: 0.82 \t| Test acc: 0.8\n",
      "Epoch: 329 \t| Train loss: 0.097 \t| Train acc: 0.82 \t| Test acc: 0.8\n",
      "Epoch: 330 \t| Train loss: 0.097 \t| Train acc: 0.82 \t| Test acc: 0.8\n",
      "Epoch: 331 \t| Train loss: 0.097 \t| Train acc: 0.82 \t| Test acc: 0.8\n",
      "Epoch: 332 \t| Train loss: 0.097 \t| Train acc: 0.82 \t| Test acc: 0.8\n",
      "Epoch: 333 \t| Train loss: 0.097 \t| Train acc: 0.82 \t| Test acc: 0.8\n",
      "Epoch: 334 \t| Train loss: 0.097 \t| Train acc: 0.82 \t| Test acc: 0.8\n",
      "Epoch: 335 \t| Train loss: 0.097 \t| Train acc: 0.82 \t| Test acc: 0.8\n",
      "Epoch: 336 \t| Train loss: 0.097 \t| Train acc: 0.82 \t| Test acc: 0.8\n",
      "Epoch: 337 \t| Train loss: 0.097 \t| Train acc: 0.82 \t| Test acc: 0.8\n",
      "Epoch: 338 \t| Train loss: 0.097 \t| Train acc: 0.82 \t| Test acc: 0.8\n",
      "Epoch: 339 \t| Train loss: 0.097 \t| Train acc: 0.82 \t| Test acc: 0.8\n",
      "Epoch: 340 \t| Train loss: 0.097 \t| Train acc: 0.82 \t| Test acc: 0.8\n",
      "Epoch: 341 \t| Train loss: 0.097 \t| Train acc: 0.82 \t| Test acc: 0.8\n",
      "Epoch: 342 \t| Train loss: 0.096 \t| Train acc: 0.82 \t| Test acc: 0.8\n",
      "Epoch: 343 \t| Train loss: 0.096 \t| Train acc: 0.82 \t| Test acc: 0.8\n",
      "Epoch: 344 \t| Train loss: 0.096 \t| Train acc: 0.82 \t| Test acc: 0.8\n",
      "Epoch: 345 \t| Train loss: 0.096 \t| Train acc: 0.82 \t| Test acc: 0.8\n",
      "Epoch: 346 \t| Train loss: 0.096 \t| Train acc: 0.82 \t| Test acc: 0.8\n",
      "Epoch: 347 \t| Train loss: 0.096 \t| Train acc: 0.82 \t| Test acc: 0.8\n",
      "Epoch: 348 \t| Train loss: 0.096 \t| Train acc: 0.82 \t| Test acc: 0.8\n",
      "Epoch: 349 \t| Train loss: 0.096 \t| Train acc: 0.82 \t| Test acc: 0.8\n",
      "Epoch: 350 \t| Train loss: 0.096 \t| Train acc: 0.82 \t| Test acc: 0.8\n",
      "Epoch: 351 \t| Train loss: 0.096 \t| Train acc: 0.82 \t| Test acc: 0.8\n",
      "Epoch: 352 \t| Train loss: 0.096 \t| Train acc: 0.82 \t| Test acc: 0.8\n",
      "Epoch: 353 \t| Train loss: 0.096 \t| Train acc: 0.82 \t| Test acc: 0.8\n",
      "Epoch: 354 \t| Train loss: 0.096 \t| Train acc: 0.82 \t| Test acc: 0.8\n",
      "Epoch: 355 \t| Train loss: 0.096 \t| Train acc: 0.82 \t| Test acc: 0.8\n",
      "Epoch: 356 \t| Train loss: 0.095 \t| Train acc: 0.82 \t| Test acc: 0.8\n",
      "Epoch: 357 \t| Train loss: 0.095 \t| Train acc: 0.82 \t| Test acc: 0.8\n",
      "Epoch: 358 \t| Train loss: 0.095 \t| Train acc: 0.82 \t| Test acc: 0.8\n",
      "Epoch: 359 \t| Train loss: 0.095 \t| Train acc: 0.82 \t| Test acc: 0.8\n",
      "Epoch: 360 \t| Train loss: 0.095 \t| Train acc: 0.82 \t| Test acc: 0.8\n",
      "Epoch: 361 \t| Train loss: 0.095 \t| Train acc: 0.82 \t| Test acc: 0.8\n",
      "Epoch: 362 \t| Train loss: 0.095 \t| Train acc: 0.82 \t| Test acc: 0.8\n",
      "Epoch: 363 \t| Train loss: 0.095 \t| Train acc: 0.82 \t| Test acc: 0.8\n",
      "Epoch: 364 \t| Train loss: 0.095 \t| Train acc: 0.82 \t| Test acc: 0.8\n",
      "Epoch: 365 \t| Train loss: 0.095 \t| Train acc: 0.82 \t| Test acc: 0.8\n",
      "Epoch: 366 \t| Train loss: 0.095 \t| Train acc: 0.82 \t| Test acc: 0.8\n",
      "Epoch: 367 \t| Train loss: 0.095 \t| Train acc: 0.82 \t| Test acc: 0.8\n",
      "Epoch: 368 \t| Train loss: 0.095 \t| Train acc: 0.82 \t| Test acc: 0.8\n",
      "Epoch: 369 \t| Train loss: 0.094 \t| Train acc: 0.82 \t| Test acc: 0.8\n",
      "Epoch: 370 \t| Train loss: 0.094 \t| Train acc: 0.82 \t| Test acc: 0.8\n",
      "Epoch: 371 \t| Train loss: 0.094 \t| Train acc: 0.82 \t| Test acc: 0.8\n",
      "Epoch: 372 \t| Train loss: 0.094 \t| Train acc: 0.82 \t| Test acc: 0.8\n",
      "Epoch: 373 \t| Train loss: 0.094 \t| Train acc: 0.82 \t| Test acc: 0.8\n",
      "Epoch: 374 \t| Train loss: 0.094 \t| Train acc: 0.82 \t| Test acc: 0.8\n",
      "Epoch: 375 \t| Train loss: 0.094 \t| Train acc: 0.82 \t| Test acc: 0.8\n",
      "Epoch: 376 \t| Train loss: 0.094 \t| Train acc: 0.82 \t| Test acc: 0.8\n",
      "Epoch: 377 \t| Train loss: 0.094 \t| Train acc: 0.82 \t| Test acc: 0.8\n",
      "Epoch: 378 \t| Train loss: 0.094 \t| Train acc: 0.82 \t| Test acc: 0.8\n",
      "Epoch: 379 \t| Train loss: 0.094 \t| Train acc: 0.82 \t| Test acc: 0.8\n",
      "Epoch: 380 \t| Train loss: 0.094 \t| Train acc: 0.82 \t| Test acc: 0.8\n",
      "Epoch: 381 \t| Train loss: 0.093 \t| Train acc: 0.82 \t| Test acc: 0.8\n",
      "Epoch: 382 \t| Train loss: 0.093 \t| Train acc: 0.82 \t| Test acc: 0.8\n",
      "Epoch: 383 \t| Train loss: 0.093 \t| Train acc: 0.82 \t| Test acc: 0.8\n",
      "Epoch: 384 \t| Train loss: 0.093 \t| Train acc: 0.82 \t| Test acc: 0.8\n",
      "Epoch: 385 \t| Train loss: 0.093 \t| Train acc: 0.82 \t| Test acc: 0.8\n",
      "Epoch: 386 \t| Train loss: 0.093 \t| Train acc: 0.82 \t| Test acc: 0.8\n",
      "Epoch: 387 \t| Train loss: 0.093 \t| Train acc: 0.82 \t| Test acc: 0.8\n",
      "Epoch: 388 \t| Train loss: 0.093 \t| Train acc: 0.82 \t| Test acc: 0.8\n",
      "Epoch: 389 \t| Train loss: 0.093 \t| Train acc: 0.82 \t| Test acc: 0.8\n",
      "Epoch: 390 \t| Train loss: 0.093 \t| Train acc: 0.82 \t| Test acc: 0.8\n",
      "Epoch: 391 \t| Train loss: 0.093 \t| Train acc: 0.82 \t| Test acc: 0.8\n",
      "Epoch: 392 \t| Train loss: 0.093 \t| Train acc: 0.82 \t| Test acc: 0.8\n",
      "Epoch: 393 \t| Train loss: 0.093 \t| Train acc: 0.82 \t| Test acc: 0.8\n",
      "Epoch: 394 \t| Train loss: 0.092 \t| Train acc: 0.82 \t| Test acc: 0.8\n",
      "Epoch: 395 \t| Train loss: 0.092 \t| Train acc: 0.82 \t| Test acc: 0.8\n",
      "Epoch: 396 \t| Train loss: 0.092 \t| Train acc: 0.82 \t| Test acc: 0.8\n",
      "Epoch: 397 \t| Train loss: 0.092 \t| Train acc: 0.82 \t| Test acc: 0.8\n",
      "Epoch: 398 \t| Train loss: 0.092 \t| Train acc: 0.82 \t| Test acc: 0.8\n",
      "Epoch: 399 \t| Train loss: 0.092 \t| Train acc: 0.82 \t| Test acc: 0.8\n",
      "Epoch: 400 \t| Train loss: 0.092 \t| Train acc: 0.82 \t| Test acc: 0.8\n",
      "Epoch: 401 \t| Train loss: 0.092 \t| Train acc: 0.82 \t| Test acc: 0.8\n",
      "Epoch: 402 \t| Train loss: 0.092 \t| Train acc: 0.82 \t| Test acc: 0.8\n",
      "Epoch: 403 \t| Train loss: 0.092 \t| Train acc: 0.82 \t| Test acc: 0.8\n",
      "Epoch: 404 \t| Train loss: 0.092 \t| Train acc: 0.82 \t| Test acc: 0.8\n",
      "Epoch: 405 \t| Train loss: 0.092 \t| Train acc: 0.82 \t| Test acc: 0.8\n",
      "Epoch: 406 \t| Train loss: 0.092 \t| Train acc: 0.82 \t| Test acc: 0.8\n",
      "Epoch: 407 \t| Train loss: 0.092 \t| Train acc: 0.82 \t| Test acc: 0.8\n",
      "Epoch: 408 \t| Train loss: 0.091 \t| Train acc: 0.82 \t| Test acc: 0.8\n",
      "Epoch: 409 \t| Train loss: 0.091 \t| Train acc: 0.82 \t| Test acc: 0.8\n",
      "Epoch: 410 \t| Train loss: 0.091 \t| Train acc: 0.82 \t| Test acc: 0.8\n",
      "Epoch: 411 \t| Train loss: 0.091 \t| Train acc: 0.82 \t| Test acc: 0.8\n",
      "Epoch: 412 \t| Train loss: 0.091 \t| Train acc: 0.82 \t| Test acc: 0.8\n",
      "Epoch: 413 \t| Train loss: 0.091 \t| Train acc: 0.82 \t| Test acc: 0.8\n",
      "Epoch: 414 \t| Train loss: 0.091 \t| Train acc: 0.82 \t| Test acc: 0.8\n",
      "Epoch: 415 \t| Train loss: 0.091 \t| Train acc: 0.82 \t| Test acc: 0.8\n",
      "Epoch: 416 \t| Train loss: 0.091 \t| Train acc: 0.82 \t| Test acc: 0.8\n",
      "Epoch: 417 \t| Train loss: 0.091 \t| Train acc: 0.82 \t| Test acc: 0.8\n",
      "Epoch: 418 \t| Train loss: 0.091 \t| Train acc: 0.82 \t| Test acc: 0.8\n",
      "Epoch: 419 \t| Train loss: 0.091 \t| Train acc: 0.82 \t| Test acc: 0.8\n",
      "Epoch: 420 \t| Train loss: 0.091 \t| Train acc: 0.82 \t| Test acc: 0.8\n",
      "Epoch: 421 \t| Train loss: 0.091 \t| Train acc: 0.82 \t| Test acc: 0.8\n",
      "Epoch: 422 \t| Train loss: 0.09 \t| Train acc: 0.82 \t| Test acc: 0.8\n",
      "Epoch: 423 \t| Train loss: 0.09 \t| Train acc: 0.82 \t| Test acc: 0.8\n",
      "Epoch: 424 \t| Train loss: 0.09 \t| Train acc: 0.82 \t| Test acc: 0.8\n",
      "Epoch: 425 \t| Train loss: 0.09 \t| Train acc: 0.82 \t| Test acc: 0.8\n",
      "Epoch: 426 \t| Train loss: 0.09 \t| Train acc: 0.82 \t| Test acc: 0.8\n",
      "Epoch: 427 \t| Train loss: 0.09 \t| Train acc: 0.82 \t| Test acc: 0.8\n",
      "Epoch: 428 \t| Train loss: 0.09 \t| Train acc: 0.82 \t| Test acc: 0.8\n",
      "Epoch: 429 \t| Train loss: 0.09 \t| Train acc: 0.82 \t| Test acc: 0.8\n",
      "Epoch: 430 \t| Train loss: 0.09 \t| Train acc: 0.82 \t| Test acc: 0.8\n",
      "Epoch: 431 \t| Train loss: 0.09 \t| Train acc: 0.82 \t| Test acc: 0.8\n",
      "Epoch: 432 \t| Train loss: 0.09 \t| Train acc: 0.82 \t| Test acc: 0.8\n",
      "Epoch: 433 \t| Train loss: 0.09 \t| Train acc: 0.82 \t| Test acc: 0.8\n",
      "Epoch: 434 \t| Train loss: 0.09 \t| Train acc: 0.82 \t| Test acc: 0.8\n",
      "Epoch: 435 \t| Train loss: 0.09 \t| Train acc: 0.82 \t| Test acc: 0.8\n",
      "Epoch: 436 \t| Train loss: 0.089 \t| Train acc: 0.82 \t| Test acc: 0.8\n",
      "Epoch: 437 \t| Train loss: 0.089 \t| Train acc: 0.82 \t| Test acc: 0.8\n",
      "Epoch: 438 \t| Train loss: 0.089 \t| Train acc: 0.82 \t| Test acc: 0.8\n",
      "Epoch: 439 \t| Train loss: 0.089 \t| Train acc: 0.82 \t| Test acc: 0.8\n",
      "Epoch: 440 \t| Train loss: 0.089 \t| Train acc: 0.82 \t| Test acc: 0.8\n",
      "Epoch: 441 \t| Train loss: 0.089 \t| Train acc: 0.82 \t| Test acc: 0.8\n",
      "Epoch: 442 \t| Train loss: 0.089 \t| Train acc: 0.82 \t| Test acc: 0.8\n",
      "Epoch: 443 \t| Train loss: 0.089 \t| Train acc: 0.82 \t| Test acc: 0.8\n",
      "Epoch: 444 \t| Train loss: 0.089 \t| Train acc: 0.82 \t| Test acc: 0.8\n",
      "Epoch: 445 \t| Train loss: 0.089 \t| Train acc: 0.82 \t| Test acc: 0.8\n",
      "Epoch: 446 \t| Train loss: 0.089 \t| Train acc: 0.82 \t| Test acc: 0.8\n",
      "Epoch: 447 \t| Train loss: 0.089 \t| Train acc: 0.82 \t| Test acc: 0.8\n",
      "Epoch: 448 \t| Train loss: 0.089 \t| Train acc: 0.82 \t| Test acc: 0.8\n",
      "Epoch: 449 \t| Train loss: 0.089 \t| Train acc: 0.82 \t| Test acc: 0.8\n",
      "Epoch: 450 \t| Train loss: 0.088 \t| Train acc: 0.82 \t| Test acc: 0.8\n",
      "Epoch: 451 \t| Train loss: 0.088 \t| Train acc: 0.82 \t| Test acc: 0.8\n",
      "Epoch: 452 \t| Train loss: 0.088 \t| Train acc: 0.82 \t| Test acc: 0.8\n",
      "Epoch: 453 \t| Train loss: 0.088 \t| Train acc: 0.82 \t| Test acc: 0.8\n",
      "Epoch: 454 \t| Train loss: 0.088 \t| Train acc: 0.82 \t| Test acc: 0.8\n",
      "Epoch: 455 \t| Train loss: 0.088 \t| Train acc: 0.82 \t| Test acc: 0.8\n",
      "Epoch: 456 \t| Train loss: 0.088 \t| Train acc: 0.82 \t| Test acc: 0.8\n",
      "Epoch: 457 \t| Train loss: 0.088 \t| Train acc: 0.82 \t| Test acc: 0.8\n",
      "Epoch: 458 \t| Train loss: 0.088 \t| Train acc: 0.82 \t| Test acc: 0.8\n",
      "Epoch: 459 \t| Train loss: 0.088 \t| Train acc: 0.82 \t| Test acc: 0.8\n",
      "Epoch: 460 \t| Train loss: 0.088 \t| Train acc: 0.82 \t| Test acc: 0.8\n",
      "Epoch: 461 \t| Train loss: 0.088 \t| Train acc: 0.82 \t| Test acc: 0.8\n",
      "Epoch: 462 \t| Train loss: 0.088 \t| Train acc: 0.82 \t| Test acc: 0.8\n",
      "Epoch: 463 \t| Train loss: 0.088 \t| Train acc: 0.82 \t| Test acc: 0.8\n",
      "Epoch: 464 \t| Train loss: 0.088 \t| Train acc: 0.82 \t| Test acc: 0.8\n",
      "Epoch: 465 \t| Train loss: 0.087 \t| Train acc: 0.82 \t| Test acc: 0.8\n",
      "Epoch: 466 \t| Train loss: 0.087 \t| Train acc: 0.82 \t| Test acc: 0.8\n",
      "Epoch: 467 \t| Train loss: 0.087 \t| Train acc: 0.82 \t| Test acc: 0.8\n",
      "Epoch: 468 \t| Train loss: 0.087 \t| Train acc: 0.82 \t| Test acc: 0.8\n",
      "Epoch: 469 \t| Train loss: 0.087 \t| Train acc: 0.82 \t| Test acc: 0.8\n",
      "Epoch: 470 \t| Train loss: 0.087 \t| Train acc: 0.82 \t| Test acc: 0.8\n",
      "Epoch: 471 \t| Train loss: 0.087 \t| Train acc: 0.82 \t| Test acc: 0.8\n",
      "Epoch: 472 \t| Train loss: 0.087 \t| Train acc: 0.82 \t| Test acc: 0.8\n",
      "Epoch: 473 \t| Train loss: 0.087 \t| Train acc: 0.82 \t| Test acc: 0.8\n",
      "Epoch: 474 \t| Train loss: 0.087 \t| Train acc: 0.82 \t| Test acc: 0.8\n",
      "Epoch: 475 \t| Train loss: 0.087 \t| Train acc: 0.82 \t| Test acc: 0.8\n",
      "Epoch: 476 \t| Train loss: 0.087 \t| Train acc: 0.82 \t| Test acc: 0.8\n",
      "Epoch: 477 \t| Train loss: 0.087 \t| Train acc: 0.82 \t| Test acc: 0.8\n",
      "Epoch: 478 \t| Train loss: 0.087 \t| Train acc: 0.82 \t| Test acc: 0.8\n",
      "Epoch: 479 \t| Train loss: 0.086 \t| Train acc: 0.82 \t| Test acc: 0.8\n",
      "Epoch: 480 \t| Train loss: 0.086 \t| Train acc: 0.82 \t| Test acc: 0.8\n",
      "Epoch: 481 \t| Train loss: 0.086 \t| Train acc: 0.82 \t| Test acc: 0.8\n",
      "Epoch: 482 \t| Train loss: 0.086 \t| Train acc: 0.82 \t| Test acc: 0.8\n",
      "Epoch: 483 \t| Train loss: 0.086 \t| Train acc: 0.82 \t| Test acc: 0.8\n",
      "Epoch: 484 \t| Train loss: 0.086 \t| Train acc: 0.82 \t| Test acc: 0.8\n",
      "Epoch: 485 \t| Train loss: 0.086 \t| Train acc: 0.82 \t| Test acc: 0.8\n",
      "Epoch: 486 \t| Train loss: 0.086 \t| Train acc: 0.82 \t| Test acc: 0.8\n",
      "Epoch: 487 \t| Train loss: 0.086 \t| Train acc: 0.82 \t| Test acc: 0.8\n",
      "Epoch: 488 \t| Train loss: 0.086 \t| Train acc: 0.82 \t| Test acc: 0.8\n",
      "Epoch: 489 \t| Train loss: 0.086 \t| Train acc: 0.82 \t| Test acc: 0.8\n",
      "Epoch: 490 \t| Train loss: 0.086 \t| Train acc: 0.82 \t| Test acc: 0.8\n",
      "Epoch: 491 \t| Train loss: 0.086 \t| Train acc: 0.82 \t| Test acc: 0.8\n",
      "Epoch: 492 \t| Train loss: 0.086 \t| Train acc: 0.82 \t| Test acc: 0.8\n",
      "Epoch: 493 \t| Train loss: 0.086 \t| Train acc: 0.82 \t| Test acc: 0.8\n",
      "Epoch: 494 \t| Train loss: 0.085 \t| Train acc: 0.82 \t| Test acc: 0.8\n",
      "Epoch: 495 \t| Train loss: 0.085 \t| Train acc: 0.82 \t| Test acc: 0.8\n",
      "Epoch: 496 \t| Train loss: 0.085 \t| Train acc: 0.82 \t| Test acc: 0.8\n",
      "Epoch: 497 \t| Train loss: 0.085 \t| Train acc: 0.82 \t| Test acc: 0.8\n",
      "Epoch: 498 \t| Train loss: 0.085 \t| Train acc: 0.82 \t| Test acc: 0.8\n",
      "Epoch: 499 \t| Train loss: 0.085 \t| Train acc: 0.82 \t| Test acc: 0.8\n",
      "Epoch: 500 \t| Train loss: 0.085 \t| Train acc: 0.82 \t| Test acc: 0.8\n",
      "Epoch: 501 \t| Train loss: 0.085 \t| Train acc: 0.82 \t| Test acc: 0.8\n",
      "Epoch: 502 \t| Train loss: 0.085 \t| Train acc: 0.82 \t| Test acc: 0.8\n",
      "Epoch: 503 \t| Train loss: 0.085 \t| Train acc: 0.82 \t| Test acc: 0.8\n",
      "Epoch: 504 \t| Train loss: 0.085 \t| Train acc: 0.82 \t| Test acc: 0.8\n",
      "Epoch: 505 \t| Train loss: 0.085 \t| Train acc: 0.82 \t| Test acc: 0.8\n",
      "Epoch: 506 \t| Train loss: 0.085 \t| Train acc: 0.82 \t| Test acc: 0.8\n",
      "Epoch: 507 \t| Train loss: 0.085 \t| Train acc: 0.82 \t| Test acc: 0.8\n",
      "Epoch: 508 \t| Train loss: 0.085 \t| Train acc: 0.82 \t| Test acc: 0.8\n",
      "Epoch: 509 \t| Train loss: 0.084 \t| Train acc: 0.82 \t| Test acc: 0.8\n",
      "Epoch: 510 \t| Train loss: 0.084 \t| Train acc: 0.82 \t| Test acc: 0.8\n",
      "Epoch: 511 \t| Train loss: 0.084 \t| Train acc: 0.82 \t| Test acc: 0.8\n",
      "Epoch: 512 \t| Train loss: 0.084 \t| Train acc: 0.82 \t| Test acc: 0.8\n",
      "Epoch: 513 \t| Train loss: 0.084 \t| Train acc: 0.82 \t| Test acc: 0.8\n",
      "Epoch: 514 \t| Train loss: 0.084 \t| Train acc: 0.82 \t| Test acc: 0.8\n",
      "Epoch: 515 \t| Train loss: 0.084 \t| Train acc: 0.82 \t| Test acc: 0.8\n",
      "Epoch: 516 \t| Train loss: 0.084 \t| Train acc: 0.82 \t| Test acc: 0.8\n",
      "Epoch: 517 \t| Train loss: 0.084 \t| Train acc: 0.82 \t| Test acc: 0.8\n",
      "Epoch: 518 \t| Train loss: 0.084 \t| Train acc: 0.82 \t| Test acc: 0.8\n",
      "Epoch: 519 \t| Train loss: 0.084 \t| Train acc: 0.82 \t| Test acc: 0.8\n",
      "Epoch: 520 \t| Train loss: 0.084 \t| Train acc: 0.82 \t| Test acc: 0.8\n",
      "Epoch: 521 \t| Train loss: 0.084 \t| Train acc: 0.82 \t| Test acc: 0.8\n",
      "Epoch: 522 \t| Train loss: 0.084 \t| Train acc: 0.82 \t| Test acc: 0.8\n",
      "Epoch: 523 \t| Train loss: 0.084 \t| Train acc: 0.82 \t| Test acc: 0.8\n",
      "Epoch: 524 \t| Train loss: 0.083 \t| Train acc: 0.82 \t| Test acc: 0.8\n",
      "Epoch: 525 \t| Train loss: 0.083 \t| Train acc: 0.82 \t| Test acc: 0.8\n",
      "Epoch: 526 \t| Train loss: 0.083 \t| Train acc: 0.82 \t| Test acc: 0.8\n",
      "Epoch: 527 \t| Train loss: 0.083 \t| Train acc: 0.82 \t| Test acc: 0.8\n",
      "Epoch: 528 \t| Train loss: 0.083 \t| Train acc: 0.82 \t| Test acc: 0.8\n",
      "Epoch: 529 \t| Train loss: 0.083 \t| Train acc: 0.82 \t| Test acc: 0.8\n",
      "Epoch: 530 \t| Train loss: 0.083 \t| Train acc: 0.82 \t| Test acc: 0.8\n",
      "Epoch: 531 \t| Train loss: 0.083 \t| Train acc: 0.82 \t| Test acc: 0.8\n",
      "Epoch: 532 \t| Train loss: 0.083 \t| Train acc: 0.82 \t| Test acc: 0.8\n",
      "Epoch: 533 \t| Train loss: 0.083 \t| Train acc: 0.82 \t| Test acc: 0.8\n",
      "Epoch: 534 \t| Train loss: 0.083 \t| Train acc: 0.82 \t| Test acc: 0.8\n",
      "Epoch: 535 \t| Train loss: 0.083 \t| Train acc: 0.82 \t| Test acc: 0.8\n",
      "Epoch: 536 \t| Train loss: 0.083 \t| Train acc: 0.82 \t| Test acc: 0.8\n",
      "Epoch: 537 \t| Train loss: 0.083 \t| Train acc: 0.82 \t| Test acc: 0.8\n",
      "Epoch: 538 \t| Train loss: 0.083 \t| Train acc: 0.82 \t| Test acc: 0.8\n",
      "Epoch: 539 \t| Train loss: 0.082 \t| Train acc: 0.82 \t| Test acc: 0.8\n",
      "Epoch: 540 \t| Train loss: 0.082 \t| Train acc: 0.82 \t| Test acc: 0.8\n",
      "Epoch: 541 \t| Train loss: 0.082 \t| Train acc: 0.82 \t| Test acc: 0.8\n",
      "Epoch: 542 \t| Train loss: 0.082 \t| Train acc: 0.82 \t| Test acc: 0.8\n",
      "Epoch: 543 \t| Train loss: 0.082 \t| Train acc: 0.82 \t| Test acc: 0.8\n",
      "Epoch: 544 \t| Train loss: 0.082 \t| Train acc: 0.82 \t| Test acc: 0.8\n",
      "Epoch: 545 \t| Train loss: 0.082 \t| Train acc: 0.82 \t| Test acc: 0.8\n",
      "Epoch: 546 \t| Train loss: 0.082 \t| Train acc: 0.82 \t| Test acc: 0.8\n",
      "Epoch: 547 \t| Train loss: 0.082 \t| Train acc: 0.82 \t| Test acc: 0.8\n",
      "Epoch: 548 \t| Train loss: 0.082 \t| Train acc: 0.82 \t| Test acc: 0.8\n",
      "Epoch: 549 \t| Train loss: 0.082 \t| Train acc: 0.82 \t| Test acc: 0.8\n",
      "Epoch: 550 \t| Train loss: 0.082 \t| Train acc: 0.82 \t| Test acc: 0.8\n",
      "Epoch: 551 \t| Train loss: 0.082 \t| Train acc: 0.82 \t| Test acc: 0.8\n",
      "Epoch: 552 \t| Train loss: 0.082 \t| Train acc: 0.82 \t| Test acc: 0.8\n",
      "Epoch: 553 \t| Train loss: 0.082 \t| Train acc: 0.82 \t| Test acc: 0.8\n",
      "Epoch: 554 \t| Train loss: 0.082 \t| Train acc: 0.82 \t| Test acc: 0.8\n",
      "Epoch: 555 \t| Train loss: 0.081 \t| Train acc: 0.82 \t| Test acc: 0.8\n",
      "Epoch: 556 \t| Train loss: 0.081 \t| Train acc: 0.82 \t| Test acc: 0.8\n",
      "Epoch: 557 \t| Train loss: 0.081 \t| Train acc: 0.82 \t| Test acc: 0.8\n",
      "Epoch: 558 \t| Train loss: 0.081 \t| Train acc: 0.82 \t| Test acc: 0.8\n",
      "Epoch: 559 \t| Train loss: 0.081 \t| Train acc: 0.82 \t| Test acc: 0.8\n",
      "Epoch: 560 \t| Train loss: 0.081 \t| Train acc: 0.82 \t| Test acc: 0.8\n",
      "Epoch: 561 \t| Train loss: 0.081 \t| Train acc: 0.82 \t| Test acc: 0.8\n",
      "Epoch: 562 \t| Train loss: 0.081 \t| Train acc: 0.82 \t| Test acc: 0.8\n",
      "Epoch: 563 \t| Train loss: 0.081 \t| Train acc: 0.82 \t| Test acc: 0.8\n",
      "Epoch: 564 \t| Train loss: 0.081 \t| Train acc: 0.82 \t| Test acc: 0.8\n",
      "Epoch: 565 \t| Train loss: 0.081 \t| Train acc: 0.82 \t| Test acc: 0.8\n",
      "Epoch: 566 \t| Train loss: 0.081 \t| Train acc: 0.82 \t| Test acc: 0.8\n",
      "Epoch: 567 \t| Train loss: 0.081 \t| Train acc: 0.82 \t| Test acc: 0.8\n",
      "Epoch: 568 \t| Train loss: 0.081 \t| Train acc: 0.82 \t| Test acc: 0.8\n",
      "Epoch: 569 \t| Train loss: 0.081 \t| Train acc: 0.82 \t| Test acc: 0.8\n",
      "Epoch: 570 \t| Train loss: 0.081 \t| Train acc: 0.82 \t| Test acc: 0.8\n",
      "Epoch: 571 \t| Train loss: 0.08 \t| Train acc: 0.82 \t| Test acc: 0.8\n",
      "Epoch: 572 \t| Train loss: 0.08 \t| Train acc: 0.82 \t| Test acc: 0.8\n",
      "Epoch: 573 \t| Train loss: 0.08 \t| Train acc: 0.82 \t| Test acc: 0.8\n",
      "Epoch: 574 \t| Train loss: 0.08 \t| Train acc: 0.82 \t| Test acc: 0.8\n",
      "Epoch: 575 \t| Train loss: 0.08 \t| Train acc: 0.82 \t| Test acc: 0.8\n",
      "Epoch: 576 \t| Train loss: 0.08 \t| Train acc: 0.82 \t| Test acc: 0.8\n",
      "Epoch: 577 \t| Train loss: 0.08 \t| Train acc: 0.78 \t| Test acc: 0.77\n",
      "Epoch: 578 \t| Train loss: 0.08 \t| Train acc: 0.78 \t| Test acc: 0.77\n",
      "Epoch: 579 \t| Train loss: 0.08 \t| Train acc: 0.78 \t| Test acc: 0.77\n",
      "Epoch: 580 \t| Train loss: 0.08 \t| Train acc: 0.78 \t| Test acc: 0.77\n",
      "Epoch: 581 \t| Train loss: 0.08 \t| Train acc: 0.78 \t| Test acc: 0.77\n",
      "Epoch: 582 \t| Train loss: 0.08 \t| Train acc: 0.78 \t| Test acc: 0.77\n",
      "Epoch: 583 \t| Train loss: 0.08 \t| Train acc: 0.78 \t| Test acc: 0.77\n",
      "Epoch: 584 \t| Train loss: 0.08 \t| Train acc: 0.78 \t| Test acc: 0.77\n",
      "Epoch: 585 \t| Train loss: 0.08 \t| Train acc: 0.78 \t| Test acc: 0.77\n",
      "Epoch: 586 \t| Train loss: 0.08 \t| Train acc: 0.78 \t| Test acc: 0.77\n",
      "Epoch: 587 \t| Train loss: 0.079 \t| Train acc: 0.78 \t| Test acc: 0.77\n",
      "Epoch: 588 \t| Train loss: 0.079 \t| Train acc: 0.78 \t| Test acc: 0.77\n",
      "Epoch: 589 \t| Train loss: 0.079 \t| Train acc: 0.78 \t| Test acc: 0.77\n",
      "Epoch: 590 \t| Train loss: 0.079 \t| Train acc: 0.78 \t| Test acc: 0.77\n",
      "Epoch: 591 \t| Train loss: 0.079 \t| Train acc: 0.78 \t| Test acc: 0.77\n",
      "Epoch: 592 \t| Train loss: 0.079 \t| Train acc: 0.78 \t| Test acc: 0.77\n",
      "Epoch: 593 \t| Train loss: 0.079 \t| Train acc: 0.78 \t| Test acc: 0.77\n",
      "Epoch: 594 \t| Train loss: 0.079 \t| Train acc: 0.78 \t| Test acc: 0.77\n",
      "Epoch: 595 \t| Train loss: 0.079 \t| Train acc: 0.78 \t| Test acc: 0.77\n",
      "Epoch: 596 \t| Train loss: 0.079 \t| Train acc: 0.78 \t| Test acc: 0.77\n",
      "Epoch: 597 \t| Train loss: 0.079 \t| Train acc: 0.78 \t| Test acc: 0.77\n",
      "Epoch: 598 \t| Train loss: 0.079 \t| Train acc: 0.78 \t| Test acc: 0.77\n",
      "Epoch: 599 \t| Train loss: 0.079 \t| Train acc: 0.78 \t| Test acc: 0.77\n",
      "Epoch: 600 \t| Train loss: 0.079 \t| Train acc: 0.78 \t| Test acc: 0.77\n",
      "Epoch: 601 \t| Train loss: 0.079 \t| Train acc: 0.78 \t| Test acc: 0.77\n",
      "Epoch: 602 \t| Train loss: 0.079 \t| Train acc: 0.79 \t| Test acc: 0.77\n",
      "Epoch: 603 \t| Train loss: 0.079 \t| Train acc: 0.78 \t| Test acc: 0.77\n",
      "Epoch: 604 \t| Train loss: 0.079 \t| Train acc: 0.78 \t| Test acc: 0.77\n",
      "Epoch: 605 \t| Train loss: 0.078 \t| Train acc: 0.78 \t| Test acc: 0.77\n",
      "Epoch: 606 \t| Train loss: 0.078 \t| Train acc: 0.78 \t| Test acc: 0.77\n",
      "Epoch: 607 \t| Train loss: 0.078 \t| Train acc: 0.78 \t| Test acc: 0.77\n",
      "Epoch: 608 \t| Train loss: 0.078 \t| Train acc: 0.78 \t| Test acc: 0.77\n",
      "Epoch: 609 \t| Train loss: 0.078 \t| Train acc: 0.78 \t| Test acc: 0.77\n",
      "Epoch: 610 \t| Train loss: 0.078 \t| Train acc: 0.78 \t| Test acc: 0.77\n",
      "Epoch: 611 \t| Train loss: 0.078 \t| Train acc: 0.78 \t| Test acc: 0.77\n",
      "Epoch: 612 \t| Train loss: 0.078 \t| Train acc: 0.78 \t| Test acc: 0.77\n",
      "Epoch: 613 \t| Train loss: 0.078 \t| Train acc: 0.78 \t| Test acc: 0.77\n",
      "Epoch: 614 \t| Train loss: 0.078 \t| Train acc: 0.78 \t| Test acc: 0.77\n",
      "Epoch: 615 \t| Train loss: 0.078 \t| Train acc: 0.78 \t| Test acc: 0.77\n",
      "Epoch: 616 \t| Train loss: 0.078 \t| Train acc: 0.78 \t| Test acc: 0.77\n",
      "Epoch: 617 \t| Train loss: 0.078 \t| Train acc: 0.78 \t| Test acc: 0.77\n",
      "Epoch: 618 \t| Train loss: 0.078 \t| Train acc: 0.78 \t| Test acc: 0.77\n",
      "Epoch: 619 \t| Train loss: 0.078 \t| Train acc: 0.78 \t| Test acc: 0.77\n",
      "Epoch: 620 \t| Train loss: 0.078 \t| Train acc: 0.78 \t| Test acc: 0.77\n",
      "Epoch: 621 \t| Train loss: 0.078 \t| Train acc: 0.78 \t| Test acc: 0.77\n",
      "Epoch: 622 \t| Train loss: 0.078 \t| Train acc: 0.78 \t| Test acc: 0.77\n",
      "Epoch: 623 \t| Train loss: 0.077 \t| Train acc: 0.78 \t| Test acc: 0.77\n",
      "Epoch: 624 \t| Train loss: 0.077 \t| Train acc: 0.78 \t| Test acc: 0.77\n",
      "Epoch: 625 \t| Train loss: 0.077 \t| Train acc: 0.78 \t| Test acc: 0.78\n",
      "Epoch: 626 \t| Train loss: 0.077 \t| Train acc: 0.78 \t| Test acc: 0.78\n",
      "Epoch: 627 \t| Train loss: 0.077 \t| Train acc: 0.78 \t| Test acc: 0.78\n",
      "Epoch: 628 \t| Train loss: 0.077 \t| Train acc: 0.78 \t| Test acc: 0.78\n",
      "Epoch: 629 \t| Train loss: 0.077 \t| Train acc: 0.78 \t| Test acc: 0.78\n",
      "Epoch: 630 \t| Train loss: 0.077 \t| Train acc: 0.78 \t| Test acc: 0.78\n",
      "Epoch: 631 \t| Train loss: 0.077 \t| Train acc: 0.78 \t| Test acc: 0.78\n",
      "Epoch: 632 \t| Train loss: 0.077 \t| Train acc: 0.78 \t| Test acc: 0.78\n",
      "Epoch: 633 \t| Train loss: 0.077 \t| Train acc: 0.78 \t| Test acc: 0.78\n",
      "Epoch: 634 \t| Train loss: 0.077 \t| Train acc: 0.78 \t| Test acc: 0.78\n",
      "Epoch: 635 \t| Train loss: 0.077 \t| Train acc: 0.78 \t| Test acc: 0.78\n",
      "Epoch: 636 \t| Train loss: 0.077 \t| Train acc: 0.78 \t| Test acc: 0.78\n",
      "Epoch: 637 \t| Train loss: 0.077 \t| Train acc: 0.78 \t| Test acc: 0.78\n",
      "Epoch: 638 \t| Train loss: 0.077 \t| Train acc: 0.78 \t| Test acc: 0.78\n",
      "Epoch: 639 \t| Train loss: 0.077 \t| Train acc: 0.78 \t| Test acc: 0.78\n",
      "Epoch: 640 \t| Train loss: 0.077 \t| Train acc: 0.78 \t| Test acc: 0.78\n",
      "Epoch: 641 \t| Train loss: 0.076 \t| Train acc: 0.78 \t| Test acc: 0.78\n",
      "Epoch: 642 \t| Train loss: 0.076 \t| Train acc: 0.78 \t| Test acc: 0.78\n",
      "Epoch: 643 \t| Train loss: 0.076 \t| Train acc: 0.78 \t| Test acc: 0.79\n",
      "Epoch: 644 \t| Train loss: 0.076 \t| Train acc: 0.78 \t| Test acc: 0.79\n",
      "Epoch: 645 \t| Train loss: 0.076 \t| Train acc: 0.78 \t| Test acc: 0.79\n",
      "Epoch: 646 \t| Train loss: 0.076 \t| Train acc: 0.78 \t| Test acc: 0.79\n",
      "Epoch: 647 \t| Train loss: 0.076 \t| Train acc: 0.78 \t| Test acc: 0.79\n",
      "Epoch: 648 \t| Train loss: 0.076 \t| Train acc: 0.78 \t| Test acc: 0.79\n",
      "Epoch: 649 \t| Train loss: 0.076 \t| Train acc: 0.78 \t| Test acc: 0.79\n",
      "Epoch: 650 \t| Train loss: 0.076 \t| Train acc: 0.78 \t| Test acc: 0.79\n",
      "Epoch: 651 \t| Train loss: 0.076 \t| Train acc: 0.78 \t| Test acc: 0.79\n",
      "Epoch: 652 \t| Train loss: 0.076 \t| Train acc: 0.78 \t| Test acc: 0.79\n",
      "Epoch: 653 \t| Train loss: 0.076 \t| Train acc: 0.78 \t| Test acc: 0.79\n",
      "Epoch: 654 \t| Train loss: 0.076 \t| Train acc: 0.78 \t| Test acc: 0.79\n",
      "Epoch: 655 \t| Train loss: 0.076 \t| Train acc: 0.78 \t| Test acc: 0.79\n",
      "Epoch: 656 \t| Train loss: 0.076 \t| Train acc: 0.78 \t| Test acc: 0.79\n",
      "Epoch: 657 \t| Train loss: 0.076 \t| Train acc: 0.79 \t| Test acc: 0.79\n",
      "Epoch: 658 \t| Train loss: 0.076 \t| Train acc: 0.79 \t| Test acc: 0.79\n",
      "Epoch: 659 \t| Train loss: 0.075 \t| Train acc: 0.78 \t| Test acc: 0.79\n",
      "Epoch: 660 \t| Train loss: 0.075 \t| Train acc: 0.78 \t| Test acc: 0.8\n",
      "Epoch: 661 \t| Train loss: 0.075 \t| Train acc: 0.78 \t| Test acc: 0.8\n",
      "Epoch: 662 \t| Train loss: 0.075 \t| Train acc: 0.79 \t| Test acc: 0.8\n",
      "Epoch: 663 \t| Train loss: 0.075 \t| Train acc: 0.79 \t| Test acc: 0.8\n",
      "Epoch: 664 \t| Train loss: 0.075 \t| Train acc: 0.79 \t| Test acc: 0.8\n",
      "Epoch: 665 \t| Train loss: 0.075 \t| Train acc: 0.79 \t| Test acc: 0.8\n",
      "Epoch: 666 \t| Train loss: 0.075 \t| Train acc: 0.79 \t| Test acc: 0.8\n",
      "Epoch: 667 \t| Train loss: 0.075 \t| Train acc: 0.79 \t| Test acc: 0.8\n",
      "Epoch: 668 \t| Train loss: 0.075 \t| Train acc: 0.79 \t| Test acc: 0.8\n",
      "Epoch: 669 \t| Train loss: 0.075 \t| Train acc: 0.8 \t| Test acc: 0.8\n",
      "Epoch: 670 \t| Train loss: 0.075 \t| Train acc: 0.8 \t| Test acc: 0.81\n",
      "Epoch: 671 \t| Train loss: 0.075 \t| Train acc: 0.8 \t| Test acc: 0.81\n",
      "Epoch: 672 \t| Train loss: 0.074 \t| Train acc: 0.8 \t| Test acc: 0.81\n",
      "Epoch: 673 \t| Train loss: 0.074 \t| Train acc: 0.8 \t| Test acc: 0.81\n",
      "Epoch: 674 \t| Train loss: 0.074 \t| Train acc: 0.81 \t| Test acc: 0.81\n",
      "Epoch: 675 \t| Train loss: 0.074 \t| Train acc: 0.81 \t| Test acc: 0.81\n",
      "Epoch: 676 \t| Train loss: 0.074 \t| Train acc: 0.81 \t| Test acc: 0.81\n",
      "Epoch: 677 \t| Train loss: 0.074 \t| Train acc: 0.81 \t| Test acc: 0.81\n",
      "Epoch: 678 \t| Train loss: 0.074 \t| Train acc: 0.81 \t| Test acc: 0.81\n",
      "Epoch: 679 \t| Train loss: 0.074 \t| Train acc: 0.81 \t| Test acc: 0.82\n",
      "Epoch: 680 \t| Train loss: 0.074 \t| Train acc: 0.81 \t| Test acc: 0.82\n",
      "Epoch: 681 \t| Train loss: 0.074 \t| Train acc: 0.81 \t| Test acc: 0.82\n",
      "Epoch: 682 \t| Train loss: 0.074 \t| Train acc: 0.81 \t| Test acc: 0.82\n",
      "Epoch: 683 \t| Train loss: 0.073 \t| Train acc: 0.81 \t| Test acc: 0.82\n",
      "Epoch: 684 \t| Train loss: 0.073 \t| Train acc: 0.82 \t| Test acc: 0.82\n",
      "Epoch: 685 \t| Train loss: 0.073 \t| Train acc: 0.82 \t| Test acc: 0.82\n",
      "Epoch: 686 \t| Train loss: 0.073 \t| Train acc: 0.82 \t| Test acc: 0.82\n",
      "Epoch: 687 \t| Train loss: 0.073 \t| Train acc: 0.82 \t| Test acc: 0.82\n",
      "Epoch: 688 \t| Train loss: 0.073 \t| Train acc: 0.82 \t| Test acc: 0.83\n",
      "Epoch: 689 \t| Train loss: 0.073 \t| Train acc: 0.82 \t| Test acc: 0.83\n",
      "Epoch: 690 \t| Train loss: 0.073 \t| Train acc: 0.82 \t| Test acc: 0.83\n",
      "Epoch: 691 \t| Train loss: 0.072 \t| Train acc: 0.83 \t| Test acc: 0.83\n",
      "Epoch: 692 \t| Train loss: 0.072 \t| Train acc: 0.83 \t| Test acc: 0.84\n",
      "Epoch: 693 \t| Train loss: 0.072 \t| Train acc: 0.84 \t| Test acc: 0.84\n",
      "Epoch: 694 \t| Train loss: 0.072 \t| Train acc: 0.84 \t| Test acc: 0.84\n",
      "Epoch: 695 \t| Train loss: 0.072 \t| Train acc: 0.83 \t| Test acc: 0.84\n",
      "Epoch: 696 \t| Train loss: 0.072 \t| Train acc: 0.84 \t| Test acc: 0.84\n",
      "Epoch: 697 \t| Train loss: 0.071 \t| Train acc: 0.85 \t| Test acc: 0.84\n",
      "Epoch: 698 \t| Train loss: 0.071 \t| Train acc: 0.85 \t| Test acc: 0.84\n",
      "Epoch: 699 \t| Train loss: 0.071 \t| Train acc: 0.85 \t| Test acc: 0.85\n",
      "Epoch: 700 \t| Train loss: 0.071 \t| Train acc: 0.86 \t| Test acc: 0.85\n",
      "Epoch: 701 \t| Train loss: 0.071 \t| Train acc: 0.86 \t| Test acc: 0.85\n",
      "Epoch: 702 \t| Train loss: 0.071 \t| Train acc: 0.86 \t| Test acc: 0.85\n",
      "Epoch: 703 \t| Train loss: 0.07 \t| Train acc: 0.86 \t| Test acc: 0.85\n",
      "Epoch: 704 \t| Train loss: 0.07 \t| Train acc: 0.86 \t| Test acc: 0.85\n",
      "Epoch: 705 \t| Train loss: 0.07 \t| Train acc: 0.86 \t| Test acc: 0.85\n",
      "Epoch: 706 \t| Train loss: 0.07 \t| Train acc: 0.86 \t| Test acc: 0.85\n",
      "Epoch: 707 \t| Train loss: 0.07 \t| Train acc: 0.87 \t| Test acc: 0.86\n",
      "Epoch: 708 \t| Train loss: 0.07 \t| Train acc: 0.87 \t| Test acc: 0.86\n",
      "Epoch: 709 \t| Train loss: 0.07 \t| Train acc: 0.87 \t| Test acc: 0.86\n",
      "Epoch: 710 \t| Train loss: 0.069 \t| Train acc: 0.87 \t| Test acc: 0.86\n",
      "Epoch: 711 \t| Train loss: 0.069 \t| Train acc: 0.86 \t| Test acc: 0.86\n",
      "Epoch: 712 \t| Train loss: 0.069 \t| Train acc: 0.86 \t| Test acc: 0.86\n",
      "Epoch: 713 \t| Train loss: 0.069 \t| Train acc: 0.86 \t| Test acc: 0.86\n",
      "Epoch: 714 \t| Train loss: 0.069 \t| Train acc: 0.87 \t| Test acc: 0.86\n",
      "Epoch: 715 \t| Train loss: 0.069 \t| Train acc: 0.87 \t| Test acc: 0.86\n",
      "Epoch: 716 \t| Train loss: 0.068 \t| Train acc: 0.87 \t| Test acc: 0.86\n",
      "Epoch: 717 \t| Train loss: 0.068 \t| Train acc: 0.87 \t| Test acc: 0.86\n",
      "Epoch: 718 \t| Train loss: 0.068 \t| Train acc: 0.88 \t| Test acc: 0.87\n",
      "Epoch: 719 \t| Train loss: 0.068 \t| Train acc: 0.88 \t| Test acc: 0.87\n",
      "Epoch: 720 \t| Train loss: 0.068 \t| Train acc: 0.88 \t| Test acc: 0.87\n",
      "Epoch: 721 \t| Train loss: 0.068 \t| Train acc: 0.88 \t| Test acc: 0.87\n",
      "Epoch: 722 \t| Train loss: 0.068 \t| Train acc: 0.88 \t| Test acc: 0.87\n",
      "Epoch: 723 \t| Train loss: 0.068 \t| Train acc: 0.88 \t| Test acc: 0.87\n",
      "Epoch: 724 \t| Train loss: 0.067 \t| Train acc: 0.88 \t| Test acc: 0.87\n",
      "Epoch: 725 \t| Train loss: 0.067 \t| Train acc: 0.88 \t| Test acc: 0.87\n",
      "Epoch: 726 \t| Train loss: 0.067 \t| Train acc: 0.88 \t| Test acc: 0.87\n",
      "Epoch: 727 \t| Train loss: 0.067 \t| Train acc: 0.88 \t| Test acc: 0.87\n",
      "Epoch: 728 \t| Train loss: 0.067 \t| Train acc: 0.88 \t| Test acc: 0.87\n",
      "Epoch: 729 \t| Train loss: 0.067 \t| Train acc: 0.88 \t| Test acc: 0.87\n",
      "Epoch: 730 \t| Train loss: 0.067 \t| Train acc: 0.88 \t| Test acc: 0.87\n",
      "Epoch: 731 \t| Train loss: 0.067 \t| Train acc: 0.88 \t| Test acc: 0.87\n",
      "Epoch: 732 \t| Train loss: 0.067 \t| Train acc: 0.88 \t| Test acc: 0.87\n",
      "Epoch: 733 \t| Train loss: 0.067 \t| Train acc: 0.88 \t| Test acc: 0.87\n",
      "Epoch: 734 \t| Train loss: 0.067 \t| Train acc: 0.88 \t| Test acc: 0.87\n",
      "Epoch: 735 \t| Train loss: 0.066 \t| Train acc: 0.88 \t| Test acc: 0.87\n",
      "Epoch: 736 \t| Train loss: 0.066 \t| Train acc: 0.88 \t| Test acc: 0.87\n",
      "Epoch: 737 \t| Train loss: 0.066 \t| Train acc: 0.88 \t| Test acc: 0.87\n",
      "Epoch: 738 \t| Train loss: 0.066 \t| Train acc: 0.88 \t| Test acc: 0.87\n",
      "Epoch: 739 \t| Train loss: 0.066 \t| Train acc: 0.88 \t| Test acc: 0.87\n",
      "Epoch: 740 \t| Train loss: 0.066 \t| Train acc: 0.88 \t| Test acc: 0.87\n",
      "Epoch: 741 \t| Train loss: 0.066 \t| Train acc: 0.88 \t| Test acc: 0.87\n",
      "Epoch: 742 \t| Train loss: 0.066 \t| Train acc: 0.88 \t| Test acc: 0.87\n",
      "Epoch: 743 \t| Train loss: 0.066 \t| Train acc: 0.88 \t| Test acc: 0.87\n",
      "Epoch: 744 \t| Train loss: 0.066 \t| Train acc: 0.88 \t| Test acc: 0.87\n",
      "Epoch: 745 \t| Train loss: 0.066 \t| Train acc: 0.88 \t| Test acc: 0.87\n",
      "Epoch: 746 \t| Train loss: 0.066 \t| Train acc: 0.88 \t| Test acc: 0.87\n",
      "Epoch: 747 \t| Train loss: 0.065 \t| Train acc: 0.88 \t| Test acc: 0.87\n",
      "Epoch: 748 \t| Train loss: 0.065 \t| Train acc: 0.88 \t| Test acc: 0.87\n",
      "Epoch: 749 \t| Train loss: 0.065 \t| Train acc: 0.88 \t| Test acc: 0.87\n",
      "Epoch: 750 \t| Train loss: 0.065 \t| Train acc: 0.89 \t| Test acc: 0.87\n",
      "Epoch: 751 \t| Train loss: 0.065 \t| Train acc: 0.89 \t| Test acc: 0.87\n",
      "Epoch: 752 \t| Train loss: 0.065 \t| Train acc: 0.89 \t| Test acc: 0.87\n",
      "Epoch: 753 \t| Train loss: 0.065 \t| Train acc: 0.89 \t| Test acc: 0.87\n",
      "Epoch: 754 \t| Train loss: 0.065 \t| Train acc: 0.89 \t| Test acc: 0.87\n",
      "Epoch: 755 \t| Train loss: 0.065 \t| Train acc: 0.89 \t| Test acc: 0.87\n",
      "Epoch: 756 \t| Train loss: 0.065 \t| Train acc: 0.89 \t| Test acc: 0.87\n",
      "Epoch: 757 \t| Train loss: 0.065 \t| Train acc: 0.89 \t| Test acc: 0.87\n",
      "Epoch: 758 \t| Train loss: 0.065 \t| Train acc: 0.89 \t| Test acc: 0.87\n",
      "Epoch: 759 \t| Train loss: 0.065 \t| Train acc: 0.89 \t| Test acc: 0.87\n",
      "Epoch: 760 \t| Train loss: 0.065 \t| Train acc: 0.89 \t| Test acc: 0.87\n",
      "Epoch: 761 \t| Train loss: 0.064 \t| Train acc: 0.89 \t| Test acc: 0.87\n",
      "Epoch: 762 \t| Train loss: 0.064 \t| Train acc: 0.89 \t| Test acc: 0.87\n",
      "Epoch: 763 \t| Train loss: 0.064 \t| Train acc: 0.89 \t| Test acc: 0.87\n",
      "Epoch: 764 \t| Train loss: 0.064 \t| Train acc: 0.89 \t| Test acc: 0.87\n",
      "Epoch: 765 \t| Train loss: 0.064 \t| Train acc: 0.89 \t| Test acc: 0.87\n",
      "Epoch: 766 \t| Train loss: 0.064 \t| Train acc: 0.89 \t| Test acc: 0.87\n",
      "Epoch: 767 \t| Train loss: 0.064 \t| Train acc: 0.89 \t| Test acc: 0.87\n",
      "Epoch: 768 \t| Train loss: 0.064 \t| Train acc: 0.89 \t| Test acc: 0.87\n",
      "Epoch: 769 \t| Train loss: 0.064 \t| Train acc: 0.89 \t| Test acc: 0.87\n",
      "Epoch: 770 \t| Train loss: 0.064 \t| Train acc: 0.89 \t| Test acc: 0.87\n",
      "Epoch: 771 \t| Train loss: 0.064 \t| Train acc: 0.89 \t| Test acc: 0.87\n",
      "Epoch: 772 \t| Train loss: 0.064 \t| Train acc: 0.89 \t| Test acc: 0.87\n",
      "Epoch: 773 \t| Train loss: 0.064 \t| Train acc: 0.89 \t| Test acc: 0.87\n",
      "Epoch: 774 \t| Train loss: 0.064 \t| Train acc: 0.89 \t| Test acc: 0.87\n",
      "Epoch: 775 \t| Train loss: 0.063 \t| Train acc: 0.88 \t| Test acc: 0.87\n",
      "Epoch: 776 \t| Train loss: 0.063 \t| Train acc: 0.88 \t| Test acc: 0.87\n",
      "Epoch: 777 \t| Train loss: 0.063 \t| Train acc: 0.88 \t| Test acc: 0.87\n",
      "Epoch: 778 \t| Train loss: 0.063 \t| Train acc: 0.88 \t| Test acc: 0.87\n",
      "Epoch: 779 \t| Train loss: 0.063 \t| Train acc: 0.88 \t| Test acc: 0.87\n",
      "Epoch: 780 \t| Train loss: 0.063 \t| Train acc: 0.88 \t| Test acc: 0.87\n",
      "Epoch: 781 \t| Train loss: 0.063 \t| Train acc: 0.88 \t| Test acc: 0.87\n",
      "Epoch: 782 \t| Train loss: 0.063 \t| Train acc: 0.88 \t| Test acc: 0.87\n",
      "Epoch: 783 \t| Train loss: 0.063 \t| Train acc: 0.88 \t| Test acc: 0.87\n",
      "Epoch: 784 \t| Train loss: 0.063 \t| Train acc: 0.88 \t| Test acc: 0.87\n",
      "Epoch: 785 \t| Train loss: 0.063 \t| Train acc: 0.88 \t| Test acc: 0.87\n",
      "Epoch: 786 \t| Train loss: 0.063 \t| Train acc: 0.88 \t| Test acc: 0.87\n",
      "Epoch: 787 \t| Train loss: 0.063 \t| Train acc: 0.88 \t| Test acc: 0.87\n",
      "Epoch: 788 \t| Train loss: 0.063 \t| Train acc: 0.88 \t| Test acc: 0.87\n",
      "Epoch: 789 \t| Train loss: 0.063 \t| Train acc: 0.88 \t| Test acc: 0.87\n",
      "Epoch: 790 \t| Train loss: 0.063 \t| Train acc: 0.88 \t| Test acc: 0.87\n",
      "Epoch: 791 \t| Train loss: 0.062 \t| Train acc: 0.88 \t| Test acc: 0.87\n",
      "Epoch: 792 \t| Train loss: 0.062 \t| Train acc: 0.88 \t| Test acc: 0.87\n",
      "Epoch: 793 \t| Train loss: 0.062 \t| Train acc: 0.88 \t| Test acc: 0.87\n",
      "Epoch: 794 \t| Train loss: 0.062 \t| Train acc: 0.88 \t| Test acc: 0.87\n",
      "Epoch: 795 \t| Train loss: 0.062 \t| Train acc: 0.88 \t| Test acc: 0.87\n",
      "Epoch: 796 \t| Train loss: 0.062 \t| Train acc: 0.88 \t| Test acc: 0.87\n",
      "Epoch: 797 \t| Train loss: 0.062 \t| Train acc: 0.88 \t| Test acc: 0.87\n",
      "Epoch: 798 \t| Train loss: 0.062 \t| Train acc: 0.88 \t| Test acc: 0.87\n",
      "Epoch: 799 \t| Train loss: 0.062 \t| Train acc: 0.88 \t| Test acc: 0.87\n",
      "Epoch: 800 \t| Train loss: 0.062 \t| Train acc: 0.88 \t| Test acc: 0.87\n",
      "Epoch: 801 \t| Train loss: 0.062 \t| Train acc: 0.88 \t| Test acc: 0.87\n",
      "Epoch: 802 \t| Train loss: 0.062 \t| Train acc: 0.88 \t| Test acc: 0.87\n",
      "Epoch: 803 \t| Train loss: 0.062 \t| Train acc: 0.88 \t| Test acc: 0.87\n",
      "Epoch: 804 \t| Train loss: 0.062 \t| Train acc: 0.88 \t| Test acc: 0.87\n",
      "Epoch: 805 \t| Train loss: 0.062 \t| Train acc: 0.88 \t| Test acc: 0.87\n",
      "Epoch: 806 \t| Train loss: 0.062 \t| Train acc: 0.88 \t| Test acc: 0.87\n",
      "Epoch: 807 \t| Train loss: 0.061 \t| Train acc: 0.88 \t| Test acc: 0.87\n",
      "Epoch: 808 \t| Train loss: 0.061 \t| Train acc: 0.88 \t| Test acc: 0.87\n",
      "Epoch: 809 \t| Train loss: 0.061 \t| Train acc: 0.88 \t| Test acc: 0.87\n",
      "Epoch: 810 \t| Train loss: 0.061 \t| Train acc: 0.88 \t| Test acc: 0.87\n",
      "Epoch: 811 \t| Train loss: 0.061 \t| Train acc: 0.88 \t| Test acc: 0.87\n",
      "Epoch: 812 \t| Train loss: 0.061 \t| Train acc: 0.88 \t| Test acc: 0.87\n",
      "Epoch: 813 \t| Train loss: 0.061 \t| Train acc: 0.88 \t| Test acc: 0.87\n",
      "Epoch: 814 \t| Train loss: 0.061 \t| Train acc: 0.88 \t| Test acc: 0.87\n",
      "Epoch: 815 \t| Train loss: 0.061 \t| Train acc: 0.88 \t| Test acc: 0.87\n",
      "Epoch: 816 \t| Train loss: 0.061 \t| Train acc: 0.88 \t| Test acc: 0.87\n",
      "Epoch: 817 \t| Train loss: 0.061 \t| Train acc: 0.88 \t| Test acc: 0.87\n",
      "Epoch: 818 \t| Train loss: 0.061 \t| Train acc: 0.88 \t| Test acc: 0.87\n",
      "Epoch: 819 \t| Train loss: 0.061 \t| Train acc: 0.88 \t| Test acc: 0.87\n",
      "Epoch: 820 \t| Train loss: 0.061 \t| Train acc: 0.88 \t| Test acc: 0.87\n",
      "Epoch: 821 \t| Train loss: 0.061 \t| Train acc: 0.88 \t| Test acc: 0.87\n",
      "Epoch: 822 \t| Train loss: 0.061 \t| Train acc: 0.88 \t| Test acc: 0.87\n",
      "Epoch: 823 \t| Train loss: 0.061 \t| Train acc: 0.88 \t| Test acc: 0.87\n",
      "Epoch: 824 \t| Train loss: 0.06 \t| Train acc: 0.88 \t| Test acc: 0.87\n",
      "Epoch: 825 \t| Train loss: 0.06 \t| Train acc: 0.88 \t| Test acc: 0.87\n",
      "Epoch: 826 \t| Train loss: 0.06 \t| Train acc: 0.88 \t| Test acc: 0.87\n",
      "Epoch: 827 \t| Train loss: 0.06 \t| Train acc: 0.88 \t| Test acc: 0.87\n",
      "Epoch: 828 \t| Train loss: 0.06 \t| Train acc: 0.88 \t| Test acc: 0.87\n",
      "Epoch: 829 \t| Train loss: 0.06 \t| Train acc: 0.88 \t| Test acc: 0.87\n",
      "Epoch: 830 \t| Train loss: 0.06 \t| Train acc: 0.88 \t| Test acc: 0.87\n",
      "Epoch: 831 \t| Train loss: 0.06 \t| Train acc: 0.88 \t| Test acc: 0.87\n",
      "Epoch: 832 \t| Train loss: 0.06 \t| Train acc: 0.88 \t| Test acc: 0.87\n",
      "Epoch: 833 \t| Train loss: 0.06 \t| Train acc: 0.88 \t| Test acc: 0.87\n",
      "Epoch: 834 \t| Train loss: 0.06 \t| Train acc: 0.88 \t| Test acc: 0.87\n",
      "Epoch: 835 \t| Train loss: 0.06 \t| Train acc: 0.88 \t| Test acc: 0.87\n",
      "Epoch: 836 \t| Train loss: 0.06 \t| Train acc: 0.88 \t| Test acc: 0.87\n",
      "Epoch: 837 \t| Train loss: 0.06 \t| Train acc: 0.88 \t| Test acc: 0.87\n",
      "Epoch: 838 \t| Train loss: 0.06 \t| Train acc: 0.88 \t| Test acc: 0.87\n",
      "Epoch: 839 \t| Train loss: 0.06 \t| Train acc: 0.88 \t| Test acc: 0.87\n",
      "Epoch: 840 \t| Train loss: 0.06 \t| Train acc: 0.88 \t| Test acc: 0.87\n",
      "Epoch: 841 \t| Train loss: 0.06 \t| Train acc: 0.88 \t| Test acc: 0.87\n",
      "Epoch: 842 \t| Train loss: 0.059 \t| Train acc: 0.88 \t| Test acc: 0.87\n",
      "Epoch: 843 \t| Train loss: 0.059 \t| Train acc: 0.88 \t| Test acc: 0.87\n",
      "Epoch: 844 \t| Train loss: 0.059 \t| Train acc: 0.88 \t| Test acc: 0.87\n",
      "Epoch: 845 \t| Train loss: 0.059 \t| Train acc: 0.88 \t| Test acc: 0.87\n",
      "Epoch: 846 \t| Train loss: 0.059 \t| Train acc: 0.88 \t| Test acc: 0.87\n",
      "Epoch: 847 \t| Train loss: 0.059 \t| Train acc: 0.88 \t| Test acc: 0.87\n",
      "Epoch: 848 \t| Train loss: 0.059 \t| Train acc: 0.88 \t| Test acc: 0.87\n",
      "Epoch: 849 \t| Train loss: 0.059 \t| Train acc: 0.88 \t| Test acc: 0.87\n",
      "Epoch: 850 \t| Train loss: 0.059 \t| Train acc: 0.88 \t| Test acc: 0.87\n",
      "Epoch: 851 \t| Train loss: 0.059 \t| Train acc: 0.88 \t| Test acc: 0.87\n",
      "Epoch: 852 \t| Train loss: 0.059 \t| Train acc: 0.88 \t| Test acc: 0.87\n",
      "Epoch: 853 \t| Train loss: 0.059 \t| Train acc: 0.88 \t| Test acc: 0.87\n",
      "Epoch: 854 \t| Train loss: 0.059 \t| Train acc: 0.88 \t| Test acc: 0.87\n",
      "Epoch: 855 \t| Train loss: 0.059 \t| Train acc: 0.88 \t| Test acc: 0.87\n",
      "Epoch: 856 \t| Train loss: 0.059 \t| Train acc: 0.88 \t| Test acc: 0.87\n",
      "Epoch: 857 \t| Train loss: 0.059 \t| Train acc: 0.88 \t| Test acc: 0.87\n",
      "Epoch: 858 \t| Train loss: 0.059 \t| Train acc: 0.88 \t| Test acc: 0.87\n",
      "Epoch: 859 \t| Train loss: 0.059 \t| Train acc: 0.88 \t| Test acc: 0.87\n",
      "Epoch: 860 \t| Train loss: 0.058 \t| Train acc: 0.88 \t| Test acc: 0.87\n",
      "Epoch: 861 \t| Train loss: 0.058 \t| Train acc: 0.88 \t| Test acc: 0.87\n",
      "Epoch: 862 \t| Train loss: 0.058 \t| Train acc: 0.88 \t| Test acc: 0.87\n",
      "Epoch: 863 \t| Train loss: 0.058 \t| Train acc: 0.88 \t| Test acc: 0.87\n",
      "Epoch: 864 \t| Train loss: 0.058 \t| Train acc: 0.88 \t| Test acc: 0.87\n",
      "Epoch: 865 \t| Train loss: 0.058 \t| Train acc: 0.88 \t| Test acc: 0.87\n",
      "Epoch: 866 \t| Train loss: 0.058 \t| Train acc: 0.88 \t| Test acc: 0.87\n",
      "Epoch: 867 \t| Train loss: 0.058 \t| Train acc: 0.88 \t| Test acc: 0.87\n",
      "Epoch: 868 \t| Train loss: 0.058 \t| Train acc: 0.88 \t| Test acc: 0.87\n",
      "Epoch: 869 \t| Train loss: 0.058 \t| Train acc: 0.88 \t| Test acc: 0.87\n",
      "Epoch: 870 \t| Train loss: 0.058 \t| Train acc: 0.88 \t| Test acc: 0.87\n",
      "Epoch: 871 \t| Train loss: 0.058 \t| Train acc: 0.88 \t| Test acc: 0.87\n",
      "Epoch: 872 \t| Train loss: 0.058 \t| Train acc: 0.88 \t| Test acc: 0.87\n",
      "Epoch: 873 \t| Train loss: 0.058 \t| Train acc: 0.88 \t| Test acc: 0.87\n",
      "Epoch: 874 \t| Train loss: 0.058 \t| Train acc: 0.88 \t| Test acc: 0.87\n",
      "Epoch: 875 \t| Train loss: 0.058 \t| Train acc: 0.88 \t| Test acc: 0.87\n",
      "Epoch: 876 \t| Train loss: 0.058 \t| Train acc: 0.88 \t| Test acc: 0.87\n",
      "Epoch: 877 \t| Train loss: 0.058 \t| Train acc: 0.88 \t| Test acc: 0.87\n",
      "Epoch: 878 \t| Train loss: 0.057 \t| Train acc: 0.88 \t| Test acc: 0.87\n",
      "Epoch: 879 \t| Train loss: 0.057 \t| Train acc: 0.88 \t| Test acc: 0.87\n",
      "Epoch: 880 \t| Train loss: 0.057 \t| Train acc: 0.88 \t| Test acc: 0.87\n",
      "Epoch: 881 \t| Train loss: 0.057 \t| Train acc: 0.88 \t| Test acc: 0.87\n",
      "Epoch: 882 \t| Train loss: 0.057 \t| Train acc: 0.88 \t| Test acc: 0.87\n",
      "Epoch: 883 \t| Train loss: 0.057 \t| Train acc: 0.88 \t| Test acc: 0.87\n",
      "Epoch: 884 \t| Train loss: 0.057 \t| Train acc: 0.88 \t| Test acc: 0.87\n",
      "Epoch: 885 \t| Train loss: 0.057 \t| Train acc: 0.88 \t| Test acc: 0.87\n",
      "Epoch: 886 \t| Train loss: 0.057 \t| Train acc: 0.88 \t| Test acc: 0.87\n",
      "Epoch: 887 \t| Train loss: 0.057 \t| Train acc: 0.88 \t| Test acc: 0.87\n",
      "Epoch: 888 \t| Train loss: 0.057 \t| Train acc: 0.88 \t| Test acc: 0.87\n",
      "Epoch: 889 \t| Train loss: 0.057 \t| Train acc: 0.88 \t| Test acc: 0.87\n",
      "Epoch: 890 \t| Train loss: 0.057 \t| Train acc: 0.88 \t| Test acc: 0.87\n",
      "Epoch: 891 \t| Train loss: 0.057 \t| Train acc: 0.88 \t| Test acc: 0.87\n",
      "Epoch: 892 \t| Train loss: 0.057 \t| Train acc: 0.88 \t| Test acc: 0.87\n",
      "Epoch: 893 \t| Train loss: 0.057 \t| Train acc: 0.88 \t| Test acc: 0.87\n",
      "Epoch: 894 \t| Train loss: 0.057 \t| Train acc: 0.88 \t| Test acc: 0.87\n",
      "Epoch: 895 \t| Train loss: 0.057 \t| Train acc: 0.88 \t| Test acc: 0.87\n",
      "Epoch: 896 \t| Train loss: 0.057 \t| Train acc: 0.88 \t| Test acc: 0.87\n",
      "Epoch: 897 \t| Train loss: 0.056 \t| Train acc: 0.88 \t| Test acc: 0.87\n",
      "Epoch: 898 \t| Train loss: 0.056 \t| Train acc: 0.88 \t| Test acc: 0.87\n",
      "Epoch: 899 \t| Train loss: 0.056 \t| Train acc: 0.88 \t| Test acc: 0.87\n",
      "Epoch: 900 \t| Train loss: 0.056 \t| Train acc: 0.88 \t| Test acc: 0.87\n",
      "Epoch: 901 \t| Train loss: 0.056 \t| Train acc: 0.88 \t| Test acc: 0.87\n",
      "Epoch: 902 \t| Train loss: 0.056 \t| Train acc: 0.88 \t| Test acc: 0.87\n",
      "Epoch: 903 \t| Train loss: 0.056 \t| Train acc: 0.88 \t| Test acc: 0.87\n",
      "Epoch: 904 \t| Train loss: 0.056 \t| Train acc: 0.88 \t| Test acc: 0.87\n",
      "Epoch: 905 \t| Train loss: 0.056 \t| Train acc: 0.88 \t| Test acc: 0.87\n",
      "Epoch: 906 \t| Train loss: 0.056 \t| Train acc: 0.88 \t| Test acc: 0.87\n",
      "Epoch: 907 \t| Train loss: 0.056 \t| Train acc: 0.88 \t| Test acc: 0.87\n",
      "Epoch: 908 \t| Train loss: 0.056 \t| Train acc: 0.88 \t| Test acc: 0.87\n",
      "Epoch: 909 \t| Train loss: 0.056 \t| Train acc: 0.88 \t| Test acc: 0.87\n",
      "Epoch: 910 \t| Train loss: 0.056 \t| Train acc: 0.88 \t| Test acc: 0.87\n",
      "Epoch: 911 \t| Train loss: 0.056 \t| Train acc: 0.88 \t| Test acc: 0.87\n",
      "Epoch: 912 \t| Train loss: 0.056 \t| Train acc: 0.88 \t| Test acc: 0.87\n",
      "Epoch: 913 \t| Train loss: 0.056 \t| Train acc: 0.88 \t| Test acc: 0.87\n",
      "Epoch: 914 \t| Train loss: 0.056 \t| Train acc: 0.88 \t| Test acc: 0.87\n",
      "Epoch: 915 \t| Train loss: 0.056 \t| Train acc: 0.88 \t| Test acc: 0.87\n",
      "Epoch: 916 \t| Train loss: 0.055 \t| Train acc: 0.88 \t| Test acc: 0.87\n",
      "Epoch: 917 \t| Train loss: 0.055 \t| Train acc: 0.88 \t| Test acc: 0.87\n",
      "Epoch: 918 \t| Train loss: 0.055 \t| Train acc: 0.88 \t| Test acc: 0.87\n",
      "Epoch: 919 \t| Train loss: 0.055 \t| Train acc: 0.88 \t| Test acc: 0.87\n",
      "Epoch: 920 \t| Train loss: 0.055 \t| Train acc: 0.88 \t| Test acc: 0.87\n",
      "Epoch: 921 \t| Train loss: 0.055 \t| Train acc: 0.88 \t| Test acc: 0.87\n",
      "Epoch: 922 \t| Train loss: 0.055 \t| Train acc: 0.88 \t| Test acc: 0.87\n",
      "Epoch: 923 \t| Train loss: 0.055 \t| Train acc: 0.88 \t| Test acc: 0.87\n",
      "Epoch: 924 \t| Train loss: 0.055 \t| Train acc: 0.88 \t| Test acc: 0.87\n",
      "Epoch: 925 \t| Train loss: 0.055 \t| Train acc: 0.88 \t| Test acc: 0.87\n",
      "Epoch: 926 \t| Train loss: 0.055 \t| Train acc: 0.88 \t| Test acc: 0.87\n",
      "Epoch: 927 \t| Train loss: 0.055 \t| Train acc: 0.88 \t| Test acc: 0.87\n",
      "Epoch: 928 \t| Train loss: 0.055 \t| Train acc: 0.88 \t| Test acc: 0.87\n",
      "Epoch: 929 \t| Train loss: 0.055 \t| Train acc: 0.88 \t| Test acc: 0.87\n",
      "Epoch: 930 \t| Train loss: 0.055 \t| Train acc: 0.88 \t| Test acc: 0.87\n",
      "Epoch: 931 \t| Train loss: 0.055 \t| Train acc: 0.88 \t| Test acc: 0.87\n",
      "Epoch: 932 \t| Train loss: 0.055 \t| Train acc: 0.88 \t| Test acc: 0.87\n",
      "Epoch: 933 \t| Train loss: 0.055 \t| Train acc: 0.88 \t| Test acc: 0.87\n",
      "Epoch: 934 \t| Train loss: 0.055 \t| Train acc: 0.88 \t| Test acc: 0.87\n",
      "Epoch: 935 \t| Train loss: 0.055 \t| Train acc: 0.88 \t| Test acc: 0.87\n",
      "Epoch: 936 \t| Train loss: 0.054 \t| Train acc: 0.88 \t| Test acc: 0.87\n",
      "Epoch: 937 \t| Train loss: 0.054 \t| Train acc: 0.88 \t| Test acc: 0.87\n",
      "Epoch: 938 \t| Train loss: 0.054 \t| Train acc: 0.88 \t| Test acc: 0.87\n",
      "Epoch: 939 \t| Train loss: 0.054 \t| Train acc: 0.88 \t| Test acc: 0.87\n",
      "Epoch: 940 \t| Train loss: 0.054 \t| Train acc: 0.88 \t| Test acc: 0.87\n",
      "Epoch: 941 \t| Train loss: 0.054 \t| Train acc: 0.88 \t| Test acc: 0.87\n",
      "Epoch: 942 \t| Train loss: 0.054 \t| Train acc: 0.88 \t| Test acc: 0.87\n",
      "Epoch: 943 \t| Train loss: 0.054 \t| Train acc: 0.88 \t| Test acc: 0.87\n",
      "Epoch: 944 \t| Train loss: 0.054 \t| Train acc: 0.88 \t| Test acc: 0.87\n",
      "Epoch: 945 \t| Train loss: 0.054 \t| Train acc: 0.88 \t| Test acc: 0.87\n",
      "Epoch: 946 \t| Train loss: 0.054 \t| Train acc: 0.88 \t| Test acc: 0.87\n",
      "Epoch: 947 \t| Train loss: 0.054 \t| Train acc: 0.88 \t| Test acc: 0.87\n",
      "Epoch: 948 \t| Train loss: 0.054 \t| Train acc: 0.88 \t| Test acc: 0.87\n",
      "Epoch: 949 \t| Train loss: 0.054 \t| Train acc: 0.88 \t| Test acc: 0.87\n",
      "Epoch: 950 \t| Train loss: 0.054 \t| Train acc: 0.88 \t| Test acc: 0.87\n",
      "Epoch: 951 \t| Train loss: 0.054 \t| Train acc: 0.88 \t| Test acc: 0.87\n",
      "Epoch: 952 \t| Train loss: 0.054 \t| Train acc: 0.88 \t| Test acc: 0.87\n",
      "Epoch: 953 \t| Train loss: 0.054 \t| Train acc: 0.88 \t| Test acc: 0.87\n",
      "Epoch: 954 \t| Train loss: 0.054 \t| Train acc: 0.88 \t| Test acc: 0.87\n",
      "Epoch: 955 \t| Train loss: 0.054 \t| Train acc: 0.88 \t| Test acc: 0.87\n",
      "Epoch: 956 \t| Train loss: 0.053 \t| Train acc: 0.88 \t| Test acc: 0.87\n",
      "Epoch: 957 \t| Train loss: 0.053 \t| Train acc: 0.88 \t| Test acc: 0.87\n",
      "Epoch: 958 \t| Train loss: 0.053 \t| Train acc: 0.88 \t| Test acc: 0.87\n",
      "Epoch: 959 \t| Train loss: 0.053 \t| Train acc: 0.88 \t| Test acc: 0.87\n",
      "Epoch: 960 \t| Train loss: 0.053 \t| Train acc: 0.88 \t| Test acc: 0.87\n",
      "Epoch: 961 \t| Train loss: 0.053 \t| Train acc: 0.88 \t| Test acc: 0.87\n",
      "Epoch: 962 \t| Train loss: 0.053 \t| Train acc: 0.88 \t| Test acc: 0.87\n",
      "Epoch: 963 \t| Train loss: 0.053 \t| Train acc: 0.88 \t| Test acc: 0.87\n",
      "Epoch: 964 \t| Train loss: 0.053 \t| Train acc: 0.88 \t| Test acc: 0.87\n",
      "Epoch: 965 \t| Train loss: 0.053 \t| Train acc: 0.88 \t| Test acc: 0.87\n",
      "Epoch: 966 \t| Train loss: 0.053 \t| Train acc: 0.88 \t| Test acc: 0.87\n",
      "Epoch: 967 \t| Train loss: 0.053 \t| Train acc: 0.88 \t| Test acc: 0.87\n",
      "Epoch: 968 \t| Train loss: 0.053 \t| Train acc: 0.88 \t| Test acc: 0.87\n",
      "Epoch: 969 \t| Train loss: 0.053 \t| Train acc: 0.88 \t| Test acc: 0.87\n",
      "Epoch: 970 \t| Train loss: 0.053 \t| Train acc: 0.88 \t| Test acc: 0.87\n",
      "Epoch: 971 \t| Train loss: 0.053 \t| Train acc: 0.88 \t| Test acc: 0.87\n",
      "Epoch: 972 \t| Train loss: 0.053 \t| Train acc: 0.88 \t| Test acc: 0.87\n",
      "Epoch: 973 \t| Train loss: 0.053 \t| Train acc: 0.88 \t| Test acc: 0.87\n",
      "Epoch: 974 \t| Train loss: 0.053 \t| Train acc: 0.88 \t| Test acc: 0.87\n",
      "Epoch: 975 \t| Train loss: 0.053 \t| Train acc: 0.88 \t| Test acc: 0.87\n",
      "Epoch: 976 \t| Train loss: 0.053 \t| Train acc: 0.88 \t| Test acc: 0.87\n",
      "Epoch: 977 \t| Train loss: 0.052 \t| Train acc: 0.88 \t| Test acc: 0.87\n",
      "Epoch: 978 \t| Train loss: 0.052 \t| Train acc: 0.88 \t| Test acc: 0.87\n",
      "Epoch: 979 \t| Train loss: 0.052 \t| Train acc: 0.88 \t| Test acc: 0.87\n",
      "Epoch: 980 \t| Train loss: 0.052 \t| Train acc: 0.88 \t| Test acc: 0.87\n",
      "Epoch: 981 \t| Train loss: 0.052 \t| Train acc: 0.88 \t| Test acc: 0.87\n",
      "Epoch: 982 \t| Train loss: 0.052 \t| Train acc: 0.88 \t| Test acc: 0.87\n",
      "Epoch: 983 \t| Train loss: 0.052 \t| Train acc: 0.88 \t| Test acc: 0.87\n",
      "Epoch: 984 \t| Train loss: 0.052 \t| Train acc: 0.88 \t| Test acc: 0.87\n",
      "Epoch: 985 \t| Train loss: 0.052 \t| Train acc: 0.88 \t| Test acc: 0.87\n",
      "Epoch: 986 \t| Train loss: 0.052 \t| Train acc: 0.88 \t| Test acc: 0.87\n",
      "Epoch: 987 \t| Train loss: 0.052 \t| Train acc: 0.88 \t| Test acc: 0.87\n",
      "Epoch: 988 \t| Train loss: 0.052 \t| Train acc: 0.88 \t| Test acc: 0.87\n",
      "Epoch: 989 \t| Train loss: 0.052 \t| Train acc: 0.88 \t| Test acc: 0.87\n",
      "Epoch: 990 \t| Train loss: 0.052 \t| Train acc: 0.88 \t| Test acc: 0.87\n",
      "Epoch: 991 \t| Train loss: 0.052 \t| Train acc: 0.88 \t| Test acc: 0.87\n",
      "Epoch: 992 \t| Train loss: 0.052 \t| Train acc: 0.88 \t| Test acc: 0.87\n",
      "Epoch: 993 \t| Train loss: 0.052 \t| Train acc: 0.88 \t| Test acc: 0.87\n",
      "Epoch: 994 \t| Train loss: 0.052 \t| Train acc: 0.88 \t| Test acc: 0.87\n",
      "Epoch: 995 \t| Train loss: 0.052 \t| Train acc: 0.88 \t| Test acc: 0.87\n",
      "Epoch: 996 \t| Train loss: 0.052 \t| Train acc: 0.88 \t| Test acc: 0.87\n",
      "Epoch: 997 \t| Train loss: 0.052 \t| Train acc: 0.88 \t| Test acc: 0.87\n",
      "Epoch: 998 \t| Train loss: 0.052 \t| Train acc: 0.88 \t| Test acc: 0.87\n",
      "Epoch: 999 \t| Train loss: 0.051 \t| Train acc: 0.88 \t| Test acc: 0.87\n"
     ]
    }
   ],
   "source": [
    "train_losses_mlpsl_lim = []\n",
    "#test_losses  = []\n",
    "train_accs_mlpsl_lim = []\n",
    "test_accs_mlpsl_lim  = []\n",
    "\n",
    "for epoch in range(1000):\n",
    "    # Forward propagation (predicting train data)\n",
    "    for features, labels in data_loader_lim:\n",
    "        train_preds_mlpsl_lim = mlpsl_model_lim(features)\n",
    "        class_weights_batch = class_weights_original[labels.long()]\n",
    "        loss_function = nn.BCELoss(weight=class_weights_batch)\n",
    "        last_fico_mlpsl_lim = features[:, last_fico_index_lim].reshape(-1, 1) \n",
    "        rule_mlpsl_lim = (last_fico_mlpsl_lim<=652.5).float()\n",
    "        #train_loss_mlp  = loss_function(train_preds_mlp, labels)\n",
    "        train_loss_mlpsl_lim = semantic_loss(train_preds_mlpsl_lim, labels, rule_mlpsl_lim, class_weights_batch, 0.025)\n",
    "\n",
    "        # Predicting test data #b\n",
    "        with torch.no_grad():\n",
    "            test_preds_mlpsl_lim = mlpsl_model_lim(X_validation_tensor_lim)\n",
    "            #test_loss  = loss_function(test_preds, y_test)\n",
    "\n",
    "        # Calculate accuracy #c\n",
    "        train_acc = calculate_accuracy(train_preds_mlpsl_lim, labels)\n",
    "        test_acc  = calculate_accuracy(test_preds_mlpsl_lim, y_validation_tensor)\n",
    "\n",
    "        # Backward propagation #d\n",
    "        optimizer_mlpsl_lim.zero_grad()\n",
    "        train_loss_mlpsl_lim.backward()\n",
    "\n",
    "        # Gradient descent step #e\n",
    "        optimizer_mlpsl_lim.step()\n",
    "\n",
    "        # Store training history #f\n",
    "        train_losses_mlpsl_lim.append(train_loss_mlpsl_lim.item())\n",
    "        #test_losses.append(test_loss.item())\n",
    "        train_accs_mlpsl_lim.append(train_acc.item())\n",
    "        test_accs_mlpsl_lim.append(test_acc.item())\n",
    "\n",
    "    # Print training data #g\n",
    "    #if epoch%100==0:\n",
    "    print(f'Epoch: {epoch} \\t|' \\\n",
    "          f' Train loss: {np.round(train_loss_mlpsl_lim.item(),3)} \\t|' \\\n",
    "              #f' Test loss: {np.round(test_loss.item(),3)} \\t|' \\\n",
    "          f' Train acc: {np.round(train_acc.item(),2)} \\t|' \\\n",
    "          f' Test acc: {np.round(test_acc.item(),2)}')"
   ],
   "metadata": {
    "collapsed": false,
    "ExecuteTime": {
     "end_time": "2024-05-22T16:02:52.793234Z",
     "start_time": "2024-05-22T16:02:46.417261200Z"
    }
   },
   "id": "80e93a3460e80094"
  },
  {
   "cell_type": "code",
   "execution_count": 117,
   "outputs": [
    {
     "name": "stdout",
     "output_type": "stream",
     "text": [
      "Test Result:\n",
      "================================================\n",
      "Accuracy Score: 87.14%\n",
      "_______________________________________________\n",
      "CLASSIFICATION REPORT:\n",
      "                   0.0          1.0  accuracy    macro avg  weighted avg\n",
      "precision     0.936552     0.650088  0.871354     0.793320      0.880129\n",
      "recall        0.900829     0.751183  0.871354     0.826006      0.871354\n",
      "f1-score      0.918343     0.696989  0.871354     0.807666      0.874744\n",
      "support    6030.000000  1479.000000  0.871354  7509.000000   7509.000000\n",
      "_______________________________________________\n",
      "Confusion Matrix: \n",
      " [[5432  598]\n",
      " [ 368 1111]]\n"
     ]
    }
   ],
   "source": [
    "evaluate_nn(y_validation_tensor.clone().detach(), test_preds_mlpsl_lim.clone().detach().round(), train=False)"
   ],
   "metadata": {
    "collapsed": false,
    "ExecuteTime": {
     "end_time": "2024-05-22T16:03:21.617687200Z",
     "start_time": "2024-05-22T16:03:21.489591400Z"
    }
   },
   "id": "1524301f293b47dd"
  },
  {
   "cell_type": "code",
   "execution_count": 118,
   "outputs": [
    {
     "name": "stdout",
     "output_type": "stream",
     "text": [
      "Test Result:\n",
      "================================================\n",
      "Accuracy Score: 87.29%\n",
      "_______________________________________________\n",
      "CLASSIFICATION REPORT:\n",
      "                   0.0          1.0  accuracy    macro avg  weighted avg\n",
      "precision     0.937936     0.653471  0.872901     0.795703      0.881819\n",
      "recall        0.901307     0.757314  0.872901     0.829311      0.872901\n",
      "f1-score      0.919257     0.701571  0.872901     0.810414      0.876313\n",
      "support    6120.000000  1504.000000  0.872901  7624.000000   7624.000000\n",
      "_______________________________________________\n",
      "Confusion Matrix: \n",
      " [[5516  604]\n",
      " [ 365 1139]]\n"
     ]
    }
   ],
   "source": [
    "test_preds_mlpsl_lim = mlpsl_model_lim(X_test_tensor_lim)\n",
    "evaluate_nn(y_test_tensor.clone().detach(), test_preds_mlpsl_lim.clone().detach().round(), train=False)"
   ],
   "metadata": {
    "collapsed": false,
    "ExecuteTime": {
     "end_time": "2024-05-22T16:03:27.654389200Z",
     "start_time": "2024-05-22T16:03:27.564411600Z"
    }
   },
   "id": "e1e02bddc5226b3a"
  },
  {
   "cell_type": "code",
   "execution_count": 119,
   "outputs": [
    {
     "name": "stdout",
     "output_type": "stream",
     "text": [
      "Test Result:\n",
      "================================================\n",
      "Accuracy Score: 83.47%\n",
      "_______________________________________________\n",
      "CLASSIFICATION REPORT:\n",
      "                   0.0          1.0  accuracy    macro avg  weighted avg\n",
      "precision     0.883402     0.594868  0.834732     0.739135      0.826482\n",
      "recall        0.914869     0.508644  0.834732     0.711756      0.834732\n",
      "f1-score      0.898860     0.548387  0.834732     0.723624      0.829722\n",
      "support    6120.000000  1504.000000  0.834732  7624.000000   7624.000000\n",
      "_______________________________________________\n",
      "Confusion Matrix: \n",
      " [[5599  521]\n",
      " [ 739  765]]\n"
     ]
    }
   ],
   "source": [
    "dt_model_lim = DecisionTreeClassifier(class_weight='balanced')\n",
    "# Fit the model using X_train and y_train\n",
    "dt_model_lim.fit(X_train_lim_scaled, y_train_lim)\n",
    "\n",
    "predictions_dt_lim = dt_model_lim.predict(X_test_lim_scaled)\n",
    "\n",
    "evaluate_nn(y_test_tensor.clone().detach(), predictions_dt_lim.round(), train=False)"
   ],
   "metadata": {
    "collapsed": false,
    "ExecuteTime": {
     "end_time": "2024-05-22T16:08:16.814501300Z",
     "start_time": "2024-05-22T16:08:16.704504900Z"
    }
   },
   "id": "efa556a8f3b6d4e6"
  },
  {
   "cell_type": "code",
   "execution_count": 242,
   "outputs": [
    {
     "name": "stdout",
     "output_type": "stream",
     "text": [
      "Test Result:\n",
      "================================================\n",
      "Accuracy Score: 84.99%\n",
      "_______________________________________________\n",
      "CLASSIFICATION REPORT:\n",
      "                   0.0          1.0  accuracy    macro avg  weighted avg\n",
      "precision     0.909480     0.616279  0.849948     0.762879      0.851640\n",
      "recall        0.902941     0.634309  0.849948     0.768625      0.849948\n",
      "f1-score      0.906199     0.625164  0.849948     0.765681      0.850758\n",
      "support    6120.000000  1504.000000  0.849948  7624.000000   7624.000000\n",
      "_______________________________________________\n",
      "Confusion Matrix: \n",
      " [[5526  594]\n",
      " [ 550  954]]\n"
     ]
    }
   ],
   "source": [
    "# Define the XGBoost classifier\n",
    "xgb_model_lim = xgb.XGBClassifier(scale_pos_weight=(len(y_train_lim) - sum(y_train_lim)) / sum(y_train_lim))\n",
    "\n",
    "# Fit the model using X_train_scaled and y_train\n",
    "xgb_model_lim.fit(X_train_lim_scaled, y_train_lim)\n",
    "\n",
    "# Make predictions on the test set\n",
    "predictions_xgb_lim = xgb_model_lim.predict(X_test_lim_scaled)\n",
    "\n",
    "evaluate_nn(y_test_tensor.clone().detach(), predictions_xgb_lim.round(), train=False)\n"
   ],
   "metadata": {
    "collapsed": false,
    "ExecuteTime": {
     "end_time": "2024-05-10T12:11:59.482443400Z",
     "start_time": "2024-05-10T12:11:59.231350900Z"
    }
   },
   "id": "2d77977d9971bede"
  },
  {
   "cell_type": "markdown",
   "source": [
    "# Creating conformal predictions"
   ],
   "metadata": {
    "collapsed": false
   },
   "id": "d44c14ccfd0aa3ff"
  },
  {
   "cell_type": "code",
   "execution_count": 130,
   "outputs": [],
   "source": [
    "n = len(X_train)\n",
    "#get the probability predictions\n",
    "predictions = sl_model(X_calibration_tensor)\n",
    "#get the probability for the true class\n",
    "true_class_probs = torch.where(y_calibration_tensor == 1, predictions, 1 - predictions)\n",
    "#Turn scores into uncertainty score\n",
    "scores = 1-true_class_probs"
   ],
   "metadata": {
    "collapsed": false,
    "ExecuteTime": {
     "end_time": "2024-05-22T16:11:39.073761600Z",
     "start_time": "2024-05-22T16:11:39.010664100Z"
    }
   },
   "id": "e291a723b6ca866d"
  },
  {
   "cell_type": "code",
   "execution_count": 131,
   "outputs": [],
   "source": [
    "#Setting the alpha value\n",
    "alpha = 0.05\n",
    "\n",
    "# define quantile\n",
    "q_level = np.ceil((n+1)*(1-alpha))/n\n",
    "qhat = np.quantile(scores.detach().numpy(), q_level, method='higher')"
   ],
   "metadata": {
    "collapsed": false,
    "ExecuteTime": {
     "end_time": "2024-05-22T16:11:39.525815600Z",
     "start_time": "2024-05-22T16:11:39.463252200Z"
    }
   },
   "id": "47879eda998d7144"
  },
  {
   "cell_type": "code",
   "execution_count": 132,
   "outputs": [
    {
     "data": {
      "text/plain": "<Figure size 640x480 with 1 Axes>",
      "image/png": "[encoded data removed]"
     },
     "metadata": {},
     "output_type": "display_data"
    }
   ],
   "source": [
    "plt.hist(scores.detach().numpy(), bins=30, range=(0, 1))\n",
    "plt.xlabel(\"1 - s(y,x)\")\n",
    "plt.ylabel(\"Frequency\")\n",
    "plt.title(\"Histogram of non-conformity scores\")\n",
    "plt.show()\n"
   ],
   "metadata": {
    "collapsed": false,
    "ExecuteTime": {
     "end_time": "2024-05-22T16:11:40.403671Z",
     "start_time": "2024-05-22T16:11:40.113983100Z"
    }
   },
   "id": "d28c0a7d1807ef0a"
  },
  {
   "cell_type": "code",
   "execution_count": 133,
   "outputs": [
    {
     "name": "stdout",
     "output_type": "stream",
     "text": [
      "[['Charged Off', 'Fully Paid'], ['Charged Off'], ['Charged Off', 'Fully Paid'], ['Charged Off'], ['Charged Off'], ['Charged Off'], ['Charged Off', 'Fully Paid'], ['Charged Off'], ['Charged Off', 'Fully Paid'], ['Charged Off'], ['Charged Off'], ['Charged Off', 'Fully Paid'], ['Charged Off'], ['Charged Off', 'Fully Paid'], ['Charged Off', 'Fully Paid'], ['Charged Off'], ['Fully Paid'], ['Fully Paid'], ['Charged Off', 'Fully Paid'], ['Charged Off'], ['Charged Off'], ['Charged Off'], ['Charged Off', 'Fully Paid'], ['Charged Off'], ['Charged Off'], ['Charged Off', 'Fully Paid'], ['Charged Off'], ['Charged Off', 'Fully Paid'], ['Charged Off'], ['Charged Off'], ['Charged Off', 'Fully Paid'], ['Charged Off', 'Fully Paid'], ['Charged Off', 'Fully Paid'], ['Charged Off'], ['Charged Off'], ['Charged Off'], ['Charged Off'], ['Charged Off'], ['Charged Off'], ['Fully Paid'], ['Charged Off'], ['Charged Off'], ['Charged Off'], ['Charged Off'], ['Charged Off'], ['Charged Off', 'Fully Paid'], ['Charged Off'], ['Charged Off'], ['Charged Off'], ['Charged Off'], ['Charged Off', 'Fully Paid'], ['Charged Off'], ['Charged Off'], ['Charged Off'], ['Charged Off'], ['Charged Off'], ['Charged Off'], ['Charged Off'], ['Charged Off', 'Fully Paid'], ['Charged Off', 'Fully Paid'], ['Fully Paid'], ['Charged Off', 'Fully Paid'], ['Charged Off', 'Fully Paid'], ['Fully Paid'], ['Charged Off'], ['Charged Off'], ['Charged Off'], ['Charged Off', 'Fully Paid'], ['Charged Off'], ['Charged Off'], ['Charged Off'], ['Charged Off', 'Fully Paid'], ['Charged Off', 'Fully Paid'], ['Charged Off'], ['Charged Off', 'Fully Paid'], ['Charged Off'], ['Charged Off'], ['Charged Off'], ['Charged Off'], ['Charged Off'], ['Charged Off'], ['Charged Off'], ['Charged Off'], ['Charged Off'], ['Charged Off'], ['Charged Off'], ['Charged Off'], ['Charged Off'], ['Charged Off'], ['Charged Off'], ['Charged Off'], ['Fully Paid'], ['Charged Off'], ['Charged Off'], ['Charged Off', 'Fully Paid'], ['Charged Off'], ['Charged Off'], ['Charged Off', 'Fully Paid'], ['Charged Off'], ['Fully Paid'], ['Charged Off'], ['Charged Off'], ['Charged Off', 'Fully Paid'], ['Charged Off'], ['Charged Off'], ['Charged Off'], ['Charged Off', 'Fully Paid'], ['Charged Off'], ['Charged Off'], ['Fully Paid'], ['Charged Off'], ['Charged Off'], ['Charged Off'], ['Charged Off'], ['Charged Off'], ['Charged Off', 'Fully Paid'], ['Charged Off'], ['Charged Off'], ['Charged Off'], ['Charged Off'], ['Fully Paid'], ['Charged Off', 'Fully Paid'], ['Fully Paid'], ['Fully Paid'], ['Charged Off'], ['Charged Off'], ['Charged Off', 'Fully Paid'], ['Charged Off', 'Fully Paid'], ['Charged Off'], ['Charged Off'], ['Fully Paid'], ['Fully Paid'], ['Charged Off'], ['Fully Paid'], ['Charged Off', 'Fully Paid'], ['Charged Off'], ['Charged Off'], ['Charged Off', 'Fully Paid'], ['Charged Off'], ['Charged Off', 'Fully Paid'], ['Charged Off'], ['Charged Off'], ['Charged Off'], ['Charged Off', 'Fully Paid'], ['Charged Off', 'Fully Paid'], ['Charged Off'], ['Charged Off', 'Fully Paid'], ['Fully Paid'], ['Charged Off'], ['Fully Paid'], ['Charged Off'], ['Charged Off'], ['Charged Off'], ['Charged Off', 'Fully Paid'], ['Charged Off', 'Fully Paid'], ['Fully Paid'], ['Fully Paid'], ['Charged Off', 'Fully Paid'], ['Charged Off', 'Fully Paid'], ['Charged Off', 'Fully Paid'], ['Charged Off', 'Fully Paid'], ['Charged Off'], ['Charged Off'], ['Charged Off'], ['Charged Off', 'Fully Paid'], ['Charged Off', 'Fully Paid'], ['Charged Off'], ['Charged Off'], ['Fully Paid'], ['Charged Off'], ['Charged Off'], ['Charged Off'], ['Charged Off'], ['Charged Off', 'Fully Paid'], ['Charged Off'], ['Charged Off'], ['Charged Off'], ['Fully Paid'], ['Charged Off'], ['Charged Off'], ['Charged Off'], ['Charged Off'], ['Charged Off'], ['Charged Off'], ['Charged Off'], ['Charged Off'], ['Charged Off'], ['Fully Paid'], ['Charged Off'], ['Charged Off'], ['Charged Off'], ['Charged Off'], ['Fully Paid'], ['Charged Off'], ['Charged Off'], ['Charged Off'], ['Charged Off'], ['Charged Off'], ['Charged Off'], ['Charged Off'], ['Charged Off', 'Fully Paid'], ['Charged Off'], ['Charged Off'], ['Fully Paid'], ['Charged Off'], ['Charged Off'], ['Fully Paid'], ['Charged Off'], ['Charged Off', 'Fully Paid'], ['Charged Off'], ['Charged Off'], ['Charged Off'], ['Charged Off'], ['Charged Off'], ['Charged Off', 'Fully Paid'], ['Charged Off'], ['Charged Off', 'Fully Paid'], ['Charged Off', 'Fully Paid'], ['Charged Off', 'Fully Paid'], ['Charged Off'], ['Charged Off'], ['Charged Off'], ['Charged Off'], ['Charged Off'], ['Charged Off', 'Fully Paid'], ['Charged Off'], ['Charged Off'], ['Charged Off'], ['Charged Off'], ['Charged Off'], ['Charged Off', 'Fully Paid'], ['Charged Off'], ['Charged Off'], ['Charged Off'], ['Charged Off'], ['Charged Off'], ['Fully Paid'], ['Charged Off'], ['Charged Off'], ['Fully Paid'], ['Charged Off'], ['Charged Off'], ['Charged Off'], ['Charged Off'], ['Charged Off', 'Fully Paid'], ['Charged Off'], ['Charged Off'], ['Charged Off'], ['Charged Off'], ['Charged Off'], ['Charged Off'], ['Charged Off', 'Fully Paid'], ['Charged Off'], ['Charged Off', 'Fully Paid'], ['Charged Off'], ['Charged Off'], ['Charged Off'], ['Charged Off', 'Fully Paid'], ['Charged Off'], ['Charged Off'], ['Charged Off'], ['Charged Off'], ['Charged Off', 'Fully Paid'], ['Fully Paid'], ['Charged Off'], ['Charged Off'], ['Charged Off'], ['Charged Off'], ['Charged Off'], ['Fully Paid'], ['Charged Off'], ['Charged Off'], ['Charged Off'], ['Charged Off', 'Fully Paid'], ['Charged Off'], ['Charged Off'], ['Charged Off'], ['Charged Off'], ['Charged Off'], ['Charged Off'], ['Charged Off'], ['Charged Off'], ['Charged Off', 'Fully Paid'], ['Charged Off'], ['Charged Off'], ['Charged Off', 'Fully Paid'], ['Charged Off'], ['Fully Paid'], ['Charged Off', 'Fully Paid'], ['Fully Paid'], ['Fully Paid'], ['Fully Paid'], ['Charged Off'], ['Charged Off', 'Fully Paid'], ['Charged Off'], ['Charged Off', 'Fully Paid'], ['Charged Off'], ['Charged Off'], ['Charged Off'], ['Charged Off'], ['Charged Off'], ['Charged Off', 'Fully Paid'], ['Fully Paid'], ['Charged Off'], ['Charged Off'], ['Charged Off'], ['Charged Off'], ['Charged Off', 'Fully Paid'], ['Charged Off'], ['Fully Paid'], ['Charged Off'], ['Charged Off'], ['Charged Off'], ['Charged Off'], ['Charged Off'], ['Fully Paid'], ['Fully Paid'], ['Charged Off', 'Fully Paid'], ['Charged Off', 'Fully Paid'], ['Charged Off'], ['Charged Off'], ['Fully Paid'], ['Charged Off'], ['Charged Off'], ['Charged Off'], ['Charged Off', 'Fully Paid'], ['Charged Off', 'Fully Paid'], ['Charged Off', 'Fully Paid'], ['Charged Off'], ['Charged Off'], ['Charged Off'], ['Charged Off', 'Fully Paid'], ['Charged Off'], ['Charged Off'], ['Fully Paid'], ['Charged Off'], ['Charged Off'], ['Charged Off'], ['Charged Off'], ['Charged Off', 'Fully Paid'], ['Charged Off'], ['Charged Off'], ['Fully Paid'], ['Charged Off', 'Fully Paid'], ['Fully Paid'], ['Charged Off'], ['Charged Off'], ['Charged Off', 'Fully Paid'], ['Charged Off', 'Fully Paid'], ['Charged Off', 'Fully Paid'], ['Charged Off', 'Fully Paid'], ['Charged Off', 'Fully Paid'], ['Charged Off'], ['Charged Off'], ['Fully Paid'], ['Charged Off'], ['Fully Paid'], ['Charged Off', 'Fully Paid'], ['Charged Off'], ['Charged Off', 'Fully Paid'], ['Charged Off'], ['Charged Off'], ['Charged Off'], ['Charged Off'], ['Charged Off', 'Fully Paid'], ['Charged Off'], ['Charged Off', 'Fully Paid'], ['Charged Off'], ['Charged Off'], ['Charged Off'], ['Charged Off'], ['Charged Off'], ['Charged Off'], ['Fully Paid'], ['Charged Off', 'Fully Paid'], ['Charged Off'], ['Charged Off', 'Fully Paid'], ['Charged Off', 'Fully Paid'], ['Charged Off'], ['Fully Paid'], ['Charged Off'], ['Charged Off'], ['Fully Paid'], ['Charged Off'], ['Charged Off'], ['Charged Off'], ['Fully Paid'], ['Charged Off'], ['Charged Off', 'Fully Paid'], ['Charged Off', 'Fully Paid'], ['Charged Off'], ['Charged Off'], ['Charged Off'], ['Charged Off'], ['Charged Off'], ['Charged Off'], ['Charged Off'], ['Charged Off'], ['Charged Off'], ['Charged Off'], ['Charged Off', 'Fully Paid'], ['Charged Off'], ['Charged Off'], ['Charged Off', 'Fully Paid'], ['Charged Off', 'Fully Paid'], ['Charged Off'], ['Charged Off'], ['Charged Off'], ['Charged Off'], ['Charged Off'], ['Charged Off', 'Fully Paid'], ['Charged Off'], ['Charged Off', 'Fully Paid'], ['Charged Off', 'Fully Paid'], ['Charged Off', 'Fully Paid'], ['Charged Off'], ['Charged Off', 'Fully Paid'], ['Charged Off'], ['Charged Off'], ['Charged Off'], ['Charged Off'], ['Charged Off'], ['Charged Off'], ['Charged Off'], ['Fully Paid'], ['Charged Off'], ['Charged Off'], ['Charged Off'], ['Charged Off', 'Fully Paid'], ['Charged Off', 'Fully Paid'], ['Charged Off'], ['Charged Off'], ['Charged Off'], ['Charged Off'], ['Charged Off', 'Fully Paid'], ['Charged Off', 'Fully Paid'], ['Charged Off', 'Fully Paid'], ['Fully Paid'], ['Fully Paid'], ['Charged Off'], ['Charged Off', 'Fully Paid'], ['Charged Off'], ['Fully Paid'], ['Charged Off'], ['Charged Off'], ['Charged Off'], ['Charged Off', 'Fully Paid'], ['Fully Paid'], ['Charged Off', 'Fully Paid'], ['Charged Off'], ['Charged Off'], ['Charged Off', 'Fully Paid'], ['Fully Paid'], ['Charged Off'], ['Charged Off', 'Fully Paid'], ['Charged Off'], ['Charged Off', 'Fully Paid'], ['Charged Off'], ['Fully Paid'], ['Charged Off'], ['Charged Off'], ['Charged Off'], ['Charged Off'], ['Charged Off'], ['Charged Off'], ['Charged Off', 'Fully Paid'], ['Fully Paid'], ['Charged Off'], ['Charged Off'], ['Charged Off', 'Fully Paid'], ['Charged Off'], ['Charged Off'], ['Charged Off'], ['Charged Off'], ['Fully Paid'], ['Charged Off'], ['Charged Off'], ['Fully Paid'], ['Fully Paid'], ['Charged Off'], ['Charged Off'], ['Charged Off'], ['Charged Off'], ['Charged Off', 'Fully Paid'], ['Charged Off'], ['Charged Off', 'Fully Paid'], ['Charged Off', 'Fully Paid'], ['Charged Off'], ['Charged Off'], ['Charged Off'], ['Charged Off'], ['Charged Off'], ['Fully Paid'], ['Charged Off'], ['Fully Paid'], ['Fully Paid'], ['Charged Off', 'Fully Paid'], ['Charged Off'], ['Charged Off', 'Fully Paid'], ['Charged Off'], ['Charged Off'], ['Charged Off', 'Fully Paid'], ['Charged Off'], ['Charged Off', 'Fully Paid'], ['Charged Off'], ['Charged Off', 'Fully Paid'], ['Charged Off', 'Fully Paid'], ['Charged Off', 'Fully Paid'], ['Charged Off', 'Fully Paid'], ['Charged Off'], ['Charged Off', 'Fully Paid'], ['Fully Paid'], ['Charged Off'], ['Charged Off'], ['Charged Off'], ['Charged Off', 'Fully Paid'], ['Charged Off'], ['Charged Off'], ['Charged Off'], ['Charged Off'], ['Fully Paid'], ['Charged Off'], ['Charged Off'], ['Fully Paid'], ['Charged Off'], ['Charged Off'], ['Charged Off'], ['Charged Off', 'Fully Paid'], ['Fully Paid'], ['Charged Off', 'Fully Paid'], ['Charged Off'], ['Charged Off'], ['Charged Off'], ['Charged Off'], ['Charged Off', 'Fully Paid'], ['Charged Off'], ['Charged Off', 'Fully Paid'], ['Charged Off'], ['Charged Off'], ['Charged Off'], ['Charged Off', 'Fully Paid'], ['Charged Off'], ['Charged Off'], ['Charged Off', 'Fully Paid'], ['Charged Off'], ['Charged Off'], ['Fully Paid'], ['Charged Off'], ['Charged Off', 'Fully Paid'], ['Charged Off', 'Fully Paid'], ['Charged Off'], ['Charged Off'], ['Charged Off'], ['Charged Off', 'Fully Paid'], ['Fully Paid'], ['Charged Off'], ['Charged Off', 'Fully Paid'], ['Charged Off'], ['Fully Paid'], ['Charged Off', 'Fully Paid'], ['Charged Off', 'Fully Paid'], ['Fully Paid'], ['Fully Paid'], ['Charged Off', 'Fully Paid'], ['Charged Off', 'Fully Paid'], ['Charged Off', 'Fully Paid'], ['Charged Off'], ['Charged Off'], ['Charged Off'], ['Charged Off'], ['Charged Off'], ['Charged Off', 'Fully Paid'], ['Charged Off'], ['Charged Off'], ['Charged Off'], ['Charged Off'], ['Charged Off', 'Fully Paid'], ['Charged Off'], ['Charged Off'], ['Fully Paid'], ['Charged Off'], ['Charged Off'], ['Charged Off', 'Fully Paid'], ['Charged Off', 'Fully Paid'], ['Charged Off'], ['Charged Off'], ['Charged Off'], ['Charged Off', 'Fully Paid'], ['Charged Off'], ['Charged Off', 'Fully Paid'], ['Charged Off'], ['Charged Off'], ['Fully Paid'], ['Charged Off', 'Fully Paid'], ['Charged Off'], ['Charged Off'], ['Charged Off', 'Fully Paid'], ['Charged Off'], ['Charged Off'], ['Fully Paid'], ['Charged Off'], ['Charged Off', 'Fully Paid'], ['Charged Off', 'Fully Paid'], ['Charged Off'], ['Charged Off'], ['Charged Off'], ['Fully Paid'], ['Charged Off'], ['Charged Off'], ['Charged Off'], ['Charged Off'], ['Fully Paid'], ['Charged Off', 'Fully Paid'], ['Charged Off', 'Fully Paid'], ['Charged Off'], ['Charged Off'], ['Charged Off'], ['Fully Paid'], ['Charged Off'], ['Charged Off'], ['Charged Off', 'Fully Paid'], ['Charged Off', 'Fully Paid'], ['Charged Off'], ['Charged Off'], ['Charged Off'], ['Charged Off', 'Fully Paid'], ['Charged Off'], ['Charged Off', 'Fully Paid'], ['Charged Off', 'Fully Paid'], ['Fully Paid'], ['Charged Off', 'Fully Paid'], ['Fully Paid'], ['Charged Off'], ['Charged Off', 'Fully Paid'], ['Charged Off'], ['Charged Off', 'Fully Paid'], ['Charged Off'], ['Charged Off'], ['Charged Off'], ['Charged Off'], ['Fully Paid'], ['Charged Off', 'Fully Paid'], ['Charged Off'], ['Charged Off'], ['Charged Off'], ['Charged Off'], ['Charged Off'], ['Charged Off'], ['Charged Off'], ['Charged Off'], ['Fully Paid'], ['Charged Off'], ['Fully Paid'], ['Charged Off'], ['Charged Off'], ['Charged Off'], ['Charged Off'], ['Charged Off', 'Fully Paid'], ['Charged Off'], ['Fully Paid'], ['Charged Off'], ['Charged Off', 'Fully Paid'], ['Charged Off'], ['Charged Off'], ['Charged Off'], ['Fully Paid'], ['Charged Off'], ['Charged Off'], ['Charged Off', 'Fully Paid'], ['Fully Paid'], ['Charged Off'], ['Charged Off'], ['Charged Off'], ['Fully Paid'], ['Fully Paid'], ['Charged Off'], ['Charged Off'], ['Charged Off'], ['Charged Off'], ['Charged Off'], ['Charged Off'], ['Charged Off'], ['Fully Paid'], ['Charged Off'], ['Fully Paid'], ['Charged Off', 'Fully Paid'], ['Charged Off'], ['Charged Off'], ['Charged Off'], ['Charged Off'], ['Charged Off'], ['Charged Off'], ['Fully Paid'], ['Fully Paid'], ['Charged Off', 'Fully Paid'], ['Fully Paid'], ['Charged Off'], ['Charged Off'], ['Charged Off'], ['Charged Off', 'Fully Paid'], ['Charged Off'], ['Charged Off', 'Fully Paid'], ['Charged Off'], ['Charged Off'], ['Charged Off'], ['Charged Off'], ['Charged Off'], ['Fully Paid'], ['Charged Off'], ['Charged Off', 'Fully Paid'], ['Charged Off', 'Fully Paid'], ['Fully Paid'], ['Charged Off'], ['Fully Paid'], ['Charged Off', 'Fully Paid'], ['Charged Off'], ['Charged Off', 'Fully Paid'], ['Charged Off'], ['Charged Off'], ['Charged Off'], ['Charged Off'], ['Fully Paid'], ['Charged Off'], ['Charged Off'], ['Charged Off'], ['Charged Off', 'Fully Paid'], ['Charged Off', 'Fully Paid'], ['Fully Paid'], ['Charged Off'], ['Charged Off', 'Fully Paid'], ['Charged Off'], ['Charged Off', 'Fully Paid'], ['Charged Off'], ['Fully Paid'], ['Charged Off'], ['Charged Off'], ['Charged Off', 'Fully Paid'], ['Charged Off'], ['Charged Off'], ['Charged Off'], ['Charged Off'], ['Charged Off'], ['Charged Off'], ['Charged Off'], ['Charged Off'], ['Charged Off'], ['Charged Off'], ['Fully Paid'], ['Charged Off'], ['Charged Off'], ['Fully Paid'], ['Charged Off'], ['Charged Off', 'Fully Paid'], ['Charged Off', 'Fully Paid'], ['Charged Off'], ['Charged Off'], ['Charged Off'], ['Charged Off', 'Fully Paid'], ['Charged Off', 'Fully Paid'], ['Fully Paid'], ['Charged Off'], ['Charged Off'], ['Charged Off'], ['Charged Off'], ['Charged Off'], ['Charged Off', 'Fully Paid'], ['Charged Off'], ['Charged Off'], ['Charged Off', 'Fully Paid'], ['Charged Off'], ['Charged Off', 'Fully Paid'], ['Fully Paid'], ['Charged Off'], ['Fully Paid'], ['Charged Off', 'Fully Paid'], ['Charged Off'], ['Charged Off'], ['Charged Off'], ['Charged Off'], ['Charged Off'], ['Charged Off'], ['Charged Off'], ['Charged Off'], ['Charged Off'], ['Charged Off', 'Fully Paid'], ['Charged Off'], ['Charged Off'], ['Fully Paid'], ['Fully Paid'], ['Charged Off'], ['Charged Off'], ['Charged Off'], ['Charged Off'], ['Fully Paid'], ['Charged Off'], ['Charged Off', 'Fully Paid'], ['Charged Off'], ['Charged Off'], ['Charged Off'], ['Charged Off'], ['Charged Off'], ['Charged Off'], ['Charged Off'], ['Fully Paid'], ['Charged Off'], ['Charged Off'], ['Charged Off'], ['Charged Off'], ['Fully Paid'], ['Fully Paid'], ['Charged Off'], ['Fully Paid'], ['Fully Paid'], ['Charged Off'], ['Charged Off', 'Fully Paid'], ['Charged Off', 'Fully Paid'], ['Fully Paid'], ['Charged Off'], ['Charged Off'], ['Charged Off', 'Fully Paid'], ['Charged Off', 'Fully Paid'], ['Fully Paid'], ['Charged Off', 'Fully Paid'], ['Charged Off'], ['Charged Off', 'Fully Paid'], ['Charged Off'], ['Charged Off'], ['Charged Off', 'Fully Paid'], ['Charged Off'], ['Charged Off'], ['Charged Off'], ['Charged Off', 'Fully Paid'], ['Charged Off'], ['Charged Off'], ['Charged Off', 'Fully Paid'], ['Charged Off'], ['Fully Paid'], ['Charged Off'], ['Charged Off'], ['Charged Off', 'Fully Paid'], ['Fully Paid'], ['Charged Off'], ['Charged Off'], ['Charged Off', 'Fully Paid'], ['Charged Off'], ['Charged Off', 'Fully Paid'], ['Charged Off', 'Fully Paid'], ['Charged Off'], ['Fully Paid'], ['Charged Off', 'Fully Paid'], ['Charged Off', 'Fully Paid'], ['Charged Off'], ['Charged Off'], ['Charged Off'], ['Charged Off'], ['Charged Off'], ['Charged Off'], ['Charged Off'], ['Charged Off'], ['Charged Off'], ['Charged Off'], ['Charged Off'], ['Charged Off'], ['Charged Off', 'Fully Paid'], ['Charged Off'], ['Fully Paid'], ['Charged Off', 'Fully Paid'], ['Charged Off'], ['Charged Off', 'Fully Paid'], ['Charged Off'], ['Charged Off'], ['Charged Off', 'Fully Paid'], ['Charged Off'], ['Charged Off', 'Fully Paid'], ['Charged Off'], ['Charged Off'], ['Charged Off'], ['Fully Paid'], ['Charged Off', 'Fully Paid'], ['Charged Off', 'Fully Paid'], ['Charged Off', 'Fully Paid'], ['Charged Off'], ['Fully Paid'], ['Fully Paid'], ['Charged Off'], ['Charged Off'], ['Charged Off', 'Fully Paid'], ['Charged Off'], ['Charged Off'], ['Charged Off'], ['Fully Paid'], ['Charged Off'], ['Charged Off'], ['Charged Off', 'Fully Paid'], ['Charged Off'], ['Charged Off'], ['Fully Paid'], ['Charged Off'], ['Charged Off'], ['Charged Off'], ['Fully Paid'], ['Fully Paid'], ['Charged Off', 'Fully Paid'], ['Charged Off', 'Fully Paid'], ['Charged Off', 'Fully Paid'], ['Charged Off'], ['Charged Off'], ['Charged Off'], ['Charged Off', 'Fully Paid'], ['Charged Off'], ['Charged Off'], ['Charged Off'], ['Charged Off'], ['Charged Off'], ['Charged Off'], ['Charged Off'], ['Charged Off'], ['Charged Off', 'Fully Paid'], ['Charged Off'], ['Charged Off'], ['Charged Off'], ['Charged Off'], ['Charged Off'], ['Charged Off', 'Fully Paid'], ['Charged Off'], ['Charged Off'], ['Charged Off'], ['Charged Off', 'Fully Paid'], ['Charged Off'], ['Charged Off'], ['Charged Off', 'Fully Paid'], ['Fully Paid'], ['Charged Off'], ['Charged Off', 'Fully Paid'], ['Charged Off'], ['Charged Off'], ['Charged Off', 'Fully Paid'], ['Charged Off'], ['Charged Off'], ['Charged Off'], ['Charged Off'], ['Charged Off', 'Fully Paid'], ['Charged Off'], ['Charged Off'], ['Charged Off'], ['Charged Off', 'Fully Paid'], ['Charged Off', 'Fully Paid'], ['Charged Off', 'Fully Paid'], ['Fully Paid'], ['Charged Off'], ['Charged Off', 'Fully Paid'], ['Charged Off'], ['Charged Off'], ['Charged Off'], ['Charged Off', 'Fully Paid'], ['Fully Paid'], ['Charged Off'], ['Charged Off'], ['Charged Off'], ['Charged Off'], ['Charged Off'], ['Charged Off'], ['Charged Off', 'Fully Paid'], ['Charged Off'], ['Charged Off'], ['Charged Off'], ['Charged Off'], ['Charged Off', 'Fully Paid'], ['Charged Off'], ['Charged Off'], ['Charged Off'], ['Charged Off', 'Fully Paid'], ['Fully Paid'], ['Charged Off', 'Fully Paid'], ['Fully Paid'], ['Fully Paid'], ['Charged Off', 'Fully Paid'], ['Charged Off'], ['Charged Off'], ['Charged Off'], ['Charged Off'], ['Charged Off'], ['Charged Off'], ['Charged Off', 'Fully Paid'], ['Charged Off'], ['Charged Off', 'Fully Paid'], ['Charged Off', 'Fully Paid'], ['Charged Off', 'Fully Paid'], ['Fully Paid'], ['Charged Off'], ['Charged Off'], ['Charged Off'], ['Charged Off'], ['Charged Off'], ['Charged Off'], ['Charged Off'], ['Charged Off'], ['Fully Paid'], ['Charged Off'], ['Charged Off'], ['Charged Off'], ['Charged Off', 'Fully Paid'], ['Charged Off'], ['Charged Off'], ['Charged Off'], ['Charged Off'], ['Charged Off', 'Fully Paid'], ['Charged Off'], ['Charged Off'], ['Charged Off'], ['Charged Off', 'Fully Paid'], ['Charged Off'], ['Fully Paid'], ['Charged Off'], ['Charged Off', 'Fully Paid'], ['Fully Paid'], ['Fully Paid'], ['Charged Off'], ['Charged Off'], ['Charged Off', 'Fully Paid'], ['Charged Off'], ['Charged Off', 'Fully Paid'], ['Charged Off'], ['Charged Off', 'Fully Paid'], ['Charged Off', 'Fully Paid'], ['Charged Off'], ['Charged Off'], ['Charged Off'], ['Charged Off'], ['Charged Off', 'Fully Paid'], ['Charged Off'], ['Fully Paid'], ['Fully Paid'], ['Fully Paid'], ['Charged Off', 'Fully Paid'], ['Charged Off'], ['Fully Paid'], ['Charged Off'], ['Charged Off'], ['Charged Off', 'Fully Paid'], ['Charged Off'], ['Charged Off', 'Fully Paid'], ['Charged Off', 'Fully Paid'], ['Charged Off', 'Fully Paid'], ['Charged Off', 'Fully Paid'], ['Charged Off'], ['Charged Off'], ['Fully Paid'], ['Charged Off'], ['Charged Off'], ['Charged Off', 'Fully Paid'], ['Fully Paid'], ['Charged Off', 'Fully Paid'], ['Charged Off'], ['Charged Off'], ['Charged Off'], ['Charged Off', 'Fully Paid'], ['Charged Off', 'Fully Paid'], ['Charged Off'], ['Charged Off'], ['Charged Off'], ['Charged Off'], ['Charged Off'], ['Charged Off'], ['Fully Paid'], ['Charged Off'], ['Charged Off'], ['Charged Off'], ['Charged Off'], ['Charged Off'], ['Charged Off'], ['Charged Off', 'Fully Paid'], ['Charged Off'], ['Charged Off', 'Fully Paid'], ['Charged Off'], ['Fully Paid'], ['Charged Off'], ['Charged Off'], ['Charged Off'], ['Charged Off', 'Fully Paid'], ['Charged Off'], ['Charged Off'], ['Charged Off', 'Fully Paid'], ['Charged Off'], ['Charged Off'], ['Charged Off'], ['Charged Off'], ['Fully Paid'], ['Charged Off', 'Fully Paid'], ['Charged Off', 'Fully Paid'], ['Charged Off'], ['Charged Off'], ['Charged Off', 'Fully Paid'], ['Charged Off', 'Fully Paid'], ['Charged Off'], ['Charged Off'], ['Charged Off'], ['Fully Paid'], ['Charged Off', 'Fully Paid'], ['Charged Off'], ['Charged Off', 'Fully Paid'], ['Charged Off'], ['Charged Off'], ['Charged Off', 'Fully Paid'], ['Charged Off', 'Fully Paid'], ['Charged Off', 'Fully Paid'], ['Charged Off'], ['Charged Off'], ['Charged Off'], ['Charged Off', 'Fully Paid'], ['Fully Paid'], ['Charged Off'], ['Charged Off', 'Fully Paid'], ['Charged Off'], ['Charged Off', 'Fully Paid'], ['Charged Off', 'Fully Paid'], ['Charged Off'], ['Charged Off'], ['Charged Off'], ['Charged Off'], ['Charged Off', 'Fully Paid'], ['Charged Off'], ['Charged Off', 'Fully Paid'], ['Charged Off'], ['Charged Off'], ['Charged Off'], ['Charged Off'], ['Charged Off'], ['Charged Off', 'Fully Paid'], ['Charged Off'], ['Charged Off'], ['Charged Off', 'Fully Paid'], ['Charged Off', 'Fully Paid'], ['Charged Off', 'Fully Paid'], ['Charged Off'], ['Fully Paid'], ['Charged Off'], ['Charged Off', 'Fully Paid'], ['Charged Off'], ['Charged Off'], ['Charged Off', 'Fully Paid'], ['Charged Off'], ['Charged Off'], ['Charged Off'], ['Charged Off', 'Fully Paid'], ['Charged Off'], ['Charged Off'], ['Charged Off'], ['Charged Off'], ['Charged Off'], ['Charged Off'], ['Charged Off'], ['Charged Off'], ['Charged Off'], ['Charged Off'], ['Charged Off'], ['Charged Off'], ['Charged Off'], ['Charged Off'], ['Charged Off'], ['Charged Off'], ['Charged Off'], ['Charged Off'], ['Charged Off'], ['Charged Off'], ['Charged Off'], ['Charged Off'], ['Charged Off', 'Fully Paid'], ['Charged Off'], ['Fully Paid'], ['Charged Off'], ['Charged Off'], ['Charged Off'], ['Charged Off'], ['Charged Off'], ['Fully Paid'], ['Charged Off', 'Fully Paid'], ['Charged Off'], ['Charged Off', 'Fully Paid'], ['Charged Off'], ['Charged Off'], ['Charged Off'], ['Charged Off'], ['Fully Paid'], ['Charged Off'], ['Charged Off', 'Fully Paid'], ['Charged Off'], ['Charged Off'], ['Charged Off'], ['Charged Off', 'Fully Paid'], ['Charged Off'], ['Charged Off'], ['Charged Off'], ['Fully Paid'], ['Charged Off'], ['Charged Off'], ['Charged Off'], ['Charged Off', 'Fully Paid'], ['Charged Off'], ['Charged Off', 'Fully Paid'], ['Charged Off'], ['Charged Off', 'Fully Paid'], ['Charged Off', 'Fully Paid'], ['Charged Off', 'Fully Paid'], ['Charged Off', 'Fully Paid'], ['Fully Paid'], ['Charged Off', 'Fully Paid'], ['Charged Off'], ['Charged Off'], ['Charged Off', 'Fully Paid'], ['Charged Off'], ['Fully Paid'], ['Charged Off', 'Fully Paid'], ['Charged Off', 'Fully Paid'], ['Charged Off'], ['Charged Off'], ['Charged Off'], ['Charged Off'], ['Charged Off'], ['Charged Off'], ['Charged Off', 'Fully Paid'], ['Charged Off'], ['Charged Off'], ['Charged Off'], ['Charged Off'], ['Charged Off'], ['Charged Off'], ['Charged Off'], ['Charged Off'], ['Fully Paid'], ['Charged Off'], ['Charged Off'], ['Charged Off'], ['Charged Off'], ['Charged Off'], ['Charged Off'], ['Fully Paid'], ['Charged Off'], ['Charged Off'], ['Charged Off'], ['Charged Off'], ['Charged Off', 'Fully Paid'], ['Charged Off'], ['Charged Off', 'Fully Paid'], ['Charged Off'], ['Charged Off', 'Fully Paid'], ['Charged Off'], ['Charged Off'], ['Charged Off'], ['Charged Off'], ['Fully Paid'], ['Charged Off'], ['Charged Off'], ['Charged Off'], ['Charged Off'], ['Charged Off'], ['Charged Off', 'Fully Paid'], ['Charged Off', 'Fully Paid'], ['Charged Off'], ['Charged Off', 'Fully Paid'], ['Charged Off'], ['Charged Off', 'Fully Paid'], ['Fully Paid'], ['Charged Off'], ['Charged Off'], ['Charged Off', 'Fully Paid'], ['Charged Off', 'Fully Paid'], ['Charged Off'], ['Charged Off'], ['Charged Off'], ['Charged Off'], ['Charged Off', 'Fully Paid'], ['Charged Off'], ['Charged Off'], ['Fully Paid'], ['Charged Off', 'Fully Paid'], ['Charged Off'], ['Fully Paid'], ['Charged Off'], ['Charged Off', 'Fully Paid'], ['Fully Paid'], ['Charged Off', 'Fully Paid'], ['Charged Off'], ['Charged Off'], ['Charged Off', 'Fully Paid'], ['Fully Paid'], ['Charged Off'], ['Fully Paid'], ['Fully Paid'], ['Charged Off'], ['Charged Off'], ['Charged Off'], ['Charged Off', 'Fully Paid'], ['Charged Off', 'Fully Paid'], ['Charged Off'], ['Charged Off'], ['Charged Off'], ['Charged Off'], ['Charged Off'], ['Charged Off'], ['Fully Paid'], ['Charged Off', 'Fully Paid'], ['Charged Off'], ['Charged Off'], ['Charged Off'], ['Charged Off', 'Fully Paid'], ['Charged Off', 'Fully Paid'], ['Charged Off', 'Fully Paid'], ['Charged Off', 'Fully Paid'], ['Charged Off'], ['Charged Off'], ['Charged Off'], ['Charged Off'], ['Charged Off'], ['Charged Off'], ['Charged Off'], ['Fully Paid'], ['Fully Paid'], ['Charged Off'], ['Fully Paid'], ['Charged Off', 'Fully Paid'], ['Charged Off'], ['Charged Off'], ['Charged Off'], ['Charged Off'], ['Charged Off', 'Fully Paid'], ['Charged Off'], ['Charged Off', 'Fully Paid'], ['Fully Paid'], ['Charged Off', 'Fully Paid'], ['Charged Off'], ['Charged Off'], ['Fully Paid'], ['Charged Off', 'Fully Paid'], ['Fully Paid'], ['Charged Off'], ['Charged Off'], ['Charged Off'], ['Charged Off'], ['Charged Off'], ['Charged Off'], ['Fully Paid'], ['Charged Off', 'Fully Paid'], ['Charged Off', 'Fully Paid'], ['Charged Off'], ['Fully Paid'], ['Charged Off'], ['Charged Off'], ['Charged Off'], ['Charged Off'], ['Charged Off'], ['Charged Off'], ['Charged Off'], ['Charged Off'], ['Charged Off'], ['Charged Off'], ['Fully Paid'], ['Charged Off'], ['Charged Off', 'Fully Paid'], ['Charged Off'], ['Charged Off'], ['Charged Off'], ['Charged Off'], ['Charged Off'], ['Charged Off', 'Fully Paid'], ['Charged Off'], ['Charged Off', 'Fully Paid'], ['Charged Off'], ['Charged Off', 'Fully Paid'], ['Charged Off'], ['Charged Off'], ['Charged Off'], ['Charged Off'], ['Charged Off', 'Fully Paid'], ['Charged Off'], ['Charged Off', 'Fully Paid'], ['Charged Off'], ['Charged Off'], ['Charged Off', 'Fully Paid'], ['Charged Off', 'Fully Paid'], ['Fully Paid'], ['Fully Paid'], ['Charged Off'], ['Charged Off'], ['Charged Off'], ['Charged Off'], ['Charged Off'], ['Charged Off'], ['Fully Paid'], ['Charged Off', 'Fully Paid'], ['Charged Off'], ['Charged Off'], ['Charged Off'], ['Charged Off', 'Fully Paid'], ['Charged Off'], ['Charged Off'], ['Charged Off', 'Fully Paid'], ['Charged Off', 'Fully Paid'], ['Charged Off'], ['Charged Off'], ['Charged Off', 'Fully Paid'], ['Charged Off'], ['Charged Off'], ['Fully Paid'], ['Charged Off', 'Fully Paid'], ['Charged Off'], ['Charged Off', 'Fully Paid'], ['Charged Off', 'Fully Paid'], ['Charged Off', 'Fully Paid'], ['Charged Off'], ['Charged Off'], ['Charged Off'], ['Charged Off', 'Fully Paid'], ['Charged Off'], ['Charged Off'], ['Charged Off', 'Fully Paid'], ['Charged Off'], ['Charged Off', 'Fully Paid'], ['Charged Off', 'Fully Paid'], ['Charged Off'], ['Charged Off', 'Fully Paid'], ['Charged Off', 'Fully Paid'], ['Charged Off', 'Fully Paid'], ['Charged Off'], ['Charged Off'], ['Charged Off'], ['Charged Off', 'Fully Paid'], ['Charged Off'], ['Charged Off', 'Fully Paid'], ['Charged Off'], ['Charged Off'], ['Charged Off', 'Fully Paid'], ['Charged Off', 'Fully Paid'], ['Charged Off'], ['Charged Off'], ['Charged Off'], ['Charged Off'], ['Charged Off'], ['Charged Off', 'Fully Paid'], ['Charged Off'], ['Charged Off'], ['Charged Off'], ['Charged Off'], ['Charged Off', 'Fully Paid'], ['Charged Off'], ['Fully Paid'], ['Charged Off'], ['Charged Off'], ['Charged Off'], ['Charged Off'], ['Charged Off'], ['Charged Off'], ['Charged Off', 'Fully Paid'], ['Fully Paid'], ['Charged Off'], ['Charged Off'], ['Charged Off'], ['Charged Off'], ['Charged Off'], ['Charged Off'], ['Fully Paid'], ['Charged Off', 'Fully Paid'], ['Charged Off'], ['Fully Paid'], ['Charged Off', 'Fully Paid'], ['Charged Off', 'Fully Paid'], ['Charged Off'], ['Charged Off'], ['Charged Off'], ['Charged Off', 'Fully Paid'], ['Charged Off', 'Fully Paid'], ['Charged Off'], ['Charged Off'], ['Charged Off'], ['Charged Off'], ['Charged Off', 'Fully Paid'], ['Charged Off', 'Fully Paid'], ['Charged Off'], ['Charged Off'], ['Fully Paid'], ['Charged Off', 'Fully Paid'], ['Charged Off'], ['Charged Off'], ['Charged Off', 'Fully Paid'], ['Charged Off'], ['Charged Off', 'Fully Paid'], ['Charged Off'], ['Charged Off'], ['Charged Off'], ['Charged Off'], ['Charged Off'], ['Charged Off', 'Fully Paid'], ['Charged Off', 'Fully Paid'], ['Charged Off', 'Fully Paid'], ['Charged Off'], ['Charged Off', 'Fully Paid'], ['Charged Off'], ['Charged Off'], ['Charged Off', 'Fully Paid'], ['Fully Paid'], ['Charged Off'], ['Charged Off', 'Fully Paid'], ['Charged Off'], ['Fully Paid'], ['Charged Off'], ['Charged Off', 'Fully Paid'], ['Charged Off', 'Fully Paid'], ['Charged Off'], ['Charged Off'], ['Charged Off', 'Fully Paid'], ['Charged Off'], ['Charged Off'], ['Charged Off', 'Fully Paid'], ['Charged Off', 'Fully Paid'], ['Charged Off'], ['Charged Off'], ['Charged Off', 'Fully Paid'], ['Charged Off', 'Fully Paid'], ['Charged Off', 'Fully Paid'], ['Charged Off', 'Fully Paid'], ['Charged Off', 'Fully Paid'], ['Charged Off'], ['Charged Off'], ['Charged Off'], ['Charged Off'], ['Charged Off'], ['Charged Off', 'Fully Paid'], ['Charged Off'], ['Charged Off'], ['Charged Off', 'Fully Paid'], ['Charged Off'], ['Charged Off'], ['Charged Off'], ['Charged Off'], ['Charged Off'], ['Charged Off'], ['Charged Off', 'Fully Paid'], ['Charged Off', 'Fully Paid'], ['Charged Off', 'Fully Paid'], ['Charged Off'], ['Charged Off', 'Fully Paid'], ['Charged Off', 'Fully Paid'], ['Charged Off'], ['Charged Off'], ['Charged Off'], ['Charged Off'], ['Charged Off', 'Fully Paid'], ['Fully Paid'], ['Fully Paid'], ['Charged Off'], ['Charged Off'], ['Charged Off'], ['Charged Off'], ['Charged Off', 'Fully Paid'], ['Charged Off'], ['Charged Off'], ['Charged Off', 'Fully Paid'], ['Charged Off', 'Fully Paid'], ['Charged Off', 'Fully Paid'], ['Charged Off', 'Fully Paid'], ['Charged Off', 'Fully Paid'], ['Charged Off'], ['Charged Off'], ['Charged Off'], ['Charged Off'], ['Charged Off', 'Fully Paid'], ['Charged Off'], ['Fully Paid'], ['Charged Off', 'Fully Paid'], ['Fully Paid'], ['Charged Off', 'Fully Paid'], ['Charged Off'], ['Charged Off', 'Fully Paid'], ['Fully Paid'], ['Fully Paid'], ['Charged Off', 'Fully Paid'], ['Charged Off', 'Fully Paid'], ['Charged Off'], ['Charged Off', 'Fully Paid'], ['Charged Off'], ['Charged Off'], ['Fully Paid'], ['Charged Off'], ['Charged Off'], ['Charged Off'], ['Charged Off', 'Fully Paid'], ['Charged Off'], ['Charged Off'], ['Charged Off'], ['Fully Paid'], ['Charged Off'], ['Charged Off'], ['Charged Off'], ['Charged Off'], ['Charged Off'], ['Charged Off', 'Fully Paid'], ['Fully Paid'], ['Charged Off'], ['Charged Off'], ['Charged Off'], ['Charged Off', 'Fully Paid'], ['Charged Off'], ['Charged Off'], ['Charged Off'], ['Charged Off'], ['Charged Off'], ['Fully Paid'], ['Fully Paid'], ['Charged Off'], ['Fully Paid'], ['Charged Off'], ['Charged Off', 'Fully Paid'], ['Charged Off', 'Fully Paid'], ['Charged Off'], ['Fully Paid'], ['Charged Off'], ['Charged Off'], ['Charged Off'], ['Charged Off'], ['Charged Off'], ['Charged Off'], ['Charged Off'], ['Charged Off'], ['Charged Off'], ['Charged Off', 'Fully Paid'], ['Charged Off'], ['Fully Paid'], ['Charged Off'], ['Charged Off', 'Fully Paid'], ['Fully Paid'], ['Charged Off', 'Fully Paid'], ['Charged Off'], ['Charged Off'], ['Fully Paid'], ['Charged Off'], ['Charged Off'], ['Charged Off'], ['Charged Off'], ['Fully Paid'], ['Charged Off'], ['Charged Off'], ['Charged Off', 'Fully Paid'], ['Charged Off'], ['Charged Off', 'Fully Paid'], ['Charged Off'], ['Charged Off'], ['Charged Off'], ['Charged Off'], ['Charged Off'], ['Charged Off'], ['Fully Paid'], ['Fully Paid'], ['Charged Off'], ['Charged Off'], ['Charged Off'], ['Charged Off'], ['Charged Off', 'Fully Paid'], ['Fully Paid'], ['Charged Off'], ['Charged Off'], ['Charged Off'], ['Charged Off', 'Fully Paid'], ['Charged Off'], ['Charged Off', 'Fully Paid'], ['Charged Off'], ['Charged Off'], ['Charged Off'], ['Charged Off'], ['Charged Off'], ['Fully Paid'], ['Charged Off'], ['Fully Paid'], ['Charged Off'], ['Charged Off'], ['Charged Off', 'Fully Paid'], ['Charged Off'], ['Charged Off'], ['Fully Paid'], ['Charged Off'], ['Charged Off'], ['Charged Off'], ['Charged Off'], ['Charged Off'], ['Charged Off', 'Fully Paid'], ['Fully Paid'], ['Fully Paid'], ['Charged Off', 'Fully Paid'], ['Fully Paid'], ['Charged Off'], ['Charged Off'], ['Charged Off'], ['Charged Off'], ['Charged Off'], ['Charged Off'], ['Charged Off', 'Fully Paid'], ['Charged Off'], ['Charged Off', 'Fully Paid'], ['Charged Off'], ['Charged Off'], ['Charged Off'], ['Charged Off', 'Fully Paid'], ['Charged Off'], ['Charged Off'], ['Charged Off', 'Fully Paid'], ['Charged Off', 'Fully Paid'], ['Charged Off'], ['Charged Off'], ['Charged Off'], ['Charged Off'], ['Charged Off'], ['Charged Off'], ['Charged Off'], ['Charged Off', 'Fully Paid'], ['Charged Off', 'Fully Paid'], ['Charged Off'], ['Fully Paid'], ['Charged Off'], ['Fully Paid'], ['Charged Off'], ['Charged Off'], ['Charged Off'], ['Charged Off', 'Fully Paid'], ['Fully Paid'], ['Charged Off'], ['Charged Off'], ['Charged Off'], ['Charged Off'], ['Fully Paid'], ['Charged Off'], ['Charged Off'], ['Charged Off'], ['Charged Off'], ['Charged Off'], ['Charged Off', 'Fully Paid'], ['Fully Paid'], ['Charged Off'], ['Charged Off', 'Fully Paid'], ['Charged Off'], ['Fully Paid'], ['Charged Off'], ['Charged Off'], ['Fully Paid'], ['Charged Off'], ['Charged Off', 'Fully Paid'], ['Charged Off'], ['Charged Off'], ['Charged Off', 'Fully Paid'], ['Charged Off', 'Fully Paid'], ['Charged Off'], ['Charged Off', 'Fully Paid'], ['Charged Off'], ['Charged Off'], ['Charged Off'], ['Charged Off'], ['Charged Off', 'Fully Paid'], ['Charged Off'], ['Charged Off', 'Fully Paid'], ['Charged Off', 'Fully Paid'], ['Charged Off', 'Fully Paid'], ['Charged Off'], ['Fully Paid'], ['Charged Off'], ['Charged Off'], ['Charged Off'], ['Charged Off'], ['Fully Paid'], ['Fully Paid'], ['Charged Off'], ['Charged Off', 'Fully Paid'], ['Charged Off'], ['Charged Off'], ['Charged Off'], ['Charged Off', 'Fully Paid'], ['Charged Off'], ['Charged Off'], ['Charged Off'], ['Charged Off', 'Fully Paid'], ['Fully Paid'], ['Charged Off'], ['Charged Off'], ['Charged Off', 'Fully Paid'], ['Charged Off'], ['Charged Off', 'Fully Paid'], ['Charged Off', 'Fully Paid'], ['Charged Off'], ['Charged Off'], ['Fully Paid'], ['Fully Paid'], ['Charged Off'], ['Charged Off', 'Fully Paid'], ['Charged Off'], ['Fully Paid'], ['Charged Off'], ['Charged Off', 'Fully Paid'], ['Charged Off'], ['Charged Off', 'Fully Paid'], ['Charged Off'], ['Fully Paid'], ['Charged Off', 'Fully Paid'], ['Fully Paid'], ['Charged Off', 'Fully Paid'], ['Charged Off'], ['Charged Off'], ['Charged Off'], ['Fully Paid'], ['Charged Off'], ['Charged Off', 'Fully Paid'], ['Charged Off'], ['Charged Off'], ['Charged Off'], ['Charged Off'], ['Charged Off'], ['Charged Off'], ['Charged Off'], ['Charged Off', 'Fully Paid'], ['Fully Paid'], ['Charged Off'], ['Charged Off', 'Fully Paid'], ['Charged Off', 'Fully Paid'], ['Charged Off'], ['Charged Off'], ['Charged Off'], ['Fully Paid'], ['Charged Off'], ['Fully Paid'], ['Charged Off', 'Fully Paid'], ['Fully Paid'], ['Charged Off', 'Fully Paid'], ['Charged Off'], ['Charged Off'], ['Charged Off'], ['Charged Off'], ['Charged Off'], ['Charged Off', 'Fully Paid'], ['Charged Off'], ['Charged Off'], ['Charged Off', 'Fully Paid'], ['Charged Off'], ['Charged Off'], ['Charged Off', 'Fully Paid'], ['Charged Off'], ['Charged Off'], ['Charged Off', 'Fully Paid'], ['Charged Off'], ['Charged Off'], ['Charged Off'], ['Charged Off'], ['Charged Off', 'Fully Paid'], ['Charged Off', 'Fully Paid'], ['Charged Off'], ['Charged Off', 'Fully Paid'], ['Charged Off', 'Fully Paid'], ['Charged Off', 'Fully Paid'], ['Charged Off'], ['Charged Off'], ['Charged Off', 'Fully Paid'], ['Charged Off'], ['Charged Off'], ['Charged Off'], ['Charged Off'], ['Charged Off'], ['Charged Off', 'Fully Paid'], ['Charged Off'], ['Fully Paid'], ['Fully Paid'], ['Charged Off'], ['Charged Off'], ['Charged Off'], ['Charged Off', 'Fully Paid'], ['Charged Off'], ['Charged Off'], ['Charged Off'], ['Charged Off'], ['Charged Off'], ['Charged Off', 'Fully Paid'], ['Charged Off'], ['Charged Off'], ['Fully Paid'], ['Charged Off'], ['Charged Off', 'Fully Paid'], ['Charged Off', 'Fully Paid'], ['Charged Off', 'Fully Paid'], ['Charged Off', 'Fully Paid'], ['Charged Off'], ['Charged Off'], ['Charged Off', 'Fully Paid'], ['Charged Off'], ['Charged Off', 'Fully Paid'], ['Charged Off', 'Fully Paid'], ['Charged Off'], ['Charged Off'], ['Fully Paid'], ['Charged Off'], ['Charged Off', 'Fully Paid'], ['Charged Off', 'Fully Paid'], ['Charged Off'], ['Charged Off'], ['Charged Off'], ['Fully Paid'], ['Charged Off'], ['Charged Off'], ['Charged Off'], ['Charged Off'], ['Charged Off', 'Fully Paid'], ['Charged Off'], ['Fully Paid'], ['Charged Off'], ['Charged Off'], ['Charged Off'], ['Charged Off', 'Fully Paid'], ['Fully Paid'], ['Charged Off'], ['Charged Off'], ['Charged Off', 'Fully Paid'], ['Fully Paid'], ['Charged Off'], ['Charged Off'], ['Charged Off'], ['Charged Off'], ['Charged Off', 'Fully Paid'], ['Charged Off'], ['Charged Off'], ['Charged Off'], ['Charged Off'], ['Charged Off', 'Fully Paid'], ['Charged Off', 'Fully Paid'], ['Charged Off', 'Fully Paid'], ['Fully Paid'], ['Charged Off'], ['Charged Off', 'Fully Paid'], ['Charged Off'], ['Charged Off', 'Fully Paid'], ['Charged Off'], ['Charged Off'], ['Charged Off'], ['Charged Off'], ['Fully Paid'], ['Charged Off'], ['Charged Off'], ['Charged Off'], ['Charged Off'], ['Charged Off'], ['Charged Off'], ['Charged Off'], ['Charged Off', 'Fully Paid'], ['Charged Off'], ['Charged Off'], ['Fully Paid'], ['Charged Off'], ['Charged Off'], ['Charged Off'], ['Fully Paid'], ['Charged Off', 'Fully Paid'], ['Charged Off'], ['Charged Off'], ['Charged Off'], ['Charged Off'], ['Charged Off', 'Fully Paid'], ['Charged Off'], ['Charged Off'], ['Charged Off'], ['Charged Off', 'Fully Paid'], ['Fully Paid'], ['Charged Off'], ['Charged Off', 'Fully Paid'], ['Charged Off'], ['Charged Off', 'Fully Paid'], ['Charged Off'], ['Charged Off'], ['Charged Off'], ['Charged Off'], ['Charged Off', 'Fully Paid'], ['Charged Off'], ['Charged Off'], ['Charged Off'], ['Charged Off'], ['Charged Off', 'Fully Paid'], ['Charged Off', 'Fully Paid'], ['Charged Off'], ['Charged Off'], ['Charged Off'], ['Charged Off', 'Fully Paid'], ['Charged Off'], ['Fully Paid'], ['Charged Off', 'Fully Paid'], ['Charged Off'], ['Charged Off'], ['Charged Off', 'Fully Paid'], ['Fully Paid'], ['Charged Off'], ['Charged Off', 'Fully Paid'], ['Charged Off'], ['Charged Off'], ['Charged Off'], ['Charged Off', 'Fully Paid'], ['Charged Off'], ['Charged Off', 'Fully Paid'], ['Charged Off'], ['Charged Off'], ['Fully Paid'], ['Charged Off'], ['Charged Off'], ['Charged Off'], ['Charged Off'], ['Charged Off'], ['Charged Off'], ['Charged Off'], ['Charged Off'], ['Charged Off'], ['Charged Off'], ['Fully Paid'], ['Charged Off', 'Fully Paid'], ['Charged Off', 'Fully Paid'], ['Charged Off'], ['Charged Off'], ['Charged Off'], ['Charged Off', 'Fully Paid'], ['Charged Off'], ['Charged Off'], ['Charged Off'], ['Charged Off'], ['Charged Off'], ['Charged Off'], ['Charged Off', 'Fully Paid'], ['Charged Off'], ['Fully Paid'], ['Charged Off', 'Fully Paid'], ['Charged Off'], ['Charged Off'], ['Charged Off', 'Fully Paid'], ['Charged Off'], ['Charged Off', 'Fully Paid'], ['Fully Paid'], ['Charged Off', 'Fully Paid'], ['Charged Off'], ['Charged Off'], ['Fully Paid'], ['Charged Off'], ['Fully Paid'], ['Charged Off', 'Fully Paid'], ['Charged Off', 'Fully Paid'], ['Fully Paid'], ['Charged Off', 'Fully Paid'], ['Fully Paid'], ['Fully Paid'], ['Charged Off'], ['Charged Off'], ['Charged Off'], ['Fully Paid'], ['Charged Off'], ['Charged Off'], ['Charged Off'], ['Fully Paid'], ['Charged Off'], ['Charged Off', 'Fully Paid'], ['Charged Off'], ['Charged Off'], ['Charged Off', 'Fully Paid'], ['Charged Off'], ['Charged Off'], ['Charged Off'], ['Charged Off', 'Fully Paid'], ['Fully Paid'], ['Charged Off', 'Fully Paid'], ['Charged Off'], ['Charged Off'], ['Fully Paid'], ['Fully Paid'], ['Charged Off', 'Fully Paid'], ['Charged Off'], ['Charged Off'], ['Charged Off'], ['Charged Off'], ['Charged Off'], ['Charged Off'], ['Charged Off'], ['Charged Off', 'Fully Paid'], ['Charged Off'], ['Fully Paid'], ['Charged Off'], ['Charged Off'], ['Charged Off'], ['Charged Off'], ['Fully Paid'], ['Charged Off'], ['Charged Off'], ['Charged Off', 'Fully Paid'], ['Charged Off', 'Fully Paid'], ['Charged Off', 'Fully Paid'], ['Charged Off'], ['Charged Off'], ['Charged Off', 'Fully Paid'], ['Charged Off'], ['Charged Off'], ['Fully Paid'], ['Charged Off'], ['Charged Off'], ['Charged Off'], ['Charged Off'], ['Charged Off', 'Fully Paid'], ['Charged Off', 'Fully Paid'], ['Fully Paid'], ['Fully Paid'], ['Charged Off'], ['Charged Off'], ['Charged Off'], ['Fully Paid'], ['Charged Off', 'Fully Paid'], ['Charged Off', 'Fully Paid'], ['Charged Off'], ['Charged Off'], ['Charged Off'], ['Charged Off'], ['Fully Paid'], ['Charged Off'], ['Charged Off'], ['Charged Off'], ['Charged Off'], ['Charged Off'], ['Charged Off', 'Fully Paid'], ['Charged Off', 'Fully Paid'], ['Charged Off'], ['Charged Off'], ['Charged Off'], ['Charged Off', 'Fully Paid'], ['Charged Off'], ['Fully Paid'], ['Charged Off'], ['Charged Off'], ['Charged Off'], ['Charged Off', 'Fully Paid'], ['Fully Paid'], ['Charged Off'], ['Charged Off'], ['Charged Off'], ['Charged Off'], ['Charged Off'], ['Charged Off', 'Fully Paid'], ['Charged Off'], ['Charged Off'], ['Fully Paid'], ['Charged Off', 'Fully Paid'], ['Charged Off'], ['Charged Off'], ['Charged Off', 'Fully Paid'], ['Charged Off'], ['Charged Off', 'Fully Paid'], ['Charged Off', 'Fully Paid'], ['Charged Off', 'Fully Paid'], ['Charged Off'], ['Charged Off'], ['Charged Off'], ['Charged Off'], ['Charged Off'], ['Charged Off'], ['Fully Paid'], ['Charged Off', 'Fully Paid'], ['Charged Off'], ['Charged Off', 'Fully Paid'], ['Charged Off', 'Fully Paid'], ['Charged Off'], ['Charged Off', 'Fully Paid'], ['Charged Off'], ['Charged Off'], ['Charged Off'], ['Charged Off'], ['Charged Off', 'Fully Paid'], ['Charged Off'], ['Charged Off'], ['Fully Paid'], ['Charged Off', 'Fully Paid'], ['Charged Off'], ['Charged Off', 'Fully Paid'], ['Charged Off'], ['Charged Off'], ['Charged Off', 'Fully Paid'], ['Charged Off'], ['Charged Off', 'Fully Paid'], ['Charged Off'], ['Charged Off', 'Fully Paid'], ['Charged Off'], ['Fully Paid'], ['Fully Paid'], ['Charged Off', 'Fully Paid'], ['Charged Off'], ['Charged Off', 'Fully Paid'], ['Charged Off'], ['Charged Off'], ['Charged Off'], ['Charged Off'], ['Charged Off'], ['Fully Paid'], ['Charged Off'], ['Charged Off'], ['Charged Off'], ['Charged Off'], ['Charged Off'], ['Charged Off'], ['Charged Off', 'Fully Paid'], ['Charged Off'], ['Charged Off'], ['Charged Off', 'Fully Paid'], ['Charged Off', 'Fully Paid'], ['Charged Off'], ['Charged Off'], ['Charged Off'], ['Charged Off'], ['Charged Off'], ['Charged Off'], ['Charged Off'], ['Charged Off', 'Fully Paid'], ['Charged Off', 'Fully Paid'], ['Charged Off', 'Fully Paid'], ['Charged Off', 'Fully Paid'], ['Charged Off'], ['Fully Paid'], ['Charged Off', 'Fully Paid'], ['Charged Off', 'Fully Paid'], ['Charged Off'], ['Fully Paid'], ['Charged Off'], ['Charged Off', 'Fully Paid'], ['Charged Off'], ['Charged Off'], ['Charged Off'], ['Charged Off'], ['Fully Paid'], ['Charged Off'], ['Charged Off', 'Fully Paid'], ['Charged Off'], ['Charged Off'], ['Fully Paid'], ['Fully Paid'], ['Charged Off', 'Fully Paid'], ['Charged Off', 'Fully Paid'], ['Charged Off'], ['Charged Off'], ['Charged Off'], ['Charged Off', 'Fully Paid'], ['Charged Off'], ['Charged Off'], ['Fully Paid'], ['Fully Paid'], ['Charged Off'], ['Fully Paid'], ['Charged Off'], ['Charged Off'], ['Charged Off', 'Fully Paid'], ['Fully Paid'], ['Charged Off'], ['Charged Off'], ['Charged Off'], ['Charged Off'], ['Fully Paid'], ['Charged Off', 'Fully Paid'], ['Charged Off'], ['Charged Off'], ['Charged Off', 'Fully Paid'], ['Charged Off'], ['Charged Off'], ['Charged Off'], ['Charged Off', 'Fully Paid'], ['Charged Off'], ['Charged Off'], ['Fully Paid'], ['Charged Off', 'Fully Paid'], ['Charged Off'], ['Charged Off'], ['Charged Off'], ['Charged Off'], ['Charged Off'], ['Fully Paid'], ['Charged Off'], ['Charged Off', 'Fully Paid'], ['Charged Off', 'Fully Paid'], ['Charged Off'], ['Charged Off'], ['Charged Off', 'Fully Paid'], ['Fully Paid'], ['Charged Off', 'Fully Paid'], ['Charged Off'], ['Charged Off'], ['Charged Off'], ['Charged Off'], ['Charged Off'], ['Charged Off', 'Fully Paid'], ['Charged Off', 'Fully Paid'], ['Charged Off'], ['Charged Off', 'Fully Paid'], ['Charged Off'], ['Charged Off', 'Fully Paid'], ['Charged Off'], ['Charged Off'], ['Charged Off'], ['Charged Off', 'Fully Paid'], ['Charged Off'], ['Charged Off'], ['Charged Off', 'Fully Paid'], ['Fully Paid'], ['Charged Off', 'Fully Paid'], ['Charged Off'], ['Charged Off'], ['Charged Off'], ['Charged Off'], ['Charged Off', 'Fully Paid'], ['Charged Off'], ['Charged Off'], ['Charged Off'], ['Charged Off', 'Fully Paid'], ['Charged Off'], ['Charged Off', 'Fully Paid'], ['Charged Off'], ['Charged Off'], ['Charged Off', 'Fully Paid'], ['Charged Off'], ['Fully Paid'], ['Charged Off'], ['Charged Off'], ['Charged Off'], ['Charged Off'], ['Charged Off'], ['Charged Off', 'Fully Paid'], ['Charged Off'], ['Charged Off', 'Fully Paid'], ['Charged Off'], ['Charged Off'], ['Fully Paid'], ['Charged Off'], ['Charged Off'], ['Charged Off'], ['Charged Off'], ['Charged Off'], ['Charged Off', 'Fully Paid'], ['Fully Paid'], ['Charged Off', 'Fully Paid'], ['Charged Off'], ['Charged Off'], ['Charged Off', 'Fully Paid'], ['Charged Off'], ['Charged Off', 'Fully Paid'], ['Charged Off'], ['Charged Off'], ['Charged Off'], ['Charged Off'], ['Charged Off', 'Fully Paid'], ['Charged Off', 'Fully Paid'], ['Charged Off'], ['Charged Off'], ['Charged Off'], ['Charged Off'], ['Fully Paid'], ['Charged Off', 'Fully Paid'], ['Charged Off'], ['Charged Off'], ['Charged Off'], ['Charged Off'], ['Charged Off'], ['Charged Off'], ['Charged Off'], ['Charged Off', 'Fully Paid'], ['Charged Off', 'Fully Paid'], ['Charged Off'], ['Charged Off'], ['Charged Off'], ['Charged Off'], ['Charged Off'], ['Charged Off'], ['Charged Off'], ['Charged Off', 'Fully Paid'], ['Charged Off'], ['Fully Paid'], ['Charged Off'], ['Charged Off', 'Fully Paid'], ['Charged Off'], ['Charged Off'], ['Charged Off'], ['Charged Off'], ['Fully Paid'], ['Charged Off'], ['Charged Off'], ['Charged Off'], ['Charged Off'], ['Charged Off'], ['Fully Paid'], ['Charged Off', 'Fully Paid'], ['Charged Off'], ['Charged Off', 'Fully Paid'], ['Charged Off', 'Fully Paid'], ['Charged Off', 'Fully Paid'], ['Charged Off'], ['Charged Off'], ['Charged Off'], ['Charged Off'], ['Charged Off'], ['Charged Off', 'Fully Paid'], ['Fully Paid'], ['Charged Off'], ['Charged Off'], ['Charged Off'], ['Charged Off'], ['Charged Off'], ['Charged Off'], ['Charged Off'], ['Charged Off'], ['Charged Off'], ['Charged Off', 'Fully Paid'], ['Charged Off', 'Fully Paid'], ['Charged Off', 'Fully Paid'], ['Charged Off', 'Fully Paid'], ['Fully Paid'], ['Fully Paid'], ['Charged Off'], ['Charged Off'], ['Charged Off'], ['Charged Off'], ['Charged Off'], ['Charged Off'], ['Fully Paid'], ['Charged Off', 'Fully Paid'], ['Charged Off'], ['Charged Off'], ['Charged Off', 'Fully Paid'], ['Charged Off'], ['Charged Off'], ['Charged Off'], ['Charged Off'], ['Charged Off', 'Fully Paid'], ['Charged Off'], ['Charged Off'], ['Charged Off', 'Fully Paid'], ['Charged Off'], ['Charged Off', 'Fully Paid'], ['Charged Off'], ['Charged Off'], ['Fully Paid'], ['Charged Off', 'Fully Paid'], ['Charged Off', 'Fully Paid'], ['Charged Off'], ['Fully Paid'], ['Charged Off', 'Fully Paid'], ['Charged Off', 'Fully Paid'], ['Charged Off', 'Fully Paid'], ['Charged Off', 'Fully Paid'], ['Charged Off', 'Fully Paid'], ['Charged Off'], ['Fully Paid'], ['Charged Off', 'Fully Paid'], ['Charged Off'], ['Charged Off'], ['Charged Off', 'Fully Paid'], ['Charged Off', 'Fully Paid'], ['Charged Off'], ['Fully Paid'], ['Charged Off'], ['Charged Off', 'Fully Paid'], ['Charged Off'], ['Charged Off'], ['Charged Off'], ['Fully Paid'], ['Charged Off', 'Fully Paid'], ['Charged Off'], ['Charged Off'], ['Charged Off', 'Fully Paid'], ['Fully Paid'], ['Charged Off', 'Fully Paid'], ['Charged Off', 'Fully Paid'], ['Charged Off'], ['Charged Off'], ['Charged Off'], ['Charged Off'], ['Charged Off'], ['Fully Paid'], ['Charged Off'], ['Charged Off'], ['Fully Paid'], ['Charged Off'], ['Charged Off'], ['Charged Off'], ['Charged Off'], ['Charged Off'], ['Charged Off'], ['Charged Off'], ['Charged Off'], ['Charged Off', 'Fully Paid'], ['Charged Off'], ['Charged Off', 'Fully Paid'], ['Charged Off'], ['Charged Off', 'Fully Paid'], ['Charged Off', 'Fully Paid'], ['Charged Off'], ['Charged Off', 'Fully Paid'], ['Charged Off'], ['Fully Paid'], ['Charged Off', 'Fully Paid'], ['Charged Off'], ['Charged Off', 'Fully Paid'], ['Fully Paid'], ['Charged Off', 'Fully Paid'], ['Charged Off', 'Fully Paid'], ['Charged Off'], ['Charged Off', 'Fully Paid'], ['Charged Off'], ['Charged Off', 'Fully Paid'], ['Charged Off'], ['Charged Off'], ['Fully Paid'], ['Charged Off', 'Fully Paid'], ['Fully Paid'], ['Charged Off'], ['Charged Off', 'Fully Paid'], ['Charged Off'], ['Charged Off'], ['Charged Off'], ['Charged Off', 'Fully Paid'], ['Charged Off', 'Fully Paid'], ['Fully Paid'], ['Charged Off', 'Fully Paid'], ['Charged Off'], ['Charged Off'], ['Charged Off'], ['Charged Off', 'Fully Paid'], ['Fully Paid'], ['Charged Off'], ['Charged Off'], ['Charged Off'], ['Charged Off'], ['Charged Off'], ['Charged Off'], ['Charged Off'], ['Charged Off'], ['Charged Off'], ['Charged Off'], ['Charged Off'], ['Charged Off', 'Fully Paid'], ['Charged Off'], ['Charged Off'], ['Charged Off', 'Fully Paid'], ['Charged Off'], ['Charged Off', 'Fully Paid'], ['Charged Off'], ['Charged Off'], ['Charged Off'], ['Charged Off'], ['Charged Off'], ['Charged Off'], ['Charged Off', 'Fully Paid'], ['Charged Off', 'Fully Paid'], ['Charged Off'], ['Charged Off'], ['Charged Off'], ['Charged Off'], ['Charged Off'], ['Fully Paid'], ['Charged Off', 'Fully Paid'], ['Charged Off'], ['Charged Off'], ['Charged Off'], ['Charged Off', 'Fully Paid'], ['Charged Off', 'Fully Paid'], ['Charged Off'], ['Charged Off', 'Fully Paid'], ['Charged Off'], ['Charged Off'], ['Charged Off'], ['Charged Off'], ['Charged Off'], ['Charged Off'], ['Charged Off', 'Fully Paid'], ['Charged Off'], ['Charged Off'], ['Charged Off'], ['Charged Off'], ['Fully Paid'], ['Charged Off', 'Fully Paid'], ['Charged Off'], ['Charged Off', 'Fully Paid'], ['Charged Off'], ['Charged Off'], ['Fully Paid'], ['Charged Off'], ['Charged Off'], ['Charged Off'], ['Charged Off'], ['Charged Off'], ['Charged Off'], ['Charged Off'], ['Fully Paid'], ['Charged Off'], ['Fully Paid'], ['Fully Paid'], ['Charged Off', 'Fully Paid'], ['Charged Off'], ['Charged Off'], ['Charged Off'], ['Charged Off'], ['Charged Off'], ['Charged Off'], ['Charged Off'], ['Charged Off'], ['Charged Off', 'Fully Paid'], ['Fully Paid'], ['Charged Off'], ['Charged Off', 'Fully Paid'], ['Charged Off', 'Fully Paid'], ['Charged Off'], ['Charged Off'], ['Charged Off'], ['Charged Off'], ['Charged Off', 'Fully Paid'], ['Charged Off', 'Fully Paid'], ['Charged Off'], ['Charged Off'], ['Charged Off'], ['Charged Off'], ['Charged Off', 'Fully Paid'], ['Charged Off'], ['Charged Off', 'Fully Paid'], ['Charged Off'], ['Charged Off'], ['Charged Off'], ['Charged Off'], ['Charged Off'], ['Fully Paid'], ['Charged Off'], ['Charged Off'], ['Charged Off'], ['Charged Off'], ['Charged Off', 'Fully Paid'], ['Charged Off'], ['Charged Off'], ['Charged Off', 'Fully Paid'], ['Charged Off'], ['Charged Off'], ['Charged Off', 'Fully Paid'], ['Charged Off', 'Fully Paid'], ['Charged Off'], ['Charged Off'], ['Fully Paid'], ['Fully Paid'], ['Charged Off', 'Fully Paid'], ['Fully Paid'], ['Charged Off', 'Fully Paid'], ['Charged Off', 'Fully Paid'], ['Charged Off', 'Fully Paid'], ['Charged Off'], ['Charged Off'], ['Charged Off'], ['Charged Off'], ['Charged Off', 'Fully Paid'], ['Charged Off', 'Fully Paid'], ['Charged Off'], ['Charged Off'], ['Fully Paid'], ['Charged Off'], ['Charged Off'], ['Charged Off'], ['Charged Off'], ['Charged Off'], ['Charged Off', 'Fully Paid'], ['Fully Paid'], ['Charged Off', 'Fully Paid'], ['Fully Paid'], ['Charged Off', 'Fully Paid'], ['Charged Off'], ['Charged Off', 'Fully Paid'], ['Fully Paid'], ['Charged Off'], ['Charged Off'], ['Charged Off'], ['Charged Off'], ['Charged Off'], ['Charged Off'], ['Charged Off'], ['Charged Off', 'Fully Paid'], ['Charged Off', 'Fully Paid'], ['Charged Off'], ['Charged Off', 'Fully Paid'], ['Charged Off'], ['Charged Off', 'Fully Paid'], ['Charged Off', 'Fully Paid'], ['Charged Off'], ['Charged Off'], ['Charged Off'], ['Charged Off', 'Fully Paid'], ['Charged Off'], ['Charged Off'], ['Charged Off', 'Fully Paid'], ['Charged Off'], ['Fully Paid'], ['Charged Off'], ['Charged Off'], ['Charged Off'], ['Fully Paid'], ['Charged Off', 'Fully Paid'], ['Charged Off', 'Fully Paid'], ['Charged Off', 'Fully Paid'], ['Fully Paid'], ['Charged Off'], ['Charged Off'], ['Charged Off'], ['Charged Off'], ['Charged Off'], ['Charged Off'], ['Charged Off'], ['Charged Off'], ['Fully Paid'], ['Fully Paid'], ['Fully Paid'], ['Charged Off'], ['Charged Off'], ['Fully Paid'], ['Charged Off'], ['Charged Off'], ['Charged Off'], ['Charged Off', 'Fully Paid'], ['Charged Off'], ['Charged Off'], ['Charged Off', 'Fully Paid'], ['Charged Off', 'Fully Paid'], ['Fully Paid'], ['Charged Off', 'Fully Paid'], ['Charged Off'], ['Fully Paid'], ['Charged Off', 'Fully Paid'], ['Charged Off', 'Fully Paid'], ['Charged Off'], ['Charged Off'], ['Charged Off'], ['Charged Off'], ['Fully Paid'], ['Charged Off'], ['Charged Off'], ['Charged Off'], ['Charged Off', 'Fully Paid'], ['Charged Off', 'Fully Paid'], ['Charged Off'], ['Fully Paid'], ['Charged Off'], ['Charged Off'], ['Fully Paid'], ['Charged Off'], ['Charged Off', 'Fully Paid'], ['Charged Off'], ['Charged Off'], ['Charged Off', 'Fully Paid'], ['Charged Off', 'Fully Paid'], ['Charged Off', 'Fully Paid'], ['Charged Off'], ['Charged Off', 'Fully Paid'], ['Charged Off', 'Fully Paid'], ['Charged Off', 'Fully Paid'], ['Charged Off', 'Fully Paid'], ['Charged Off'], ['Charged Off', 'Fully Paid'], ['Charged Off'], ['Charged Off'], ['Charged Off'], ['Charged Off'], ['Fully Paid'], ['Fully Paid'], ['Charged Off'], ['Charged Off', 'Fully Paid'], ['Charged Off', 'Fully Paid'], ['Fully Paid'], ['Charged Off', 'Fully Paid'], ['Charged Off'], ['Fully Paid'], ['Charged Off'], ['Charged Off'], ['Charged Off'], ['Charged Off'], ['Charged Off'], ['Charged Off', 'Fully Paid'], ['Charged Off'], ['Charged Off'], ['Charged Off', 'Fully Paid'], ['Charged Off'], ['Charged Off'], ['Charged Off'], ['Charged Off'], ['Charged Off'], ['Charged Off', 'Fully Paid'], ['Charged Off'], ['Charged Off', 'Fully Paid'], ['Charged Off', 'Fully Paid'], ['Fully Paid'], ['Charged Off'], ['Charged Off'], ['Charged Off', 'Fully Paid'], ['Charged Off', 'Fully Paid'], ['Charged Off'], ['Charged Off', 'Fully Paid'], ['Fully Paid'], ['Charged Off'], ['Charged Off'], ['Charged Off'], ['Charged Off'], ['Charged Off'], ['Charged Off'], ['Charged Off', 'Fully Paid'], ['Charged Off'], ['Charged Off'], ['Fully Paid'], ['Fully Paid'], ['Charged Off'], ['Charged Off', 'Fully Paid'], ['Charged Off'], ['Charged Off', 'Fully Paid'], ['Charged Off', 'Fully Paid'], ['Charged Off'], ['Charged Off', 'Fully Paid'], ['Charged Off'], ['Charged Off'], ['Charged Off'], ['Charged Off'], ['Charged Off'], ['Charged Off'], ['Charged Off', 'Fully Paid'], ['Charged Off'], ['Charged Off', 'Fully Paid'], ['Charged Off', 'Fully Paid'], ['Charged Off'], ['Charged Off'], ['Charged Off'], ['Charged Off'], ['Fully Paid'], ['Charged Off'], ['Charged Off'], ['Charged Off'], ['Charged Off'], ['Charged Off'], ['Charged Off'], ['Charged Off'], ['Fully Paid'], ['Charged Off'], ['Charged Off', 'Fully Paid'], ['Charged Off'], ['Charged Off'], ['Charged Off', 'Fully Paid'], ['Charged Off'], ['Charged Off'], ['Charged Off', 'Fully Paid'], ['Charged Off', 'Fully Paid'], ['Charged Off', 'Fully Paid'], ['Charged Off', 'Fully Paid'], ['Charged Off'], ['Charged Off'], ['Charged Off'], ['Charged Off'], ['Charged Off'], ['Charged Off'], ['Charged Off'], ['Charged Off'], ['Charged Off'], ['Charged Off'], ['Charged Off'], ['Fully Paid'], ['Charged Off'], ['Charged Off'], ['Charged Off'], ['Charged Off'], ['Fully Paid'], ['Charged Off'], ['Fully Paid'], ['Charged Off'], ['Charged Off'], ['Charged Off'], ['Charged Off'], ['Charged Off'], ['Fully Paid'], ['Charged Off'], ['Charged Off', 'Fully Paid'], ['Charged Off'], ['Charged Off'], ['Charged Off'], ['Charged Off'], ['Charged Off'], ['Charged Off', 'Fully Paid'], ['Charged Off'], ['Charged Off'], ['Charged Off'], ['Charged Off'], ['Fully Paid'], ['Charged Off'], ['Charged Off'], ['Charged Off', 'Fully Paid'], ['Fully Paid'], ['Charged Off'], ['Charged Off'], ['Fully Paid'], ['Charged Off'], ['Charged Off'], ['Charged Off'], ['Fully Paid'], ['Charged Off'], ['Charged Off', 'Fully Paid'], ['Charged Off', 'Fully Paid'], ['Charged Off'], ['Charged Off'], ['Fully Paid'], ['Charged Off'], ['Charged Off'], ['Charged Off'], ['Charged Off', 'Fully Paid'], ['Charged Off'], ['Charged Off', 'Fully Paid'], ['Charged Off', 'Fully Paid'], ['Charged Off'], ['Charged Off'], ['Charged Off'], ['Charged Off'], ['Charged Off'], ['Charged Off', 'Fully Paid'], ['Charged Off', 'Fully Paid'], ['Charged Off'], ['Charged Off', 'Fully Paid'], ['Charged Off', 'Fully Paid'], ['Charged Off', 'Fully Paid'], ['Charged Off'], ['Charged Off'], ['Charged Off', 'Fully Paid'], ['Charged Off', 'Fully Paid'], ['Fully Paid'], ['Charged Off'], ['Charged Off', 'Fully Paid'], ['Charged Off'], ['Charged Off'], ['Charged Off', 'Fully Paid'], ['Charged Off'], ['Charged Off'], ['Charged Off', 'Fully Paid'], ['Charged Off'], ['Charged Off'], ['Charged Off'], ['Charged Off', 'Fully Paid'], ['Charged Off', 'Fully Paid'], ['Charged Off'], ['Charged Off'], ['Charged Off'], ['Charged Off'], ['Charged Off'], ['Fully Paid'], ['Charged Off', 'Fully Paid'], ['Charged Off'], ['Charged Off'], ['Fully Paid'], ['Charged Off'], ['Charged Off'], ['Charged Off', 'Fully Paid'], ['Charged Off'], ['Charged Off'], ['Charged Off'], ['Charged Off'], ['Charged Off', 'Fully Paid'], ['Charged Off'], ['Charged Off', 'Fully Paid'], ['Charged Off'], ['Charged Off'], ['Fully Paid'], ['Charged Off'], ['Charged Off'], ['Charged Off'], ['Charged Off', 'Fully Paid'], ['Charged Off', 'Fully Paid'], ['Charged Off'], ['Charged Off'], ['Charged Off'], ['Charged Off'], ['Charged Off', 'Fully Paid'], ['Charged Off'], ['Charged Off'], ['Charged Off'], ['Charged Off', 'Fully Paid'], ['Charged Off'], ['Charged Off'], ['Charged Off'], ['Charged Off'], ['Charged Off'], ['Charged Off', 'Fully Paid'], ['Charged Off', 'Fully Paid'], ['Charged Off'], ['Charged Off'], ['Charged Off'], ['Charged Off'], ['Charged Off', 'Fully Paid'], ['Charged Off'], ['Charged Off'], ['Charged Off', 'Fully Paid'], ['Charged Off'], ['Charged Off'], ['Charged Off', 'Fully Paid'], ['Charged Off', 'Fully Paid'], ['Charged Off', 'Fully Paid'], ['Charged Off'], ['Charged Off', 'Fully Paid'], ['Charged Off'], ['Charged Off', 'Fully Paid'], ['Charged Off'], ['Fully Paid'], ['Charged Off'], ['Charged Off'], ['Charged Off'], ['Charged Off'], ['Charged Off'], ['Charged Off'], ['Charged Off', 'Fully Paid'], ['Charged Off'], ['Charged Off'], ['Fully Paid'], ['Fully Paid'], ['Charged Off'], ['Charged Off'], ['Charged Off', 'Fully Paid'], ['Charged Off'], ['Charged Off', 'Fully Paid'], ['Charged Off'], ['Charged Off'], ['Charged Off'], ['Charged Off'], ['Charged Off'], ['Charged Off'], ['Charged Off', 'Fully Paid'], ['Charged Off'], ['Charged Off'], ['Charged Off'], ['Charged Off'], ['Charged Off'], ['Charged Off'], ['Charged Off'], ['Charged Off'], ['Fully Paid'], ['Charged Off'], ['Charged Off'], ['Charged Off', 'Fully Paid'], ['Charged Off'], ['Charged Off'], ['Charged Off', 'Fully Paid'], ['Charged Off'], ['Charged Off'], ['Charged Off'], ['Charged Off', 'Fully Paid'], ['Fully Paid'], ['Charged Off'], ['Fully Paid'], ['Charged Off'], ['Charged Off'], ['Charged Off'], ['Fully Paid'], ['Charged Off', 'Fully Paid'], ['Charged Off', 'Fully Paid'], ['Fully Paid'], ['Fully Paid'], ['Charged Off'], ['Charged Off'], ['Charged Off'], ['Fully Paid'], ['Charged Off'], ['Charged Off'], ['Charged Off'], ['Charged Off', 'Fully Paid'], ['Charged Off', 'Fully Paid'], ['Charged Off'], ['Charged Off', 'Fully Paid'], ['Charged Off'], ['Charged Off', 'Fully Paid'], ['Charged Off'], ['Charged Off'], ['Charged Off'], ['Charged Off'], ['Charged Off'], ['Charged Off', 'Fully Paid'], ['Charged Off', 'Fully Paid'], ['Charged Off'], ['Charged Off'], ['Charged Off', 'Fully Paid'], ['Charged Off'], ['Fully Paid'], ['Charged Off', 'Fully Paid'], ['Fully Paid'], ['Charged Off'], ['Charged Off', 'Fully Paid'], ['Charged Off'], ['Charged Off'], ['Charged Off'], ['Charged Off'], ['Charged Off', 'Fully Paid'], ['Charged Off'], ['Charged Off'], ['Charged Off', 'Fully Paid'], ['Charged Off', 'Fully Paid'], ['Charged Off'], ['Charged Off'], ['Fully Paid'], ['Charged Off'], ['Charged Off'], ['Charged Off'], ['Charged Off'], ['Charged Off'], ['Charged Off', 'Fully Paid'], ['Charged Off'], ['Charged Off'], ['Charged Off'], ['Charged Off'], ['Charged Off'], ['Charged Off', 'Fully Paid'], ['Charged Off', 'Fully Paid'], ['Fully Paid'], ['Charged Off'], ['Charged Off'], ['Charged Off', 'Fully Paid'], ['Charged Off', 'Fully Paid'], ['Charged Off'], ['Charged Off'], ['Charged Off'], ['Charged Off', 'Fully Paid'], ['Charged Off', 'Fully Paid'], ['Charged Off', 'Fully Paid'], ['Charged Off'], ['Charged Off'], ['Charged Off'], ['Charged Off', 'Fully Paid'], ['Charged Off', 'Fully Paid'], ['Charged Off'], ['Fully Paid'], ['Fully Paid'], ['Charged Off'], ['Charged Off', 'Fully Paid'], ['Charged Off'], ['Charged Off', 'Fully Paid'], ['Charged Off'], ['Charged Off'], ['Charged Off'], ['Charged Off', 'Fully Paid'], ['Charged Off'], ['Fully Paid'], ['Charged Off'], ['Charged Off'], ['Charged Off', 'Fully Paid'], ['Charged Off'], ['Charged Off'], ['Charged Off'], ['Charged Off'], ['Charged Off'], ['Fully Paid'], ['Charged Off'], ['Charged Off'], ['Charged Off'], ['Charged Off', 'Fully Paid'], ['Charged Off'], ['Charged Off'], ['Fully Paid'], ['Charged Off'], ['Charged Off'], ['Charged Off'], ['Charged Off'], ['Charged Off'], ['Charged Off'], ['Fully Paid'], ['Charged Off', 'Fully Paid'], ['Charged Off', 'Fully Paid'], ['Charged Off'], ['Charged Off', 'Fully Paid'], ['Charged Off'], ['Fully Paid'], ['Charged Off'], ['Fully Paid'], ['Charged Off'], ['Charged Off', 'Fully Paid'], ['Charged Off'], ['Charged Off'], ['Fully Paid'], ['Charged Off'], ['Charged Off'], ['Charged Off'], ['Charged Off'], ['Charged Off'], ['Fully Paid'], ['Charged Off'], ['Charged Off'], ['Charged Off'], ['Charged Off'], ['Charged Off'], ['Charged Off'], ['Charged Off', 'Fully Paid'], ['Fully Paid'], ['Charged Off', 'Fully Paid'], ['Fully Paid'], ['Charged Off'], ['Charged Off'], ['Charged Off'], ['Charged Off'], ['Charged Off'], ['Fully Paid'], ['Charged Off'], ['Charged Off'], ['Charged Off'], ['Charged Off'], ['Fully Paid'], ['Charged Off', 'Fully Paid'], ['Charged Off', 'Fully Paid'], ['Charged Off'], ['Charged Off'], ['Charged Off'], ['Charged Off'], ['Charged Off'], ['Charged Off'], ['Charged Off', 'Fully Paid'], ['Charged Off'], ['Charged Off', 'Fully Paid'], ['Charged Off', 'Fully Paid'], ['Charged Off'], ['Charged Off', 'Fully Paid'], ['Charged Off'], ['Fully Paid'], ['Charged Off'], ['Charged Off'], ['Charged Off'], ['Charged Off', 'Fully Paid'], ['Charged Off'], ['Charged Off'], ['Charged Off'], ['Charged Off', 'Fully Paid'], ['Charged Off'], ['Charged Off'], ['Charged Off'], ['Charged Off'], ['Charged Off'], ['Charged Off'], ['Charged Off', 'Fully Paid'], ['Charged Off', 'Fully Paid'], ['Charged Off', 'Fully Paid'], ['Charged Off'], ['Charged Off'], ['Charged Off', 'Fully Paid'], ['Charged Off'], ['Fully Paid'], ['Charged Off'], ['Charged Off'], ['Charged Off'], ['Charged Off'], ['Charged Off'], ['Charged Off'], ['Charged Off'], ['Charged Off'], ['Charged Off', 'Fully Paid'], ['Charged Off'], ['Charged Off'], ['Charged Off'], ['Charged Off'], ['Charged Off'], ['Charged Off', 'Fully Paid'], ['Charged Off'], ['Charged Off'], ['Fully Paid'], ['Charged Off'], ['Charged Off', 'Fully Paid'], ['Charged Off'], ['Charged Off'], ['Charged Off'], ['Charged Off'], ['Charged Off', 'Fully Paid'], ['Charged Off', 'Fully Paid'], ['Charged Off'], ['Charged Off', 'Fully Paid'], ['Charged Off'], ['Charged Off'], ['Charged Off', 'Fully Paid'], ['Charged Off'], ['Charged Off'], ['Charged Off'], ['Charged Off'], ['Charged Off', 'Fully Paid'], ['Charged Off'], ['Charged Off', 'Fully Paid'], ['Charged Off', 'Fully Paid'], ['Charged Off'], ['Charged Off', 'Fully Paid'], ['Charged Off'], ['Charged Off'], ['Charged Off'], ['Fully Paid'], ['Charged Off', 'Fully Paid'], ['Charged Off'], ['Charged Off'], ['Fully Paid'], ['Charged Off', 'Fully Paid'], ['Charged Off'], ['Charged Off', 'Fully Paid'], ['Fully Paid'], ['Charged Off'], ['Charged Off'], ['Charged Off', 'Fully Paid'], ['Charged Off'], ['Fully Paid'], ['Charged Off'], ['Charged Off'], ['Charged Off'], ['Charged Off', 'Fully Paid'], ['Charged Off'], ['Charged Off'], ['Charged Off', 'Fully Paid'], ['Fully Paid'], ['Charged Off', 'Fully Paid'], ['Charged Off'], ['Charged Off', 'Fully Paid'], ['Charged Off'], ['Fully Paid'], ['Charged Off'], ['Fully Paid'], ['Charged Off'], ['Charged Off'], ['Charged Off'], ['Charged Off', 'Fully Paid'], ['Charged Off'], ['Charged Off'], ['Charged Off'], ['Charged Off'], ['Fully Paid'], ['Charged Off'], ['Charged Off', 'Fully Paid'], ['Charged Off'], ['Charged Off'], ['Charged Off', 'Fully Paid'], ['Charged Off'], ['Charged Off', 'Fully Paid'], ['Fully Paid'], ['Charged Off'], ['Charged Off'], ['Charged Off'], ['Charged Off'], ['Charged Off'], ['Charged Off', 'Fully Paid'], ['Charged Off', 'Fully Paid'], ['Charged Off'], ['Charged Off'], ['Fully Paid'], ['Charged Off', 'Fully Paid'], ['Charged Off'], ['Fully Paid'], ['Charged Off', 'Fully Paid'], ['Charged Off', 'Fully Paid'], ['Charged Off'], ['Charged Off'], ['Charged Off', 'Fully Paid'], ['Charged Off'], ['Charged Off'], ['Charged Off'], ['Charged Off'], ['Charged Off', 'Fully Paid'], ['Charged Off'], ['Charged Off'], ['Charged Off'], ['Charged Off', 'Fully Paid'], ['Charged Off'], ['Charged Off', 'Fully Paid'], ['Charged Off', 'Fully Paid'], ['Charged Off'], ['Charged Off', 'Fully Paid'], ['Charged Off', 'Fully Paid'], ['Charged Off', 'Fully Paid'], ['Charged Off', 'Fully Paid'], ['Charged Off', 'Fully Paid'], ['Charged Off'], ['Charged Off'], ['Fully Paid'], ['Charged Off', 'Fully Paid'], ['Charged Off'], ['Charged Off', 'Fully Paid'], ['Charged Off'], ['Charged Off', 'Fully Paid'], ['Charged Off'], ['Charged Off', 'Fully Paid'], ['Charged Off', 'Fully Paid'], ['Charged Off', 'Fully Paid'], ['Charged Off'], ['Charged Off', 'Fully Paid'], ['Charged Off'], ['Charged Off'], ['Charged Off', 'Fully Paid'], ['Charged Off'], ['Fully Paid'], ['Fully Paid'], ['Charged Off', 'Fully Paid'], ['Charged Off'], ['Charged Off'], ['Charged Off', 'Fully Paid'], ['Fully Paid'], ['Charged Off', 'Fully Paid'], ['Fully Paid'], ['Charged Off'], ['Charged Off', 'Fully Paid'], ['Fully Paid'], ['Charged Off', 'Fully Paid'], ['Charged Off'], ['Fully Paid'], ['Charged Off', 'Fully Paid'], ['Fully Paid'], ['Charged Off'], ['Charged Off'], ['Charged Off'], ['Charged Off'], ['Charged Off', 'Fully Paid'], ['Charged Off', 'Fully Paid'], ['Charged Off', 'Fully Paid'], ['Charged Off'], ['Fully Paid'], ['Charged Off'], ['Fully Paid'], ['Charged Off'], ['Charged Off', 'Fully Paid'], ['Charged Off', 'Fully Paid'], ['Fully Paid'], ['Fully Paid'], ['Charged Off'], ['Charged Off'], ['Fully Paid'], ['Charged Off', 'Fully Paid'], ['Charged Off'], ['Charged Off'], ['Charged Off'], ['Charged Off'], ['Charged Off'], ['Charged Off', 'Fully Paid'], ['Charged Off'], ['Charged Off'], ['Charged Off'], ['Charged Off'], ['Charged Off'], ['Charged Off'], ['Charged Off'], ['Charged Off'], ['Charged Off', 'Fully Paid'], ['Charged Off', 'Fully Paid'], ['Charged Off'], ['Fully Paid'], ['Charged Off', 'Fully Paid'], ['Charged Off'], ['Charged Off'], ['Charged Off'], ['Charged Off'], ['Fully Paid'], ['Charged Off', 'Fully Paid'], ['Charged Off'], ['Charged Off'], ['Charged Off'], ['Charged Off'], ['Fully Paid'], ['Charged Off'], ['Charged Off'], ['Charged Off'], ['Charged Off'], ['Charged Off'], ['Charged Off'], ['Fully Paid'], ['Charged Off'], ['Charged Off', 'Fully Paid'], ['Charged Off'], ['Charged Off'], ['Fully Paid'], ['Charged Off'], ['Fully Paid'], ['Charged Off', 'Fully Paid'], ['Charged Off'], ['Fully Paid'], ['Charged Off', 'Fully Paid'], ['Charged Off'], ['Fully Paid'], ['Charged Off'], ['Charged Off'], ['Charged Off'], ['Charged Off'], ['Charged Off'], ['Charged Off'], ['Charged Off', 'Fully Paid'], ['Charged Off'], ['Charged Off'], ['Charged Off', 'Fully Paid'], ['Charged Off'], ['Charged Off'], ['Charged Off'], ['Charged Off'], ['Charged Off'], ['Charged Off'], ['Charged Off'], ['Charged Off'], ['Charged Off', 'Fully Paid'], ['Charged Off'], ['Charged Off', 'Fully Paid'], ['Charged Off', 'Fully Paid'], ['Charged Off'], ['Fully Paid'], ['Charged Off'], ['Charged Off'], ['Fully Paid'], ['Charged Off'], ['Charged Off', 'Fully Paid'], ['Charged Off'], ['Charged Off', 'Fully Paid'], ['Charged Off'], ['Charged Off'], ['Charged Off'], ['Charged Off'], ['Charged Off'], ['Charged Off'], ['Charged Off'], ['Charged Off'], ['Charged Off'], ['Charged Off'], ['Charged Off'], ['Charged Off'], ['Charged Off'], ['Fully Paid'], ['Fully Paid'], ['Fully Paid'], ['Fully Paid'], ['Charged Off'], ['Charged Off'], ['Charged Off'], ['Charged Off'], ['Charged Off'], ['Charged Off', 'Fully Paid'], ['Fully Paid'], ['Charged Off', 'Fully Paid'], ['Charged Off'], ['Charged Off', 'Fully Paid'], ['Charged Off'], ['Charged Off'], ['Charged Off', 'Fully Paid'], ['Charged Off'], ['Charged Off'], ['Charged Off', 'Fully Paid'], ['Charged Off'], ['Charged Off'], ['Charged Off'], ['Charged Off'], ['Charged Off'], ['Charged Off', 'Fully Paid'], ['Charged Off'], ['Charged Off'], ['Charged Off', 'Fully Paid'], ['Fully Paid'], ['Charged Off', 'Fully Paid'], ['Fully Paid'], ['Charged Off'], ['Charged Off', 'Fully Paid'], ['Charged Off'], ['Charged Off'], ['Charged Off'], ['Fully Paid'], ['Charged Off'], ['Charged Off'], ['Charged Off'], ['Charged Off'], ['Charged Off', 'Fully Paid'], ['Charged Off'], ['Charged Off'], ['Fully Paid'], ['Charged Off'], ['Fully Paid'], ['Charged Off', 'Fully Paid'], ['Charged Off'], ['Charged Off'], ['Charged Off'], ['Charged Off', 'Fully Paid'], ['Charged Off'], ['Charged Off', 'Fully Paid'], ['Charged Off', 'Fully Paid'], ['Charged Off'], ['Charged Off'], ['Charged Off', 'Fully Paid'], ['Charged Off'], ['Charged Off'], ['Fully Paid'], ['Charged Off'], ['Fully Paid'], ['Charged Off', 'Fully Paid'], ['Fully Paid'], ['Charged Off'], ['Charged Off'], ['Fully Paid'], ['Fully Paid'], ['Charged Off'], ['Charged Off'], ['Fully Paid'], ['Charged Off'], ['Charged Off'], ['Charged Off'], ['Charged Off', 'Fully Paid'], ['Charged Off'], ['Charged Off'], ['Charged Off'], ['Charged Off'], ['Charged Off'], ['Charged Off', 'Fully Paid'], ['Charged Off', 'Fully Paid'], ['Charged Off', 'Fully Paid'], ['Charged Off'], ['Charged Off'], ['Charged Off', 'Fully Paid'], ['Charged Off'], ['Charged Off'], ['Fully Paid'], ['Charged Off'], ['Charged Off'], ['Charged Off'], ['Charged Off'], ['Charged Off'], ['Charged Off', 'Fully Paid'], ['Charged Off'], ['Charged Off'], ['Charged Off', 'Fully Paid'], ['Charged Off'], ['Charged Off'], ['Charged Off'], ['Charged Off', 'Fully Paid'], ['Charged Off'], ['Fully Paid'], ['Charged Off'], ['Charged Off'], ['Charged Off'], ['Charged Off'], ['Fully Paid'], ['Charged Off'], ['Charged Off', 'Fully Paid'], ['Charged Off'], ['Charged Off'], ['Fully Paid'], ['Charged Off'], ['Charged Off'], ['Charged Off'], ['Charged Off'], ['Charged Off'], ['Charged Off'], ['Charged Off', 'Fully Paid'], ['Fully Paid'], ['Fully Paid'], ['Charged Off'], ['Fully Paid'], ['Charged Off'], ['Charged Off'], ['Charged Off', 'Fully Paid'], ['Charged Off'], ['Fully Paid'], ['Fully Paid'], ['Charged Off'], ['Charged Off'], ['Charged Off'], ['Charged Off'], ['Charged Off'], ['Charged Off', 'Fully Paid'], ['Charged Off'], ['Fully Paid'], ['Charged Off', 'Fully Paid'], ['Charged Off', 'Fully Paid'], ['Charged Off', 'Fully Paid'], ['Charged Off', 'Fully Paid'], ['Fully Paid'], ['Charged Off'], ['Charged Off'], ['Charged Off'], ['Charged Off', 'Fully Paid'], ['Charged Off'], ['Charged Off'], ['Charged Off', 'Fully Paid'], ['Fully Paid'], ['Charged Off'], ['Fully Paid'], ['Charged Off'], ['Fully Paid'], ['Charged Off'], ['Charged Off'], ['Charged Off'], ['Charged Off'], ['Fully Paid'], ['Charged Off', 'Fully Paid'], ['Charged Off', 'Fully Paid'], ['Charged Off'], ['Charged Off'], ['Charged Off', 'Fully Paid'], ['Charged Off'], ['Charged Off'], ['Charged Off', 'Fully Paid'], ['Charged Off'], ['Charged Off'], ['Charged Off'], ['Charged Off'], ['Charged Off', 'Fully Paid'], ['Charged Off'], ['Fully Paid'], ['Charged Off'], ['Charged Off', 'Fully Paid'], ['Charged Off'], ['Charged Off'], ['Fully Paid'], ['Charged Off'], ['Fully Paid'], ['Fully Paid'], ['Charged Off', 'Fully Paid'], ['Charged Off'], ['Fully Paid'], ['Charged Off'], ['Fully Paid'], ['Charged Off', 'Fully Paid'], ['Charged Off'], ['Fully Paid'], ['Fully Paid'], ['Charged Off'], ['Charged Off'], ['Charged Off'], ['Charged Off', 'Fully Paid'], ['Charged Off'], ['Charged Off'], ['Charged Off'], ['Charged Off'], ['Fully Paid'], ['Fully Paid'], ['Charged Off'], ['Fully Paid'], ['Fully Paid'], ['Charged Off', 'Fully Paid'], ['Charged Off'], ['Charged Off'], ['Fully Paid'], ['Charged Off'], ['Charged Off'], ['Charged Off'], ['Charged Off', 'Fully Paid'], ['Charged Off'], ['Charged Off'], ['Charged Off'], ['Charged Off', 'Fully Paid'], ['Fully Paid'], ['Charged Off'], ['Charged Off', 'Fully Paid'], ['Charged Off'], ['Fully Paid'], ['Fully Paid'], ['Charged Off'], ['Charged Off', 'Fully Paid'], ['Charged Off'], ['Charged Off'], ['Charged Off', 'Fully Paid'], ['Charged Off'], ['Charged Off', 'Fully Paid'], ['Charged Off'], ['Charged Off'], ['Charged Off', 'Fully Paid'], ['Charged Off'], ['Charged Off', 'Fully Paid'], ['Charged Off', 'Fully Paid'], ['Charged Off'], ['Charged Off'], ['Charged Off'], ['Fully Paid'], ['Charged Off'], ['Charged Off'], ['Charged Off'], ['Charged Off'], ['Charged Off'], ['Charged Off'], ['Charged Off'], ['Charged Off'], ['Charged Off'], ['Charged Off'], ['Charged Off'], ['Charged Off'], ['Charged Off', 'Fully Paid'], ['Fully Paid'], ['Charged Off', 'Fully Paid'], ['Charged Off', 'Fully Paid'], ['Charged Off'], ['Charged Off', 'Fully Paid'], ['Charged Off'], ['Charged Off'], ['Charged Off'], ['Charged Off', 'Fully Paid'], ['Charged Off', 'Fully Paid'], ['Charged Off'], ['Fully Paid'], ['Charged Off'], ['Charged Off'], ['Charged Off'], ['Charged Off'], ['Charged Off'], ['Charged Off'], ['Charged Off', 'Fully Paid'], ['Charged Off'], ['Charged Off'], ['Charged Off'], ['Charged Off'], ['Fully Paid'], ['Charged Off'], ['Charged Off', 'Fully Paid'], ['Charged Off', 'Fully Paid'], ['Charged Off', 'Fully Paid'], ['Charged Off'], ['Charged Off', 'Fully Paid'], ['Fully Paid'], ['Charged Off'], ['Charged Off', 'Fully Paid'], ['Charged Off', 'Fully Paid'], ['Charged Off', 'Fully Paid'], ['Charged Off'], ['Charged Off'], ['Charged Off'], ['Charged Off', 'Fully Paid'], ['Charged Off'], ['Charged Off', 'Fully Paid'], ['Charged Off'], ['Charged Off'], ['Charged Off'], ['Charged Off'], ['Charged Off', 'Fully Paid'], ['Charged Off'], ['Charged Off'], ['Charged Off', 'Fully Paid'], ['Charged Off', 'Fully Paid'], ['Charged Off'], ['Charged Off', 'Fully Paid'], ['Charged Off'], ['Charged Off'], ['Fully Paid'], ['Charged Off'], ['Charged Off', 'Fully Paid'], ['Charged Off', 'Fully Paid'], ['Charged Off'], ['Charged Off', 'Fully Paid'], ['Charged Off'], ['Charged Off', 'Fully Paid'], ['Charged Off'], ['Charged Off'], ['Charged Off', 'Fully Paid'], ['Charged Off', 'Fully Paid'], ['Charged Off', 'Fully Paid'], ['Charged Off'], ['Charged Off', 'Fully Paid'], ['Charged Off'], ['Charged Off', 'Fully Paid'], ['Charged Off'], ['Charged Off', 'Fully Paid'], ['Fully Paid'], ['Charged Off', 'Fully Paid'], ['Charged Off', 'Fully Paid'], ['Fully Paid'], ['Charged Off'], ['Charged Off'], ['Charged Off'], ['Charged Off'], ['Charged Off', 'Fully Paid'], ['Charged Off'], ['Charged Off'], ['Charged Off', 'Fully Paid'], ['Charged Off'], ['Charged Off', 'Fully Paid'], ['Charged Off'], ['Fully Paid'], ['Charged Off'], ['Fully Paid'], ['Charged Off'], ['Charged Off'], ['Charged Off'], ['Fully Paid'], ['Charged Off', 'Fully Paid'], ['Charged Off'], ['Charged Off'], ['Charged Off'], ['Fully Paid'], ['Charged Off', 'Fully Paid'], ['Fully Paid'], ['Charged Off', 'Fully Paid'], ['Charged Off', 'Fully Paid'], ['Charged Off'], ['Charged Off'], ['Charged Off', 'Fully Paid'], ['Charged Off', 'Fully Paid'], ['Charged Off'], ['Charged Off'], ['Charged Off'], ['Fully Paid'], ['Charged Off'], ['Charged Off', 'Fully Paid'], ['Charged Off'], ['Charged Off'], ['Charged Off', 'Fully Paid'], ['Fully Paid'], ['Charged Off'], ['Charged Off'], ['Charged Off'], ['Charged Off'], ['Fully Paid'], ['Charged Off'], ['Charged Off'], ['Charged Off'], ['Charged Off'], ['Charged Off', 'Fully Paid'], ['Charged Off'], ['Charged Off'], ['Charged Off', 'Fully Paid'], ['Charged Off'], ['Charged Off', 'Fully Paid'], ['Charged Off', 'Fully Paid'], ['Charged Off', 'Fully Paid'], ['Charged Off'], ['Charged Off'], ['Charged Off'], ['Fully Paid'], ['Charged Off', 'Fully Paid'], ['Charged Off'], ['Charged Off'], ['Charged Off', 'Fully Paid'], ['Fully Paid'], ['Charged Off', 'Fully Paid'], ['Fully Paid'], ['Charged Off'], ['Charged Off'], ['Charged Off'], ['Charged Off'], ['Charged Off', 'Fully Paid'], ['Charged Off'], ['Charged Off', 'Fully Paid'], ['Charged Off', 'Fully Paid'], ['Fully Paid'], ['Charged Off'], ['Charged Off'], ['Charged Off'], ['Charged Off', 'Fully Paid'], ['Charged Off', 'Fully Paid'], ['Charged Off'], ['Charged Off'], ['Charged Off', 'Fully Paid'], ['Fully Paid'], ['Charged Off', 'Fully Paid'], ['Charged Off'], ['Charged Off'], ['Charged Off'], ['Charged Off'], ['Charged Off'], ['Charged Off', 'Fully Paid'], ['Charged Off'], ['Charged Off'], ['Charged Off', 'Fully Paid'], ['Charged Off', 'Fully Paid'], ['Charged Off'], ['Charged Off'], ['Charged Off'], ['Charged Off'], ['Charged Off', 'Fully Paid'], ['Charged Off', 'Fully Paid'], ['Charged Off'], ['Charged Off'], ['Fully Paid'], ['Charged Off'], ['Charged Off'], ['Charged Off'], ['Charged Off'], ['Charged Off'], ['Charged Off'], ['Charged Off'], ['Charged Off'], ['Charged Off'], ['Charged Off', 'Fully Paid'], ['Charged Off'], ['Charged Off', 'Fully Paid'], ['Charged Off'], ['Charged Off'], ['Charged Off', 'Fully Paid'], ['Fully Paid'], ['Charged Off', 'Fully Paid'], ['Fully Paid'], ['Charged Off', 'Fully Paid'], ['Charged Off'], ['Fully Paid'], ['Charged Off'], ['Charged Off'], ['Charged Off'], ['Charged Off', 'Fully Paid'], ['Charged Off'], ['Charged Off'], ['Charged Off'], ['Charged Off'], ['Fully Paid'], ['Charged Off', 'Fully Paid'], ['Charged Off'], ['Charged Off'], ['Charged Off'], ['Charged Off'], ['Fully Paid'], ['Charged Off'], ['Charged Off'], ['Charged Off', 'Fully Paid'], ['Charged Off'], ['Fully Paid'], ['Charged Off'], ['Charged Off'], ['Charged Off'], ['Charged Off'], ['Fully Paid'], ['Charged Off'], ['Charged Off', 'Fully Paid'], ['Fully Paid'], ['Fully Paid'], ['Fully Paid'], ['Fully Paid'], ['Charged Off'], ['Charged Off'], ['Charged Off', 'Fully Paid'], ['Charged Off'], ['Charged Off'], ['Fully Paid'], ['Charged Off'], ['Fully Paid'], ['Charged Off'], ['Charged Off', 'Fully Paid'], ['Fully Paid'], ['Charged Off'], ['Charged Off'], ['Charged Off'], ['Charged Off', 'Fully Paid'], ['Charged Off'], ['Fully Paid'], ['Charged Off', 'Fully Paid'], ['Charged Off', 'Fully Paid'], ['Charged Off'], ['Charged Off'], ['Charged Off', 'Fully Paid'], ['Charged Off', 'Fully Paid'], ['Charged Off'], ['Charged Off'], ['Charged Off'], ['Charged Off', 'Fully Paid'], ['Charged Off'], ['Charged Off'], ['Charged Off'], ['Charged Off', 'Fully Paid'], ['Charged Off'], ['Charged Off'], ['Charged Off'], ['Fully Paid'], ['Charged Off'], ['Charged Off', 'Fully Paid'], ['Charged Off'], ['Charged Off'], ['Charged Off'], ['Fully Paid'], ['Charged Off'], ['Charged Off'], ['Charged Off'], ['Fully Paid'], ['Charged Off'], ['Fully Paid'], ['Charged Off'], ['Charged Off'], ['Fully Paid'], ['Charged Off', 'Fully Paid'], ['Charged Off', 'Fully Paid'], ['Charged Off'], ['Charged Off'], ['Charged Off'], ['Charged Off'], ['Charged Off'], ['Fully Paid'], ['Charged Off'], ['Fully Paid'], ['Charged Off'], ['Charged Off', 'Fully Paid'], ['Charged Off'], ['Charged Off', 'Fully Paid'], ['Charged Off'], ['Charged Off'], ['Charged Off', 'Fully Paid'], ['Charged Off'], ['Charged Off'], ['Charged Off'], ['Charged Off'], ['Fully Paid'], ['Charged Off'], ['Fully Paid'], ['Fully Paid'], ['Charged Off'], ['Charged Off'], ['Fully Paid'], ['Fully Paid'], ['Charged Off', 'Fully Paid'], ['Charged Off'], ['Charged Off', 'Fully Paid'], ['Charged Off'], ['Charged Off'], ['Charged Off', 'Fully Paid'], ['Charged Off'], ['Charged Off'], ['Charged Off'], ['Charged Off', 'Fully Paid'], ['Charged Off'], ['Charged Off', 'Fully Paid'], ['Charged Off', 'Fully Paid'], ['Charged Off'], ['Charged Off'], ['Charged Off'], ['Charged Off'], ['Charged Off'], ['Charged Off'], ['Charged Off', 'Fully Paid'], ['Charged Off', 'Fully Paid'], ['Charged Off', 'Fully Paid'], ['Charged Off', 'Fully Paid'], ['Charged Off'], ['Charged Off', 'Fully Paid'], ['Charged Off'], ['Charged Off'], ['Charged Off'], ['Charged Off'], ['Charged Off'], ['Charged Off', 'Fully Paid'], ['Charged Off'], ['Charged Off'], ['Charged Off'], ['Fully Paid'], ['Charged Off'], ['Charged Off', 'Fully Paid'], ['Charged Off'], ['Fully Paid'], ['Charged Off'], ['Fully Paid'], ['Charged Off', 'Fully Paid'], ['Charged Off'], ['Charged Off'], ['Charged Off'], ['Charged Off', 'Fully Paid'], ['Charged Off'], ['Charged Off', 'Fully Paid'], ['Charged Off', 'Fully Paid'], ['Charged Off'], ['Charged Off'], ['Fully Paid'], ['Charged Off'], ['Charged Off'], ['Charged Off'], ['Charged Off'], ['Charged Off'], ['Charged Off', 'Fully Paid'], ['Charged Off'], ['Charged Off', 'Fully Paid'], ['Charged Off'], ['Charged Off', 'Fully Paid'], ['Charged Off'], ['Charged Off'], ['Charged Off'], ['Charged Off', 'Fully Paid'], ['Charged Off'], ['Charged Off'], ['Charged Off', 'Fully Paid'], ['Charged Off'], ['Charged Off', 'Fully Paid'], ['Charged Off'], ['Charged Off'], ['Charged Off'], ['Charged Off', 'Fully Paid'], ['Charged Off', 'Fully Paid'], ['Charged Off'], ['Charged Off'], ['Charged Off'], ['Charged Off'], ['Fully Paid'], ['Charged Off', 'Fully Paid'], ['Charged Off'], ['Charged Off'], ['Charged Off', 'Fully Paid'], ['Charged Off'], ['Charged Off', 'Fully Paid'], ['Charged Off'], ['Charged Off'], ['Fully Paid'], ['Charged Off', 'Fully Paid'], ['Charged Off'], ['Charged Off'], ['Fully Paid'], ['Charged Off'], ['Charged Off'], ['Charged Off'], ['Charged Off'], ['Fully Paid'], ['Charged Off'], ['Charged Off'], ['Charged Off'], ['Fully Paid'], ['Fully Paid'], ['Charged Off'], ['Charged Off'], ['Charged Off', 'Fully Paid'], ['Charged Off', 'Fully Paid'], ['Charged Off', 'Fully Paid'], ['Charged Off'], ['Fully Paid'], ['Charged Off'], ['Charged Off'], ['Charged Off'], ['Charged Off'], ['Charged Off'], ['Charged Off'], ['Charged Off'], ['Charged Off'], ['Fully Paid'], ['Charged Off'], ['Charged Off', 'Fully Paid'], ['Charged Off', 'Fully Paid'], ['Charged Off'], ['Charged Off'], ['Charged Off'], ['Charged Off'], ['Charged Off', 'Fully Paid'], ['Charged Off', 'Fully Paid'], ['Charged Off'], ['Fully Paid'], ['Charged Off', 'Fully Paid'], ['Fully Paid'], ['Charged Off'], ['Charged Off'], ['Charged Off'], ['Charged Off'], ['Charged Off'], ['Charged Off', 'Fully Paid'], ['Charged Off'], ['Charged Off'], ['Fully Paid'], ['Fully Paid'], ['Charged Off', 'Fully Paid'], ['Charged Off'], ['Charged Off'], ['Fully Paid'], ['Charged Off', 'Fully Paid'], ['Charged Off'], ['Fully Paid'], ['Charged Off'], ['Charged Off'], ['Charged Off'], ['Charged Off'], ['Charged Off'], ['Charged Off'], ['Charged Off'], ['Fully Paid'], ['Charged Off'], ['Charged Off'], ['Charged Off'], ['Charged Off'], ['Fully Paid'], ['Charged Off', 'Fully Paid'], ['Charged Off', 'Fully Paid'], ['Fully Paid'], ['Fully Paid'], ['Charged Off'], ['Charged Off', 'Fully Paid'], ['Charged Off'], ['Charged Off'], ['Charged Off'], ['Charged Off'], ['Charged Off', 'Fully Paid'], ['Charged Off'], ['Charged Off'], ['Charged Off', 'Fully Paid'], ['Charged Off'], ['Charged Off'], ['Charged Off', 'Fully Paid'], ['Charged Off'], ['Fully Paid'], ['Charged Off'], ['Fully Paid'], ['Charged Off', 'Fully Paid'], ['Charged Off'], ['Charged Off'], ['Charged Off'], ['Charged Off'], ['Charged Off', 'Fully Paid'], ['Charged Off'], ['Fully Paid'], ['Charged Off'], ['Charged Off'], ['Charged Off', 'Fully Paid'], ['Charged Off'], ['Charged Off', 'Fully Paid'], ['Charged Off'], ['Charged Off'], ['Charged Off', 'Fully Paid'], ['Fully Paid'], ['Charged Off', 'Fully Paid'], ['Charged Off'], ['Charged Off'], ['Fully Paid'], ['Fully Paid'], ['Charged Off'], ['Charged Off'], ['Charged Off', 'Fully Paid'], ['Charged Off'], ['Charged Off', 'Fully Paid'], ['Charged Off', 'Fully Paid'], ['Fully Paid'], ['Charged Off'], ['Charged Off', 'Fully Paid'], ['Fully Paid'], ['Charged Off'], ['Charged Off'], ['Fully Paid'], ['Charged Off'], ['Charged Off'], ['Fully Paid'], ['Fully Paid'], ['Charged Off'], ['Charged Off'], ['Fully Paid'], ['Charged Off', 'Fully Paid'], ['Charged Off', 'Fully Paid'], ['Charged Off'], ['Charged Off', 'Fully Paid'], ['Charged Off', 'Fully Paid'], ['Charged Off'], ['Charged Off'], ['Charged Off'], ['Charged Off', 'Fully Paid'], ['Charged Off'], ['Charged Off'], ['Charged Off', 'Fully Paid'], ['Charged Off', 'Fully Paid'], ['Charged Off'], ['Charged Off', 'Fully Paid'], ['Charged Off'], ['Charged Off'], ['Charged Off'], ['Fully Paid'], ['Charged Off', 'Fully Paid'], ['Fully Paid'], ['Fully Paid'], ['Charged Off'], ['Charged Off'], ['Fully Paid'], ['Charged Off'], ['Charged Off', 'Fully Paid'], ['Charged Off'], ['Charged Off'], ['Charged Off'], ['Charged Off', 'Fully Paid'], ['Charged Off', 'Fully Paid'], ['Charged Off'], ['Charged Off'], ['Charged Off'], ['Charged Off'], ['Charged Off', 'Fully Paid'], ['Charged Off', 'Fully Paid'], ['Charged Off', 'Fully Paid'], ['Charged Off'], ['Fully Paid'], ['Fully Paid'], ['Charged Off', 'Fully Paid'], ['Charged Off'], ['Charged Off'], ['Fully Paid'], ['Charged Off'], ['Fully Paid'], ['Fully Paid'], ['Charged Off'], ['Charged Off', 'Fully Paid'], ['Charged Off'], ['Charged Off', 'Fully Paid'], ['Charged Off'], ['Charged Off'], ['Fully Paid'], ['Charged Off'], ['Charged Off'], ['Charged Off', 'Fully Paid'], ['Charged Off'], ['Charged Off'], ['Charged Off', 'Fully Paid'], ['Charged Off', 'Fully Paid'], ['Charged Off'], ['Charged Off'], ['Charged Off', 'Fully Paid'], ['Charged Off'], ['Charged Off', 'Fully Paid'], ['Charged Off'], ['Fully Paid'], ['Charged Off'], ['Charged Off', 'Fully Paid'], ['Charged Off'], ['Fully Paid'], ['Charged Off'], ['Fully Paid'], ['Charged Off'], ['Charged Off'], ['Charged Off'], ['Fully Paid'], ['Charged Off'], ['Charged Off', 'Fully Paid'], ['Charged Off'], ['Charged Off', 'Fully Paid'], ['Charged Off', 'Fully Paid'], ['Charged Off'], ['Charged Off'], ['Charged Off', 'Fully Paid'], ['Charged Off', 'Fully Paid'], ['Charged Off'], ['Charged Off'], ['Charged Off'], ['Charged Off'], ['Charged Off'], ['Charged Off'], ['Charged Off'], ['Charged Off'], ['Charged Off', 'Fully Paid'], ['Charged Off', 'Fully Paid'], ['Charged Off', 'Fully Paid'], ['Charged Off'], ['Charged Off', 'Fully Paid'], ['Charged Off'], ['Charged Off'], ['Charged Off'], ['Charged Off'], ['Fully Paid'], ['Charged Off'], ['Charged Off'], ['Fully Paid'], ['Charged Off'], ['Charged Off'], ['Charged Off'], ['Charged Off', 'Fully Paid'], ['Charged Off', 'Fully Paid'], ['Fully Paid'], ['Charged Off', 'Fully Paid'], ['Charged Off'], ['Charged Off'], ['Charged Off'], ['Charged Off', 'Fully Paid'], ['Charged Off', 'Fully Paid'], ['Charged Off'], ['Charged Off', 'Fully Paid'], ['Charged Off'], ['Charged Off'], ['Charged Off'], ['Charged Off', 'Fully Paid'], ['Charged Off'], ['Charged Off', 'Fully Paid'], ['Charged Off', 'Fully Paid'], ['Charged Off'], ['Charged Off'], ['Charged Off', 'Fully Paid'], ['Charged Off', 'Fully Paid'], ['Charged Off'], ['Charged Off'], ['Charged Off', 'Fully Paid'], ['Charged Off'], ['Charged Off'], ['Charged Off'], ['Charged Off', 'Fully Paid'], ['Charged Off'], ['Charged Off', 'Fully Paid'], ['Charged Off'], ['Charged Off'], ['Charged Off'], ['Charged Off'], ['Charged Off'], ['Charged Off'], ['Charged Off'], ['Fully Paid'], ['Charged Off'], ['Charged Off'], ['Charged Off'], ['Charged Off'], ['Charged Off', 'Fully Paid'], ['Fully Paid'], ['Charged Off'], ['Charged Off'], ['Fully Paid'], ['Charged Off', 'Fully Paid'], ['Charged Off'], ['Charged Off'], ['Charged Off', 'Fully Paid'], ['Charged Off'], ['Charged Off', 'Fully Paid'], ['Charged Off'], ['Charged Off'], ['Fully Paid'], ['Charged Off'], ['Charged Off', 'Fully Paid'], ['Charged Off'], ['Charged Off', 'Fully Paid'], ['Fully Paid'], ['Charged Off', 'Fully Paid'], ['Charged Off', 'Fully Paid'], ['Charged Off'], ['Charged Off'], ['Charged Off', 'Fully Paid'], ['Charged Off'], ['Charged Off'], ['Charged Off'], ['Charged Off'], ['Charged Off'], ['Charged Off'], ['Charged Off'], ['Charged Off'], ['Fully Paid'], ['Charged Off'], ['Charged Off'], ['Fully Paid'], ['Charged Off', 'Fully Paid'], ['Charged Off'], ['Fully Paid'], ['Charged Off', 'Fully Paid'], ['Charged Off', 'Fully Paid'], ['Charged Off'], ['Charged Off'], ['Charged Off'], ['Charged Off', 'Fully Paid'], ['Charged Off'], ['Charged Off'], ['Charged Off'], ['Charged Off'], ['Charged Off'], ['Charged Off'], ['Charged Off'], ['Charged Off'], ['Charged Off'], ['Charged Off'], ['Charged Off', 'Fully Paid'], ['Charged Off'], ['Charged Off', 'Fully Paid'], ['Charged Off'], ['Charged Off'], ['Charged Off'], ['Charged Off'], ['Charged Off', 'Fully Paid'], ['Charged Off'], ['Charged Off', 'Fully Paid'], ['Charged Off'], ['Fully Paid'], ['Charged Off', 'Fully Paid'], ['Charged Off'], ['Fully Paid'], ['Fully Paid'], ['Charged Off'], ['Fully Paid'], ['Charged Off'], ['Charged Off'], ['Charged Off'], ['Charged Off'], ['Charged Off'], ['Charged Off'], ['Charged Off', 'Fully Paid'], ['Charged Off', 'Fully Paid'], ['Charged Off', 'Fully Paid'], ['Charged Off'], ['Fully Paid'], ['Charged Off'], ['Charged Off'], ['Fully Paid'], ['Charged Off', 'Fully Paid'], ['Charged Off'], ['Charged Off'], ['Charged Off', 'Fully Paid'], ['Fully Paid'], ['Charged Off'], ['Charged Off', 'Fully Paid'], ['Charged Off'], ['Charged Off'], ['Fully Paid'], ['Charged Off', 'Fully Paid'], ['Charged Off'], ['Charged Off'], ['Charged Off'], ['Charged Off'], ['Charged Off'], ['Charged Off'], ['Charged Off'], ['Charged Off'], ['Charged Off'], ['Charged Off'], ['Charged Off', 'Fully Paid'], ['Charged Off'], ['Fully Paid'], ['Charged Off'], ['Charged Off'], ['Charged Off'], ['Charged Off'], ['Charged Off', 'Fully Paid'], ['Charged Off', 'Fully Paid'], ['Charged Off'], ['Fully Paid'], ['Charged Off'], ['Charged Off'], ['Charged Off', 'Fully Paid'], ['Charged Off', 'Fully Paid'], ['Charged Off'], ['Charged Off'], ['Fully Paid'], ['Charged Off'], ['Fully Paid'], ['Charged Off'], ['Charged Off'], ['Fully Paid'], ['Charged Off', 'Fully Paid'], ['Fully Paid'], ['Fully Paid'], ['Charged Off'], ['Fully Paid'], ['Charged Off'], ['Charged Off'], ['Charged Off'], ['Charged Off'], ['Charged Off'], ['Charged Off', 'Fully Paid'], ['Fully Paid'], ['Charged Off'], ['Charged Off'], ['Charged Off', 'Fully Paid'], ['Charged Off', 'Fully Paid'], ['Charged Off'], ['Fully Paid'], ['Fully Paid'], ['Charged Off'], ['Charged Off'], ['Charged Off'], ['Charged Off'], ['Charged Off'], ['Fully Paid'], ['Charged Off'], ['Charged Off', 'Fully Paid'], ['Charged Off', 'Fully Paid'], ['Charged Off'], ['Charged Off'], ['Fully Paid'], ['Charged Off'], ['Charged Off', 'Fully Paid'], ['Charged Off'], ['Charged Off', 'Fully Paid'], ['Fully Paid'], ['Charged Off'], ['Charged Off'], ['Charged Off', 'Fully Paid'], ['Charged Off', 'Fully Paid'], ['Charged Off'], ['Charged Off'], ['Charged Off'], ['Charged Off'], ['Charged Off', 'Fully Paid'], ['Charged Off'], ['Charged Off'], ['Charged Off'], ['Charged Off', 'Fully Paid'], ['Charged Off'], ['Charged Off'], ['Fully Paid'], ['Charged Off'], ['Charged Off'], ['Charged Off', 'Fully Paid'], ['Fully Paid'], ['Charged Off'], ['Charged Off'], ['Charged Off', 'Fully Paid'], ['Fully Paid'], ['Fully Paid'], ['Charged Off', 'Fully Paid'], ['Charged Off', 'Fully Paid'], ['Fully Paid'], ['Fully Paid'], ['Charged Off'], ['Charged Off'], ['Charged Off'], ['Charged Off'], ['Charged Off'], ['Charged Off'], ['Charged Off'], ['Charged Off'], ['Charged Off'], ['Charged Off', 'Fully Paid'], ['Charged Off'], ['Charged Off'], ['Charged Off'], ['Fully Paid'], ['Fully Paid'], ['Charged Off'], ['Charged Off'], ['Fully Paid'], ['Charged Off'], ['Charged Off', 'Fully Paid'], ['Charged Off'], ['Charged Off'], ['Charged Off'], ['Charged Off'], ['Charged Off'], ['Charged Off', 'Fully Paid'], ['Charged Off'], ['Charged Off'], ['Charged Off'], ['Charged Off', 'Fully Paid'], ['Charged Off'], ['Charged Off', 'Fully Paid'], ['Charged Off'], ['Charged Off'], ['Fully Paid'], ['Charged Off'], ['Charged Off'], ['Charged Off'], ['Charged Off'], ['Charged Off', 'Fully Paid'], ['Charged Off'], ['Charged Off'], ['Charged Off'], ['Charged Off', 'Fully Paid'], ['Charged Off', 'Fully Paid'], ['Charged Off', 'Fully Paid'], ['Fully Paid'], ['Charged Off'], ['Charged Off', 'Fully Paid'], ['Charged Off', 'Fully Paid'], ['Charged Off', 'Fully Paid'], ['Fully Paid'], ['Charged Off'], ['Charged Off'], ['Fully Paid'], ['Charged Off'], ['Charged Off', 'Fully Paid'], ['Charged Off'], ['Charged Off'], ['Charged Off'], ['Charged Off', 'Fully Paid'], ['Charged Off', 'Fully Paid'], ['Charged Off'], ['Fully Paid'], ['Charged Off', 'Fully Paid'], ['Charged Off'], ['Charged Off'], ['Charged Off', 'Fully Paid'], ['Charged Off'], ['Charged Off', 'Fully Paid'], ['Charged Off'], ['Charged Off'], ['Charged Off'], ['Charged Off'], ['Charged Off'], ['Fully Paid'], ['Charged Off', 'Fully Paid'], ['Charged Off', 'Fully Paid'], ['Charged Off'], ['Charged Off', 'Fully Paid'], ['Charged Off'], ['Charged Off'], ['Charged Off'], ['Charged Off'], ['Fully Paid'], ['Charged Off'], ['Charged Off', 'Fully Paid'], ['Charged Off', 'Fully Paid'], ['Charged Off'], ['Charged Off', 'Fully Paid'], ['Charged Off', 'Fully Paid'], ['Charged Off'], ['Fully Paid'], ['Charged Off'], ['Charged Off'], ['Charged Off'], ['Charged Off', 'Fully Paid'], ['Charged Off', 'Fully Paid'], ['Charged Off'], ['Charged Off', 'Fully Paid'], ['Charged Off'], ['Charged Off'], ['Charged Off', 'Fully Paid'], ['Charged Off', 'Fully Paid'], ['Charged Off', 'Fully Paid'], ['Charged Off'], ['Charged Off'], ['Charged Off'], ['Charged Off'], ['Charged Off'], ['Fully Paid'], ['Charged Off'], ['Charged Off'], ['Fully Paid'], ['Charged Off'], ['Charged Off'], ['Charged Off', 'Fully Paid'], ['Charged Off', 'Fully Paid'], ['Charged Off'], ['Charged Off'], ['Charged Off', 'Fully Paid'], ['Charged Off'], ['Charged Off'], ['Fully Paid'], ['Charged Off'], ['Charged Off'], ['Charged Off', 'Fully Paid'], ['Charged Off'], ['Charged Off', 'Fully Paid'], ['Charged Off'], ['Charged Off'], ['Charged Off', 'Fully Paid'], ['Charged Off'], ['Charged Off', 'Fully Paid'], ['Charged Off'], ['Charged Off', 'Fully Paid'], ['Charged Off', 'Fully Paid'], ['Charged Off', 'Fully Paid'], ['Charged Off'], ['Charged Off'], ['Fully Paid'], ['Fully Paid'], ['Charged Off', 'Fully Paid'], ['Charged Off'], ['Charged Off'], ['Charged Off'], ['Charged Off', 'Fully Paid'], ['Charged Off', 'Fully Paid'], ['Charged Off', 'Fully Paid'], ['Charged Off'], ['Charged Off'], ['Charged Off'], ['Charged Off'], ['Charged Off'], ['Charged Off', 'Fully Paid'], ['Charged Off', 'Fully Paid'], ['Charged Off', 'Fully Paid'], ['Charged Off', 'Fully Paid'], ['Charged Off'], ['Charged Off'], ['Charged Off'], ['Charged Off'], ['Charged Off', 'Fully Paid'], ['Fully Paid'], ['Charged Off'], ['Charged Off', 'Fully Paid'], ['Charged Off'], ['Charged Off'], ['Charged Off'], ['Fully Paid'], ['Charged Off'], ['Charged Off', 'Fully Paid'], ['Charged Off'], ['Charged Off', 'Fully Paid'], ['Charged Off'], ['Charged Off'], ['Charged Off'], ['Charged Off'], ['Charged Off'], ['Charged Off'], ['Charged Off'], ['Charged Off'], ['Charged Off', 'Fully Paid'], ['Charged Off'], ['Charged Off', 'Fully Paid'], ['Fully Paid'], ['Charged Off'], ['Charged Off'], ['Fully Paid'], ['Charged Off'], ['Charged Off', 'Fully Paid'], ['Charged Off', 'Fully Paid'], ['Charged Off', 'Fully Paid'], ['Charged Off'], ['Charged Off'], ['Charged Off'], ['Charged Off', 'Fully Paid'], ['Charged Off'], ['Charged Off'], ['Charged Off'], ['Charged Off'], ['Charged Off', 'Fully Paid'], ['Fully Paid'], ['Charged Off'], ['Charged Off'], ['Charged Off'], ['Charged Off', 'Fully Paid'], ['Charged Off', 'Fully Paid'], ['Charged Off'], ['Charged Off'], ['Charged Off'], ['Charged Off'], ['Charged Off', 'Fully Paid'], ['Charged Off'], ['Charged Off', 'Fully Paid'], ['Charged Off'], ['Charged Off', 'Fully Paid'], ['Charged Off'], ['Charged Off'], ['Charged Off'], ['Charged Off'], ['Charged Off', 'Fully Paid'], ['Fully Paid'], ['Fully Paid'], ['Charged Off'], ['Charged Off', 'Fully Paid'], ['Charged Off'], ['Charged Off'], ['Charged Off'], ['Charged Off', 'Fully Paid'], ['Charged Off'], ['Charged Off', 'Fully Paid'], ['Charged Off'], ['Charged Off'], ['Charged Off', 'Fully Paid'], ['Charged Off', 'Fully Paid'], ['Charged Off'], ['Fully Paid'], ['Charged Off', 'Fully Paid'], ['Charged Off'], ['Charged Off'], ['Charged Off'], ['Charged Off'], ['Charged Off'], ['Charged Off'], ['Charged Off'], ['Charged Off'], ['Charged Off'], ['Charged Off'], ['Charged Off'], ['Charged Off'], ['Charged Off'], ['Charged Off', 'Fully Paid'], ['Charged Off'], ['Charged Off'], ['Fully Paid'], ['Charged Off'], ['Charged Off', 'Fully Paid'], ['Charged Off'], ['Charged Off'], ['Charged Off'], ['Charged Off', 'Fully Paid'], ['Charged Off'], ['Charged Off'], ['Charged Off'], ['Charged Off'], ['Charged Off'], ['Charged Off'], ['Charged Off', 'Fully Paid'], ['Charged Off', 'Fully Paid'], ['Charged Off'], ['Charged Off'], ['Charged Off', 'Fully Paid'], ['Charged Off'], ['Charged Off'], ['Charged Off', 'Fully Paid'], ['Charged Off', 'Fully Paid'], ['Charged Off'], ['Charged Off', 'Fully Paid'], ['Charged Off'], ['Charged Off'], ['Charged Off'], ['Charged Off', 'Fully Paid'], ['Charged Off', 'Fully Paid'], ['Charged Off', 'Fully Paid'], ['Fully Paid'], ['Charged Off'], ['Charged Off', 'Fully Paid'], ['Charged Off'], ['Charged Off'], ['Fully Paid'], ['Fully Paid'], ['Charged Off'], ['Charged Off'], ['Charged Off'], ['Fully Paid'], ['Charged Off', 'Fully Paid'], ['Charged Off', 'Fully Paid'], ['Fully Paid'], ['Charged Off'], ['Charged Off', 'Fully Paid'], ['Charged Off'], ['Charged Off', 'Fully Paid'], ['Charged Off'], ['Charged Off'], ['Charged Off', 'Fully Paid'], ['Charged Off'], ['Charged Off'], ['Fully Paid'], ['Charged Off'], ['Fully Paid'], ['Charged Off', 'Fully Paid'], ['Charged Off'], ['Charged Off'], ['Charged Off'], ['Fully Paid'], ['Charged Off', 'Fully Paid'], ['Charged Off', 'Fully Paid'], ['Charged Off'], ['Charged Off'], ['Charged Off'], ['Charged Off'], ['Charged Off', 'Fully Paid'], ['Fully Paid'], ['Charged Off', 'Fully Paid'], ['Charged Off'], ['Charged Off'], ['Charged Off'], ['Charged Off', 'Fully Paid'], ['Charged Off'], ['Charged Off'], ['Charged Off', 'Fully Paid'], ['Charged Off'], ['Charged Off'], ['Charged Off'], ['Charged Off'], ['Charged Off'], ['Charged Off', 'Fully Paid'], ['Charged Off'], ['Charged Off'], ['Charged Off'], ['Charged Off', 'Fully Paid'], ['Charged Off'], ['Charged Off', 'Fully Paid'], ['Charged Off', 'Fully Paid'], ['Charged Off'], ['Fully Paid'], ['Charged Off'], ['Fully Paid'], ['Fully Paid'], ['Charged Off'], ['Fully Paid'], ['Charged Off'], ['Charged Off', 'Fully Paid'], ['Fully Paid'], ['Charged Off'], ['Charged Off', 'Fully Paid'], ['Charged Off'], ['Charged Off'], ['Charged Off'], ['Charged Off'], ['Fully Paid'], ['Charged Off'], ['Charged Off'], ['Charged Off', 'Fully Paid'], ['Charged Off'], ['Fully Paid'], ['Charged Off'], ['Charged Off'], ['Charged Off'], ['Charged Off', 'Fully Paid'], ['Charged Off', 'Fully Paid'], ['Fully Paid'], ['Charged Off'], ['Charged Off'], ['Charged Off'], ['Fully Paid'], ['Charged Off'], ['Charged Off'], ['Charged Off', 'Fully Paid'], ['Charged Off'], ['Charged Off'], ['Charged Off', 'Fully Paid'], ['Charged Off'], ['Charged Off'], ['Charged Off', 'Fully Paid'], ['Charged Off', 'Fully Paid'], ['Charged Off'], ['Charged Off'], ['Charged Off'], ['Charged Off'], ['Charged Off'], ['Charged Off'], ['Fully Paid'], ['Charged Off'], ['Charged Off', 'Fully Paid'], ['Charged Off'], ['Charged Off'], ['Charged Off'], ['Charged Off'], ['Charged Off', 'Fully Paid'], ['Charged Off'], ['Charged Off'], ['Charged Off'], ['Charged Off'], ['Charged Off'], ['Charged Off', 'Fully Paid'], ['Fully Paid'], ['Charged Off'], ['Charged Off'], ['Charged Off'], ['Charged Off'], ['Charged Off'], ['Charged Off', 'Fully Paid'], ['Charged Off', 'Fully Paid'], ['Charged Off'], ['Charged Off'], ['Charged Off'], ['Charged Off'], ['Charged Off'], ['Charged Off'], ['Charged Off', 'Fully Paid'], ['Charged Off'], ['Charged Off', 'Fully Paid'], ['Charged Off'], ['Charged Off'], ['Charged Off'], ['Fully Paid'], ['Charged Off'], ['Charged Off', 'Fully Paid'], ['Charged Off'], ['Fully Paid'], ['Charged Off'], ['Charged Off', 'Fully Paid'], ['Fully Paid'], ['Charged Off'], ['Charged Off'], ['Charged Off'], ['Charged Off'], ['Charged Off'], ['Charged Off'], ['Charged Off'], ['Charged Off'], ['Charged Off'], ['Charged Off', 'Fully Paid'], ['Charged Off'], ['Charged Off'], ['Fully Paid'], ['Charged Off', 'Fully Paid'], ['Charged Off', 'Fully Paid'], ['Charged Off', 'Fully Paid'], ['Charged Off'], ['Charged Off', 'Fully Paid'], ['Charged Off'], ['Fully Paid'], ['Charged Off'], ['Charged Off'], ['Charged Off', 'Fully Paid'], ['Charged Off'], ['Charged Off', 'Fully Paid'], ['Charged Off'], ['Charged Off'], ['Charged Off'], ['Charged Off'], ['Charged Off', 'Fully Paid'], ['Charged Off'], ['Charged Off'], ['Charged Off', 'Fully Paid'], ['Charged Off', 'Fully Paid'], ['Fully Paid'], ['Charged Off', 'Fully Paid'], ['Charged Off'], ['Charged Off'], ['Charged Off'], ['Charged Off', 'Fully Paid'], ['Charged Off', 'Fully Paid'], ['Charged Off'], ['Charged Off', 'Fully Paid'], ['Charged Off', 'Fully Paid'], ['Charged Off'], ['Charged Off'], ['Charged Off'], ['Fully Paid'], ['Charged Off', 'Fully Paid'], ['Charged Off', 'Fully Paid'], ['Fully Paid'], ['Charged Off', 'Fully Paid'], ['Charged Off'], ['Charged Off'], ['Charged Off', 'Fully Paid'], ['Charged Off'], ['Charged Off', 'Fully Paid'], ['Charged Off'], ['Fully Paid'], ['Charged Off'], ['Charged Off'], ['Charged Off'], ['Charged Off', 'Fully Paid'], ['Fully Paid'], ['Fully Paid'], ['Charged Off'], ['Charged Off'], ['Charged Off'], ['Charged Off'], ['Charged Off'], ['Charged Off'], ['Charged Off'], ['Charged Off', 'Fully Paid'], ['Charged Off'], ['Charged Off', 'Fully Paid'], ['Charged Off'], ['Charged Off', 'Fully Paid'], ['Charged Off'], ['Charged Off'], ['Charged Off', 'Fully Paid'], ['Charged Off'], ['Charged Off'], ['Charged Off', 'Fully Paid'], ['Charged Off'], ['Charged Off'], ['Charged Off'], ['Charged Off'], ['Fully Paid'], ['Charged Off', 'Fully Paid'], ['Fully Paid'], ['Fully Paid'], ['Charged Off'], ['Charged Off'], ['Charged Off'], ['Charged Off'], ['Charged Off'], ['Fully Paid'], ['Charged Off', 'Fully Paid'], ['Charged Off', 'Fully Paid'], ['Charged Off'], ['Charged Off', 'Fully Paid'], ['Charged Off'], ['Charged Off'], ['Charged Off', 'Fully Paid'], ['Charged Off', 'Fully Paid'], ['Charged Off'], ['Charged Off', 'Fully Paid'], ['Charged Off', 'Fully Paid'], ['Charged Off'], ['Charged Off', 'Fully Paid'], ['Charged Off'], ['Charged Off'], ['Charged Off'], ['Charged Off'], ['Charged Off'], ['Charged Off'], ['Charged Off'], ['Charged Off'], ['Charged Off'], ['Charged Off'], ['Charged Off', 'Fully Paid'], ['Charged Off', 'Fully Paid'], ['Charged Off', 'Fully Paid'], ['Charged Off', 'Fully Paid'], ['Charged Off'], ['Charged Off'], ['Charged Off'], ['Charged Off', 'Fully Paid'], ['Charged Off'], ['Charged Off', 'Fully Paid'], ['Charged Off', 'Fully Paid'], ['Charged Off', 'Fully Paid'], ['Fully Paid'], ['Charged Off'], ['Fully Paid'], ['Charged Off'], ['Charged Off'], ['Charged Off'], ['Fully Paid'], ['Fully Paid'], ['Charged Off', 'Fully Paid'], ['Charged Off'], ['Charged Off', 'Fully Paid'], ['Charged Off'], ['Charged Off'], ['Charged Off'], ['Charged Off'], ['Charged Off', 'Fully Paid'], ['Charged Off', 'Fully Paid'], ['Fully Paid'], ['Charged Off'], ['Charged Off'], ['Charged Off'], ['Charged Off'], ['Charged Off'], ['Charged Off'], ['Charged Off'], ['Charged Off', 'Fully Paid'], ['Charged Off'], ['Charged Off'], ['Charged Off'], ['Charged Off', 'Fully Paid'], ['Charged Off'], ['Charged Off'], ['Charged Off', 'Fully Paid'], ['Fully Paid'], ['Fully Paid'], ['Charged Off'], ['Charged Off'], ['Charged Off', 'Fully Paid'], ['Charged Off'], ['Charged Off'], ['Charged Off', 'Fully Paid'], ['Charged Off'], ['Charged Off'], ['Charged Off'], ['Charged Off'], ['Charged Off'], ['Charged Off', 'Fully Paid'], ['Charged Off', 'Fully Paid'], ['Charged Off'], ['Charged Off', 'Fully Paid'], ['Charged Off'], ['Charged Off'], ['Charged Off', 'Fully Paid'], ['Charged Off'], ['Charged Off'], ['Fully Paid'], ['Charged Off', 'Fully Paid'], ['Fully Paid'], ['Charged Off'], ['Charged Off', 'Fully Paid'], ['Charged Off'], ['Fully Paid'], ['Charged Off'], ['Charged Off', 'Fully Paid'], ['Charged Off'], ['Charged Off'], ['Charged Off'], ['Charged Off'], ['Charged Off'], ['Charged Off'], ['Charged Off'], ['Fully Paid'], ['Charged Off'], ['Fully Paid'], ['Charged Off'], ['Charged Off'], ['Charged Off'], ['Fully Paid'], ['Charged Off', 'Fully Paid'], ['Charged Off', 'Fully Paid'], ['Charged Off'], ['Charged Off'], ['Charged Off'], ['Charged Off'], ['Charged Off'], ['Charged Off'], ['Charged Off'], ['Charged Off', 'Fully Paid'], ['Charged Off'], ['Charged Off'], ['Charged Off'], ['Charged Off'], ['Charged Off'], ['Charged Off', 'Fully Paid'], ['Charged Off'], ['Charged Off'], ['Charged Off', 'Fully Paid'], ['Charged Off'], ['Charged Off'], ['Charged Off', 'Fully Paid'], ['Charged Off', 'Fully Paid'], ['Charged Off'], ['Charged Off', 'Fully Paid'], ['Charged Off', 'Fully Paid'], ['Fully Paid'], ['Fully Paid'], ['Charged Off'], ['Charged Off'], ['Charged Off'], ['Charged Off'], ['Charged Off', 'Fully Paid'], ['Fully Paid'], ['Charged Off'], ['Charged Off'], ['Charged Off'], ['Charged Off'], ['Charged Off', 'Fully Paid'], ['Charged Off', 'Fully Paid'], ['Charged Off'], ['Charged Off'], ['Charged Off'], ['Charged Off'], ['Charged Off', 'Fully Paid'], ['Charged Off', 'Fully Paid'], ['Charged Off', 'Fully Paid'], ['Charged Off'], ['Charged Off'], ['Charged Off', 'Fully Paid'], ['Charged Off'], ['Charged Off', 'Fully Paid'], ['Charged Off'], ['Charged Off', 'Fully Paid'], ['Charged Off'], ['Charged Off', 'Fully Paid'], ['Charged Off', 'Fully Paid'], ['Charged Off', 'Fully Paid'], ['Charged Off', 'Fully Paid'], ['Fully Paid'], ['Charged Off'], ['Charged Off'], ['Charged Off'], ['Charged Off'], ['Charged Off'], ['Charged Off'], ['Charged Off', 'Fully Paid'], ['Charged Off'], ['Charged Off'], ['Charged Off'], ['Charged Off', 'Fully Paid'], ['Charged Off'], ['Charged Off'], ['Charged Off', 'Fully Paid'], ['Charged Off'], ['Charged Off', 'Fully Paid'], ['Charged Off'], ['Charged Off'], ['Charged Off'], ['Charged Off'], ['Charged Off'], ['Fully Paid'], ['Charged Off'], ['Charged Off'], ['Fully Paid'], ['Charged Off', 'Fully Paid'], ['Charged Off', 'Fully Paid'], ['Charged Off', 'Fully Paid'], ['Charged Off', 'Fully Paid'], ['Fully Paid'], ['Charged Off'], ['Fully Paid'], ['Charged Off'], ['Charged Off', 'Fully Paid'], ['Charged Off'], ['Charged Off', 'Fully Paid'], ['Charged Off'], ['Charged Off'], ['Charged Off'], ['Charged Off'], ['Charged Off', 'Fully Paid'], ['Charged Off'], ['Charged Off'], ['Charged Off'], ['Charged Off'], ['Charged Off'], ['Charged Off', 'Fully Paid'], ['Charged Off', 'Fully Paid'], ['Charged Off'], ['Fully Paid'], ['Fully Paid'], ['Charged Off'], ['Charged Off'], ['Charged Off'], ['Fully Paid'], ['Charged Off'], ['Fully Paid'], ['Charged Off'], ['Charged Off'], ['Charged Off'], ['Charged Off'], ['Fully Paid'], ['Charged Off'], ['Charged Off', 'Fully Paid'], ['Charged Off', 'Fully Paid'], ['Charged Off'], ['Charged Off', 'Fully Paid'], ['Charged Off', 'Fully Paid'], ['Charged Off'], ['Charged Off', 'Fully Paid'], ['Fully Paid'], ['Fully Paid'], ['Charged Off', 'Fully Paid'], ['Charged Off', 'Fully Paid'], ['Charged Off', 'Fully Paid'], ['Charged Off', 'Fully Paid'], ['Charged Off'], ['Charged Off'], ['Charged Off'], ['Charged Off', 'Fully Paid'], ['Charged Off', 'Fully Paid'], ['Charged Off'], ['Charged Off', 'Fully Paid'], ['Charged Off', 'Fully Paid'], ['Charged Off'], ['Charged Off'], ['Charged Off'], ['Charged Off'], ['Charged Off'], ['Charged Off'], ['Charged Off'], ['Charged Off'], ['Fully Paid'], ['Charged Off'], ['Charged Off'], ['Charged Off', 'Fully Paid'], ['Charged Off'], ['Charged Off'], ['Charged Off'], ['Charged Off'], ['Fully Paid'], ['Charged Off', 'Fully Paid'], ['Fully Paid'], ['Fully Paid'], ['Fully Paid'], ['Charged Off'], ['Charged Off', 'Fully Paid'], ['Charged Off'], ['Charged Off', 'Fully Paid'], ['Charged Off', 'Fully Paid'], ['Charged Off'], ['Charged Off'], ['Charged Off'], ['Charged Off'], ['Charged Off', 'Fully Paid'], ['Charged Off', 'Fully Paid'], ['Charged Off'], ['Charged Off', 'Fully Paid'], ['Charged Off', 'Fully Paid'], ['Charged Off'], ['Charged Off'], ['Fully Paid'], ['Fully Paid'], ['Charged Off'], ['Fully Paid'], ['Charged Off'], ['Charged Off', 'Fully Paid'], ['Fully Paid'], ['Charged Off', 'Fully Paid'], ['Charged Off', 'Fully Paid'], ['Charged Off'], ['Charged Off'], ['Charged Off'], ['Charged Off'], ['Charged Off'], ['Fully Paid'], ['Fully Paid'], ['Charged Off'], ['Charged Off', 'Fully Paid'], ['Charged Off', 'Fully Paid'], ['Charged Off'], ['Charged Off'], ['Charged Off'], ['Charged Off'], ['Fully Paid'], ['Charged Off'], ['Charged Off'], ['Fully Paid'], ['Charged Off', 'Fully Paid'], ['Charged Off', 'Fully Paid'], ['Charged Off'], ['Charged Off'], ['Charged Off'], ['Charged Off'], ['Charged Off', 'Fully Paid'], ['Charged Off'], ['Charged Off'], ['Charged Off', 'Fully Paid'], ['Charged Off'], ['Charged Off', 'Fully Paid'], ['Charged Off', 'Fully Paid'], ['Charged Off'], ['Charged Off'], ['Charged Off', 'Fully Paid'], ['Charged Off'], ['Charged Off'], ['Charged Off', 'Fully Paid'], ['Fully Paid'], ['Charged Off'], ['Charged Off'], ['Charged Off'], ['Charged Off'], ['Charged Off'], ['Charged Off'], ['Charged Off'], ['Charged Off'], ['Charged Off'], ['Charged Off'], ['Charged Off', 'Fully Paid'], ['Charged Off'], ['Charged Off'], ['Charged Off'], ['Fully Paid'], ['Charged Off'], ['Charged Off'], ['Charged Off'], ['Charged Off'], ['Charged Off'], ['Charged Off'], ['Charged Off', 'Fully Paid'], ['Charged Off'], ['Fully Paid'], ['Fully Paid'], ['Charged Off'], ['Charged Off', 'Fully Paid'], ['Charged Off'], ['Charged Off'], ['Charged Off'], ['Charged Off'], ['Charged Off', 'Fully Paid'], ['Fully Paid'], ['Charged Off', 'Fully Paid'], ['Charged Off'], ['Fully Paid'], ['Charged Off'], ['Charged Off'], ['Charged Off', 'Fully Paid'], ['Charged Off'], ['Charged Off', 'Fully Paid'], ['Charged Off'], ['Fully Paid'], ['Charged Off', 'Fully Paid'], ['Charged Off', 'Fully Paid'], ['Charged Off'], ['Fully Paid'], ['Charged Off'], ['Fully Paid'], ['Charged Off'], ['Charged Off'], ['Charged Off'], ['Fully Paid'], ['Charged Off'], ['Charged Off'], ['Fully Paid'], ['Charged Off', 'Fully Paid'], ['Charged Off'], ['Charged Off', 'Fully Paid'], ['Charged Off'], ['Fully Paid'], ['Charged Off'], ['Charged Off', 'Fully Paid'], ['Charged Off'], ['Charged Off'], ['Charged Off'], ['Charged Off'], ['Charged Off'], ['Fully Paid'], ['Charged Off', 'Fully Paid'], ['Charged Off'], ['Charged Off'], ['Charged Off'], ['Charged Off', 'Fully Paid'], ['Charged Off', 'Fully Paid'], ['Charged Off'], ['Charged Off'], ['Charged Off'], ['Charged Off'], ['Charged Off'], ['Fully Paid'], ['Charged Off'], ['Charged Off'], ['Charged Off'], ['Charged Off'], ['Charged Off'], ['Charged Off'], ['Charged Off'], ['Charged Off'], ['Charged Off'], ['Charged Off'], ['Charged Off'], ['Charged Off'], ['Charged Off'], ['Fully Paid'], ['Charged Off', 'Fully Paid'], ['Fully Paid'], ['Charged Off', 'Fully Paid'], ['Fully Paid'], ['Charged Off'], ['Charged Off'], ['Fully Paid'], ['Charged Off'], ['Charged Off', 'Fully Paid'], ['Charged Off'], ['Charged Off'], ['Charged Off', 'Fully Paid'], ['Charged Off', 'Fully Paid'], ['Charged Off', 'Fully Paid'], ['Charged Off'], ['Charged Off'], ['Charged Off'], ['Charged Off', 'Fully Paid'], ['Charged Off'], ['Charged Off'], ['Charged Off'], ['Charged Off', 'Fully Paid'], ['Charged Off'], ['Charged Off'], ['Fully Paid'], ['Charged Off'], ['Charged Off', 'Fully Paid'], ['Charged Off'], ['Fully Paid'], ['Charged Off'], ['Charged Off'], ['Fully Paid'], ['Charged Off'], ['Charged Off'], ['Charged Off'], ['Charged Off'], ['Fully Paid'], ['Fully Paid'], ['Charged Off'], ['Charged Off'], ['Charged Off'], ['Charged Off'], ['Fully Paid'], ['Charged Off'], ['Fully Paid'], ['Charged Off'], ['Charged Off'], ['Charged Off'], ['Fully Paid'], ['Fully Paid'], ['Charged Off'], ['Charged Off'], ['Fully Paid'], ['Charged Off', 'Fully Paid'], ['Charged Off'], ['Charged Off'], ['Charged Off'], ['Fully Paid'], ['Charged Off'], ['Charged Off'], ['Fully Paid'], ['Charged Off'], ['Charged Off'], ['Charged Off', 'Fully Paid'], ['Charged Off', 'Fully Paid'], ['Charged Off'], ['Charged Off'], ['Charged Off'], ['Charged Off'], ['Charged Off'], ['Charged Off'], ['Charged Off'], ['Charged Off'], ['Charged Off', 'Fully Paid'], ['Charged Off'], ['Charged Off'], ['Charged Off'], ['Fully Paid'], ['Fully Paid'], ['Charged Off'], ['Charged Off'], ['Charged Off', 'Fully Paid'], ['Charged Off'], ['Fully Paid'], ['Charged Off'], ['Charged Off'], ['Charged Off', 'Fully Paid'], ['Charged Off'], ['Charged Off'], ['Charged Off'], ['Charged Off'], ['Charged Off'], ['Charged Off', 'Fully Paid'], ['Fully Paid'], ['Charged Off'], ['Charged Off', 'Fully Paid'], ['Charged Off'], ['Charged Off'], ['Fully Paid'], ['Charged Off'], ['Charged Off'], ['Charged Off'], ['Charged Off'], ['Charged Off'], ['Charged Off'], ['Charged Off'], ['Charged Off'], ['Charged Off', 'Fully Paid'], ['Charged Off'], ['Charged Off', 'Fully Paid'], ['Charged Off'], ['Charged Off'], ['Charged Off'], ['Charged Off', 'Fully Paid'], ['Fully Paid'], ['Charged Off'], ['Charged Off'], ['Charged Off'], ['Fully Paid'], ['Fully Paid'], ['Charged Off'], ['Charged Off'], ['Charged Off', 'Fully Paid'], ['Charged Off'], ['Charged Off'], ['Fully Paid'], ['Charged Off', 'Fully Paid'], ['Charged Off', 'Fully Paid'], ['Charged Off'], ['Charged Off'], ['Charged Off'], ['Charged Off'], ['Charged Off'], ['Charged Off'], ['Charged Off', 'Fully Paid'], ['Charged Off'], ['Charged Off', 'Fully Paid'], ['Charged Off'], ['Charged Off'], ['Charged Off', 'Fully Paid'], ['Charged Off'], ['Charged Off'], ['Charged Off'], ['Charged Off'], ['Charged Off'], ['Fully Paid'], ['Charged Off'], ['Charged Off'], ['Charged Off', 'Fully Paid'], ['Charged Off'], ['Charged Off'], ['Charged Off'], ['Fully Paid'], ['Charged Off'], ['Charged Off', 'Fully Paid'], ['Charged Off'], ['Charged Off'], ['Charged Off', 'Fully Paid'], ['Charged Off', 'Fully Paid'], ['Charged Off'], ['Charged Off', 'Fully Paid'], ['Charged Off'], ['Fully Paid'], ['Charged Off'], ['Charged Off'], ['Fully Paid'], ['Charged Off'], ['Charged Off'], ['Fully Paid'], ['Charged Off'], ['Charged Off'], ['Charged Off'], ['Charged Off'], ['Charged Off'], ['Charged Off'], ['Charged Off'], ['Charged Off'], ['Charged Off'], ['Charged Off'], ['Charged Off', 'Fully Paid'], ['Charged Off'], ['Charged Off', 'Fully Paid'], ['Charged Off'], ['Charged Off'], ['Charged Off'], ['Charged Off'], ['Charged Off'], ['Charged Off'], ['Charged Off'], ['Charged Off', 'Fully Paid'], ['Charged Off'], ['Charged Off'], ['Charged Off'], ['Charged Off'], ['Charged Off'], ['Fully Paid'], ['Charged Off'], ['Charged Off'], ['Charged Off'], ['Charged Off'], ['Charged Off', 'Fully Paid'], ['Charged Off'], ['Fully Paid'], ['Charged Off', 'Fully Paid'], ['Charged Off'], ['Charged Off', 'Fully Paid'], ['Charged Off'], ['Charged Off'], ['Charged Off', 'Fully Paid'], ['Charged Off'], ['Fully Paid'], ['Charged Off'], ['Charged Off'], ['Charged Off'], ['Charged Off'], ['Charged Off'], ['Charged Off', 'Fully Paid'], ['Charged Off', 'Fully Paid'], ['Charged Off'], ['Fully Paid'], ['Charged Off'], ['Charged Off'], ['Charged Off'], ['Charged Off'], ['Charged Off'], ['Charged Off'], ['Charged Off'], ['Charged Off'], ['Fully Paid'], ['Charged Off'], ['Charged Off', 'Fully Paid'], ['Charged Off'], ['Charged Off'], ['Charged Off'], ['Charged Off'], ['Charged Off', 'Fully Paid'], ['Charged Off'], ['Charged Off'], ['Charged Off'], ['Charged Off', 'Fully Paid'], ['Fully Paid'], ['Charged Off'], ['Charged Off'], ['Charged Off'], ['Charged Off', 'Fully Paid'], ['Charged Off'], ['Charged Off'], ['Charged Off'], ['Charged Off'], ['Charged Off'], ['Charged Off'], ['Charged Off'], ['Fully Paid'], ['Charged Off'], ['Charged Off', 'Fully Paid'], ['Charged Off'], ['Charged Off'], ['Charged Off', 'Fully Paid'], ['Charged Off'], ['Charged Off'], ['Charged Off', 'Fully Paid'], ['Charged Off'], ['Charged Off'], ['Charged Off'], ['Charged Off'], ['Charged Off', 'Fully Paid'], ['Charged Off'], ['Charged Off'], ['Charged Off'], ['Charged Off'], ['Charged Off'], ['Fully Paid'], ['Charged Off'], ['Charged Off', 'Fully Paid'], ['Charged Off'], ['Charged Off'], ['Charged Off', 'Fully Paid'], ['Charged Off', 'Fully Paid'], ['Charged Off', 'Fully Paid'], ['Fully Paid'], ['Charged Off', 'Fully Paid'], ['Fully Paid'], ['Charged Off'], ['Charged Off'], ['Charged Off'], ['Charged Off'], ['Charged Off'], ['Charged Off'], ['Charged Off', 'Fully Paid'], ['Charged Off'], ['Charged Off', 'Fully Paid'], ['Charged Off'], ['Charged Off'], ['Charged Off'], ['Charged Off'], ['Charged Off'], ['Charged Off', 'Fully Paid'], ['Fully Paid'], ['Charged Off', 'Fully Paid'], ['Charged Off'], ['Charged Off', 'Fully Paid'], ['Charged Off'], ['Charged Off'], ['Charged Off'], ['Charged Off'], ['Fully Paid'], ['Charged Off', 'Fully Paid'], ['Fully Paid'], ['Charged Off'], ['Fully Paid'], ['Charged Off'], ['Charged Off'], ['Charged Off', 'Fully Paid'], ['Charged Off'], ['Charged Off'], ['Charged Off', 'Fully Paid'], ['Charged Off'], ['Charged Off'], ['Charged Off'], ['Charged Off', 'Fully Paid'], ['Fully Paid'], ['Charged Off'], ['Charged Off', 'Fully Paid'], ['Charged Off'], ['Charged Off'], ['Charged Off', 'Fully Paid'], ['Charged Off', 'Fully Paid'], ['Charged Off', 'Fully Paid'], ['Charged Off'], ['Charged Off'], ['Charged Off'], ['Charged Off'], ['Fully Paid'], ['Charged Off'], ['Charged Off'], ['Charged Off'], ['Charged Off', 'Fully Paid'], ['Charged Off', 'Fully Paid'], ['Charged Off'], ['Charged Off', 'Fully Paid'], ['Charged Off'], ['Charged Off'], ['Charged Off'], ['Charged Off'], ['Charged Off', 'Fully Paid'], ['Charged Off'], ['Fully Paid'], ['Charged Off'], ['Charged Off'], ['Charged Off'], ['Charged Off', 'Fully Paid'], ['Charged Off'], ['Charged Off'], ['Charged Off', 'Fully Paid'], ['Charged Off'], ['Charged Off'], ['Charged Off'], ['Charged Off'], ['Fully Paid'], ['Charged Off', 'Fully Paid'], ['Charged Off'], ['Charged Off', 'Fully Paid'], ['Charged Off'], ['Charged Off', 'Fully Paid'], ['Charged Off'], ['Charged Off'], ['Charged Off'], ['Fully Paid'], ['Fully Paid'], ['Fully Paid'], ['Charged Off'], ['Charged Off', 'Fully Paid'], ['Charged Off'], ['Charged Off'], ['Charged Off', 'Fully Paid'], ['Charged Off', 'Fully Paid'], ['Charged Off'], ['Charged Off', 'Fully Paid'], ['Charged Off'], ['Fully Paid'], ['Fully Paid'], ['Charged Off', 'Fully Paid'], ['Charged Off'], ['Charged Off'], ['Charged Off', 'Fully Paid'], ['Charged Off', 'Fully Paid'], ['Charged Off'], ['Charged Off', 'Fully Paid'], ['Charged Off'], ['Charged Off', 'Fully Paid'], ['Charged Off'], ['Fully Paid'], ['Charged Off'], ['Charged Off', 'Fully Paid'], ['Charged Off', 'Fully Paid'], ['Charged Off'], ['Charged Off'], ['Charged Off', 'Fully Paid'], ['Charged Off'], ['Charged Off'], ['Charged Off', 'Fully Paid'], ['Charged Off'], ['Fully Paid'], ['Charged Off', 'Fully Paid'], ['Fully Paid'], ['Charged Off', 'Fully Paid'], ['Charged Off'], ['Charged Off', 'Fully Paid'], ['Charged Off'], ['Charged Off'], ['Charged Off'], ['Charged Off', 'Fully Paid'], ['Charged Off'], ['Fully Paid'], ['Charged Off'], ['Charged Off'], ['Charged Off'], ['Charged Off'], ['Charged Off'], ['Charged Off'], ['Charged Off'], ['Charged Off'], ['Charged Off', 'Fully Paid'], ['Charged Off', 'Fully Paid'], ['Charged Off'], ['Charged Off', 'Fully Paid'], ['Charged Off', 'Fully Paid'], ['Charged Off'], ['Charged Off'], ['Charged Off', 'Fully Paid'], ['Fully Paid'], ['Charged Off'], ['Fully Paid'], ['Charged Off', 'Fully Paid'], ['Charged Off'], ['Charged Off'], ['Charged Off', 'Fully Paid'], ['Charged Off'], ['Charged Off'], ['Charged Off'], ['Charged Off'], ['Charged Off'], ['Fully Paid'], ['Charged Off'], ['Charged Off'], ['Charged Off', 'Fully Paid'], ['Charged Off'], ['Charged Off', 'Fully Paid'], ['Charged Off'], ['Charged Off', 'Fully Paid'], ['Charged Off', 'Fully Paid'], ['Charged Off', 'Fully Paid'], ['Charged Off'], ['Charged Off'], ['Charged Off'], ['Charged Off'], ['Charged Off', 'Fully Paid'], ['Charged Off', 'Fully Paid'], ['Charged Off'], ['Charged Off', 'Fully Paid'], ['Charged Off'], ['Charged Off', 'Fully Paid'], ['Fully Paid'], ['Charged Off'], ['Charged Off', 'Fully Paid'], ['Charged Off'], ['Charged Off'], ['Fully Paid'], ['Fully Paid'], ['Charged Off'], ['Charged Off'], ['Charged Off', 'Fully Paid'], ['Charged Off', 'Fully Paid'], ['Charged Off'], ['Charged Off'], ['Charged Off'], ['Charged Off'], ['Charged Off', 'Fully Paid'], ['Charged Off'], ['Fully Paid'], ['Charged Off', 'Fully Paid'], ['Charged Off', 'Fully Paid'], ['Charged Off'], ['Charged Off', 'Fully Paid'], ['Charged Off'], ['Fully Paid'], ['Charged Off'], ['Charged Off', 'Fully Paid'], ['Charged Off'], ['Charged Off'], ['Fully Paid'], ['Charged Off'], ['Charged Off'], ['Charged Off'], ['Charged Off', 'Fully Paid'], ['Charged Off'], ['Charged Off'], ['Charged Off'], ['Fully Paid'], ['Charged Off'], ['Charged Off'], ['Charged Off'], ['Charged Off'], ['Charged Off'], ['Charged Off'], ['Charged Off'], ['Fully Paid'], ['Charged Off', 'Fully Paid'], ['Charged Off', 'Fully Paid'], ['Charged Off'], ['Charged Off'], ['Charged Off'], ['Charged Off'], ['Charged Off'], ['Charged Off', 'Fully Paid'], ['Fully Paid'], ['Charged Off'], ['Charged Off'], ['Charged Off'], ['Charged Off'], ['Charged Off'], ['Charged Off'], ['Charged Off', 'Fully Paid'], ['Charged Off'], ['Fully Paid'], ['Charged Off'], ['Fully Paid'], ['Charged Off'], ['Charged Off', 'Fully Paid'], ['Charged Off', 'Fully Paid'], ['Charged Off', 'Fully Paid'], ['Charged Off', 'Fully Paid'], ['Charged Off'], ['Charged Off'], ['Charged Off'], ['Charged Off'], ['Charged Off', 'Fully Paid'], ['Charged Off'], ['Charged Off', 'Fully Paid'], ['Charged Off', 'Fully Paid'], ['Charged Off'], ['Charged Off', 'Fully Paid'], ['Charged Off'], ['Charged Off'], ['Charged Off'], ['Charged Off'], ['Charged Off', 'Fully Paid'], ['Fully Paid'], ['Charged Off'], ['Charged Off'], ['Charged Off'], ['Charged Off'], ['Charged Off', 'Fully Paid'], ['Charged Off'], ['Charged Off'], ['Charged Off'], ['Charged Off'], ['Charged Off'], ['Fully Paid'], ['Charged Off'], ['Charged Off'], ['Charged Off', 'Fully Paid'], ['Charged Off'], ['Charged Off'], ['Charged Off'], ['Charged Off'], ['Charged Off'], ['Charged Off'], ['Charged Off'], ['Charged Off', 'Fully Paid'], ['Charged Off', 'Fully Paid'], ['Charged Off'], ['Charged Off'], ['Charged Off'], ['Charged Off'], ['Charged Off'], ['Charged Off'], ['Charged Off', 'Fully Paid'], ['Charged Off', 'Fully Paid'], ['Charged Off', 'Fully Paid'], ['Charged Off'], ['Charged Off', 'Fully Paid'], ['Charged Off'], ['Charged Off'], ['Charged Off'], ['Charged Off'], ['Charged Off'], ['Charged Off'], ['Charged Off'], ['Charged Off'], ['Charged Off'], ['Charged Off'], ['Fully Paid'], ['Charged Off'], ['Charged Off', 'Fully Paid'], ['Charged Off', 'Fully Paid'], ['Charged Off'], ['Charged Off'], ['Fully Paid'], ['Charged Off', 'Fully Paid'], ['Charged Off'], ['Charged Off'], ['Charged Off'], ['Charged Off'], ['Charged Off'], ['Charged Off', 'Fully Paid'], ['Charged Off'], ['Charged Off'], ['Charged Off'], ['Fully Paid'], ['Charged Off'], ['Charged Off'], ['Charged Off'], ['Charged Off'], ['Fully Paid'], ['Charged Off'], ['Charged Off'], ['Charged Off'], ['Charged Off'], ['Fully Paid'], ['Charged Off'], ['Charged Off', 'Fully Paid'], ['Fully Paid'], ['Charged Off'], ['Charged Off', 'Fully Paid'], ['Charged Off'], ['Charged Off'], ['Charged Off', 'Fully Paid'], ['Charged Off'], ['Charged Off'], ['Fully Paid'], ['Charged Off', 'Fully Paid'], ['Charged Off'], ['Charged Off'], ['Charged Off'], ['Charged Off', 'Fully Paid'], ['Charged Off', 'Fully Paid'], ['Charged Off'], ['Charged Off'], ['Charged Off'], ['Charged Off'], ['Charged Off'], ['Fully Paid'], ['Charged Off'], ['Charged Off'], ['Charged Off'], ['Charged Off', 'Fully Paid'], ['Charged Off', 'Fully Paid'], ['Charged Off'], ['Charged Off', 'Fully Paid'], ['Charged Off', 'Fully Paid'], ['Charged Off'], ['Charged Off', 'Fully Paid'], ['Charged Off', 'Fully Paid'], ['Charged Off'], ['Charged Off', 'Fully Paid'], ['Charged Off', 'Fully Paid'], ['Charged Off'], ['Charged Off'], ['Charged Off'], ['Charged Off', 'Fully Paid'], ['Charged Off'], ['Charged Off'], ['Charged Off'], ['Charged Off', 'Fully Paid'], ['Charged Off'], ['Charged Off', 'Fully Paid'], ['Charged Off', 'Fully Paid'], ['Charged Off'], ['Charged Off'], ['Charged Off'], ['Charged Off', 'Fully Paid'], ['Charged Off', 'Fully Paid'], ['Charged Off'], ['Charged Off'], ['Charged Off'], ['Charged Off', 'Fully Paid'], ['Charged Off', 'Fully Paid'], ['Charged Off'], ['Fully Paid'], ['Charged Off'], ['Fully Paid'], ['Charged Off'], ['Charged Off'], ['Charged Off'], ['Charged Off'], ['Charged Off'], ['Charged Off'], ['Charged Off'], ['Charged Off'], ['Charged Off'], ['Charged Off', 'Fully Paid'], ['Charged Off'], ['Charged Off', 'Fully Paid'], ['Charged Off'], ['Charged Off'], ['Charged Off'], ['Charged Off', 'Fully Paid'], ['Charged Off', 'Fully Paid'], ['Charged Off'], ['Charged Off'], ['Charged Off'], ['Charged Off'], ['Charged Off', 'Fully Paid'], ['Charged Off'], ['Charged Off'], ['Fully Paid'], ['Charged Off'], ['Charged Off'], ['Fully Paid'], ['Charged Off', 'Fully Paid'], ['Charged Off'], ['Charged Off'], ['Charged Off'], ['Charged Off'], ['Charged Off'], ['Charged Off'], ['Charged Off', 'Fully Paid'], ['Charged Off', 'Fully Paid'], ['Fully Paid'], ['Charged Off', 'Fully Paid'], ['Charged Off'], ['Charged Off'], ['Charged Off', 'Fully Paid'], ['Charged Off'], ['Charged Off'], ['Charged Off', 'Fully Paid'], ['Charged Off', 'Fully Paid'], ['Charged Off', 'Fully Paid'], ['Charged Off', 'Fully Paid'], ['Charged Off'], ['Charged Off'], ['Charged Off'], ['Charged Off'], ['Charged Off', 'Fully Paid'], ['Charged Off'], ['Charged Off'], ['Charged Off'], ['Charged Off'], ['Charged Off'], ['Charged Off', 'Fully Paid'], ['Charged Off'], ['Charged Off', 'Fully Paid'], ['Fully Paid'], ['Fully Paid'], ['Charged Off'], ['Charged Off'], ['Charged Off'], ['Fully Paid'], ['Charged Off'], ['Charged Off'], ['Charged Off', 'Fully Paid'], ['Charged Off', 'Fully Paid'], ['Charged Off'], ['Charged Off'], ['Charged Off'], ['Charged Off'], ['Charged Off', 'Fully Paid'], ['Charged Off'], ['Charged Off', 'Fully Paid'], ['Charged Off'], ['Fully Paid'], ['Charged Off'], ['Charged Off'], ['Charged Off'], ['Charged Off'], ['Charged Off', 'Fully Paid'], ['Charged Off', 'Fully Paid'], ['Fully Paid'], ['Charged Off', 'Fully Paid'], ['Charged Off'], ['Charged Off'], ['Charged Off', 'Fully Paid'], ['Fully Paid'], ['Charged Off', 'Fully Paid'], ['Fully Paid'], ['Charged Off'], ['Charged Off'], ['Charged Off'], ['Charged Off'], ['Charged Off'], ['Fully Paid'], ['Charged Off', 'Fully Paid'], ['Charged Off', 'Fully Paid'], ['Charged Off'], ['Charged Off'], ['Fully Paid'], ['Charged Off'], ['Charged Off'], ['Charged Off'], ['Charged Off'], ['Charged Off'], ['Charged Off'], ['Charged Off'], ['Charged Off'], ['Fully Paid'], ['Fully Paid'], ['Charged Off'], ['Charged Off'], ['Charged Off'], ['Charged Off', 'Fully Paid'], ['Charged Off', 'Fully Paid'], ['Charged Off'], ['Fully Paid'], ['Charged Off', 'Fully Paid'], ['Charged Off', 'Fully Paid'], ['Charged Off'], ['Charged Off'], ['Charged Off', 'Fully Paid'], ['Charged Off'], ['Charged Off'], ['Charged Off'], ['Charged Off'], ['Charged Off', 'Fully Paid'], ['Charged Off'], ['Charged Off', 'Fully Paid'], ['Charged Off'], ['Charged Off'], ['Fully Paid'], ['Charged Off', 'Fully Paid'], ['Charged Off'], ['Fully Paid'], ['Charged Off'], ['Charged Off'], ['Charged Off'], ['Charged Off'], ['Charged Off', 'Fully Paid'], ['Charged Off'], ['Fully Paid'], ['Charged Off', 'Fully Paid'], ['Charged Off'], ['Charged Off'], ['Fully Paid'], ['Charged Off'], ['Charged Off'], ['Charged Off'], ['Charged Off', 'Fully Paid'], ['Charged Off'], ['Charged Off'], ['Charged Off'], ['Charged Off'], ['Charged Off', 'Fully Paid'], ['Charged Off', 'Fully Paid'], ['Charged Off', 'Fully Paid'], ['Charged Off'], ['Charged Off'], ['Charged Off', 'Fully Paid'], ['Charged Off', 'Fully Paid'], ['Charged Off', 'Fully Paid'], ['Charged Off'], ['Charged Off'], ['Fully Paid'], ['Charged Off'], ['Fully Paid'], ['Charged Off'], ['Charged Off'], ['Charged Off'], ['Charged Off'], ['Charged Off'], ['Charged Off', 'Fully Paid'], ['Charged Off'], ['Charged Off'], ['Fully Paid'], ['Charged Off'], ['Fully Paid'], ['Charged Off', 'Fully Paid'], ['Charged Off'], ['Charged Off'], ['Charged Off'], ['Charged Off'], ['Charged Off'], ['Charged Off'], ['Charged Off'], ['Charged Off', 'Fully Paid'], ['Fully Paid'], ['Charged Off', 'Fully Paid'], ['Charged Off'], ['Charged Off', 'Fully Paid'], ['Charged Off'], ['Charged Off'], ['Charged Off'], ['Fully Paid'], ['Charged Off'], ['Charged Off'], ['Charged Off', 'Fully Paid'], ['Charged Off'], ['Charged Off'], ['Charged Off'], ['Charged Off'], ['Charged Off', 'Fully Paid'], ['Charged Off'], ['Charged Off', 'Fully Paid'], ['Charged Off'], ['Charged Off', 'Fully Paid'], ['Charged Off', 'Fully Paid'], ['Charged Off'], ['Charged Off'], ['Fully Paid'], ['Fully Paid'], ['Charged Off', 'Fully Paid'], ['Charged Off'], ['Charged Off'], ['Charged Off'], ['Charged Off', 'Fully Paid'], ['Charged Off'], ['Charged Off', 'Fully Paid'], ['Charged Off'], ['Charged Off'], ['Charged Off'], ['Charged Off'], ['Charged Off', 'Fully Paid'], ['Charged Off', 'Fully Paid'], ['Charged Off'], ['Charged Off'], ['Charged Off'], ['Charged Off', 'Fully Paid'], ['Fully Paid'], ['Fully Paid'], ['Charged Off', 'Fully Paid'], ['Charged Off'], ['Charged Off'], ['Charged Off'], ['Charged Off', 'Fully Paid'], ['Charged Off'], ['Charged Off'], ['Charged Off'], ['Charged Off'], ['Charged Off'], ['Charged Off'], ['Charged Off'], ['Charged Off'], ['Charged Off', 'Fully Paid'], ['Charged Off'], ['Charged Off'], ['Charged Off'], ['Fully Paid'], ['Charged Off'], ['Charged Off'], ['Charged Off'], ['Charged Off', 'Fully Paid'], ['Charged Off', 'Fully Paid'], ['Charged Off'], ['Charged Off'], ['Charged Off', 'Fully Paid'], ['Charged Off'], ['Fully Paid'], ['Charged Off'], ['Charged Off', 'Fully Paid'], ['Charged Off'], ['Charged Off'], ['Charged Off'], ['Charged Off'], ['Fully Paid'], ['Charged Off', 'Fully Paid'], ['Charged Off'], ['Charged Off'], ['Charged Off', 'Fully Paid'], ['Fully Paid'], ['Charged Off'], ['Charged Off'], ['Charged Off'], ['Charged Off'], ['Charged Off'], ['Fully Paid'], ['Charged Off'], ['Charged Off'], ['Charged Off'], ['Charged Off'], ['Fully Paid'], ['Charged Off', 'Fully Paid'], ['Charged Off'], ['Charged Off', 'Fully Paid'], ['Charged Off', 'Fully Paid'], ['Fully Paid'], ['Charged Off'], ['Charged Off', 'Fully Paid'], ['Charged Off'], ['Fully Paid'], ['Fully Paid'], ['Charged Off', 'Fully Paid'], ['Charged Off'], ['Charged Off', 'Fully Paid'], ['Charged Off'], ['Charged Off'], ['Charged Off', 'Fully Paid'], ['Charged Off'], ['Charged Off'], ['Charged Off'], ['Charged Off'], ['Charged Off', 'Fully Paid'], ['Charged Off', 'Fully Paid'], ['Charged Off'], ['Charged Off'], ['Charged Off'], ['Charged Off'], ['Charged Off', 'Fully Paid'], ['Charged Off'], ['Fully Paid'], ['Charged Off'], ['Charged Off'], ['Charged Off'], ['Charged Off', 'Fully Paid'], ['Charged Off'], ['Charged Off', 'Fully Paid'], ['Charged Off', 'Fully Paid'], ['Charged Off'], ['Charged Off'], ['Charged Off', 'Fully Paid'], ['Charged Off', 'Fully Paid'], ['Charged Off', 'Fully Paid'], ['Charged Off'], ['Charged Off'], ['Charged Off'], ['Charged Off', 'Fully Paid'], ['Charged Off', 'Fully Paid'], ['Charged Off', 'Fully Paid'], ['Charged Off'], ['Charged Off'], ['Charged Off', 'Fully Paid'], ['Charged Off'], ['Charged Off'], ['Charged Off'], ['Charged Off'], ['Charged Off', 'Fully Paid'], ['Charged Off'], ['Charged Off', 'Fully Paid'], ['Charged Off'], ['Charged Off'], ['Charged Off', 'Fully Paid'], ['Fully Paid'], ['Charged Off', 'Fully Paid'], ['Charged Off'], ['Charged Off'], ['Charged Off', 'Fully Paid'], ['Charged Off'], ['Charged Off'], ['Charged Off', 'Fully Paid'], ['Charged Off'], ['Charged Off', 'Fully Paid'], ['Charged Off'], ['Charged Off'], ['Charged Off'], ['Charged Off'], ['Charged Off'], ['Charged Off'], ['Fully Paid'], ['Charged Off'], ['Charged Off'], ['Charged Off'], ['Fully Paid'], ['Charged Off'], ['Charged Off'], ['Charged Off'], ['Charged Off'], ['Charged Off'], ['Charged Off'], ['Charged Off'], ['Charged Off'], ['Charged Off', 'Fully Paid'], ['Charged Off'], ['Charged Off'], ['Charged Off'], ['Charged Off'], ['Fully Paid'], ['Fully Paid'], ['Charged Off', 'Fully Paid'], ['Fully Paid'], ['Charged Off'], ['Charged Off'], ['Charged Off'], ['Charged Off'], ['Fully Paid'], ['Charged Off', 'Fully Paid'], ['Fully Paid'], ['Charged Off'], ['Charged Off', 'Fully Paid'], ['Charged Off'], ['Charged Off'], ['Fully Paid'], ['Charged Off'], ['Fully Paid'], ['Charged Off'], ['Fully Paid'], ['Charged Off'], ['Charged Off', 'Fully Paid'], ['Charged Off', 'Fully Paid'], ['Charged Off'], ['Fully Paid'], ['Charged Off', 'Fully Paid'], ['Charged Off'], ['Charged Off', 'Fully Paid'], ['Fully Paid'], ['Fully Paid'], ['Charged Off'], ['Charged Off', 'Fully Paid'], ['Charged Off', 'Fully Paid'], ['Charged Off', 'Fully Paid'], ['Charged Off', 'Fully Paid'], ['Charged Off'], ['Charged Off', 'Fully Paid'], ['Charged Off'], ['Charged Off'], ['Charged Off', 'Fully Paid'], ['Charged Off'], ['Fully Paid'], ['Charged Off'], ['Charged Off'], ['Charged Off'], ['Charged Off', 'Fully Paid'], ['Charged Off'], ['Charged Off', 'Fully Paid'], ['Charged Off'], ['Fully Paid'], ['Charged Off'], ['Fully Paid'], ['Charged Off'], ['Charged Off'], ['Charged Off'], ['Charged Off'], ['Charged Off'], ['Charged Off'], ['Charged Off'], ['Charged Off'], ['Charged Off', 'Fully Paid'], ['Charged Off'], ['Charged Off'], ['Charged Off'], ['Charged Off'], ['Charged Off'], ['Charged Off', 'Fully Paid'], ['Fully Paid'], ['Charged Off'], ['Charged Off'], ['Charged Off'], ['Charged Off'], ['Fully Paid'], ['Charged Off'], ['Charged Off', 'Fully Paid'], ['Charged Off', 'Fully Paid'], ['Fully Paid'], ['Charged Off'], ['Charged Off', 'Fully Paid'], ['Charged Off'], ['Charged Off'], ['Charged Off'], ['Fully Paid'], ['Charged Off'], ['Charged Off'], ['Charged Off'], ['Charged Off'], ['Charged Off'], ['Charged Off'], ['Charged Off'], ['Charged Off', 'Fully Paid'], ['Charged Off'], ['Charged Off'], ['Charged Off'], ['Charged Off'], ['Charged Off'], ['Charged Off'], ['Charged Off'], ['Charged Off'], ['Charged Off', 'Fully Paid'], ['Fully Paid'], ['Charged Off'], ['Charged Off', 'Fully Paid'], ['Charged Off'], ['Charged Off', 'Fully Paid'], ['Charged Off'], ['Charged Off'], ['Charged Off'], ['Charged Off'], ['Charged Off'], ['Charged Off'], ['Charged Off'], ['Charged Off'], ['Charged Off'], ['Charged Off'], ['Charged Off'], ['Charged Off'], ['Charged Off', 'Fully Paid'], ['Charged Off'], ['Charged Off', 'Fully Paid'], ['Charged Off'], ['Charged Off', 'Fully Paid'], ['Charged Off'], ['Charged Off'], ['Fully Paid'], ['Charged Off', 'Fully Paid'], ['Charged Off'], ['Charged Off'], ['Charged Off'], ['Charged Off'], ['Charged Off'], ['Charged Off'], ['Charged Off'], ['Charged Off'], ['Fully Paid'], ['Charged Off'], ['Charged Off', 'Fully Paid'], ['Charged Off', 'Fully Paid'], ['Fully Paid'], ['Fully Paid'], ['Charged Off', 'Fully Paid'], ['Charged Off'], ['Charged Off', 'Fully Paid'], ['Fully Paid'], ['Charged Off'], ['Charged Off'], ['Charged Off', 'Fully Paid'], ['Charged Off'], ['Charged Off'], ['Charged Off', 'Fully Paid'], ['Charged Off'], ['Charged Off'], ['Charged Off', 'Fully Paid'], ['Charged Off'], ['Charged Off'], ['Charged Off'], ['Charged Off', 'Fully Paid'], ['Charged Off', 'Fully Paid'], ['Charged Off', 'Fully Paid'], ['Charged Off'], ['Charged Off'], ['Charged Off'], ['Charged Off'], ['Fully Paid'], ['Charged Off', 'Fully Paid'], ['Charged Off'], ['Charged Off', 'Fully Paid'], ['Charged Off', 'Fully Paid'], ['Charged Off', 'Fully Paid'], ['Charged Off'], ['Fully Paid'], ['Fully Paid'], ['Charged Off'], ['Charged Off'], ['Charged Off'], ['Charged Off', 'Fully Paid'], ['Charged Off', 'Fully Paid'], ['Charged Off', 'Fully Paid'], ['Charged Off', 'Fully Paid'], ['Charged Off'], ['Charged Off'], ['Charged Off', 'Fully Paid'], ['Charged Off'], ['Charged Off'], ['Charged Off'], ['Charged Off', 'Fully Paid'], ['Fully Paid'], ['Fully Paid'], ['Fully Paid'], ['Charged Off', 'Fully Paid'], ['Charged Off'], ['Charged Off', 'Fully Paid'], ['Charged Off'], ['Charged Off'], ['Charged Off'], ['Charged Off', 'Fully Paid'], ['Charged Off'], ['Charged Off', 'Fully Paid'], ['Fully Paid'], ['Charged Off'], ['Charged Off'], ['Charged Off'], ['Charged Off'], ['Charged Off'], ['Charged Off'], ['Charged Off'], ['Charged Off'], ['Fully Paid'], ['Charged Off'], ['Charged Off', 'Fully Paid'], ['Fully Paid'], ['Charged Off'], ['Charged Off', 'Fully Paid'], ['Charged Off'], ['Charged Off', 'Fully Paid'], ['Charged Off', 'Fully Paid'], ['Fully Paid'], ['Charged Off'], ['Charged Off', 'Fully Paid'], ['Charged Off'], ['Charged Off', 'Fully Paid'], ['Charged Off'], ['Charged Off'], ['Charged Off'], ['Charged Off'], ['Fully Paid'], ['Charged Off', 'Fully Paid'], ['Charged Off'], ['Charged Off'], ['Charged Off'], ['Charged Off'], ['Charged Off'], ['Charged Off', 'Fully Paid'], ['Charged Off', 'Fully Paid'], ['Charged Off'], ['Charged Off'], ['Charged Off', 'Fully Paid'], ['Charged Off'], ['Charged Off'], ['Charged Off'], ['Fully Paid'], ['Charged Off'], ['Charged Off', 'Fully Paid'], ['Charged Off'], ['Charged Off'], ['Charged Off'], ['Charged Off', 'Fully Paid'], ['Charged Off', 'Fully Paid'], ['Fully Paid'], ['Charged Off'], ['Charged Off', 'Fully Paid'], ['Charged Off'], ['Charged Off', 'Fully Paid'], ['Charged Off'], ['Charged Off'], ['Charged Off'], ['Charged Off'], ['Charged Off', 'Fully Paid'], ['Charged Off', 'Fully Paid'], ['Charged Off'], ['Charged Off'], ['Charged Off', 'Fully Paid'], ['Charged Off'], ['Charged Off'], ['Charged Off'], ['Charged Off'], ['Charged Off'], ['Charged Off'], ['Charged Off', 'Fully Paid'], ['Charged Off'], ['Charged Off', 'Fully Paid'], ['Fully Paid'], ['Charged Off'], ['Charged Off'], ['Charged Off'], ['Charged Off'], ['Charged Off'], ['Fully Paid'], ['Charged Off', 'Fully Paid'], ['Charged Off', 'Fully Paid'], ['Charged Off'], ['Charged Off'], ['Charged Off'], ['Charged Off', 'Fully Paid'], ['Charged Off'], ['Fully Paid'], ['Charged Off'], ['Charged Off'], ['Charged Off', 'Fully Paid'], ['Charged Off', 'Fully Paid'], ['Charged Off', 'Fully Paid'], ['Charged Off', 'Fully Paid'], ['Charged Off'], ['Charged Off', 'Fully Paid'], ['Charged Off'], ['Charged Off'], ['Charged Off'], ['Charged Off', 'Fully Paid'], ['Fully Paid'], ['Charged Off'], ['Charged Off', 'Fully Paid'], ['Charged Off'], ['Charged Off'], ['Fully Paid'], ['Charged Off'], ['Fully Paid'], ['Charged Off'], ['Charged Off'], ['Charged Off'], ['Charged Off'], ['Fully Paid'], ['Charged Off'], ['Charged Off', 'Fully Paid'], ['Charged Off'], ['Charged Off'], ['Fully Paid'], ['Charged Off'], ['Charged Off'], ['Charged Off'], ['Charged Off', 'Fully Paid'], ['Charged Off'], ['Charged Off'], ['Charged Off'], ['Charged Off', 'Fully Paid'], ['Charged Off'], ['Fully Paid'], ['Charged Off'], ['Charged Off'], ['Charged Off'], ['Charged Off'], ['Charged Off'], ['Charged Off', 'Fully Paid'], ['Fully Paid'], ['Charged Off'], ['Charged Off'], ['Charged Off', 'Fully Paid'], ['Charged Off'], ['Fully Paid'], ['Charged Off'], ['Charged Off'], ['Charged Off', 'Fully Paid'], ['Charged Off', 'Fully Paid'], ['Charged Off'], ['Fully Paid'], ['Charged Off'], ['Charged Off', 'Fully Paid'], ['Charged Off', 'Fully Paid'], ['Charged Off'], ['Charged Off'], ['Charged Off', 'Fully Paid'], ['Charged Off'], ['Charged Off'], ['Fully Paid'], ['Fully Paid'], ['Charged Off'], ['Charged Off', 'Fully Paid'], ['Charged Off'], ['Fully Paid'], ['Charged Off'], ['Charged Off'], ['Charged Off'], ['Charged Off'], ['Charged Off'], ['Fully Paid'], ['Charged Off'], ['Charged Off'], ['Charged Off'], ['Fully Paid'], ['Fully Paid'], ['Charged Off'], ['Charged Off', 'Fully Paid'], ['Charged Off'], ['Charged Off'], ['Charged Off', 'Fully Paid'], ['Charged Off'], ['Charged Off'], ['Charged Off'], ['Charged Off', 'Fully Paid'], ['Charged Off'], ['Charged Off'], ['Charged Off', 'Fully Paid'], ['Fully Paid'], ['Charged Off'], ['Charged Off'], ['Charged Off', 'Fully Paid'], ['Charged Off'], ['Charged Off', 'Fully Paid'], ['Fully Paid'], ['Charged Off', 'Fully Paid'], ['Charged Off'], ['Charged Off'], ['Fully Paid'], ['Charged Off', 'Fully Paid'], ['Charged Off', 'Fully Paid'], ['Fully Paid'], ['Fully Paid'], ['Charged Off', 'Fully Paid'], ['Charged Off', 'Fully Paid'], ['Charged Off'], ['Charged Off', 'Fully Paid'], ['Fully Paid'], ['Charged Off', 'Fully Paid'], ['Charged Off', 'Fully Paid'], ['Charged Off', 'Fully Paid'], ['Charged Off'], ['Charged Off'], ['Charged Off'], ['Charged Off', 'Fully Paid'], ['Charged Off'], ['Fully Paid'], ['Charged Off'], ['Charged Off'], ['Charged Off', 'Fully Paid'], ['Fully Paid'], ['Charged Off', 'Fully Paid'], ['Charged Off'], ['Charged Off', 'Fully Paid'], ['Charged Off', 'Fully Paid'], ['Fully Paid'], ['Charged Off', 'Fully Paid'], ['Charged Off'], ['Charged Off', 'Fully Paid'], ['Charged Off'], ['Charged Off'], ['Charged Off'], ['Fully Paid'], ['Charged Off'], ['Charged Off', 'Fully Paid'], ['Charged Off'], ['Charged Off'], ['Fully Paid'], ['Charged Off', 'Fully Paid'], ['Charged Off'], ['Fully Paid'], ['Charged Off'], ['Charged Off'], ['Charged Off', 'Fully Paid'], ['Charged Off'], ['Charged Off'], ['Fully Paid'], ['Charged Off', 'Fully Paid'], ['Charged Off'], ['Fully Paid'], ['Charged Off'], ['Charged Off'], ['Charged Off'], ['Charged Off'], ['Charged Off', 'Fully Paid'], ['Charged Off'], ['Charged Off'], ['Charged Off'], ['Fully Paid'], ['Charged Off'], ['Charged Off'], ['Charged Off', 'Fully Paid'], ['Charged Off'], ['Fully Paid'], ['Charged Off'], ['Charged Off'], ['Charged Off', 'Fully Paid'], ['Charged Off'], ['Charged Off'], ['Fully Paid'], ['Charged Off'], ['Charged Off'], ['Charged Off'], ['Fully Paid'], ['Charged Off', 'Fully Paid'], ['Charged Off'], ['Charged Off'], ['Fully Paid'], ['Charged Off'], ['Charged Off', 'Fully Paid'], ['Charged Off'], ['Charged Off'], ['Charged Off'], ['Charged Off'], ['Charged Off', 'Fully Paid'], ['Charged Off', 'Fully Paid'], ['Charged Off', 'Fully Paid'], ['Charged Off', 'Fully Paid'], ['Fully Paid'], ['Fully Paid'], ['Charged Off'], ['Charged Off'], ['Charged Off'], ['Charged Off'], ['Charged Off', 'Fully Paid'], ['Charged Off'], ['Charged Off'], ['Fully Paid'], ['Charged Off', 'Fully Paid'], ['Charged Off'], ['Fully Paid'], ['Charged Off'], ['Charged Off'], ['Charged Off'], ['Charged Off', 'Fully Paid'], ['Charged Off'], ['Charged Off'], ['Charged Off'], ['Charged Off', 'Fully Paid'], ['Fully Paid'], ['Charged Off', 'Fully Paid'], ['Charged Off'], ['Charged Off'], ['Charged Off', 'Fully Paid'], ['Fully Paid'], ['Charged Off'], ['Charged Off'], ['Charged Off'], ['Charged Off'], ['Charged Off', 'Fully Paid'], ['Charged Off', 'Fully Paid'], ['Charged Off', 'Fully Paid'], ['Charged Off'], ['Charged Off'], ['Charged Off', 'Fully Paid'], ['Charged Off', 'Fully Paid'], ['Charged Off'], ['Charged Off'], ['Charged Off'], ['Fully Paid'], ['Fully Paid'], ['Charged Off'], ['Charged Off'], ['Charged Off'], ['Charged Off', 'Fully Paid'], ['Charged Off'], ['Fully Paid'], ['Charged Off'], ['Charged Off'], ['Charged Off'], ['Fully Paid'], ['Charged Off'], ['Charged Off'], ['Charged Off'], ['Charged Off'], ['Charged Off', 'Fully Paid'], ['Fully Paid'], ['Charged Off', 'Fully Paid'], ['Charged Off'], ['Fully Paid'], ['Charged Off', 'Fully Paid'], ['Charged Off'], ['Charged Off', 'Fully Paid'], ['Charged Off', 'Fully Paid'], ['Charged Off'], ['Charged Off'], ['Charged Off'], ['Charged Off'], ['Charged Off', 'Fully Paid'], ['Charged Off', 'Fully Paid'], ['Charged Off'], ['Charged Off'], ['Charged Off'], ['Charged Off'], ['Charged Off', 'Fully Paid'], ['Fully Paid'], ['Charged Off'], ['Charged Off'], ['Fully Paid'], ['Charged Off', 'Fully Paid'], ['Charged Off'], ['Charged Off'], ['Charged Off', 'Fully Paid'], ['Charged Off', 'Fully Paid'], ['Charged Off'], ['Charged Off'], ['Charged Off'], ['Charged Off'], ['Charged Off'], ['Fully Paid'], ['Charged Off', 'Fully Paid'], ['Charged Off'], ['Charged Off'], ['Fully Paid'], ['Charged Off', 'Fully Paid'], ['Charged Off'], ['Charged Off'], ['Fully Paid'], ['Charged Off'], ['Charged Off'], ['Charged Off'], ['Charged Off', 'Fully Paid'], ['Charged Off'], ['Charged Off', 'Fully Paid'], ['Charged Off', 'Fully Paid'], ['Charged Off'], ['Charged Off', 'Fully Paid'], ['Charged Off'], ['Charged Off', 'Fully Paid'], ['Charged Off'], ['Charged Off', 'Fully Paid'], ['Charged Off'], ['Charged Off', 'Fully Paid'], ['Charged Off', 'Fully Paid'], ['Charged Off', 'Fully Paid'], ['Charged Off'], ['Charged Off'], ['Charged Off'], ['Fully Paid'], ['Charged Off'], ['Charged Off', 'Fully Paid'], ['Charged Off'], ['Charged Off', 'Fully Paid'], ['Charged Off', 'Fully Paid'], ['Charged Off'], ['Charged Off'], ['Charged Off', 'Fully Paid'], ['Charged Off'], ['Charged Off'], ['Charged Off'], ['Charged Off'], ['Charged Off', 'Fully Paid'], ['Charged Off'], ['Charged Off'], ['Charged Off'], ['Charged Off'], ['Charged Off'], ['Charged Off', 'Fully Paid'], ['Charged Off', 'Fully Paid'], ['Charged Off', 'Fully Paid'], ['Charged Off'], ['Charged Off'], ['Charged Off'], ['Charged Off', 'Fully Paid'], ['Charged Off', 'Fully Paid'], ['Charged Off'], ['Charged Off', 'Fully Paid'], ['Charged Off', 'Fully Paid'], ['Charged Off'], ['Charged Off'], ['Charged Off'], ['Charged Off', 'Fully Paid'], ['Charged Off', 'Fully Paid'], ['Charged Off'], ['Charged Off'], ['Charged Off'], ['Charged Off', 'Fully Paid'], ['Charged Off'], ['Charged Off', 'Fully Paid'], ['Charged Off'], ['Charged Off'], ['Charged Off'], ['Charged Off'], ['Charged Off'], ['Charged Off'], ['Charged Off'], ['Charged Off'], ['Charged Off'], ['Charged Off', 'Fully Paid'], ['Charged Off'], ['Fully Paid'], ['Charged Off'], ['Charged Off'], ['Charged Off'], ['Charged Off'], ['Fully Paid'], ['Charged Off'], ['Fully Paid'], ['Charged Off'], ['Fully Paid'], ['Charged Off'], ['Charged Off'], ['Fully Paid'], ['Fully Paid'], ['Charged Off'], ['Charged Off', 'Fully Paid'], ['Charged Off'], ['Charged Off'], ['Charged Off'], ['Fully Paid'], ['Charged Off'], ['Charged Off', 'Fully Paid'], ['Charged Off'], ['Charged Off'], ['Charged Off'], ['Charged Off'], ['Charged Off'], ['Charged Off'], ['Charged Off'], ['Charged Off'], ['Charged Off'], ['Charged Off'], ['Fully Paid'], ['Charged Off'], ['Charged Off'], ['Charged Off', 'Fully Paid'], ['Charged Off'], ['Charged Off'], ['Charged Off'], ['Charged Off'], ['Charged Off'], ['Charged Off'], ['Charged Off'], ['Charged Off', 'Fully Paid'], ['Charged Off'], ['Charged Off', 'Fully Paid'], ['Charged Off'], ['Charged Off'], ['Fully Paid'], ['Charged Off'], ['Charged Off', 'Fully Paid'], ['Charged Off', 'Fully Paid'], ['Fully Paid'], ['Charged Off', 'Fully Paid'], ['Charged Off'], ['Charged Off'], ['Charged Off'], ['Charged Off'], ['Charged Off'], ['Charged Off', 'Fully Paid'], ['Charged Off'], ['Charged Off', 'Fully Paid'], ['Charged Off'], ['Charged Off'], ['Charged Off', 'Fully Paid'], ['Charged Off', 'Fully Paid'], ['Charged Off', 'Fully Paid'], ['Charged Off', 'Fully Paid'], ['Charged Off'], ['Charged Off'], ['Charged Off'], ['Charged Off', 'Fully Paid'], ['Charged Off'], ['Charged Off'], ['Charged Off'], ['Fully Paid'], ['Charged Off'], ['Charged Off', 'Fully Paid'], ['Charged Off'], ['Charged Off'], ['Charged Off', 'Fully Paid'], ['Charged Off', 'Fully Paid'], ['Charged Off'], ['Charged Off'], ['Charged Off', 'Fully Paid'], ['Charged Off'], ['Charged Off', 'Fully Paid'], ['Charged Off', 'Fully Paid'], ['Charged Off'], ['Charged Off'], ['Charged Off', 'Fully Paid'], ['Charged Off', 'Fully Paid'], ['Charged Off'], ['Charged Off'], ['Charged Off'], ['Charged Off', 'Fully Paid'], ['Charged Off'], ['Charged Off'], ['Charged Off'], ['Charged Off'], ['Charged Off'], ['Charged Off'], ['Charged Off'], ['Charged Off', 'Fully Paid'], ['Charged Off', 'Fully Paid'], ['Charged Off', 'Fully Paid'], ['Charged Off'], ['Charged Off'], ['Fully Paid'], ['Charged Off'], ['Charged Off'], ['Charged Off', 'Fully Paid'], ['Charged Off', 'Fully Paid'], ['Fully Paid'], ['Charged Off', 'Fully Paid'], ['Charged Off'], ['Charged Off'], ['Charged Off'], ['Charged Off'], ['Charged Off', 'Fully Paid'], ['Charged Off'], ['Charged Off'], ['Fully Paid'], ['Charged Off'], ['Charged Off'], ['Charged Off'], ['Charged Off', 'Fully Paid'], ['Charged Off', 'Fully Paid'], ['Charged Off', 'Fully Paid'], ['Charged Off'], ['Fully Paid'], ['Charged Off', 'Fully Paid'], ['Charged Off', 'Fully Paid'], ['Charged Off'], ['Charged Off'], ['Charged Off'], ['Charged Off', 'Fully Paid'], ['Charged Off'], ['Charged Off', 'Fully Paid'], ['Charged Off'], ['Charged Off'], ['Charged Off'], ['Charged Off'], ['Charged Off'], ['Charged Off'], ['Charged Off'], ['Charged Off'], ['Charged Off'], ['Charged Off', 'Fully Paid'], ['Charged Off', 'Fully Paid'], ['Charged Off'], ['Charged Off'], ['Fully Paid'], ['Charged Off'], ['Charged Off', 'Fully Paid'], ['Charged Off'], ['Fully Paid'], ['Charged Off'], ['Fully Paid'], ['Charged Off'], ['Charged Off'], ['Charged Off'], ['Charged Off'], ['Charged Off'], ['Charged Off'], ['Fully Paid'], ['Charged Off'], ['Charged Off', 'Fully Paid'], ['Fully Paid'], ['Charged Off', 'Fully Paid'], ['Charged Off'], ['Charged Off', 'Fully Paid'], ['Charged Off', 'Fully Paid'], ['Charged Off'], ['Charged Off'], ['Charged Off'], ['Charged Off'], ['Charged Off', 'Fully Paid'], ['Charged Off'], ['Fully Paid'], ['Fully Paid'], ['Charged Off'], ['Charged Off', 'Fully Paid'], ['Charged Off'], ['Charged Off'], ['Charged Off'], ['Fully Paid'], ['Charged Off'], ['Charged Off'], ['Charged Off'], ['Charged Off'], ['Fully Paid'], ['Charged Off'], ['Fully Paid'], ['Charged Off'], ['Charged Off', 'Fully Paid'], ['Charged Off'], ['Charged Off'], ['Charged Off'], ['Charged Off', 'Fully Paid'], ['Charged Off', 'Fully Paid'], ['Charged Off'], ['Charged Off'], ['Charged Off'], ['Charged Off'], ['Charged Off'], ['Charged Off', 'Fully Paid'], ['Charged Off'], ['Charged Off', 'Fully Paid'], ['Charged Off'], ['Fully Paid'], ['Charged Off', 'Fully Paid'], ['Charged Off', 'Fully Paid'], ['Charged Off'], ['Charged Off', 'Fully Paid'], ['Charged Off', 'Fully Paid'], ['Charged Off'], ['Charged Off'], ['Charged Off'], ['Charged Off'], ['Charged Off', 'Fully Paid'], ['Charged Off'], ['Charged Off'], ['Charged Off'], ['Charged Off'], ['Charged Off'], ['Charged Off', 'Fully Paid'], ['Charged Off'], ['Charged Off', 'Fully Paid'], ['Charged Off', 'Fully Paid'], ['Charged Off'], ['Charged Off'], ['Fully Paid'], ['Charged Off'], ['Fully Paid'], ['Charged Off'], ['Charged Off', 'Fully Paid'], ['Fully Paid'], ['Charged Off', 'Fully Paid'], ['Charged Off'], ['Charged Off'], ['Charged Off', 'Fully Paid'], ['Charged Off'], ['Charged Off'], ['Charged Off'], ['Charged Off'], ['Fully Paid'], ['Charged Off', 'Fully Paid'], ['Charged Off', 'Fully Paid'], ['Charged Off'], ['Charged Off', 'Fully Paid'], ['Charged Off'], ['Fully Paid'], ['Charged Off'], ['Charged Off'], ['Charged Off'], ['Charged Off', 'Fully Paid'], ['Charged Off'], ['Fully Paid'], ['Charged Off'], ['Charged Off'], ['Charged Off'], ['Fully Paid'], ['Charged Off'], ['Charged Off'], ['Charged Off'], ['Charged Off'], ['Charged Off', 'Fully Paid'], ['Charged Off'], ['Charged Off', 'Fully Paid'], ['Charged Off', 'Fully Paid'], ['Charged Off'], ['Charged Off'], ['Fully Paid'], ['Charged Off'], ['Fully Paid'], ['Charged Off'], ['Charged Off', 'Fully Paid'], ['Charged Off'], ['Charged Off', 'Fully Paid']]\n"
     ]
    }
   ],
   "source": [
    "prediction_sets = []\n",
    "\n",
    "# Iterating through the probabilities tensor\n",
    "for prob in test_preds_sl:\n",
    "    prediction_set = []\n",
    "    if prob < qhat:\n",
    "        prediction_set.append(\"Charged Off\")\n",
    "    if 1 - prob < qhat:\n",
    "        prediction_set.append(\"Fully Paid\")\n",
    "    prediction_sets.append(prediction_set)\n",
    "\n",
    "print(prediction_sets)"
   ],
   "metadata": {
    "collapsed": false,
    "ExecuteTime": {
     "end_time": "2024-05-22T16:11:59.462768900Z",
     "start_time": "2024-05-22T16:11:59.088545900Z"
    }
   },
   "id": "bb5dfb9d00c9cb42"
  },
  {
   "cell_type": "code",
   "execution_count": 134,
   "outputs": [
    {
     "name": "stdout",
     "output_type": "stream",
     "text": [
      "Number of prediction sets of length 1: 5669\n",
      "Number of prediction sets of length 2: 1955\n"
     ]
    }
   ],
   "source": [
    "# Initialize counters for sets of length 1 and length 2\n",
    "count_length_1 = 0\n",
    "count_length_2 = 0\n",
    "\n",
    "# Iterate through the prediction_sets list\n",
    "for prediction_set in prediction_sets:\n",
    "    if len(prediction_set) == 1:\n",
    "        count_length_1 += 1\n",
    "    elif len(prediction_set) == 2:\n",
    "        count_length_2 += 1\n",
    "\n",
    "print(\"Number of prediction sets of length 1:\", count_length_1)\n",
    "print(\"Number of prediction sets of length 2:\", count_length_2)\n"
   ],
   "metadata": {
    "collapsed": false,
    "ExecuteTime": {
     "end_time": "2024-05-22T16:12:04.754754Z",
     "start_time": "2024-05-22T16:12:04.721753100Z"
    }
   },
   "id": "d7a2797fc933267a"
  },
  {
   "cell_type": "markdown",
   "source": [
    "# Comparing models"
   ],
   "metadata": {
    "collapsed": false
   },
   "id": "87a0b2935ccdfeac"
  },
  {
   "cell_type": "code",
   "execution_count": 135,
   "outputs": [],
   "source": [
    "rounded_preds_lr = torch.round(test_preds_lr)\n",
    "rounded_preds_sl = torch.round(test_preds_sl)\n",
    "\n",
    "different_predictions = (rounded_preds_lr != rounded_preds_sl)\n",
    "\n",
    "correct_predictions_lr = (rounded_preds_lr == y_test_tensor)\n",
    "correct_predictions_sl = (rounded_preds_sl == y_test_tensor)\n",
    "\n",
    "different_and_correct_lr = different_predictions & correct_predictions_lr\n",
    "different_and_correct_sl = different_predictions & correct_predictions_sl\n",
    "\n",
    "#indices where predictions are different and correct\n",
    "indices_different_and_correct_lr = torch.nonzero(different_and_correct_lr).flatten()\n",
    "indices_different_and_correct_sl = torch.nonzero(different_and_correct_sl).flatten()"
   ],
   "metadata": {
    "collapsed": false,
    "ExecuteTime": {
     "end_time": "2024-05-22T16:41:28.889074600Z",
     "start_time": "2024-05-22T16:41:28.653759Z"
    }
   },
   "id": "7a95f7d62e730bdb"
  },
  {
   "cell_type": "code",
   "execution_count": 136,
   "outputs": [],
   "source": [
    "only_sl_correct = torch.nonzero(different_and_correct_sl.float(), as_tuple=True)[0].tolist()\n",
    "only_lr_correct = torch.nonzero(different_and_correct_lr.float(), as_tuple=True)[0].tolist()"
   ],
   "metadata": {
    "collapsed": false,
    "ExecuteTime": {
     "end_time": "2024-05-22T16:42:04.019409900Z",
     "start_time": "2024-05-22T16:42:03.893722500Z"
    }
   },
   "id": "77e719319f1e2f1b"
  },
  {
   "cell_type": "code",
   "execution_count": 161,
   "outputs": [
    {
     "data": {
      "text/plain": "2500"
     },
     "execution_count": 161,
     "metadata": {},
     "output_type": "execute_result"
    }
   ],
   "source": [
    "rule_test = torch.tensor(X_test['last_fico_range_low'].values, dtype=torch.float32).reshape(len(y_test),1)<=652.5\n",
    "rule_matched = torch.nonzero(rule_test.float(), as_tuple=True)[0].tolist()\n",
    "len(rule_matched)"
   ],
   "metadata": {
    "collapsed": false,
    "ExecuteTime": {
     "end_time": "2024-05-23T14:20:15.628628500Z",
     "start_time": "2024-05-23T14:20:15.596578700Z"
    }
   },
   "id": "b05e6f34282d09c"
  },
  {
   "cell_type": "code",
   "execution_count": 149,
   "outputs": [],
   "source": [
    "intersection_sl = [value for value in only_sl_correct if value in rule_matched]\n",
    "intersection_lr = [value for value in only_lr_correct if value in rule_matched]"
   ],
   "metadata": {
    "collapsed": false,
    "ExecuteTime": {
     "end_time": "2024-05-23T14:09:26.589589800Z",
     "start_time": "2024-05-23T14:09:26.550475500Z"
    }
   },
   "id": "801b60a0722984ec"
  },
  {
   "cell_type": "code",
   "execution_count": 151,
   "outputs": [
    {
     "data": {
      "text/plain": "(140, 1001)"
     },
     "execution_count": 151,
     "metadata": {},
     "output_type": "execute_result"
    }
   ],
   "source": [
    "X_test.iloc[intersection_sl].shape"
   ],
   "metadata": {
    "collapsed": false,
    "ExecuteTime": {
     "end_time": "2024-05-23T14:09:36.789743100Z",
     "start_time": "2024-05-23T14:09:36.726493800Z"
    }
   },
   "id": "de9e4472feee15e9"
  },
  {
   "cell_type": "code",
   "execution_count": 160,
   "outputs": [
    {
     "data": {
      "text/plain": "(1341, 1001)"
     },
     "execution_count": 160,
     "metadata": {},
     "output_type": "execute_result"
    }
   ],
   "source": [
    "correct_preds = torch.nonzero(y_test_tensor, as_tuple=True)[0].tolist()\n",
    "intersect = [value for value in correct_preds if value in rule_matched]\n",
    "X_test.iloc[intersect].shape"
   ],
   "metadata": {
    "collapsed": false,
    "ExecuteTime": {
     "end_time": "2024-05-23T14:19:32.388616200Z",
     "start_time": "2024-05-23T14:19:32.294590Z"
    }
   },
   "id": "3c61ce803773e6f7"
  },
  {
   "cell_type": "code",
   "execution_count": 162,
   "outputs": [
    {
     "data": {
      "text/plain": "tensor(1504.)"
     },
     "execution_count": 162,
     "metadata": {},
     "output_type": "execute_result"
    }
   ],
   "source": [
    "torch.sum(y_test_tensor)"
   ],
   "metadata": {
    "collapsed": false,
    "ExecuteTime": {
     "end_time": "2024-05-23T14:21:15.777813400Z",
     "start_time": "2024-05-23T14:21:15.730445Z"
    }
   },
   "id": "544cbbdf3d68d3af"
  }
 ],
 "metadata": {
  "kernelspec": {
   "display_name": "Python 3 (ipykernel)",
   "language": "python",
   "name": "python3"
  },
  "language_info": {
   "codemirror_mode": {
    "name": "ipython",
    "version": 3
   },
   "file_extension": ".py",
   "mimetype": "text/x-python",
   "name": "python",
   "nbconvert_exporter": "python",
   "pygments_lexer": "ipython3",
   "version": "3.12.2"
  }
 },
 "nbformat": 4,
 "nbformat_minor": 5
}
