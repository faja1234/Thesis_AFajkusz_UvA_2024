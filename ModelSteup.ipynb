{
 "cells": [
  {
   "cell_type": "markdown",
   "source": [
    "# Loading and preparing the data"
   ],
   "metadata": {
    "collapsed": false
   },
   "id": "527cc977409778c2"
  },
  {
   "cell_type": "code",
   "execution_count": 2,
   "outputs": [],
   "source": [
    "import pandas as pd\n",
    "import numpy as np\n",
    "import torch\n",
    "import matplotlib.pyplot as plt\n",
    "import os\n",
    "import seaborn as sns\n",
    "from scipy import stats"
   ],
   "metadata": {
    "collapsed": false,
    "ExecuteTime": {
     "end_time": "2024-04-04T16:22:25.770225800Z",
     "start_time": "2024-04-04T16:22:21.655388500Z"
    }
   },
   "id": "b50bee25fc757ef7"
  },
  {
   "cell_type": "code",
   "execution_count": 22,
   "outputs": [
    {
     "data": {
      "text/plain": "         loan_amnt        term  int_rate  installment sub_grade  \\\nid                                                                \n1075358       3000   60 months    0.1269        67.79        B5   \n1071570       5375   60 months    0.1269       121.45        B5   \n1069057      10000   36 months    0.1065       325.74        B2   \n1069742       9200   36 months    0.0603       280.01        A1   \n1069559       6000   36 months    0.1171       198.46        B3   \n\n        home_ownership  annual_inc verification_status  loan_status  \\\nid                                                                    \n1075358           RENT    80000.00     Source Verified   Fully Paid   \n1071570           RENT    15000.00            Verified  Charged Off   \n1069057           RENT   100000.00     Source Verified  Charged Off   \n1069742           RENT    77385.19        Not Verified   Fully Paid   \n1069559           RENT    76000.00        Not Verified  Charged Off   \n\n        pymnt_plan  ... chargeoff_within_12_mths delinq_amnt mort_acc  \\\nid                  ...                                                 \n1075358          n  ...                      0.0         0.0      3.0   \n1071570          n  ...                      0.0         0.0      0.0   \n1069057          n  ...                      0.0         0.0      2.0   \n1069742          n  ...                      0.0         0.0      2.0   \n1069559          n  ...                      0.0         0.0      0.0   \n\n         pub_rec_bankruptcies  tax_liens  total_bal_ex_mort  total_bc_limit  \\\nid                                                                            \n1075358                   0.0        0.0            54644.0         17850.0   \n1071570                   0.0        0.0            30612.0         21533.0   \n1069057                   0.0        0.0            14358.0         17700.0   \n1069742                   0.0        0.0            42247.0         15142.0   \n1069559                   0.0        0.0            43192.0         10350.0   \n\n         hardship_flag  debt_settlement_flag  loan_status_num  \nid                                                             \n1075358              N                     N                0  \n1071570              N                     N                1  \n1069057              N                     N                1  \n1069742              N                     N                0  \n1069559              N                     N                1  \n\n[5 rows x 51 columns]",
      "text/html": "<div>\n<style scoped>\n    .dataframe tbody tr th:only-of-type {\n        vertical-align: middle;\n    }\n\n    .dataframe tbody tr th {\n        vertical-align: top;\n    }\n\n    .dataframe thead th {\n        text-align: right;\n    }\n</style>\n<table border=\"1\" class=\"dataframe\">\n  <thead>\n    <tr style=\"text-align: right;\">\n      <th></th>\n      <th>loan_amnt</th>\n      <th>term</th>\n      <th>int_rate</th>\n      <th>installment</th>\n      <th>sub_grade</th>\n      <th>home_ownership</th>\n      <th>annual_inc</th>\n      <th>verification_status</th>\n      <th>loan_status</th>\n      <th>pymnt_plan</th>\n      <th>...</th>\n      <th>chargeoff_within_12_mths</th>\n      <th>delinq_amnt</th>\n      <th>mort_acc</th>\n      <th>pub_rec_bankruptcies</th>\n      <th>tax_liens</th>\n      <th>total_bal_ex_mort</th>\n      <th>total_bc_limit</th>\n      <th>hardship_flag</th>\n      <th>debt_settlement_flag</th>\n      <th>loan_status_num</th>\n    </tr>\n    <tr>\n      <th>id</th>\n      <th></th>\n      <th></th>\n      <th></th>\n      <th></th>\n      <th></th>\n      <th></th>\n      <th></th>\n      <th></th>\n      <th></th>\n      <th></th>\n      <th></th>\n      <th></th>\n      <th></th>\n      <th></th>\n      <th></th>\n      <th></th>\n      <th></th>\n      <th></th>\n      <th></th>\n      <th></th>\n      <th></th>\n    </tr>\n  </thead>\n  <tbody>\n    <tr>\n      <th>1075358</th>\n      <td>3000</td>\n      <td>60 months</td>\n      <td>0.1269</td>\n      <td>67.79</td>\n      <td>B5</td>\n      <td>RENT</td>\n      <td>80000.00</td>\n      <td>Source Verified</td>\n      <td>Fully Paid</td>\n      <td>n</td>\n      <td>...</td>\n      <td>0.0</td>\n      <td>0.0</td>\n      <td>3.0</td>\n      <td>0.0</td>\n      <td>0.0</td>\n      <td>54644.0</td>\n      <td>17850.0</td>\n      <td>N</td>\n      <td>N</td>\n      <td>0</td>\n    </tr>\n    <tr>\n      <th>1071570</th>\n      <td>5375</td>\n      <td>60 months</td>\n      <td>0.1269</td>\n      <td>121.45</td>\n      <td>B5</td>\n      <td>RENT</td>\n      <td>15000.00</td>\n      <td>Verified</td>\n      <td>Charged Off</td>\n      <td>n</td>\n      <td>...</td>\n      <td>0.0</td>\n      <td>0.0</td>\n      <td>0.0</td>\n      <td>0.0</td>\n      <td>0.0</td>\n      <td>30612.0</td>\n      <td>21533.0</td>\n      <td>N</td>\n      <td>N</td>\n      <td>1</td>\n    </tr>\n    <tr>\n      <th>1069057</th>\n      <td>10000</td>\n      <td>36 months</td>\n      <td>0.1065</td>\n      <td>325.74</td>\n      <td>B2</td>\n      <td>RENT</td>\n      <td>100000.00</td>\n      <td>Source Verified</td>\n      <td>Charged Off</td>\n      <td>n</td>\n      <td>...</td>\n      <td>0.0</td>\n      <td>0.0</td>\n      <td>2.0</td>\n      <td>0.0</td>\n      <td>0.0</td>\n      <td>14358.0</td>\n      <td>17700.0</td>\n      <td>N</td>\n      <td>N</td>\n      <td>1</td>\n    </tr>\n    <tr>\n      <th>1069742</th>\n      <td>9200</td>\n      <td>36 months</td>\n      <td>0.0603</td>\n      <td>280.01</td>\n      <td>A1</td>\n      <td>RENT</td>\n      <td>77385.19</td>\n      <td>Not Verified</td>\n      <td>Fully Paid</td>\n      <td>n</td>\n      <td>...</td>\n      <td>0.0</td>\n      <td>0.0</td>\n      <td>2.0</td>\n      <td>0.0</td>\n      <td>0.0</td>\n      <td>42247.0</td>\n      <td>15142.0</td>\n      <td>N</td>\n      <td>N</td>\n      <td>0</td>\n    </tr>\n    <tr>\n      <th>1069559</th>\n      <td>6000</td>\n      <td>36 months</td>\n      <td>0.1171</td>\n      <td>198.46</td>\n      <td>B3</td>\n      <td>RENT</td>\n      <td>76000.00</td>\n      <td>Not Verified</td>\n      <td>Charged Off</td>\n      <td>n</td>\n      <td>...</td>\n      <td>0.0</td>\n      <td>0.0</td>\n      <td>0.0</td>\n      <td>0.0</td>\n      <td>0.0</td>\n      <td>43192.0</td>\n      <td>10350.0</td>\n      <td>N</td>\n      <td>N</td>\n      <td>1</td>\n    </tr>\n  </tbody>\n</table>\n<p>5 rows × 51 columns</p>\n</div>"
     },
     "execution_count": 22,
     "metadata": {},
     "output_type": "execute_result"
    }
   ],
   "source": [
    "data = pd.read_pickle('data/clean_lc_data.pkl')\n",
    "data.head()"
   ],
   "metadata": {
    "collapsed": false,
    "ExecuteTime": {
     "end_time": "2024-04-04T18:31:30.203305500Z",
     "start_time": "2024-04-04T18:31:29.849999400Z"
    }
   },
   "id": "384caf4d68f9905a"
  },
  {
   "cell_type": "code",
   "execution_count": 23,
   "outputs": [
    {
     "name": "stdout",
     "output_type": "stream",
     "text": [
      "<class 'pandas.core.frame.DataFrame'>\n",
      "Int64Index: 96683 entries, 1075358 to 129834559\n",
      "Data columns (total 51 columns):\n",
      " #   Column                      Non-Null Count  Dtype  \n",
      "---  ------                      --------------  -----  \n",
      " 0   loan_amnt                   96683 non-null  int64  \n",
      " 1   term                        96683 non-null  object \n",
      " 2   int_rate                    96683 non-null  float64\n",
      " 3   installment                 96683 non-null  float64\n",
      " 4   sub_grade                   96683 non-null  object \n",
      " 5   home_ownership              96683 non-null  object \n",
      " 6   annual_inc                  96683 non-null  float64\n",
      " 7   verification_status         96683 non-null  object \n",
      " 8   loan_status                 96683 non-null  object \n",
      " 9   pymnt_plan                  96683 non-null  object \n",
      " 10  purpose                     96683 non-null  object \n",
      " 11  zip_code                    96683 non-null  object \n",
      " 12  addr_state                  96683 non-null  object \n",
      " 13  dti                         96683 non-null  float64\n",
      " 14  delinq_2yrs                 96683 non-null  float64\n",
      " 15  fico_range_low              96683 non-null  int64  \n",
      " 16  fico_range_high             96683 non-null  int64  \n",
      " 17  inq_last_6mths              96683 non-null  float64\n",
      " 18  open_acc                    96683 non-null  float64\n",
      " 19  pub_rec                     96683 non-null  float64\n",
      " 20  revol_bal                   96683 non-null  int64  \n",
      " 21  revol_util                  96683 non-null  object \n",
      " 22  total_acc                   96683 non-null  float64\n",
      " 23  initial_list_status         96683 non-null  object \n",
      " 24  out_prncp                   96683 non-null  float64\n",
      " 25  out_prncp_inv               96683 non-null  float64\n",
      " 26  total_pymnt                 96683 non-null  float64\n",
      " 27  total_pymnt_inv             96683 non-null  float64\n",
      " 28  total_rec_prncp             96683 non-null  float64\n",
      " 29  total_rec_int               96683 non-null  float64\n",
      " 30  total_rec_late_fee          96683 non-null  float64\n",
      " 31  recoveries                  96683 non-null  float64\n",
      " 32  collection_recovery_fee     96683 non-null  float64\n",
      " 33  last_pymnt_amnt             96683 non-null  float64\n",
      " 34  last_fico_range_high        96683 non-null  int64  \n",
      " 35  last_fico_range_low         96683 non-null  int64  \n",
      " 36  collections_12_mths_ex_med  96683 non-null  float64\n",
      " 37  policy_code                 96683 non-null  int64  \n",
      " 38  application_type            96683 non-null  object \n",
      " 39  acc_now_delinq              96683 non-null  float64\n",
      " 40  acc_open_past_24mths        96683 non-null  float64\n",
      " 41  chargeoff_within_12_mths    96683 non-null  float64\n",
      " 42  delinq_amnt                 96683 non-null  float64\n",
      " 43  mort_acc                    96683 non-null  float64\n",
      " 44  pub_rec_bankruptcies        96683 non-null  float64\n",
      " 45  tax_liens                   96683 non-null  float64\n",
      " 46  total_bal_ex_mort           96683 non-null  float64\n",
      " 47  total_bc_limit              96683 non-null  float64\n",
      " 48  hardship_flag               96683 non-null  object \n",
      " 49  debt_settlement_flag        96683 non-null  object \n",
      " 50  loan_status_num             96683 non-null  int64  \n",
      "dtypes: float64(29), int64(8), object(14)\n",
      "memory usage: 38.4+ MB\n"
     ]
    }
   ],
   "source": [
    "data.info()"
   ],
   "metadata": {
    "collapsed": false,
    "ExecuteTime": {
     "end_time": "2024-04-04T18:31:32.325816300Z",
     "start_time": "2024-04-04T18:31:32.098809100Z"
    }
   },
   "id": "1b731c5e0f815235"
  },
  {
   "cell_type": "code",
   "execution_count": 24,
   "outputs": [
    {
     "data": {
      "text/plain": "          loan_amnt      int_rate   installment    annual_inc           dti  \\\ncount  96683.000000  96683.000000  96683.000000  9.668300e+04  96683.000000   \nmean   14462.013746      0.134706    434.246610  7.519658e+04     18.213519   \nstd     9056.817085      0.048997    265.112617  6.714529e+04     17.523942   \nmin     1000.000000      0.053100      7.610000  4.000000e+01      0.000000   \n25%     7550.000000      0.099300    242.830000  4.500000e+04     11.190000   \n50%    12000.000000      0.129900    371.680000  6.400000e+04     17.030000   \n75%    20000.000000      0.160200    572.350000  9.000000e+04     23.460000   \nmax    40000.000000      0.309900   1719.830000  7.200000e+06    999.000000   \n\n        delinq_2yrs  fico_range_low  fico_range_high  inq_last_6mths  \\\ncount  96683.000000    96683.000000     96683.000000    96683.000000   \nmean       0.264328      701.571579       705.571828        0.639306   \nstd        0.789277       33.951358        33.952411        0.923730   \nmin        0.000000      660.000000       664.000000        0.000000   \n25%        0.000000      675.000000       679.000000        0.000000   \n50%        0.000000      695.000000       699.000000        0.000000   \n75%        0.000000      720.000000       724.000000        1.000000   \nmax       30.000000      845.000000       850.000000        8.000000   \n\n           open_acc  ...  acc_now_delinq  acc_open_past_24mths  \\\ncount  96683.000000  ...    96683.000000          96683.000000   \nmean      11.099790  ...        0.002648              4.201256   \nstd        5.287587  ...        0.060452              2.898863   \nmin        1.000000  ...        0.000000              0.000000   \n25%        7.000000  ...        0.000000              2.000000   \n50%       10.000000  ...        0.000000              4.000000   \n75%       14.000000  ...        0.000000              6.000000   \nmax       55.000000  ...        7.000000             46.000000   \n\n       chargeoff_within_12_mths    delinq_amnt      mort_acc  \\\ncount               96683.00000   96683.000000  96683.000000   \nmean                    0.00692       9.814911      1.535389   \nstd                     0.09693     663.051096      1.875855   \nmin                     0.00000       0.000000      0.000000   \n25%                     0.00000       0.000000      0.000000   \n50%                     0.00000       0.000000      1.000000   \n75%                     0.00000       0.000000      2.000000   \nmax                     8.00000  138474.000000     31.000000   \n\n       pub_rec_bankruptcies     tax_liens  total_bal_ex_mort  total_bc_limit  \\\ncount          96683.000000  96683.000000       9.668300e+04    96683.000000   \nmean               0.107599      0.027523       4.730932e+04    22484.894025   \nstd                0.319343      0.260915       4.611111e+04    21737.858779   \nmin                0.000000      0.000000       0.000000e+00        0.000000   \n25%                0.000000      0.000000       1.991250e+04     8500.000000   \n50%                0.000000      0.000000       3.522500e+04    16091.000000   \n75%                0.000000      0.000000       5.894500e+04    29200.000000   \nmax                5.000000     13.000000       1.276247e+06   462200.000000   \n\n       loan_status_num  \ncount     96683.000000  \nmean          0.150957  \nstd           0.358009  \nmin           0.000000  \n25%           0.000000  \n50%           0.000000  \n75%           0.000000  \nmax           1.000000  \n\n[8 rows x 37 columns]",
      "text/html": "<div>\n<style scoped>\n    .dataframe tbody tr th:only-of-type {\n        vertical-align: middle;\n    }\n\n    .dataframe tbody tr th {\n        vertical-align: top;\n    }\n\n    .dataframe thead th {\n        text-align: right;\n    }\n</style>\n<table border=\"1\" class=\"dataframe\">\n  <thead>\n    <tr style=\"text-align: right;\">\n      <th></th>\n      <th>loan_amnt</th>\n      <th>int_rate</th>\n      <th>installment</th>\n      <th>annual_inc</th>\n      <th>dti</th>\n      <th>delinq_2yrs</th>\n      <th>fico_range_low</th>\n      <th>fico_range_high</th>\n      <th>inq_last_6mths</th>\n      <th>open_acc</th>\n      <th>...</th>\n      <th>acc_now_delinq</th>\n      <th>acc_open_past_24mths</th>\n      <th>chargeoff_within_12_mths</th>\n      <th>delinq_amnt</th>\n      <th>mort_acc</th>\n      <th>pub_rec_bankruptcies</th>\n      <th>tax_liens</th>\n      <th>total_bal_ex_mort</th>\n      <th>total_bc_limit</th>\n      <th>loan_status_num</th>\n    </tr>\n  </thead>\n  <tbody>\n    <tr>\n      <th>count</th>\n      <td>96683.000000</td>\n      <td>96683.000000</td>\n      <td>96683.000000</td>\n      <td>9.668300e+04</td>\n      <td>96683.000000</td>\n      <td>96683.000000</td>\n      <td>96683.000000</td>\n      <td>96683.000000</td>\n      <td>96683.000000</td>\n      <td>96683.000000</td>\n      <td>...</td>\n      <td>96683.000000</td>\n      <td>96683.000000</td>\n      <td>96683.00000</td>\n      <td>96683.000000</td>\n      <td>96683.000000</td>\n      <td>96683.000000</td>\n      <td>96683.000000</td>\n      <td>9.668300e+04</td>\n      <td>96683.000000</td>\n      <td>96683.000000</td>\n    </tr>\n    <tr>\n      <th>mean</th>\n      <td>14462.013746</td>\n      <td>0.134706</td>\n      <td>434.246610</td>\n      <td>7.519658e+04</td>\n      <td>18.213519</td>\n      <td>0.264328</td>\n      <td>701.571579</td>\n      <td>705.571828</td>\n      <td>0.639306</td>\n      <td>11.099790</td>\n      <td>...</td>\n      <td>0.002648</td>\n      <td>4.201256</td>\n      <td>0.00692</td>\n      <td>9.814911</td>\n      <td>1.535389</td>\n      <td>0.107599</td>\n      <td>0.027523</td>\n      <td>4.730932e+04</td>\n      <td>22484.894025</td>\n      <td>0.150957</td>\n    </tr>\n    <tr>\n      <th>std</th>\n      <td>9056.817085</td>\n      <td>0.048997</td>\n      <td>265.112617</td>\n      <td>6.714529e+04</td>\n      <td>17.523942</td>\n      <td>0.789277</td>\n      <td>33.951358</td>\n      <td>33.952411</td>\n      <td>0.923730</td>\n      <td>5.287587</td>\n      <td>...</td>\n      <td>0.060452</td>\n      <td>2.898863</td>\n      <td>0.09693</td>\n      <td>663.051096</td>\n      <td>1.875855</td>\n      <td>0.319343</td>\n      <td>0.260915</td>\n      <td>4.611111e+04</td>\n      <td>21737.858779</td>\n      <td>0.358009</td>\n    </tr>\n    <tr>\n      <th>min</th>\n      <td>1000.000000</td>\n      <td>0.053100</td>\n      <td>7.610000</td>\n      <td>4.000000e+01</td>\n      <td>0.000000</td>\n      <td>0.000000</td>\n      <td>660.000000</td>\n      <td>664.000000</td>\n      <td>0.000000</td>\n      <td>1.000000</td>\n      <td>...</td>\n      <td>0.000000</td>\n      <td>0.000000</td>\n      <td>0.00000</td>\n      <td>0.000000</td>\n      <td>0.000000</td>\n      <td>0.000000</td>\n      <td>0.000000</td>\n      <td>0.000000e+00</td>\n      <td>0.000000</td>\n      <td>0.000000</td>\n    </tr>\n    <tr>\n      <th>25%</th>\n      <td>7550.000000</td>\n      <td>0.099300</td>\n      <td>242.830000</td>\n      <td>4.500000e+04</td>\n      <td>11.190000</td>\n      <td>0.000000</td>\n      <td>675.000000</td>\n      <td>679.000000</td>\n      <td>0.000000</td>\n      <td>7.000000</td>\n      <td>...</td>\n      <td>0.000000</td>\n      <td>2.000000</td>\n      <td>0.00000</td>\n      <td>0.000000</td>\n      <td>0.000000</td>\n      <td>0.000000</td>\n      <td>0.000000</td>\n      <td>1.991250e+04</td>\n      <td>8500.000000</td>\n      <td>0.000000</td>\n    </tr>\n    <tr>\n      <th>50%</th>\n      <td>12000.000000</td>\n      <td>0.129900</td>\n      <td>371.680000</td>\n      <td>6.400000e+04</td>\n      <td>17.030000</td>\n      <td>0.000000</td>\n      <td>695.000000</td>\n      <td>699.000000</td>\n      <td>0.000000</td>\n      <td>10.000000</td>\n      <td>...</td>\n      <td>0.000000</td>\n      <td>4.000000</td>\n      <td>0.00000</td>\n      <td>0.000000</td>\n      <td>1.000000</td>\n      <td>0.000000</td>\n      <td>0.000000</td>\n      <td>3.522500e+04</td>\n      <td>16091.000000</td>\n      <td>0.000000</td>\n    </tr>\n    <tr>\n      <th>75%</th>\n      <td>20000.000000</td>\n      <td>0.160200</td>\n      <td>572.350000</td>\n      <td>9.000000e+04</td>\n      <td>23.460000</td>\n      <td>0.000000</td>\n      <td>720.000000</td>\n      <td>724.000000</td>\n      <td>1.000000</td>\n      <td>14.000000</td>\n      <td>...</td>\n      <td>0.000000</td>\n      <td>6.000000</td>\n      <td>0.00000</td>\n      <td>0.000000</td>\n      <td>2.000000</td>\n      <td>0.000000</td>\n      <td>0.000000</td>\n      <td>5.894500e+04</td>\n      <td>29200.000000</td>\n      <td>0.000000</td>\n    </tr>\n    <tr>\n      <th>max</th>\n      <td>40000.000000</td>\n      <td>0.309900</td>\n      <td>1719.830000</td>\n      <td>7.200000e+06</td>\n      <td>999.000000</td>\n      <td>30.000000</td>\n      <td>845.000000</td>\n      <td>850.000000</td>\n      <td>8.000000</td>\n      <td>55.000000</td>\n      <td>...</td>\n      <td>7.000000</td>\n      <td>46.000000</td>\n      <td>8.00000</td>\n      <td>138474.000000</td>\n      <td>31.000000</td>\n      <td>5.000000</td>\n      <td>13.000000</td>\n      <td>1.276247e+06</td>\n      <td>462200.000000</td>\n      <td>1.000000</td>\n    </tr>\n  </tbody>\n</table>\n<p>8 rows × 37 columns</p>\n</div>"
     },
     "execution_count": 24,
     "metadata": {},
     "output_type": "execute_result"
    }
   ],
   "source": [
    "data.describe()"
   ],
   "metadata": {
    "collapsed": false,
    "ExecuteTime": {
     "end_time": "2024-04-04T18:31:33.828621Z",
     "start_time": "2024-04-04T18:31:33.631949200Z"
    }
   },
   "id": "c43df6850c77da83"
  },
  {
   "cell_type": "code",
   "execution_count": 26,
   "outputs": [],
   "source": [
    "data.drop('loan_status', axis=1, inplace=True)"
   ],
   "metadata": {
    "collapsed": false,
    "ExecuteTime": {
     "end_time": "2024-04-04T18:46:39.098580200Z",
     "start_time": "2024-04-04T18:46:39.064719400Z"
    }
   },
   "id": "23c6186f1fc9a0e5"
  },
  {
   "cell_type": "markdown",
   "source": [
    "For the machine learning algorithms to be able to work on the data, the categorical columns have to be dealt with."
   ],
   "metadata": {
    "collapsed": false
   },
   "id": "f4be1c4cccb6edde"
  },
  {
   "cell_type": "code",
   "execution_count": 27,
   "outputs": [
    {
     "name": "stdout",
     "output_type": "stream",
     "text": [
      "['term', 'sub_grade', 'home_ownership', 'verification_status', 'pymnt_plan', 'purpose', 'zip_code', 'addr_state', 'revol_util', 'initial_list_status', 'application_type', 'hardship_flag', 'debt_settlement_flag']\n"
     ]
    }
   ],
   "source": [
    "print([column for column in data.columns if data[column].dtype == object])"
   ],
   "metadata": {
    "collapsed": false,
    "ExecuteTime": {
     "end_time": "2024-04-04T18:46:40.899244100Z",
     "start_time": "2024-04-04T18:46:40.880179700Z"
    }
   },
   "id": "e62fec2780300e85"
  },
  {
   "cell_type": "code",
   "execution_count": 28,
   "outputs": [],
   "source": [
    "data['term']=data.term.map({' 36 months': 36, ' 60 months': 60})"
   ],
   "metadata": {
    "collapsed": false,
    "ExecuteTime": {
     "end_time": "2024-04-04T18:47:29.554982800Z",
     "start_time": "2024-04-04T18:47:29.519176100Z"
    }
   },
   "id": "9cbeb7e9b9b00fe6"
  },
  {
   "cell_type": "code",
   "execution_count": 33,
   "outputs": [],
   "source": [
    "data['revol_util']=data['revol_util'].str[:-1].astype(float)/100"
   ],
   "metadata": {
    "collapsed": false,
    "ExecuteTime": {
     "end_time": "2024-04-04T18:51:17.752523600Z",
     "start_time": "2024-04-04T18:51:17.734554700Z"
    }
   },
   "id": "85498e73536142f5"
  },
  {
   "cell_type": "code",
   "execution_count": 35,
   "outputs": [],
   "source": [
    "dummies = ['sub_grade', 'home_ownership', 'verification_status', 'pymnt_plan', 'purpose', 'zip_code', 'addr_state', 'initial_list_status', 'application_type', 'hardship_flag', 'debt_settlement_flag']\n",
    "data = pd.get_dummies(data, columns=dummies, drop_first=True)"
   ],
   "metadata": {
    "collapsed": false,
    "ExecuteTime": {
     "end_time": "2024-04-04T18:52:56.934102800Z",
     "start_time": "2024-04-04T18:52:56.118260600Z"
    }
   },
   "id": "23d3e12cafde8eca"
  },
  {
   "cell_type": "code",
   "execution_count": 36,
   "outputs": [
    {
     "data": {
      "text/plain": "         loan_amnt  term  int_rate  installment  annual_inc    dti  \\\nid                                                                   \n1075358       3000    60    0.1269        67.79    80000.00  17.94   \n1071570       5375    60    0.1269       121.45    15000.00  18.08   \n1069057      10000    36    0.1065       325.74   100000.00   7.06   \n1069742       9200    36    0.0603       280.01    77385.19   9.86   \n1069559       6000    36    0.1171       198.46    76000.00   2.40   \n\n         delinq_2yrs  fico_range_low  fico_range_high  inq_last_6mths  ...  \\\nid                                                                     ...   \n1075358          0.0             695              699             0.0  ...   \n1071570          0.0             725              729             0.0  ...   \n1069057          0.0             720              724             2.0  ...   \n1069742          0.0             755              759             0.0  ...   \n1069559          0.0             690              694             1.0  ...   \n\n         addr_state_VA  addr_state_VT  addr_state_WA  addr_state_WI  \\\nid                                                                    \n1075358              0              0              0              0   \n1071570              0              0              0              0   \n1069057              0              0              0              0   \n1069742              0              0              0              0   \n1069559              0              0              0              0   \n\n         addr_state_WV  addr_state_WY  initial_list_status_w  \\\nid                                                             \n1075358              0              0                      0   \n1071570              0              0                      0   \n1069057              0              0                      0   \n1069742              0              0                      0   \n1069559              0              0                      0   \n\n         application_type_Joint App  hardship_flag_Y  debt_settlement_flag_Y  \nid                                                                            \n1075358                           0                0                       0  \n1071570                           0                0                       0  \n1069057                           0                0                       0  \n1069742                           0                0                       0  \n1069559                           0                0                       0  \n\n[5 rows x 1016 columns]",
      "text/html": "<div>\n<style scoped>\n    .dataframe tbody tr th:only-of-type {\n        vertical-align: middle;\n    }\n\n    .dataframe tbody tr th {\n        vertical-align: top;\n    }\n\n    .dataframe thead th {\n        text-align: right;\n    }\n</style>\n<table border=\"1\" class=\"dataframe\">\n  <thead>\n    <tr style=\"text-align: right;\">\n      <th></th>\n      <th>loan_amnt</th>\n      <th>term</th>\n      <th>int_rate</th>\n      <th>installment</th>\n      <th>annual_inc</th>\n      <th>dti</th>\n      <th>delinq_2yrs</th>\n      <th>fico_range_low</th>\n      <th>fico_range_high</th>\n      <th>inq_last_6mths</th>\n      <th>...</th>\n      <th>addr_state_VA</th>\n      <th>addr_state_VT</th>\n      <th>addr_state_WA</th>\n      <th>addr_state_WI</th>\n      <th>addr_state_WV</th>\n      <th>addr_state_WY</th>\n      <th>initial_list_status_w</th>\n      <th>application_type_Joint App</th>\n      <th>hardship_flag_Y</th>\n      <th>debt_settlement_flag_Y</th>\n    </tr>\n    <tr>\n      <th>id</th>\n      <th></th>\n      <th></th>\n      <th></th>\n      <th></th>\n      <th></th>\n      <th></th>\n      <th></th>\n      <th></th>\n      <th></th>\n      <th></th>\n      <th></th>\n      <th></th>\n      <th></th>\n      <th></th>\n      <th></th>\n      <th></th>\n      <th></th>\n      <th></th>\n      <th></th>\n      <th></th>\n      <th></th>\n    </tr>\n  </thead>\n  <tbody>\n    <tr>\n      <th>1075358</th>\n      <td>3000</td>\n      <td>60</td>\n      <td>0.1269</td>\n      <td>67.79</td>\n      <td>80000.00</td>\n      <td>17.94</td>\n      <td>0.0</td>\n      <td>695</td>\n      <td>699</td>\n      <td>0.0</td>\n      <td>...</td>\n      <td>0</td>\n      <td>0</td>\n      <td>0</td>\n      <td>0</td>\n      <td>0</td>\n      <td>0</td>\n      <td>0</td>\n      <td>0</td>\n      <td>0</td>\n      <td>0</td>\n    </tr>\n    <tr>\n      <th>1071570</th>\n      <td>5375</td>\n      <td>60</td>\n      <td>0.1269</td>\n      <td>121.45</td>\n      <td>15000.00</td>\n      <td>18.08</td>\n      <td>0.0</td>\n      <td>725</td>\n      <td>729</td>\n      <td>0.0</td>\n      <td>...</td>\n      <td>0</td>\n      <td>0</td>\n      <td>0</td>\n      <td>0</td>\n      <td>0</td>\n      <td>0</td>\n      <td>0</td>\n      <td>0</td>\n      <td>0</td>\n      <td>0</td>\n    </tr>\n    <tr>\n      <th>1069057</th>\n      <td>10000</td>\n      <td>36</td>\n      <td>0.1065</td>\n      <td>325.74</td>\n      <td>100000.00</td>\n      <td>7.06</td>\n      <td>0.0</td>\n      <td>720</td>\n      <td>724</td>\n      <td>2.0</td>\n      <td>...</td>\n      <td>0</td>\n      <td>0</td>\n      <td>0</td>\n      <td>0</td>\n      <td>0</td>\n      <td>0</td>\n      <td>0</td>\n      <td>0</td>\n      <td>0</td>\n      <td>0</td>\n    </tr>\n    <tr>\n      <th>1069742</th>\n      <td>9200</td>\n      <td>36</td>\n      <td>0.0603</td>\n      <td>280.01</td>\n      <td>77385.19</td>\n      <td>9.86</td>\n      <td>0.0</td>\n      <td>755</td>\n      <td>759</td>\n      <td>0.0</td>\n      <td>...</td>\n      <td>0</td>\n      <td>0</td>\n      <td>0</td>\n      <td>0</td>\n      <td>0</td>\n      <td>0</td>\n      <td>0</td>\n      <td>0</td>\n      <td>0</td>\n      <td>0</td>\n    </tr>\n    <tr>\n      <th>1069559</th>\n      <td>6000</td>\n      <td>36</td>\n      <td>0.1171</td>\n      <td>198.46</td>\n      <td>76000.00</td>\n      <td>2.40</td>\n      <td>0.0</td>\n      <td>690</td>\n      <td>694</td>\n      <td>1.0</td>\n      <td>...</td>\n      <td>0</td>\n      <td>0</td>\n      <td>0</td>\n      <td>0</td>\n      <td>0</td>\n      <td>0</td>\n      <td>0</td>\n      <td>0</td>\n      <td>0</td>\n      <td>0</td>\n    </tr>\n  </tbody>\n</table>\n<p>5 rows × 1016 columns</p>\n</div>"
     },
     "execution_count": 36,
     "metadata": {},
     "output_type": "execute_result"
    }
   ],
   "source": [
    "data.head()"
   ],
   "metadata": {
    "collapsed": false,
    "ExecuteTime": {
     "end_time": "2024-04-04T18:53:01.521869500Z",
     "start_time": "2024-04-04T18:53:01.474933600Z"
    }
   },
   "id": "5040d0a63cccfc9b"
  },
  {
   "cell_type": "markdown",
   "source": [
    "# Crafting of baseline model"
   ],
   "metadata": {
    "collapsed": false
   },
   "id": "97af3002e65cbdc6"
  },
  {
   "cell_type": "code",
   "execution_count": null,
   "outputs": [],
   "source": [],
   "metadata": {
    "collapsed": false
   },
   "id": "52028d8a7174f503"
  }
 ],
 "metadata": {
  "kernelspec": {
   "display_name": "Python 3 (ipykernel)",
   "language": "python",
   "name": "python3"
  },
  "language_info": {
   "codemirror_mode": {
    "name": "ipython",
    "version": 3
   },
   "file_extension": ".py",
   "mimetype": "text/x-python",
   "name": "python",
   "nbconvert_exporter": "python",
   "pygments_lexer": "ipython3",
   "version": "3.12.2"
  }
 },
 "nbformat": 4,
 "nbformat_minor": 5
}
